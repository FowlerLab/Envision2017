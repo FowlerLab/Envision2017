{
 "metadata": {
  "kernelspec": {
   "display_name": "Python 2",
   "language": "python",
   "name": "python2"
  },
  "language_info": {
   "codemirror_mode": {
    "name": "ipython",
    "version": 2
   },
   "file_extension": ".py",
   "mimetype": "text/x-python",
   "name": "python",
   "nbconvert_exporter": "python",
   "pygments_lexer": "ipython2",
   "version": "2.7.3"
  },
  "name": ""
 },
 "nbformat": 3,
 "nbformat_minor": 0,
 "worksheets": [
  {
   "cells": [
    {
     "cell_type": "markdown",
     "metadata": {},
     "source": [
      "## Downsampling analysis\n",
      "Subsample 2,4,6 and 7, proteins from data.\n",
      "Train models with these sampled data sets.\n",
      "Determine how well models trained with different numbers of proteins perform on unseen proteins"
     ]
    },
    {
     "cell_type": "code",
     "collapsed": false,
     "input": [
      "## We use graphlab (aka Turi) to tune hyperparameters and train models\n",
      "import graphlab as gl\n",
      "from graphlab.util import cloudpickle\n",
      "import graphlab.aggregate as agg\n",
      "import sys\n",
      "import pickle   ## Used for saving models\n",
      "\n",
      "## We use pandas, numpy and scipy for data analysis\n",
      "import pandas as pd\n",
      "import numpy as np\n",
      "import scipy.stats.stats as stats\n",
      "%load_ext rpy2.ipython\n",
      "from math import sqrt\n",
      "\n",
      "## sklearn is used for setting up cross validation data sets\n",
      "import itertools\n",
      "from collections import Counter\n",
      "from sklearn import cross_validation, metrics, preprocessing, datasets   #Additional scklearn functions\n",
      "from sklearn.grid_search import GridSearchCV   #Performing grid search\n",
      "from sklearn.utils import shuffle\n",
      "from sklearn.metrics import mean_squared_error\n",
      "from sklearn.metrics import confusion_matrix\n",
      "from sklearn.cross_validation import LabelKFold\n",
      "from sklearn.cross_validation import LeaveOneLabelOut\n",
      "\n",
      "## Matplotlib for graphing\n",
      "import matplotlib.pylab as plt\n",
      "%matplotlib inline\n",
      "from matplotlib.pylab import rcParams\n",
      "rcParams['figure.figsize'] = 8, 8"
     ],
     "language": "python",
     "metadata": {
      "deletable": true,
      "editable": true,
      "scrolled": true
     },
     "outputs": [
      {
       "output_type": "stream",
       "stream": "stderr",
       "text": [
        "/net/gs/vol3/software/modules-sw-python/2.7.3/requests/2.7/Linux/RHEL6/x86_64/lib/python2.7/site-packages/requests-2.7.0-py2.7.egg/requests/packages/urllib3/util/ssl_.py:90: InsecurePlatformWarning: A true SSLContext object is not available. This prevents urllib3 from configuring SSL appropriately and may cause certain SSL connections to fail. For more information, see https://urllib3.readthedocs.org/en/latest/security.html#insecureplatformwarning.\n",
        "  InsecurePlatformWarning\n"
       ]
      },
      {
       "output_type": "stream",
       "stream": "stdout",
       "text": [
        "This non-commercial license of GraphLab Create for academic use is assigned to vegray@uw.edu and will expire on May 18, 2017.\n"
       ]
      },
      {
       "output_type": "stream",
       "stream": "stderr",
       "text": [
        "[INFO] graphlab.cython.cy_server: GraphLab Create v2.1 started. Logging: /tmp/graphlab_server_1491240600.log\n"
       ]
      },
      {
       "ename": "ImportError",
       "evalue": "/net/gs/vol3/software/modules-sw-python/2.7.3/scikit-learn/0.16.1-UCS4/Linux/RHEL6/x86_64/lib/python2.7/site-packages/sklearn/metrics/pairwise_fast.so: undefined symbol: ATL_dasum",
       "output_type": "pyerr",
       "traceback": [
        "\u001b[0;31m---------------------------------------------------------------------------\u001b[0m",
        "\u001b[0;31mImportError\u001b[0m                               Traceback (most recent call last)",
        "\u001b[0;32m<ipython-input-1-472bc7d134fe>\u001b[0m in \u001b[0;36m<module>\u001b[0;34m()\u001b[0m\n\u001b[1;32m      6\u001b[0m \u001b[0;32mimport\u001b[0m \u001b[0mitertools\u001b[0m\u001b[0;34m\u001b[0m\u001b[0m\n\u001b[1;32m      7\u001b[0m \u001b[0;32mfrom\u001b[0m \u001b[0mcollections\u001b[0m \u001b[0;32mimport\u001b[0m \u001b[0mCounter\u001b[0m\u001b[0;34m\u001b[0m\u001b[0m\n\u001b[0;32m----> 8\u001b[0;31m \u001b[0;32mfrom\u001b[0m \u001b[0msklearn\u001b[0m\u001b[0;34m.\u001b[0m\u001b[0mensemble\u001b[0m \u001b[0;32mimport\u001b[0m \u001b[0mGradientBoostingClassifier\u001b[0m  \u001b[0;31m#GBM algorithm\u001b[0m\u001b[0;34m\u001b[0m\u001b[0m\n\u001b[0m\u001b[1;32m      9\u001b[0m \u001b[0;32mfrom\u001b[0m \u001b[0msklearn\u001b[0m \u001b[0;32mimport\u001b[0m \u001b[0mcross_validation\u001b[0m\u001b[0;34m,\u001b[0m \u001b[0mmetrics\u001b[0m\u001b[0;34m,\u001b[0m \u001b[0mpreprocessing\u001b[0m\u001b[0;34m,\u001b[0m \u001b[0mdatasets\u001b[0m   \u001b[0;31m#Additional scklearn functions\u001b[0m\u001b[0;34m\u001b[0m\u001b[0m\n\u001b[1;32m     10\u001b[0m \u001b[0;32mfrom\u001b[0m \u001b[0msklearn\u001b[0m\u001b[0;34m.\u001b[0m\u001b[0mgrid_search\u001b[0m \u001b[0;32mimport\u001b[0m \u001b[0mGridSearchCV\u001b[0m   \u001b[0;31m#Performing grid search\u001b[0m\u001b[0;34m\u001b[0m\u001b[0m\n",
        "\u001b[0;32m/net/gs/vol3/software/modules-sw-python/2.7.3/scikit-learn/0.16.1-UCS4/Linux/RHEL6/x86_64/lib/python2.7/site-packages/sklearn/ensemble/__init__.py\u001b[0m in \u001b[0;36m<module>\u001b[0;34m()\u001b[0m\n\u001b[1;32m      5\u001b[0m \u001b[0;34m\u001b[0m\u001b[0m\n\u001b[1;32m      6\u001b[0m \u001b[0;32mfrom\u001b[0m \u001b[0;34m.\u001b[0m\u001b[0mbase\u001b[0m \u001b[0;32mimport\u001b[0m \u001b[0mBaseEnsemble\u001b[0m\u001b[0;34m\u001b[0m\u001b[0m\n\u001b[0;32m----> 7\u001b[0;31m \u001b[0;32mfrom\u001b[0m \u001b[0;34m.\u001b[0m\u001b[0mforest\u001b[0m \u001b[0;32mimport\u001b[0m \u001b[0mRandomForestClassifier\u001b[0m\u001b[0;34m\u001b[0m\u001b[0m\n\u001b[0m\u001b[1;32m      8\u001b[0m \u001b[0;32mfrom\u001b[0m \u001b[0;34m.\u001b[0m\u001b[0mforest\u001b[0m \u001b[0;32mimport\u001b[0m \u001b[0mRandomForestRegressor\u001b[0m\u001b[0;34m\u001b[0m\u001b[0m\n\u001b[1;32m      9\u001b[0m \u001b[0;32mfrom\u001b[0m \u001b[0;34m.\u001b[0m\u001b[0mforest\u001b[0m \u001b[0;32mimport\u001b[0m \u001b[0mRandomTreesEmbedding\u001b[0m\u001b[0;34m\u001b[0m\u001b[0m\n",
        "\u001b[0;32m/net/gs/vol3/software/modules-sw-python/2.7.3/scikit-learn/0.16.1-UCS4/Linux/RHEL6/x86_64/lib/python2.7/site-packages/sklearn/ensemble/forest.py\u001b[0m in \u001b[0;36m<module>\u001b[0;34m()\u001b[0m\n\u001b[1;32m     51\u001b[0m \u001b[0;32mfrom\u001b[0m \u001b[0;34m.\u001b[0m\u001b[0;34m.\u001b[0m\u001b[0mexternals\u001b[0m\u001b[0;34m.\u001b[0m\u001b[0mjoblib\u001b[0m \u001b[0;32mimport\u001b[0m \u001b[0mParallel\u001b[0m\u001b[0;34m,\u001b[0m \u001b[0mdelayed\u001b[0m\u001b[0;34m\u001b[0m\u001b[0m\n\u001b[1;32m     52\u001b[0m \u001b[0;32mfrom\u001b[0m \u001b[0;34m.\u001b[0m\u001b[0;34m.\u001b[0m\u001b[0mexternals\u001b[0m \u001b[0;32mimport\u001b[0m \u001b[0msix\u001b[0m\u001b[0;34m\u001b[0m\u001b[0m\n\u001b[0;32m---> 53\u001b[0;31m \u001b[0;32mfrom\u001b[0m \u001b[0;34m.\u001b[0m\u001b[0;34m.\u001b[0m\u001b[0mfeature_selection\u001b[0m\u001b[0;34m.\u001b[0m\u001b[0mfrom_model\u001b[0m \u001b[0;32mimport\u001b[0m \u001b[0m_LearntSelectorMixin\u001b[0m\u001b[0;34m\u001b[0m\u001b[0m\n\u001b[0m\u001b[1;32m     54\u001b[0m \u001b[0;32mfrom\u001b[0m \u001b[0;34m.\u001b[0m\u001b[0;34m.\u001b[0m\u001b[0mmetrics\u001b[0m \u001b[0;32mimport\u001b[0m \u001b[0mr2_score\u001b[0m\u001b[0;34m\u001b[0m\u001b[0m\n\u001b[1;32m     55\u001b[0m \u001b[0;32mfrom\u001b[0m \u001b[0;34m.\u001b[0m\u001b[0;34m.\u001b[0m\u001b[0mpreprocessing\u001b[0m \u001b[0;32mimport\u001b[0m \u001b[0mOneHotEncoder\u001b[0m\u001b[0;34m\u001b[0m\u001b[0m\n",
        "\u001b[0;32m/net/gs/vol3/software/modules-sw-python/2.7.3/scikit-learn/0.16.1-UCS4/Linux/RHEL6/x86_64/lib/python2.7/site-packages/sklearn/feature_selection/__init__.py\u001b[0m in \u001b[0;36m<module>\u001b[0;34m()\u001b[0m\n\u001b[1;32m     18\u001b[0m \u001b[0;32mfrom\u001b[0m \u001b[0;34m.\u001b[0m\u001b[0mvariance_threshold\u001b[0m \u001b[0;32mimport\u001b[0m \u001b[0mVarianceThreshold\u001b[0m\u001b[0;34m\u001b[0m\u001b[0m\n\u001b[1;32m     19\u001b[0m \u001b[0;34m\u001b[0m\u001b[0m\n\u001b[0;32m---> 20\u001b[0;31m \u001b[0;32mfrom\u001b[0m \u001b[0;34m.\u001b[0m\u001b[0mrfe\u001b[0m \u001b[0;32mimport\u001b[0m \u001b[0mRFE\u001b[0m\u001b[0;34m\u001b[0m\u001b[0m\n\u001b[0m\u001b[1;32m     21\u001b[0m \u001b[0;32mfrom\u001b[0m \u001b[0;34m.\u001b[0m\u001b[0mrfe\u001b[0m \u001b[0;32mimport\u001b[0m \u001b[0mRFECV\u001b[0m\u001b[0;34m\u001b[0m\u001b[0m\n\u001b[1;32m     22\u001b[0m \u001b[0;34m\u001b[0m\u001b[0m\n",
        "\u001b[0;32m/net/gs/vol3/software/modules-sw-python/2.7.3/scikit-learn/0.16.1-UCS4/Linux/RHEL6/x86_64/lib/python2.7/site-packages/sklearn/feature_selection/rfe.py\u001b[0m in \u001b[0;36m<module>\u001b[0;34m()\u001b[0m\n\u001b[1;32m     15\u001b[0m \u001b[0;32mfrom\u001b[0m \u001b[0;34m.\u001b[0m\u001b[0;34m.\u001b[0m\u001b[0mbase\u001b[0m \u001b[0;32mimport\u001b[0m \u001b[0mclone\u001b[0m\u001b[0;34m\u001b[0m\u001b[0m\n\u001b[1;32m     16\u001b[0m \u001b[0;32mfrom\u001b[0m \u001b[0;34m.\u001b[0m\u001b[0;34m.\u001b[0m\u001b[0mbase\u001b[0m \u001b[0;32mimport\u001b[0m \u001b[0mis_classifier\u001b[0m\u001b[0;34m\u001b[0m\u001b[0m\n\u001b[0;32m---> 17\u001b[0;31m \u001b[0;32mfrom\u001b[0m \u001b[0;34m.\u001b[0m\u001b[0;34m.\u001b[0m\u001b[0mcross_validation\u001b[0m \u001b[0;32mimport\u001b[0m \u001b[0m_check_cv\u001b[0m \u001b[0;32mas\u001b[0m \u001b[0mcheck_cv\u001b[0m\u001b[0;34m\u001b[0m\u001b[0m\n\u001b[0m\u001b[1;32m     18\u001b[0m \u001b[0;32mfrom\u001b[0m \u001b[0;34m.\u001b[0m\u001b[0;34m.\u001b[0m\u001b[0mcross_validation\u001b[0m \u001b[0;32mimport\u001b[0m \u001b[0m_safe_split\u001b[0m\u001b[0;34m,\u001b[0m \u001b[0m_score\u001b[0m\u001b[0;34m\u001b[0m\u001b[0m\n\u001b[1;32m     19\u001b[0m \u001b[0;32mfrom\u001b[0m \u001b[0;34m.\u001b[0m\u001b[0;34m.\u001b[0m\u001b[0mmetrics\u001b[0m\u001b[0;34m.\u001b[0m\u001b[0mscorer\u001b[0m \u001b[0;32mimport\u001b[0m \u001b[0mcheck_scoring\u001b[0m\u001b[0;34m\u001b[0m\u001b[0m\n",
        "\u001b[0;32m/net/gs/vol3/software/modules-sw-python/2.7.3/scikit-learn/0.16.1-UCS4/Linux/RHEL6/x86_64/lib/python2.7/site-packages/sklearn/cross_validation.py\u001b[0m in \u001b[0;36m<module>\u001b[0;34m()\u001b[0m\n\u001b[1;32m     30\u001b[0m \u001b[0;32mfrom\u001b[0m \u001b[0;34m.\u001b[0m\u001b[0mexternals\u001b[0m\u001b[0;34m.\u001b[0m\u001b[0msix\u001b[0m \u001b[0;32mimport\u001b[0m \u001b[0mwith_metaclass\u001b[0m\u001b[0;34m\u001b[0m\u001b[0m\n\u001b[1;32m     31\u001b[0m \u001b[0;32mfrom\u001b[0m \u001b[0;34m.\u001b[0m\u001b[0mexternals\u001b[0m\u001b[0;34m.\u001b[0m\u001b[0msix\u001b[0m\u001b[0;34m.\u001b[0m\u001b[0mmoves\u001b[0m \u001b[0;32mimport\u001b[0m \u001b[0mzip\u001b[0m\u001b[0;34m\u001b[0m\u001b[0m\n\u001b[0;32m---> 32\u001b[0;31m \u001b[0;32mfrom\u001b[0m \u001b[0;34m.\u001b[0m\u001b[0mmetrics\u001b[0m\u001b[0;34m.\u001b[0m\u001b[0mscorer\u001b[0m \u001b[0;32mimport\u001b[0m \u001b[0mcheck_scoring\u001b[0m\u001b[0;34m\u001b[0m\u001b[0m\n\u001b[0m\u001b[1;32m     33\u001b[0m \u001b[0;32mfrom\u001b[0m \u001b[0;34m.\u001b[0m\u001b[0mutils\u001b[0m\u001b[0;34m.\u001b[0m\u001b[0mfixes\u001b[0m \u001b[0;32mimport\u001b[0m \u001b[0mbincount\u001b[0m\u001b[0;34m\u001b[0m\u001b[0m\n\u001b[1;32m     34\u001b[0m \u001b[0;34m\u001b[0m\u001b[0m\n",
        "\u001b[0;32m/net/gs/vol3/software/modules-sw-python/2.7.3/scikit-learn/0.16.1-UCS4/Linux/RHEL6/x86_64/lib/python2.7/site-packages/sklearn/metrics/__init__.py\u001b[0m in \u001b[0;36m<module>\u001b[0;34m()\u001b[0m\n\u001b[1;32m     29\u001b[0m \u001b[0;32mfrom\u001b[0m \u001b[0;34m.\u001b[0m\u001b[0mclassification\u001b[0m \u001b[0;32mimport\u001b[0m \u001b[0mbrier_score_loss\u001b[0m\u001b[0;34m\u001b[0m\u001b[0m\n\u001b[1;32m     30\u001b[0m \u001b[0;34m\u001b[0m\u001b[0m\n\u001b[0;32m---> 31\u001b[0;31m \u001b[0;32mfrom\u001b[0m \u001b[0;34m.\u001b[0m \u001b[0;32mimport\u001b[0m \u001b[0mcluster\u001b[0m\u001b[0;34m\u001b[0m\u001b[0m\n\u001b[0m\u001b[1;32m     32\u001b[0m \u001b[0;32mfrom\u001b[0m \u001b[0;34m.\u001b[0m\u001b[0mcluster\u001b[0m \u001b[0;32mimport\u001b[0m \u001b[0madjusted_mutual_info_score\u001b[0m\u001b[0;34m\u001b[0m\u001b[0m\n\u001b[1;32m     33\u001b[0m \u001b[0;32mfrom\u001b[0m \u001b[0;34m.\u001b[0m\u001b[0mcluster\u001b[0m \u001b[0;32mimport\u001b[0m \u001b[0madjusted_rand_score\u001b[0m\u001b[0;34m\u001b[0m\u001b[0m\n",
        "\u001b[0;32m/net/gs/vol3/software/modules-sw-python/2.7.3/scikit-learn/0.16.1-UCS4/Linux/RHEL6/x86_64/lib/python2.7/site-packages/sklearn/metrics/cluster/__init__.py\u001b[0m in \u001b[0;36m<module>\u001b[0;34m()\u001b[0m\n\u001b[1;32m     17\u001b[0m \u001b[0;32mfrom\u001b[0m \u001b[0;34m.\u001b[0m\u001b[0msupervised\u001b[0m \u001b[0;32mimport\u001b[0m \u001b[0mv_measure_score\u001b[0m\u001b[0;34m\u001b[0m\u001b[0m\n\u001b[1;32m     18\u001b[0m \u001b[0;32mfrom\u001b[0m \u001b[0;34m.\u001b[0m\u001b[0msupervised\u001b[0m \u001b[0;32mimport\u001b[0m \u001b[0mentropy\u001b[0m\u001b[0;34m\u001b[0m\u001b[0m\n\u001b[0;32m---> 19\u001b[0;31m \u001b[0;32mfrom\u001b[0m \u001b[0;34m.\u001b[0m\u001b[0munsupervised\u001b[0m \u001b[0;32mimport\u001b[0m \u001b[0msilhouette_samples\u001b[0m\u001b[0;34m\u001b[0m\u001b[0m\n\u001b[0m\u001b[1;32m     20\u001b[0m \u001b[0;32mfrom\u001b[0m \u001b[0;34m.\u001b[0m\u001b[0munsupervised\u001b[0m \u001b[0;32mimport\u001b[0m \u001b[0msilhouette_score\u001b[0m\u001b[0;34m\u001b[0m\u001b[0m\n\u001b[1;32m     21\u001b[0m \u001b[0;32mfrom\u001b[0m \u001b[0;34m.\u001b[0m\u001b[0mbicluster\u001b[0m \u001b[0;32mimport\u001b[0m \u001b[0mconsensus_score\u001b[0m\u001b[0;34m\u001b[0m\u001b[0m\n",
        "\u001b[0;32m/net/gs/vol3/software/modules-sw-python/2.7.3/scikit-learn/0.16.1-UCS4/Linux/RHEL6/x86_64/lib/python2.7/site-packages/sklearn/metrics/cluster/unsupervised.py\u001b[0m in \u001b[0;36m<module>\u001b[0;34m()\u001b[0m\n\u001b[1;32m      8\u001b[0m \u001b[0;34m\u001b[0m\u001b[0m\n\u001b[1;32m      9\u001b[0m \u001b[0;32mfrom\u001b[0m \u001b[0;34m.\u001b[0m\u001b[0;34m.\u001b[0m\u001b[0;34m.\u001b[0m\u001b[0mutils\u001b[0m \u001b[0;32mimport\u001b[0m \u001b[0mcheck_random_state\u001b[0m\u001b[0;34m\u001b[0m\u001b[0m\n\u001b[0;32m---> 10\u001b[0;31m \u001b[0;32mfrom\u001b[0m \u001b[0;34m.\u001b[0m\u001b[0;34m.\u001b[0m\u001b[0mpairwise\u001b[0m \u001b[0;32mimport\u001b[0m \u001b[0mpairwise_distances\u001b[0m\u001b[0;34m\u001b[0m\u001b[0m\n\u001b[0m\u001b[1;32m     11\u001b[0m \u001b[0;34m\u001b[0m\u001b[0m\n\u001b[1;32m     12\u001b[0m \u001b[0;34m\u001b[0m\u001b[0m\n",
        "\u001b[0;32m/net/gs/vol3/software/modules-sw-python/2.7.3/scikit-learn/0.16.1-UCS4/Linux/RHEL6/x86_64/lib/python2.7/site-packages/sklearn/metrics/pairwise.py\u001b[0m in \u001b[0;36m<module>\u001b[0;34m()\u001b[0m\n\u001b[1;32m     27\u001b[0m \u001b[0;32mfrom\u001b[0m \u001b[0;34m.\u001b[0m\u001b[0;34m.\u001b[0m\u001b[0mexternals\u001b[0m\u001b[0;34m.\u001b[0m\u001b[0mjoblib\u001b[0m\u001b[0;34m.\u001b[0m\u001b[0mparallel\u001b[0m \u001b[0;32mimport\u001b[0m \u001b[0mcpu_count\u001b[0m\u001b[0;34m\u001b[0m\u001b[0m\n\u001b[1;32m     28\u001b[0m \u001b[0;34m\u001b[0m\u001b[0m\n\u001b[0;32m---> 29\u001b[0;31m \u001b[0;32mfrom\u001b[0m \u001b[0;34m.\u001b[0m\u001b[0mpairwise_fast\u001b[0m \u001b[0;32mimport\u001b[0m \u001b[0m_chi2_kernel_fast\u001b[0m\u001b[0;34m,\u001b[0m \u001b[0m_sparse_manhattan\u001b[0m\u001b[0;34m\u001b[0m\u001b[0m\n\u001b[0m\u001b[1;32m     30\u001b[0m \u001b[0;34m\u001b[0m\u001b[0m\n\u001b[1;32m     31\u001b[0m \u001b[0;34m\u001b[0m\u001b[0m\n",
        "\u001b[0;31mImportError\u001b[0m: /net/gs/vol3/software/modules-sw-python/2.7.3/scikit-learn/0.16.1-UCS4/Linux/RHEL6/x86_64/lib/python2.7/site-packages/sklearn/metrics/pairwise_fast.so: undefined symbol: ATL_dasum"
       ]
      }
     ],
     "prompt_number": 1
    },
    {
     "cell_type": "code",
     "collapsed": false,
     "input": [
      "# Load the data\n",
      "data =  gl.SFrame.read_csv('~/data/dmsTraining_2017-02-20.csv')"
     ],
     "language": "python",
     "metadata": {
      "deletable": true,
      "editable": true,
      "scrolled": false
     },
     "outputs": [
      {
       "html": [
        "<pre>Finished parsing file /net/fowler/vol1/home/vegray/metaDMS/dato/scaled/data/dmsTraining_2017-02-20.csv</pre>"
       ],
       "metadata": {},
       "output_type": "display_data",
       "text": [
        "Finished parsing file /net/fowler/vol1/home/vegray/metaDMS/dato/scaled/data/dmsTraining_2017-02-20.csv"
       ]
      },
      {
       "html": [
        "<pre>Parsing completed. Parsed 100 lines in 3.80827 secs.</pre>"
       ],
       "metadata": {},
       "output_type": "display_data",
       "text": [
        "Parsing completed. Parsed 100 lines in 3.80827 secs."
       ]
      },
      {
       "output_type": "stream",
       "stream": "stdout",
       "text": [
        "------------------------------------------------------\n",
        "Inferred types from first 100 line(s) of file as \n",
        "column_type_hints=[str,str,str,str,str,str,int,int,str,str,str,str,str,float,str,str,str,str,int,str,str,str,str,str,float,float,float,int,int,int,float,float,float,int,float,float,float,float,str,str,float,float,float,str,float,float,float,float,int,float,str,str,str,str]\n",
        "If parsing fails due to incorrect types, you can correct\n",
        "the inferred type list above and pass it to read_csv in\n",
        "the column_type_hints argument\n",
        "------------------------------------------------------\n"
       ]
      },
      {
       "html": [
        "<pre>Finished parsing file /net/fowler/vol1/home/vegray/metaDMS/dato/scaled/data/dmsTraining_2017-02-20.csv</pre>"
       ],
       "metadata": {},
       "output_type": "display_data",
       "text": [
        "Finished parsing file /net/fowler/vol1/home/vegray/metaDMS/dato/scaled/data/dmsTraining_2017-02-20.csv"
       ]
      },
      {
       "html": [
        "<pre>Parsing completed. Parsed 101460 lines in 1.4486 secs.</pre>"
       ],
       "metadata": {},
       "output_type": "display_data",
       "text": [
        "Parsing completed. Parsed 101460 lines in 1.4486 secs."
       ]
      }
     ],
     "prompt_number": 2
    },
    {
     "cell_type": "code",
     "collapsed": false,
     "input": [
      "## Global model dataset cleanup\n",
      "1_Y2H']], 'dms_id')\n",
      "#data2 = data2[(data2['binary_mut_type_prob'] < 0.4) | (data2['binary_mut_type_prob'] > 0.6)]\n",
      "data2 = data.filter_by([x for x in data['mut_type'].unique() if x in ['missense']], 'mut_type')\n",
      "del data2['id']\n",
      "data2 = data2.add_row_number('id',0)"
     ],
     "language": "python",
     "metadata": {
      "deletable": true,
      "editable": true
     },
     "outputs": [],
     "prompt_number": 4
    },
    {
     "cell_type": "code",
     "collapsed": true,
     "input": [
      "## Use predictors3\n",
      "predictors3 = ['aa1', 'aa2', 'wt_mut', 'aa1_polarity', \n",
      "               'aa2_polarity', 'aa1_PI', 'aa2_PI', 'deltaPI', \n",
      "               'Grantham', 'aa1_weight', 'aa2_weight', 'deltaWeight',\n",
      "               'aa1vol', 'aa2vol', 'deltavolume', 'aa1_psic',\n",
      "               'aa2_psic', 'delta_psic',  'accessibility',\n",
      "               'dssp_sec_str', 'phi_psi_reg', 'delta_solvent_accessibility',\n",
      "               'b_factor', 'mut_msa_congruency', 'mut_mut_msa_congruency', \n",
      "               'seq_ind_closest_mut', 'evolutionary_coupling_avg']"
     ],
     "language": "python",
     "metadata": {
      "deletable": true,
      "editable": true
     },
     "outputs": [],
     "prompt_number": 5
    },
    {
     "cell_type": "code",
     "collapsed": false,
     "input": [
      "## Use LabelShuffleSplit to split data into training and testing 8x\n",
      "## Here, we use 6 proteins for testing, and 2 for training\n",
      "folds = LabelShuffleSplit(data2['protein'],test_size=6, n_iter = 8)\n",
      "lopo_folds = []\n",
      "for train, test in folds:\n",
      "    lopo_folds.append((data2.filter_by(train,'id'), data2.filter_by(test,'id')))"
     ],
     "language": "python",
     "metadata": {
      "deletable": true,
      "editable": true
     },
     "outputs": [
      {
       "ename": "NameError",
       "evalue": "name 'LabelShuffleSplit' is not defined",
       "output_type": "pyerr",
       "traceback": [
        "\u001b[0;31m---------------------------------------------------------------------------\u001b[0m",
        "\u001b[0;31mNameError\u001b[0m                                 Traceback (most recent call last)",
        "\u001b[0;32m<ipython-input-6-d129a3755a75>\u001b[0m in \u001b[0;36m<module>\u001b[0;34m()\u001b[0m\n\u001b[1;32m      1\u001b[0m \u001b[0;31m## 2 dms training\u001b[0m\u001b[0;34m\u001b[0m\u001b[0;34m\u001b[0m\u001b[0m\n\u001b[0;32m----> 2\u001b[0;31m \u001b[0mfolds\u001b[0m \u001b[0;34m=\u001b[0m \u001b[0mLabelShuffleSplit\u001b[0m\u001b[0;34m(\u001b[0m\u001b[0mdata2\u001b[0m\u001b[0;34m[\u001b[0m\u001b[0;34m'protein'\u001b[0m\u001b[0;34m]\u001b[0m\u001b[0;34m,\u001b[0m\u001b[0mtest_size\u001b[0m\u001b[0;34m=\u001b[0m\u001b[0;36m6\u001b[0m\u001b[0;34m,\u001b[0m \u001b[0mn_iter\u001b[0m \u001b[0;34m=\u001b[0m \u001b[0;36m8\u001b[0m\u001b[0;34m)\u001b[0m\u001b[0;34m\u001b[0m\u001b[0m\n\u001b[0m\u001b[1;32m      3\u001b[0m \u001b[0mlopo_folds\u001b[0m \u001b[0;34m=\u001b[0m \u001b[0;34m[\u001b[0m\u001b[0;34m]\u001b[0m\u001b[0;34m\u001b[0m\u001b[0m\n\u001b[1;32m      4\u001b[0m \u001b[0;32mfor\u001b[0m \u001b[0mtrain\u001b[0m\u001b[0;34m,\u001b[0m \u001b[0mtest\u001b[0m \u001b[0;32min\u001b[0m \u001b[0mfolds\u001b[0m\u001b[0;34m:\u001b[0m\u001b[0;34m\u001b[0m\u001b[0m\n\u001b[1;32m      5\u001b[0m     \u001b[0mlopo_folds\u001b[0m\u001b[0;34m.\u001b[0m\u001b[0mappend\u001b[0m\u001b[0;34m(\u001b[0m\u001b[0;34m(\u001b[0m\u001b[0mdata2\u001b[0m\u001b[0;34m.\u001b[0m\u001b[0mfilter_by\u001b[0m\u001b[0;34m(\u001b[0m\u001b[0mtrain\u001b[0m\u001b[0;34m,\u001b[0m\u001b[0;34m'id'\u001b[0m\u001b[0;34m)\u001b[0m\u001b[0;34m,\u001b[0m \u001b[0mdata2\u001b[0m\u001b[0;34m.\u001b[0m\u001b[0mfilter_by\u001b[0m\u001b[0;34m(\u001b[0m\u001b[0mtest\u001b[0m\u001b[0;34m,\u001b[0m\u001b[0;34m'id'\u001b[0m\u001b[0;34m)\u001b[0m\u001b[0;34m)\u001b[0m\u001b[0;34m)\u001b[0m\u001b[0;34m\u001b[0m\u001b[0m\n",
        "\u001b[0;31mNameError\u001b[0m: name 'LabelShuffleSplit' is not defined"
       ]
      }
     ],
     "prompt_number": 6
    },
    {
     "cell_type": "code",
     "collapsed": false,
     "input": [
      "### Tune downSample models\n",
      "params = dict([('target', 'scaled_effect1'), ('max_depth', 6), ('max_iterations' , 50), \n",
      "               ('column_subsample' , 0.8), ('row_subsample' ,0.6), ('min_child_weight' , [6,50]), \n",
      "               ('min_loss_reduction' , 1), ('step_size' , 0.1), ('features' , [predictors3])])\n",
      "output2_2 = gl.model_parameter_search.grid_search.create(lopo_folds, gl.boosted_trees_regression.create, params)"
     ],
     "language": "python",
     "metadata": {
      "deletable": true,
      "editable": true,
      "scrolled": true
     },
     "outputs": [
      {
       "output_type": "stream",
       "stream": "stderr",
       "text": [
        "[INFO] graphlab.deploy.job: Validating job.\n",
        "[INFO] graphlab.deploy.map_job: Validation complete. Job: 'Model-Parameter-Search-Feb-27-2017-15-07-0100000' ready for execution\n",
        "[INFO] graphlab.deploy.map_job: Job: 'Model-Parameter-Search-Feb-27-2017-15-07-0100000' scheduled.\n",
        "[INFO] graphlab.deploy.job: Validating job.\n",
        "[INFO] graphlab.deploy.map_job: A job with name 'Model-Parameter-Search-Feb-27-2017-15-07-0100000' already exists. Renaming the job to 'Model-Parameter-Search-Feb-27-2017-15-07-0100000-db4f3'.\n",
        "[INFO] graphlab.deploy.map_job: Validation complete. Job: 'Model-Parameter-Search-Feb-27-2017-15-07-0100000-db4f3' ready for execution\n",
        "[INFO] graphlab.deploy.map_job: Job: 'Model-Parameter-Search-Feb-27-2017-15-07-0100000-db4f3' scheduled.\n",
        "[INFO] graphlab.deploy.job: Validating job.\n",
        "[INFO] graphlab.deploy.map_job: Validation complete. Job: 'Model-Parameter-Search-Feb-27-2017-15-07-0100001' ready for execution\n",
        "[INFO] graphlab.deploy.map_job: Job: 'Model-Parameter-Search-Feb-27-2017-15-07-0100001' scheduled.\n"
       ]
      }
     ],
     "prompt_number": 21
    },
    {
     "cell_type": "code",
     "collapsed": false,
     "input": [
      "output2_2.get_status()\n"
     ],
     "language": "python",
     "metadata": {
      "deletable": true,
      "editable": true
     },
     "outputs": [
      {
       "metadata": {},
       "output_type": "pyout",
       "prompt_number": 23,
       "text": [
        "{'Canceled': 0, 'Completed': 16, 'Failed': 0, 'Pending': 0, 'Running': 0}"
       ]
      }
     ],
     "prompt_number": 23
    },
    {
     "cell_type": "code",
     "collapsed": false,
     "input": [
      "## See how models predict proteins in testing data set\n",
      "newdat = lopo_folds[0][1]\n",
      "newdat['predictions'] = output2_2.get_models()[0].predict(lopo_folds[0][1])\n",
      "for i in range(1,8):\n",
      "    predictions = output2_2.get_models()[i].predict(lopo_folds[i][1])\n",
      "    sub = lopo_folds[i][1]\n",
      "    sub['predictions'] = predictions\n",
      "    newdat = newdat.append(sub)"
     ],
     "language": "python",
     "metadata": {
      "deletable": true,
      "editable": true
     },
     "outputs": [],
     "prompt_number": 24
    },
    {
     "cell_type": "code",
     "collapsed": true,
     "input": [
      "newdat2 = newdat.to_dataframe()"
     ],
     "language": "python",
     "metadata": {
      "deletable": true,
      "editable": true
     },
     "outputs": [],
     "prompt_number": 25
    },
    {
     "cell_type": "code",
     "collapsed": false,
     "input": [
      "grouped = newdat2.groupby('protein')\n",
      "names = []\n",
      "r = []\n",
      "for name, group in grouped:\n",
      "    names.append(name)\n",
      "    r.append(stats.pearsonr(group['predictions'], group['scaled_effect1'])[0])\n",
      "dms_r = pd.Series(r, names).sort_values(ascending=False)\n",
      "##dms_r.plot(kind='bar', title='Envision LOPO R')\n",
      "\n",
      "dms_r"
     ],
     "language": "python",
     "metadata": {
      "deletable": true,
      "editable": true,
      "scrolled": true
     },
     "outputs": [
      {
       "metadata": {},
       "output_type": "pyout",
       "prompt_number": 26,
       "text": [
        "TEM-1        0.515860\n",
        "Pab1         0.445156\n",
        "Kka2         0.391474\n",
        "PSD95pdz3    0.361756\n",
        "UBI4         0.342333\n",
        "Yap65        0.308429\n",
        "hsp90        0.253389\n",
        "gb1          0.243069\n",
        "dtype: float64"
       ]
      }
     ],
     "prompt_number": 26
    },
    {
     "cell_type": "code",
     "collapsed": false,
     "input": [
      "pickler = gl._gl_pickle.GLPickler(filename = '/net/fowler/vol1/home/vegray/metaDMS/dato/downSample_8_3dms_2017-02-07')\n",
      "pickler.dump(output2_6)\n",
      "pickler.close()"
     ],
     "language": "python",
     "metadata": {
      "deletable": true,
      "editable": true
     },
     "outputs": [],
     "prompt_number": 16
    },
    {
     "cell_type": "code",
     "collapsed": false,
     "input": [
      "unpickler = gl._gl_pickle.GLUnpickler(filename = '/net/fowler/vol1/home/vegray/metaDMS/dato/downSample_8_3dms_2017-02-07')\n",
      "output8_2 = unpickler.load()\n",
      "unpickler.close()"
     ],
     "language": "python",
     "metadata": {
      "deletable": true,
      "editable": true
     },
     "outputs": [],
     "prompt_number": 175
    },
    {
     "cell_type": "code",
     "collapsed": false,
     "input": [
      "## Use LabelShuffleSplit to split data into training and testing 8x\n",
      "## Here, we use 4 proteins for testing, and 4 for training\n",
      "folds = LabelShuffleSplit(data2['protein'],test_size=4, n_iter = 8)\n",
      "lopo_folds = []\n",
      "for train, test in folds:\n",
      "    lopo_folds.append((data2.filter_by(train,'id'), data2.filter_by(test,'id')))"
     ],
     "language": "python",
     "metadata": {
      "deletable": true,
      "editable": true
     },
     "outputs": [],
     "prompt_number": 50
    },
    {
     "cell_type": "code",
     "collapsed": false,
     "input": [
      "params = dict([('target', 'scaled_effect1'), ('max_depth', 6), ('max_iterations' , 50), \n",
      "               ('column_subsample' , 0.8), ('row_subsample' ,0.6), ('min_child_weight' , [6,50]), \n",
      "               ('min_loss_reduction' , 1), ('step_size' , 0.1), ('features' , [predictors3])])\n",
      "output8_4 = gl.model_parameter_search.grid_search.create(lopo_folds, gl.boosted_trees_regression.create, params)"
     ],
     "language": "python",
     "metadata": {
      "deletable": true,
      "editable": true
     },
     "outputs": [
      {
       "output_type": "stream",
       "stream": "stderr",
       "text": [
        "[INFO] graphlab.deploy.job: Validating job.\n",
        "[INFO] graphlab.deploy.map_job: Validation complete. Job: 'Model-Parameter-Search-Feb-27-2017-15-31-4300000' ready for execution\n",
        "[INFO] graphlab.deploy.map_job: Job: 'Model-Parameter-Search-Feb-27-2017-15-31-4300000' scheduled.\n",
        "[INFO] graphlab.deploy.job: Validating job.\n",
        "[INFO] graphlab.deploy.map_job: A job with name 'Model-Parameter-Search-Feb-27-2017-15-31-4300000' already exists. Renaming the job to 'Model-Parameter-Search-Feb-27-2017-15-31-4300000-50ce4'.\n",
        "[INFO] graphlab.deploy.map_job: Validation complete. Job: 'Model-Parameter-Search-Feb-27-2017-15-31-4300000-50ce4' ready for execution\n",
        "[INFO] graphlab.deploy.map_job: Job: 'Model-Parameter-Search-Feb-27-2017-15-31-4300000-50ce4' scheduled.\n",
        "[INFO] graphlab.deploy.job: Validating job.\n",
        "[INFO] graphlab.deploy.map_job: Validation complete. Job: 'Model-Parameter-Search-Feb-27-2017-15-31-4300001' ready for execution\n",
        "[INFO] graphlab.deploy.map_job: Job: 'Model-Parameter-Search-Feb-27-2017-15-31-4300001' scheduled.\n"
       ]
      }
     ],
     "prompt_number": 51
    },
    {
     "cell_type": "code",
     "collapsed": false,
     "input": [
      "output8_4.get_status()"
     ],
     "language": "python",
     "metadata": {
      "deletable": true,
      "editable": true
     },
     "outputs": [
      {
       "metadata": {},
       "output_type": "pyout",
       "prompt_number": 52,
       "text": [
        "{'Canceled': 0, 'Completed': 0, 'Failed': 0, 'Pending': 6, 'Running': 10}"
       ]
      }
     ],
     "prompt_number": 52
    },
    {
     "cell_type": "code",
     "collapsed": false,
     "input": [
      "newdat = lopo_folds[0][1]\n",
      "newdat['predictions'] = output8_4.get_models()[0].predict(lopo_folds[0][1])\n",
      "for i in range(1,8):\n",
      "    predictions = output8_4.get_models()[i].predict(lopo_folds[i][1])\n",
      "    sub = lopo_folds[i][1]\n",
      "    sub['predictions'] = predictions\n",
      "    newdat = newdat.append(sub)"
     ],
     "language": "python",
     "metadata": {
      "deletable": true,
      "editable": true
     },
     "outputs": [],
     "prompt_number": 53
    },
    {
     "cell_type": "code",
     "collapsed": true,
     "input": [
      "newdat2 = newdat.to_dataframe()"
     ],
     "language": "python",
     "metadata": {
      "deletable": true,
      "editable": true
     },
     "outputs": [],
     "prompt_number": 54
    },
    {
     "cell_type": "code",
     "collapsed": false,
     "input": [
      "grouped = newdat2.groupby('protein')\n",
      "names = []\n",
      "r = []\n",
      "for name, group in grouped:\n",
      "    names.append(name)\n",
      "    r.append(stats.pearsonr(group['predictions'], group['scaled_effect1'])[0])\n",
      "dms_r = pd.Series(r, names).sort_values(ascending=False)\n",
      "##dms_r.plot(kind='bar', title='Envision LOPO R')\n",
      "\n",
      "dms_r"
     ],
     "language": "python",
     "metadata": {
      "deletable": true,
      "editable": true
     },
     "outputs": [
      {
       "metadata": {},
       "output_type": "pyout",
       "prompt_number": 55,
       "text": [
        "TEM-1        0.619884\n",
        "Pab1         0.534486\n",
        "Kka2         0.527688\n",
        "PSD95pdz3    0.492817\n",
        "UBI4         0.486441\n",
        "gb1          0.399979\n",
        "Yap65        0.348719\n",
        "hsp90        0.316436\n",
        "dtype: float64"
       ]
      }
     ],
     "prompt_number": 55
    },
    {
     "cell_type": "code",
     "collapsed": false,
     "input": [
      "unpickler = gl._gl_pickle.GLUnpickler(filename = '/net/fowler/vol1/home/vegray/metaDMS/dato/downSample_8_4dms_2017-02-07')\n",
      "output8_4 = unpickler.load()\n",
      "unpickler.close()"
     ],
     "language": "python",
     "metadata": {
      "deletable": true,
      "editable": true
     },
     "outputs": [],
     "prompt_number": 56
    },
    {
     "cell_type": "code",
     "collapsed": false,
     "input": [
      "output8_4.get_results()"
     ],
     "language": "python",
     "metadata": {
      "deletable": true,
      "editable": true,
      "scrolled": true
     },
     "outputs": [
      {
       "html": [
        "<div style=\"max-height:1000px;max-width:1500px;overflow:auto;\"><table frame=\"box\" rules=\"cols\">\n",
        "    <tr>\n",
        "        <th style=\"padding-left: 1em; padding-right: 1em; text-align: center\">column_subsample</th>\n",
        "        <th style=\"padding-left: 1em; padding-right: 1em; text-align: center\">features</th>\n",
        "        <th style=\"padding-left: 1em; padding-right: 1em; text-align: center\">max_depth</th>\n",
        "        <th style=\"padding-left: 1em; padding-right: 1em; text-align: center\">max_iterations</th>\n",
        "        <th style=\"padding-left: 1em; padding-right: 1em; text-align: center\">min_child_weight</th>\n",
        "        <th style=\"padding-left: 1em; padding-right: 1em; text-align: center\">min_loss_reduction</th>\n",
        "        <th style=\"padding-left: 1em; padding-right: 1em; text-align: center\">row_subsample</th>\n",
        "    </tr>\n",
        "    <tr>\n",
        "        <td style=\"padding-left: 1em; padding-right: 1em; text-align: center; vertical-align: top\">0.8</td>\n",
        "        <td style=\"padding-left: 1em; padding-right: 1em; text-align: center; vertical-align: top\">[aa1, aa2, wt_mut,<br>aa1_polarity, ...</td>\n",
        "        <td style=\"padding-left: 1em; padding-right: 1em; text-align: center; vertical-align: top\">6</td>\n",
        "        <td style=\"padding-left: 1em; padding-right: 1em; text-align: center; vertical-align: top\">25</td>\n",
        "        <td style=\"padding-left: 1em; padding-right: 1em; text-align: center; vertical-align: top\">4</td>\n",
        "        <td style=\"padding-left: 1em; padding-right: 1em; text-align: center; vertical-align: top\">1</td>\n",
        "        <td style=\"padding-left: 1em; padding-right: 1em; text-align: center; vertical-align: top\">0.6</td>\n",
        "    </tr>\n",
        "    <tr>\n",
        "        <td style=\"padding-left: 1em; padding-right: 1em; text-align: center; vertical-align: top\">0.8</td>\n",
        "        <td style=\"padding-left: 1em; padding-right: 1em; text-align: center; vertical-align: top\">[aa1, aa2, wt_mut,<br>aa1_polarity, ...</td>\n",
        "        <td style=\"padding-left: 1em; padding-right: 1em; text-align: center; vertical-align: top\">6</td>\n",
        "        <td style=\"padding-left: 1em; padding-right: 1em; text-align: center; vertical-align: top\">50</td>\n",
        "        <td style=\"padding-left: 1em; padding-right: 1em; text-align: center; vertical-align: top\">2</td>\n",
        "        <td style=\"padding-left: 1em; padding-right: 1em; text-align: center; vertical-align: top\">1</td>\n",
        "        <td style=\"padding-left: 1em; padding-right: 1em; text-align: center; vertical-align: top\">0.6</td>\n",
        "    </tr>\n",
        "    <tr>\n",
        "        <td style=\"padding-left: 1em; padding-right: 1em; text-align: center; vertical-align: top\">0.8</td>\n",
        "        <td style=\"padding-left: 1em; padding-right: 1em; text-align: center; vertical-align: top\">[aa1, aa2, wt_mut,<br>aa1_polarity, ...</td>\n",
        "        <td style=\"padding-left: 1em; padding-right: 1em; text-align: center; vertical-align: top\">6</td>\n",
        "        <td style=\"padding-left: 1em; padding-right: 1em; text-align: center; vertical-align: top\">50</td>\n",
        "        <td style=\"padding-left: 1em; padding-right: 1em; text-align: center; vertical-align: top\">6</td>\n",
        "        <td style=\"padding-left: 1em; padding-right: 1em; text-align: center; vertical-align: top\">1</td>\n",
        "        <td style=\"padding-left: 1em; padding-right: 1em; text-align: center; vertical-align: top\">0.6</td>\n",
        "    </tr>\n",
        "    <tr>\n",
        "        <td style=\"padding-left: 1em; padding-right: 1em; text-align: center; vertical-align: top\">0.8</td>\n",
        "        <td style=\"padding-left: 1em; padding-right: 1em; text-align: center; vertical-align: top\">[aa1, aa2, wt_mut,<br>aa1_polarity, ...</td>\n",
        "        <td style=\"padding-left: 1em; padding-right: 1em; text-align: center; vertical-align: top\">6</td>\n",
        "        <td style=\"padding-left: 1em; padding-right: 1em; text-align: center; vertical-align: top\">25</td>\n",
        "        <td style=\"padding-left: 1em; padding-right: 1em; text-align: center; vertical-align: top\">6</td>\n",
        "        <td style=\"padding-left: 1em; padding-right: 1em; text-align: center; vertical-align: top\">1</td>\n",
        "        <td style=\"padding-left: 1em; padding-right: 1em; text-align: center; vertical-align: top\">0.6</td>\n",
        "    </tr>\n",
        "    <tr>\n",
        "        <td style=\"padding-left: 1em; padding-right: 1em; text-align: center; vertical-align: top\">0.8</td>\n",
        "        <td style=\"padding-left: 1em; padding-right: 1em; text-align: center; vertical-align: top\">[aa1, aa2, wt_mut,<br>aa1_polarity, ...</td>\n",
        "        <td style=\"padding-left: 1em; padding-right: 1em; text-align: center; vertical-align: top\">6</td>\n",
        "        <td style=\"padding-left: 1em; padding-right: 1em; text-align: center; vertical-align: top\">50</td>\n",
        "        <td style=\"padding-left: 1em; padding-right: 1em; text-align: center; vertical-align: top\">4</td>\n",
        "        <td style=\"padding-left: 1em; padding-right: 1em; text-align: center; vertical-align: top\">1</td>\n",
        "        <td style=\"padding-left: 1em; padding-right: 1em; text-align: center; vertical-align: top\">0.6</td>\n",
        "    </tr>\n",
        "    <tr>\n",
        "        <td style=\"padding-left: 1em; padding-right: 1em; text-align: center; vertical-align: top\">0.8</td>\n",
        "        <td style=\"padding-left: 1em; padding-right: 1em; text-align: center; vertical-align: top\">[aa1, aa2, wt_mut,<br>aa1_polarity, ...</td>\n",
        "        <td style=\"padding-left: 1em; padding-right: 1em; text-align: center; vertical-align: top\">6</td>\n",
        "        <td style=\"padding-left: 1em; padding-right: 1em; text-align: center; vertical-align: top\">25</td>\n",
        "        <td style=\"padding-left: 1em; padding-right: 1em; text-align: center; vertical-align: top\">2</td>\n",
        "        <td style=\"padding-left: 1em; padding-right: 1em; text-align: center; vertical-align: top\">1</td>\n",
        "        <td style=\"padding-left: 1em; padding-right: 1em; text-align: center; vertical-align: top\">0.6</td>\n",
        "    </tr>\n",
        "</table>\n",
        "<table frame=\"box\" rules=\"cols\">\n",
        "    <tr>\n",
        "        <th style=\"padding-left: 1em; padding-right: 1em; text-align: center\">step_size</th>\n",
        "        <th style=\"padding-left: 1em; padding-right: 1em; text-align: center\">target</th>\n",
        "        <th style=\"padding-left: 1em; padding-right: 1em; text-align: center\">num_folds</th>\n",
        "        <th style=\"padding-left: 1em; padding-right: 1em; text-align: center\">fold_id</th>\n",
        "        <th style=\"padding-left: 1em; padding-right: 1em; text-align: center\">model_id</th>\n",
        "        <th style=\"padding-left: 1em; padding-right: 1em; text-align: center\">mean_validation_rmse</th>\n",
        "    </tr>\n",
        "    <tr>\n",
        "        <td style=\"padding-left: 1em; padding-right: 1em; text-align: center; vertical-align: top\">0.1</td>\n",
        "        <td style=\"padding-left: 1em; padding-right: 1em; text-align: center; vertical-align: top\">scaled_effect1</td>\n",
        "        <td style=\"padding-left: 1em; padding-right: 1em; text-align: center; vertical-align: top\">8</td>\n",
        "        <td style=\"padding-left: 1em; padding-right: 1em; text-align: center; vertical-align: top\">[1, 7, 5, 4, 2, 0, 3, 6]</td>\n",
        "        <td style=\"padding-left: 1em; padding-right: 1em; text-align: center; vertical-align: top\">[17, 23, 21, 20, 18, 16,<br>19, 22] ...</td>\n",
        "        <td style=\"padding-left: 1em; padding-right: 1em; text-align: center; vertical-align: top\">0.28525419704</td>\n",
        "    </tr>\n",
        "    <tr>\n",
        "        <td style=\"padding-left: 1em; padding-right: 1em; text-align: center; vertical-align: top\">0.1</td>\n",
        "        <td style=\"padding-left: 1em; padding-right: 1em; text-align: center; vertical-align: top\">scaled_effect1</td>\n",
        "        <td style=\"padding-left: 1em; padding-right: 1em; text-align: center; vertical-align: top\">8</td>\n",
        "        <td style=\"padding-left: 1em; padding-right: 1em; text-align: center; vertical-align: top\">[1, 4, 0, 7, 6, 3, 2, 5]</td>\n",
        "        <td style=\"padding-left: 1em; padding-right: 1em; text-align: center; vertical-align: top\">[9, 12, 8, 15, 14, 11,<br>10, 13] ...</td>\n",
        "        <td style=\"padding-left: 1em; padding-right: 1em; text-align: center; vertical-align: top\">0.281842800121</td>\n",
        "    </tr>\n",
        "    <tr>\n",
        "        <td style=\"padding-left: 1em; padding-right: 1em; text-align: center; vertical-align: top\">0.1</td>\n",
        "        <td style=\"padding-left: 1em; padding-right: 1em; text-align: center; vertical-align: top\">scaled_effect1</td>\n",
        "        <td style=\"padding-left: 1em; padding-right: 1em; text-align: center; vertical-align: top\">8</td>\n",
        "        <td style=\"padding-left: 1em; padding-right: 1em; text-align: center; vertical-align: top\">[7, 2, 0, 5, 4, 6, 1, 3]</td>\n",
        "        <td style=\"padding-left: 1em; padding-right: 1em; text-align: center; vertical-align: top\">[47, 42, 40, 45, 44, 46,<br>41, 43] ...</td>\n",
        "        <td style=\"padding-left: 1em; padding-right: 1em; text-align: center; vertical-align: top\">0.283560475131</td>\n",
        "    </tr>\n",
        "    <tr>\n",
        "        <td style=\"padding-left: 1em; padding-right: 1em; text-align: center; vertical-align: top\">0.1</td>\n",
        "        <td style=\"padding-left: 1em; padding-right: 1em; text-align: center; vertical-align: top\">scaled_effect1</td>\n",
        "        <td style=\"padding-left: 1em; padding-right: 1em; text-align: center; vertical-align: top\">8</td>\n",
        "        <td style=\"padding-left: 1em; padding-right: 1em; text-align: center; vertical-align: top\">[3, 1, 0, 2, 5, 4, 7, 6]</td>\n",
        "        <td style=\"padding-left: 1em; padding-right: 1em; text-align: center; vertical-align: top\">[35, 33, 32, 34, 37, 36,<br>39, 38] ...</td>\n",
        "        <td style=\"padding-left: 1em; padding-right: 1em; text-align: center; vertical-align: top\">0.28595174977</td>\n",
        "    </tr>\n",
        "    <tr>\n",
        "        <td style=\"padding-left: 1em; padding-right: 1em; text-align: center; vertical-align: top\">0.1</td>\n",
        "        <td style=\"padding-left: 1em; padding-right: 1em; text-align: center; vertical-align: top\">scaled_effect1</td>\n",
        "        <td style=\"padding-left: 1em; padding-right: 1em; text-align: center; vertical-align: top\">8</td>\n",
        "        <td style=\"padding-left: 1em; padding-right: 1em; text-align: center; vertical-align: top\">[1, 0, 3, 2, 5, 4, 7, 6]</td>\n",
        "        <td style=\"padding-left: 1em; padding-right: 1em; text-align: center; vertical-align: top\">[25, 24, 27, 26, 29, 28,<br>31, 30] ...</td>\n",
        "        <td style=\"padding-left: 1em; padding-right: 1em; text-align: center; vertical-align: top\">0.28224236047</td>\n",
        "    </tr>\n",
        "    <tr>\n",
        "        <td style=\"padding-left: 1em; padding-right: 1em; text-align: center; vertical-align: top\">0.1</td>\n",
        "        <td style=\"padding-left: 1em; padding-right: 1em; text-align: center; vertical-align: top\">scaled_effect1</td>\n",
        "        <td style=\"padding-left: 1em; padding-right: 1em; text-align: center; vertical-align: top\">8</td>\n",
        "        <td style=\"padding-left: 1em; padding-right: 1em; text-align: center; vertical-align: top\">[6, 0, 5, 1, 4, 7, 3, 2]</td>\n",
        "        <td style=\"padding-left: 1em; padding-right: 1em; text-align: center; vertical-align: top\">[6, 0, 5, 1, 4, 7, 3, 2]</td>\n",
        "        <td style=\"padding-left: 1em; padding-right: 1em; text-align: center; vertical-align: top\">0.284253996773</td>\n",
        "    </tr>\n",
        "</table>\n",
        "<table frame=\"box\" rules=\"cols\">\n",
        "    <tr>\n",
        "        <th style=\"padding-left: 1em; padding-right: 1em; text-align: center\">mean_training_rmse</th>\n",
        "    </tr>\n",
        "    <tr>\n",
        "        <td style=\"padding-left: 1em; padding-right: 1em; text-align: center; vertical-align: top\">0.202371546999</td>\n",
        "    </tr>\n",
        "    <tr>\n",
        "        <td style=\"padding-left: 1em; padding-right: 1em; text-align: center; vertical-align: top\">0.191325118765</td>\n",
        "    </tr>\n",
        "    <tr>\n",
        "        <td style=\"padding-left: 1em; padding-right: 1em; text-align: center; vertical-align: top\">0.190753914416</td>\n",
        "    </tr>\n",
        "    <tr>\n",
        "        <td style=\"padding-left: 1em; padding-right: 1em; text-align: center; vertical-align: top\">0.202614873648</td>\n",
        "    </tr>\n",
        "    <tr>\n",
        "        <td style=\"padding-left: 1em; padding-right: 1em; text-align: center; vertical-align: top\">0.191114738584</td>\n",
        "    </tr>\n",
        "    <tr>\n",
        "        <td style=\"padding-left: 1em; padding-right: 1em; text-align: center; vertical-align: top\">0.202653536573</td>\n",
        "    </tr>\n",
        "</table>\n",
        "[6 rows x 14 columns]<br/>\n",
        "</div>"
       ],
       "metadata": {},
       "output_type": "pyout",
       "prompt_number": 117,
       "text": [
        "Columns:\n",
        "\tcolumn_subsample\tfloat\n",
        "\tfeatures\tlist\n",
        "\tmax_depth\tint\n",
        "\tmax_iterations\tint\n",
        "\tmin_child_weight\tint\n",
        "\tmin_loss_reduction\tint\n",
        "\trow_subsample\tfloat\n",
        "\tstep_size\tfloat\n",
        "\ttarget\tstr\n",
        "\tnum_folds\tint\n",
        "\tfold_id\tlist\n",
        "\tmodel_id\tlist\n",
        "\tmean_validation_rmse\tfloat\n",
        "\tmean_training_rmse\tfloat\n",
        "\n",
        "Rows: 6\n",
        "\n",
        "Data:\n",
        "+------------------+-------------------------------+-----------+----------------+\n",
        "| column_subsample |            features           | max_depth | max_iterations |\n",
        "+------------------+-------------------------------+-----------+----------------+\n",
        "|       0.8        | [aa1, aa2, wt_mut, aa1_pol... |     6     |       25       |\n",
        "|       0.8        | [aa1, aa2, wt_mut, aa1_pol... |     6     |       50       |\n",
        "|       0.8        | [aa1, aa2, wt_mut, aa1_pol... |     6     |       50       |\n",
        "|       0.8        | [aa1, aa2, wt_mut, aa1_pol... |     6     |       25       |\n",
        "|       0.8        | [aa1, aa2, wt_mut, aa1_pol... |     6     |       50       |\n",
        "|       0.8        | [aa1, aa2, wt_mut, aa1_pol... |     6     |       25       |\n",
        "+------------------+-------------------------------+-----------+----------------+\n",
        "+------------------+--------------------+---------------+-----------+\n",
        "| min_child_weight | min_loss_reduction | row_subsample | step_size |\n",
        "+------------------+--------------------+---------------+-----------+\n",
        "|        4         |         1          |      0.6      |    0.1    |\n",
        "|        2         |         1          |      0.6      |    0.1    |\n",
        "|        6         |         1          |      0.6      |    0.1    |\n",
        "|        6         |         1          |      0.6      |    0.1    |\n",
        "|        4         |         1          |      0.6      |    0.1    |\n",
        "|        2         |         1          |      0.6      |    0.1    |\n",
        "+------------------+--------------------+---------------+-----------+\n",
        "+----------------+-----------+--------------------------+\n",
        "|     target     | num_folds |         fold_id          |\n",
        "+----------------+-----------+--------------------------+\n",
        "| scaled_effect1 |     8     | [1, 7, 5, 4, 2, 0, 3, 6] |\n",
        "| scaled_effect1 |     8     | [1, 4, 0, 7, 6, 3, 2, 5] |\n",
        "| scaled_effect1 |     8     | [7, 2, 0, 5, 4, 6, 1, 3] |\n",
        "| scaled_effect1 |     8     | [3, 1, 0, 2, 5, 4, 7, 6] |\n",
        "| scaled_effect1 |     8     | [1, 0, 3, 2, 5, 4, 7, 6] |\n",
        "| scaled_effect1 |     8     | [6, 0, 5, 1, 4, 7, 3, 2] |\n",
        "+----------------+-----------+--------------------------+\n",
        "+--------------------------------+----------------------+--------------------+\n",
        "|            model_id            | mean_validation_rmse | mean_training_rmse |\n",
        "+--------------------------------+----------------------+--------------------+\n",
        "| [17, 23, 21, 20, 18, 16, 1...  |    0.28525419704     |   0.202371546999   |\n",
        "| [9, 12, 8, 15, 14, 11, 10, 13] |    0.281842800121    |   0.191325118765   |\n",
        "| [47, 42, 40, 45, 44, 46, 4...  |    0.283560475131    |   0.190753914416   |\n",
        "| [35, 33, 32, 34, 37, 36, 3...  |    0.28595174977     |   0.202614873648   |\n",
        "| [25, 24, 27, 26, 29, 28, 3...  |    0.28224236047     |   0.191114738584   |\n",
        "|    [6, 0, 5, 1, 4, 7, 3, 2]    |    0.284253996773    |   0.202653536573   |\n",
        "+--------------------------------+----------------------+--------------------+\n",
        "[6 rows x 14 columns]"
       ]
      }
     ],
     "prompt_number": 117
    },
    {
     "cell_type": "code",
     "collapsed": false,
     "input": [
      "clinvar['predictions'] = output8_4.get_models()[23].predict(clinvar)"
     ],
     "language": "python",
     "metadata": {
      "deletable": true,
      "editable": true
     },
     "outputs": [],
     "prompt_number": 300
    },
    {
     "cell_type": "code",
     "collapsed": false,
     "input": [
      "## Do ROC analysis\n",
      "min = clinvar['predictions'].min()\n",
      "max = clinvar['predictions'].max()\n",
      "scores = (clinvar['predictions']-min)/(max-min)\n",
      "\n",
      "#roc = gl.evaluation.roc_curve(clinvar['effect'], scores)\n",
      "auc =  gl.evaluation.auc(clinvar['effect'], scores)\n",
      "1-auc"
     ],
     "language": "python",
     "metadata": {
      "deletable": true,
      "editable": true
     },
     "outputs": [
      {
       "metadata": {},
       "output_type": "pyout",
       "prompt_number": 301,
       "text": [
        "0.6492471184176589"
       ]
      }
     ],
     "prompt_number": 301
    },
    {
     "cell_type": "code",
     "collapsed": false,
     "input": [
      "## Use 7 DMSes from testing\n",
      "folds = LabelShuffleSplit(data2['protein'],test_size=2, n_iter =8)\n",
      "lopo_folds = []\n",
      "for train, test in folds:\n",
      "    lopo_folds.append((data2.filter_by(train,'id'), data2.filter_by(test,'id')))"
     ],
     "language": "python",
     "metadata": {
      "deletable": true,
      "editable": true
     },
     "outputs": [],
     "prompt_number": 75
    },
    {
     "cell_type": "code",
     "collapsed": false,
     "input": [
      "params = dict([('target', 'scaled_effect1'), ('max_depth', 6), ('max_iterations' , 50), \n",
      "               ('column_subsample' , 0.8), ('row_subsample' ,0.6), ('min_child_weight' , [6,50]), \n",
      "               ('min_loss_reduction' , 1), ('step_size' , 0.1), ('features' , [predictors3])])\n",
      "output8_2 = gl.model_parameter_search.grid_search.create(lopo_folds, gl.boosted_trees_regression.create, params)"
     ],
     "language": "python",
     "metadata": {
      "deletable": true,
      "editable": true
     },
     "outputs": [
      {
       "output_type": "stream",
       "stream": "stderr",
       "text": [
        "[INFO] graphlab.deploy.job: Validating job.\n",
        "[INFO] graphlab.deploy.map_job: Validation complete. Job: 'Model-Parameter-Search-Feb-27-2017-15-54-4700000' ready for execution\n",
        "[INFO] graphlab.deploy.map_job: Job: 'Model-Parameter-Search-Feb-27-2017-15-54-4700000' scheduled.\n",
        "[INFO] graphlab.deploy.job: Validating job.\n",
        "[INFO] graphlab.deploy.map_job: A job with name 'Model-Parameter-Search-Feb-27-2017-15-54-4700000' already exists. Renaming the job to 'Model-Parameter-Search-Feb-27-2017-15-54-4700000-a936c'.\n",
        "[INFO] graphlab.deploy.map_job: Validation complete. Job: 'Model-Parameter-Search-Feb-27-2017-15-54-4700000-a936c' ready for execution\n",
        "[INFO] graphlab.deploy.map_job: Job: 'Model-Parameter-Search-Feb-27-2017-15-54-4700000-a936c' scheduled.\n",
        "[INFO] graphlab.deploy.job: Validating job.\n",
        "[INFO] graphlab.deploy.map_job: Validation complete. Job: 'Model-Parameter-Search-Feb-27-2017-15-54-4700001' ready for execution\n",
        "[INFO] graphlab.deploy.map_job: Job: 'Model-Parameter-Search-Feb-27-2017-15-54-4700001' scheduled.\n"
       ]
      }
     ],
     "prompt_number": 76
    },
    {
     "cell_type": "code",
     "collapsed": false,
     "input": [
      "output8_2.get_status()"
     ],
     "language": "python",
     "metadata": {
      "deletable": true,
      "editable": true
     },
     "outputs": [
      {
       "metadata": {},
       "output_type": "pyout",
       "prompt_number": 77,
       "text": [
        "{'Canceled': 0, 'Completed': 0, 'Failed': 0, 'Pending': 6, 'Running': 10}"
       ]
      }
     ],
     "prompt_number": 77
    },
    {
     "cell_type": "code",
     "collapsed": false,
     "input": [
      "newdat = lopo_folds[0][1]\n",
      "newdat['predictions'] = output8_2.get_models()[0].predict(lopo_folds[0][1])\n",
      "for i in range(1,8):\n",
      "    predictions = output8_2.get_models()[i].predict(lopo_folds[i][1])\n",
      "    sub = lopo_folds[i][1]\n",
      "    sub['predictions'] = predictions\n",
      "    newdat = newdat.append(sub)"
     ],
     "language": "python",
     "metadata": {
      "deletable": true,
      "editable": true
     },
     "outputs": [],
     "prompt_number": 78
    },
    {
     "cell_type": "code",
     "collapsed": true,
     "input": [
      "newdat2 = newdat.to_dataframe()"
     ],
     "language": "python",
     "metadata": {
      "deletable": true,
      "editable": true
     },
     "outputs": [],
     "prompt_number": 79
    },
    {
     "cell_type": "code",
     "collapsed": false,
     "input": [
      "grouped = newdat2.groupby('protein')\n",
      "names = []\n",
      "r = []\n",
      "for name, group in grouped:\n",
      "    names.append(name)\n",
      "    r.append(stats.pearsonr(group['predictions'], group['scaled_effect1'])[0])\n",
      "dms_r = pd.Series(r, names).sort_values(ascending=False)\n",
      "##dms_r.plot(kind='bar', title='Envision LOPO R')\n",
      "\n",
      "dms_r"
     ],
     "language": "python",
     "metadata": {
      "deletable": true,
      "editable": true
     },
     "outputs": [
      {
       "metadata": {},
       "output_type": "pyout",
       "prompt_number": 80,
       "text": [
        "TEM-1        0.684744\n",
        "Kka2         0.587029\n",
        "PSD95pdz3    0.530084\n",
        "UBI4         0.446297\n",
        "Yap65        0.373412\n",
        "hsp90        0.333028\n",
        "gb1          0.326731\n",
        "dtype: float64"
       ]
      }
     ],
     "prompt_number": 80
    },
    {
     "cell_type": "code",
     "collapsed": false,
     "input": [
      "pickler = gl._gl_pickle.GLPickler(filename = '/net/fowler/vol1/home/vegray/metaDMS/dato/downSample_8_2dms_2017-02-07')\n",
      "pickler.dump(output8_2)\n",
      "pickler.close()"
     ],
     "language": "python",
     "metadata": {
      "deletable": true,
      "editable": true
     },
     "outputs": [],
     "prompt_number": 73
    },
    {
     "cell_type": "code",
     "collapsed": true,
     "input": [
      "unpickler = gl._gl_pickle.GLUnpickler(filename = '/net/fowler/vol1/home/vegray/metaDMS/dato/downSample_8_2dms_2017-02-07')\n",
      "output8_2 = unpickler.load()\n",
      "unpickler.close()"
     ],
     "language": "python",
     "metadata": {
      "deletable": true,
      "editable": true
     },
     "outputs": [],
     "prompt_number": 232
    },
    {
     "cell_type": "code",
     "collapsed": true,
     "input": [
      "## Use LabelShuffleSplit to split data into training and testing 8x\n",
      "## Here, we use 7 proteins for testing, and 8 for training\n",
      "folds = LabelShuffleSplit(data2['protein'],test_size=1, n_iter =8)\n",
      "lopo_folds = []\n",
      "for train, test in folds:\n",
      "    lopo_folds.append((data2.filter_by(train,'id'), data2.filter_by(test,'id')))"
     ],
     "language": "python",
     "metadata": {
      "deletable": true,
      "editable": true
     },
     "outputs": [],
     "prompt_number": 93
    },
    {
     "cell_type": "code",
     "collapsed": false,
     "input": [
      "params = dict([('target', 'scaled_effect1'), ('max_depth', 6), ('max_iterations' , 50), \n",
      "               ('column_subsample' , 0.8), ('row_subsample' ,0.6), ('min_child_weight' , [6,50]), \n",
      "               ('min_loss_reduction' , 1), ('step_size' , 0.1), ('features' , [predictors3])])\n",
      "output8_1 = gl.model_parameter_search.grid_search.create(lopo_folds, gl.boosted_trees_regression.create, params)"
     ],
     "language": "python",
     "metadata": {
      "deletable": true,
      "editable": true
     },
     "outputs": [
      {
       "output_type": "stream",
       "stream": "stderr",
       "text": [
        "[INFO] graphlab.deploy.job: Validating job.\n",
        "[INFO] graphlab.deploy.map_job: Validation complete. Job: 'Model-Parameter-Search-Feb-27-2017-16-49-2400000' ready for execution\n",
        "[INFO] graphlab.deploy.map_job: Job: 'Model-Parameter-Search-Feb-27-2017-16-49-2400000' scheduled.\n",
        "[INFO] graphlab.deploy.job: Validating job.\n",
        "[INFO] graphlab.deploy.map_job: A job with name 'Model-Parameter-Search-Feb-27-2017-16-49-2400000' already exists. Renaming the job to 'Model-Parameter-Search-Feb-27-2017-16-49-2400000-23811'.\n",
        "[INFO] graphlab.deploy.map_job: Validation complete. Job: 'Model-Parameter-Search-Feb-27-2017-16-49-2400000-23811' ready for execution\n",
        "[INFO] graphlab.deploy.map_job: Job: 'Model-Parameter-Search-Feb-27-2017-16-49-2400000-23811' scheduled.\n",
        "[INFO] graphlab.deploy.job: Validating job.\n",
        "[INFO] graphlab.deploy.map_job: Validation complete. Job: 'Model-Parameter-Search-Feb-27-2017-16-49-2400001' ready for execution\n",
        "[INFO] graphlab.deploy.map_job: Job: 'Model-Parameter-Search-Feb-27-2017-16-49-2400001' scheduled.\n"
       ]
      }
     ],
     "prompt_number": 94
    },
    {
     "cell_type": "code",
     "collapsed": false,
     "input": [
      "output8_1.get_status()"
     ],
     "language": "python",
     "metadata": {
      "deletable": true,
      "editable": true
     },
     "outputs": [
      {
       "metadata": {},
       "output_type": "pyout",
       "prompt_number": 95,
       "text": [
        "{'Canceled': 0, 'Completed': 0, 'Failed': 0, 'Pending': 6, 'Running': 10}"
       ]
      }
     ],
     "prompt_number": 95
    },
    {
     "cell_type": "code",
     "collapsed": false,
     "input": [
      "newdat = lopo_folds[0][1]\n",
      "newdat['predictions'] = output8_1.get_models()[0].predict(lopo_folds[0][1])\n",
      "for i in range(1,8):\n",
      "    predictions = output8_1.get_models()[i].predict(lopo_folds[i][1])\n",
      "    sub = lopo_folds[i][1]\n",
      "    sub['predictions'] = predictions\n",
      "    newdat = newdat.append(sub)"
     ],
     "language": "python",
     "metadata": {
      "deletable": true,
      "editable": true
     },
     "outputs": [],
     "prompt_number": 96
    },
    {
     "cell_type": "code",
     "collapsed": true,
     "input": [
      "newdat2 = newdat.to_dataframe()"
     ],
     "language": "python",
     "metadata": {
      "deletable": true,
      "editable": true
     },
     "outputs": [],
     "prompt_number": 97
    },
    {
     "cell_type": "code",
     "collapsed": false,
     "input": [
      "grouped = newdat2.groupby('protein')\n",
      "names = []\n",
      "r = []\n",
      "for name, group in grouped:\n",
      "    names.append(name)\n",
      "    r.append(stats.pearsonr(group['predictions'], group['scaled_effect1'])[0])\n",
      "dms_r = pd.Series(r, names).sort_values(ascending=False)\n",
      "##dms_r.plot(kind='bar', title='Envision LOPO R')\n",
      "\n",
      "dms_r"
     ],
     "language": "python",
     "metadata": {
      "deletable": true,
      "editable": true
     },
     "outputs": [
      {
       "metadata": {},
       "output_type": "pyout",
       "prompt_number": 98,
       "text": [
        "TEM-1        0.697823\n",
        "Kka2         0.578151\n",
        "PSD95pdz3    0.552104\n",
        "Yap65        0.390092\n",
        "dtype: float64"
       ]
      }
     ],
     "prompt_number": 98
    },
    {
     "cell_type": "code",
     "collapsed": false,
     "input": [
      "pickler = gl._gl_pickle.GLPickler(filename = '/net/fowler/vol1/home/vegray/metaDMS/dato/downSample_8_1dms_2017-02-07')\n",
      "pickler.dump(output8_1)\n",
      "pickler.close()"
     ],
     "language": "python",
     "metadata": {
      "deletable": true,
      "editable": true
     },
     "outputs": [],
     "prompt_number": 43
    },
    {
     "cell_type": "code",
     "collapsed": true,
     "input": [
      "unpickler = gl._gl_pickle.GLUnpickler(filename = '/net/fowler/vol1/home/vegray/metaDMS/dato/downSample_8_1dms_2017-02-07')\n",
      "output8_1 = unpickler.load()\n",
      "unpickler.close()"
     ],
     "language": "python",
     "metadata": {
      "deletable": true,
      "editable": true
     },
     "outputs": [],
     "prompt_number": 25
    }
   ],
   "metadata": {}
  }
 ]
}