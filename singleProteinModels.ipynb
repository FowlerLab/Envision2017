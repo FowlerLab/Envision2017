{
 "metadata": {
  "kernelspec": {
   "display_name": "Python 2",
   "language": "python",
   "name": "python2"
  },
  "language_info": {
   "codemirror_mode": {
    "name": "ipython",
    "version": 2
   },
   "file_extension": ".py",
   "mimetype": "text/x-python",
   "name": "python",
   "nbconvert_exporter": "python",
   "pygments_lexer": "ipython2",
   "version": "2.7.3"
  },
  "name": ""
 },
 "nbformat": 3,
 "nbformat_minor": 0,
 "worksheets": [
  {
   "cells": [
    {
     "cell_type": "markdown",
     "metadata": {},
     "source": [
      "### Single protein model training\n",
      "For each protein we: <br>\n",
      " 1) Train hyperparameters in four steps : # of trees, max depth/min child weight, minimum loss, and column/row subsample proportion <br>\n",
      " 2) Next, we split protein data into training and testing data sets <br>\n",
      " 3) then, train a protein-specific model <br>\n",
      " 4) and Finally, use the model to predict training and testing data sets"
     ]
    },
    {
     "cell_type": "code",
     "collapsed": false,
     "input": [
      "## We use graphlab (aka Turi) to tune hyperparameters and train models\n",
      "import graphlab as gl\n",
      "from graphlab.util import cloudpickle\n",
      "import graphlab.aggregate as agg\n",
      "import sys\n",
      "import pickle   ## Used for saving models\n",
      "\n",
      "## We use pandas, numpy and scipy for data analysis\n",
      "import pandas as pd\n",
      "import numpy as np\n",
      "import scipy.stats.stats as stats\n",
      "%load_ext rpy2.ipython\n",
      "from math import sqrt\n",
      "\n",
      "## sklearn is used for setting up cross validation data sets\n",
      "import itertools\n",
      "from collections import Counter\n",
      "from sklearn import cross_validation, metrics, preprocessing, datasets   #Additional scklearn functions\n",
      "from sklearn.grid_search import GridSearchCV   #Performing grid search\n",
      "from sklearn.utils import shuffle\n",
      "from sklearn.metrics import mean_squared_error\n",
      "from sklearn.metrics import confusion_matrix\n",
      "from sklearn.cross_validation import LabelKFold\n",
      "from sklearn.cross_validation import LeaveOneLabelOut\n",
      "\n",
      "## Matplotlib for graphing\n",
      "import matplotlib.pylab as plt\n",
      "%matplotlib inline\n",
      "from matplotlib.pylab import rcParams\n",
      "rcParams['figure.figsize'] = 8, 8"
     ],
     "language": "python",
     "metadata": {
      "deletable": true,
      "editable": true,
      "scrolled": true
     },
     "outputs": [
      {
       "ename": "ImportError",
       "evalue": "No module named graphlab",
       "output_type": "pyerr",
       "traceback": [
        "\u001b[0;31m---------------------------------------------------------------------------\u001b[0m\n\u001b[0;31mImportError\u001b[0m                               Traceback (most recent call last)",
        "\u001b[0;32m<ipython-input-1-c592620d6cac>\u001b[0m in \u001b[0;36m<module>\u001b[0;34m()\u001b[0m\n\u001b[1;32m      1\u001b[0m \u001b[0;31m## We use graphlab (aka Turi) to tune hyperparameters and train models\u001b[0m\u001b[0;34m\u001b[0m\u001b[0;34m\u001b[0m\u001b[0m\n\u001b[0;32m----> 2\u001b[0;31m \u001b[0;32mimport\u001b[0m \u001b[0mgraphlab\u001b[0m \u001b[0;32mas\u001b[0m \u001b[0mgl\u001b[0m\u001b[0;34m\u001b[0m\u001b[0m\n\u001b[0m\u001b[1;32m      3\u001b[0m \u001b[0;32mfrom\u001b[0m \u001b[0mgraphlab\u001b[0m\u001b[0;34m.\u001b[0m\u001b[0mutil\u001b[0m \u001b[0;32mimport\u001b[0m \u001b[0mcloudpickle\u001b[0m\u001b[0;34m\u001b[0m\u001b[0m\n\u001b[1;32m      4\u001b[0m \u001b[0;32mimport\u001b[0m \u001b[0mgraphlab\u001b[0m\u001b[0;34m.\u001b[0m\u001b[0maggregate\u001b[0m \u001b[0;32mas\u001b[0m \u001b[0magg\u001b[0m\u001b[0;34m\u001b[0m\u001b[0m\n\u001b[1;32m      5\u001b[0m \u001b[0;32mimport\u001b[0m \u001b[0msys\u001b[0m\u001b[0;34m\u001b[0m\u001b[0m\n",
        "\u001b[0;31mImportError\u001b[0m: No module named graphlab"
       ]
      }
     ],
     "prompt_number": 1
    },
    {
     "cell_type": "code",
     "collapsed": false,
     "input": [
      "## Read in data\n",
      "## Set your own working directory ## \n",
      "data =  gl.SFrame.read_csv('~/data/dmsTraining_2017-02-20.csv')"
     ],
     "language": "python",
     "metadata": {
      "deletable": true,
      "editable": true
     },
     "outputs": [
      {
       "html": [
        "<pre>Finished parsing file /net/fowler/vol1/home/vegray/metaDMS/dato/scaled/data/dmsTraining_2017-02-20.csv</pre>"
       ],
       "metadata": {},
       "output_type": "display_data",
       "text": [
        "Finished parsing file /net/fowler/vol1/home/vegray/metaDMS/dato/scaled/data/dmsTraining_2017-02-20.csv"
       ]
      },
      {
       "html": [
        "<pre>Parsing completed. Parsed 100 lines in 3.72909 secs.</pre>"
       ],
       "metadata": {},
       "output_type": "display_data",
       "text": [
        "Parsing completed. Parsed 100 lines in 3.72909 secs."
       ]
      },
      {
       "output_type": "stream",
       "stream": "stdout",
       "text": [
        "------------------------------------------------------\n",
        "Inferred types from first 100 line(s) of file as \n",
        "column_type_hints=[str,str,str,str,str,str,int,int,str,str,str,str,str,float,str,str,str,str,int,str,str,str,str,str,float,float,float,int,int,int,float,float,float,int,float,float,float,float,str,str,float,float,float,str,float,float,float,float,int,float,str,str,str,str]\n",
        "If parsing fails due to incorrect types, you can correct\n",
        "the inferred type list above and pass it to read_csv in\n",
        "the column_type_hints argument\n",
        "------------------------------------------------------\n"
       ]
      },
      {
       "html": [
        "<pre>Finished parsing file /net/fowler/vol1/home/vegray/metaDMS/dato/scaled/data/dmsTraining_2017-02-20.csv</pre>"
       ],
       "metadata": {},
       "output_type": "display_data",
       "text": [
        "Finished parsing file /net/fowler/vol1/home/vegray/metaDMS/dato/scaled/data/dmsTraining_2017-02-20.csv"
       ]
      },
      {
       "html": [
        "<pre>Parsing completed. Parsed 101460 lines in 1.43845 secs.</pre>"
       ],
       "metadata": {},
       "output_type": "display_data",
       "text": [
        "Parsing completed. Parsed 101460 lines in 1.43845 secs."
       ]
      }
     ],
     "prompt_number": 13
    },
    {
     "cell_type": "code",
     "collapsed": true,
     "input": [
      "## Selected feature set\n",
      "predictors3 = ['aa1', 'aa2', 'wt_mut', 'aa1_polarity', \n",
      "               'aa2_polarity', 'aa1_PI', 'aa2_PI', 'deltaPI', \n",
      "               'Grantham', 'aa1_weight', 'aa2_weight', 'deltaWeight',\n",
      "               'aa1vol', 'aa2vol', 'deltavolume', 'aa1_psic',\n",
      "               'aa2_psic', 'delta_psic',  'accessibility',\n",
      "               'dssp_sec_str', 'phi_psi_reg', 'delta_solvent_accessibility',\n",
      "               'b_factor', 'mut_msa_congruency', 'mut_mut_msa_congruency', \n",
      "               'seq_ind_closest_mut', \n",
      "               'selection_coefficient', 'evolutionary_coupling_avg']"
     ],
     "language": "python",
     "metadata": {
      "deletable": true,
      "editable": true
     },
     "outputs": [],
     "prompt_number": 17
    },
    {
     "cell_type": "heading",
     "level": 1,
     "metadata": {
      "deletable": true,
      "editable": true
     },
     "source": [
      "TEM1 beta-lactamase"
     ]
    },
    {
     "cell_type": "code",
     "collapsed": false,
     "input": [
      "# Define beta_lact data set\n",
      "beta_lact_data = data.filter_by([x for x in data['protein'].unique() if x in ['TEM-1']], 'protein')\n",
      "beta_lact_data3 = beta_lact_data.filter_by([x for x in beta_lact_data['mut_type'].unique() if x in ['missense']], 'mut_type')\n",
      "#del beta_lact_data2['id']\n",
      "beta_lact_data3 = beta_lact_data3.add_row_number('id',0)"
     ],
     "language": "python",
     "metadata": {
      "deletable": true,
      "editable": true
     },
     "outputs": [
      {
       "ename": "RuntimeError",
       "evalue": "Column 'id' already exists in the current SFrame",
       "output_type": "pyerr",
       "traceback": [
        "\u001b[0;31m---------------------------------------------------------------------------\u001b[0m",
        "\u001b[0;31mRuntimeError\u001b[0m                              Traceback (most recent call last)",
        "\u001b[0;32m<ipython-input-15-ee10d2840edc>\u001b[0m in \u001b[0;36m<module>\u001b[0;34m()\u001b[0m\n\u001b[1;32m      3\u001b[0m \u001b[0mbeta_lact_data3\u001b[0m \u001b[0;34m=\u001b[0m \u001b[0mbeta_lact_data\u001b[0m\u001b[0;34m.\u001b[0m\u001b[0mfilter_by\u001b[0m\u001b[0;34m(\u001b[0m\u001b[0;34m[\u001b[0m\u001b[0mx\u001b[0m \u001b[0;32mfor\u001b[0m \u001b[0mx\u001b[0m \u001b[0;32min\u001b[0m \u001b[0mbeta_lact_data\u001b[0m\u001b[0;34m[\u001b[0m\u001b[0;34m'mut_type'\u001b[0m\u001b[0;34m]\u001b[0m\u001b[0;34m.\u001b[0m\u001b[0munique\u001b[0m\u001b[0;34m(\u001b[0m\u001b[0;34m)\u001b[0m \u001b[0;32mif\u001b[0m \u001b[0mx\u001b[0m \u001b[0;32min\u001b[0m \u001b[0;34m[\u001b[0m\u001b[0;34m'missense'\u001b[0m\u001b[0;34m]\u001b[0m\u001b[0;34m]\u001b[0m\u001b[0;34m,\u001b[0m \u001b[0;34m'mut_type'\u001b[0m\u001b[0;34m)\u001b[0m\u001b[0;34m\u001b[0m\u001b[0m\n\u001b[1;32m      4\u001b[0m \u001b[0;31m#del beta_lact_data2['id']\u001b[0m\u001b[0;34m\u001b[0m\u001b[0;34m\u001b[0m\u001b[0m\n\u001b[0;32m----> 5\u001b[0;31m \u001b[0mbeta_lact_data3\u001b[0m \u001b[0;34m=\u001b[0m \u001b[0mbeta_lact_data3\u001b[0m\u001b[0;34m.\u001b[0m\u001b[0madd_row_number\u001b[0m\u001b[0;34m(\u001b[0m\u001b[0;34m'id'\u001b[0m\u001b[0;34m,\u001b[0m\u001b[0;36m0\u001b[0m\u001b[0;34m)\u001b[0m\u001b[0;34m\u001b[0m\u001b[0m\n\u001b[0m",
        "\u001b[0;32m/net/gs/vol3/software/modules-sw-python/2.7.3/graphlab/2.1/Linux/RHEL6/x86_64/lib/python2.7/site-packages/graphlab/data_structures/sframe.pyc\u001b[0m in \u001b[0;36madd_row_number\u001b[0;34m(self, column_name, start)\u001b[0m\n\u001b[1;32m   6150\u001b[0m \u001b[0;34m\u001b[0m\u001b[0m\n\u001b[1;32m   6151\u001b[0m         \u001b[0;32mif\u001b[0m \u001b[0mcolumn_name\u001b[0m \u001b[0;32min\u001b[0m \u001b[0mself\u001b[0m\u001b[0;34m.\u001b[0m\u001b[0mcolumn_names\u001b[0m\u001b[0;34m(\u001b[0m\u001b[0;34m)\u001b[0m\u001b[0;34m:\u001b[0m\u001b[0;34m\u001b[0m\u001b[0m\n\u001b[0;32m-> 6152\u001b[0;31m             \u001b[0;32mraise\u001b[0m \u001b[0mRuntimeError\u001b[0m\u001b[0;34m(\u001b[0m\u001b[0;34m\"Column '\"\u001b[0m \u001b[0;34m+\u001b[0m \u001b[0mcolumn_name\u001b[0m \u001b[0;34m+\u001b[0m \u001b[0;34m\"' already exists in the current SFrame\"\u001b[0m\u001b[0;34m)\u001b[0m\u001b[0;34m\u001b[0m\u001b[0m\n\u001b[0m\u001b[1;32m   6153\u001b[0m \u001b[0;34m\u001b[0m\u001b[0m\n\u001b[1;32m   6154\u001b[0m         \u001b[0mthe_col\u001b[0m \u001b[0;34m=\u001b[0m \u001b[0m_create_sequential_sarray\u001b[0m\u001b[0;34m(\u001b[0m\u001b[0mself\u001b[0m\u001b[0;34m.\u001b[0m\u001b[0mnum_rows\u001b[0m\u001b[0;34m(\u001b[0m\u001b[0;34m)\u001b[0m\u001b[0;34m,\u001b[0m \u001b[0mstart\u001b[0m\u001b[0;34m)\u001b[0m\u001b[0;34m\u001b[0m\u001b[0m\n",
        "\u001b[0;31mRuntimeError\u001b[0m: Column 'id' already exists in the current SFrame"
       ]
      }
     ],
     "prompt_number": 15
    },
    {
     "cell_type": "code",
     "collapsed": false,
     "input": [
      "## Split data for 10-fold cross-validation (CV)\n",
      "folds = gl.cross_validation.KFold(beta_lact_data3,10)\n",
      "## Hyperparameter tuning\n",
      "## First round = max iterations aka number of trees in model\n",
      "params = dict([('target', 'scaled_effect1'), ('max_depth', 5), ('max_iterations' , [5,10,25,50]), \n",
      "               ('column_subsample' , .6), ('row_subsample' , .6), ('min_child_weight' , 1), \n",
      "               ('min_loss_reduction' , 0), ('step_size' , 0.1), ('features' , [predictors3])])\n",
      "\n",
      "## Perform the grid search on defined tuning parameters\n",
      "TEM1_paramSearch = gl.model_parameter_search.grid_search.create(folds, gl.boosted_trees_regression.create, params)"
     ],
     "language": "python",
     "metadata": {
      "deletable": true,
      "editable": true
     },
     "outputs": [
      {
       "output_type": "stream",
       "stream": "stderr",
       "text": [
        "[INFO] graphlab.deploy.job: Validating job.\n",
        "[INFO] graphlab.deploy.map_job: Validation complete. Job: 'Model-Parameter-Search-Feb-23-2017-12-25-2400000' ready for execution\n",
        "[INFO] graphlab.deploy.map_job: Job: 'Model-Parameter-Search-Feb-23-2017-12-25-2400000' scheduled.\n",
        "[INFO] graphlab.deploy.job: Validating job.\n",
        "[INFO] graphlab.deploy.map_job: A job with name 'Model-Parameter-Search-Feb-23-2017-12-25-2400000' already exists. Renaming the job to 'Model-Parameter-Search-Feb-23-2017-12-25-2400000-66ccc'.\n",
        "[INFO] graphlab.deploy.map_job: Validation complete. Job: 'Model-Parameter-Search-Feb-23-2017-12-25-2400000-66ccc' ready for execution\n",
        "[INFO] graphlab.deploy.map_job: Job: 'Model-Parameter-Search-Feb-23-2017-12-25-2400000-66ccc' scheduled.\n",
        "[INFO] graphlab.deploy.job: Validating job.\n",
        "[INFO] graphlab.deploy.map_job: Validation complete. Job: 'Model-Parameter-Search-Feb-23-2017-12-25-2400001' ready for execution\n",
        "[INFO] graphlab.deploy.map_job: Job: 'Model-Parameter-Search-Feb-23-2017-12-25-2400001' scheduled.\n",
        "[INFO] graphlab.deploy.job: Validating job.\n",
        "[INFO] graphlab.deploy.map_job: Validation complete. Job: 'Model-Parameter-Search-Feb-23-2017-12-25-2400002' ready for execution\n",
        "[INFO] graphlab.deploy.map_job: Job: 'Model-Parameter-Search-Feb-23-2017-12-25-2400002' scheduled.\n"
       ]
      }
     ],
     "prompt_number": 37
    },
    {
     "cell_type": "code",
     "collapsed": false,
     "input": [
      "## Identify optimal parameters form grid search\n",
      "TEM1_paramSearch.get_best_params()"
     ],
     "language": "python",
     "metadata": {
      "deletable": true,
      "editable": true,
      "scrolled": true
     },
     "outputs": [
      {
       "metadata": {},
       "output_type": "pyout",
       "prompt_number": 38,
       "text": [
        "{'column_subsample': 0.6,\n",
        " 'features': ['aa1',\n",
        "  'aa2',\n",
        "  'wt_mut',\n",
        "  'aa1_polarity',\n",
        "  'aa2_polarity',\n",
        "  'aa1_PI',\n",
        "  'aa2_PI',\n",
        "  'deltaPI',\n",
        "  'Grantham',\n",
        "  'aa1_weight',\n",
        "  'aa2_weight',\n",
        "  'deltaWeight',\n",
        "  'aa1vol',\n",
        "  'aa2vol',\n",
        "  'deltavolume',\n",
        "  'aa1_psic',\n",
        "  'aa2_psic',\n",
        "  'delta_psic',\n",
        "  'accessibility',\n",
        "  'dssp_sec_str',\n",
        "  'phi_psi_reg',\n",
        "  'delta_solvent_accessibility',\n",
        "  'b_factor',\n",
        "  'mut_msa_congruency',\n",
        "  'mut_mut_msa_congruency',\n",
        "  'seq_ind_closest_mut',\n",
        "  'selection_coefficient',\n",
        "  'evolutionary_coupling_avg'],\n",
        " 'max_depth': 5,\n",
        " 'max_iterations': 50,\n",
        " 'min_child_weight': 1,\n",
        " 'min_loss_reduction': 0,\n",
        " 'row_subsample': 0.6,\n",
        " 'step_size': 0.1,\n",
        " 'target': 'scaled_effect1'}"
       ]
      }
     ],
     "prompt_number": 38
    },
    {
     "cell_type": "code",
     "collapsed": false,
     "input": [
      "## Perform next round of hyperparameter tuning\n",
      "## Optimize min_child_weight and max_depth\n",
      "params = dict([('target', 'scaled_effect1'), ('max_depth', [2, 6, 10, 25, 50] ), ('max_iterations' , 50), \n",
      "               ('column_subsample' , .6), ('row_subsample' , .6), ('min_child_weight' , [2, 6, 10, 25, 50]), \n",
      "               ('min_loss_reduction' , 0), ('step_size' , 0.1), ('features' , [predictors3])])\n",
      "TEM1_paramSearch1 = gl.model_parameter_search.grid_search.create(folds, gl.boosted_trees_regression.create, params)"
     ],
     "language": "python",
     "metadata": {
      "deletable": true,
      "editable": true
     },
     "outputs": [
      {
       "output_type": "stream",
       "stream": "stderr",
       "text": [
        "[INFO] graphlab.deploy.job: Validating job.\n",
        "[INFO] graphlab.deploy.map_job: Validation complete. Job: 'Model-Parameter-Search-Feb-23-2017-12-28-4600000' ready for execution\n",
        "[INFO] graphlab.deploy.map_job: Job: 'Model-Parameter-Search-Feb-23-2017-12-28-4600000' scheduled.\n",
        "[INFO] graphlab.deploy.job: Validating job.\n",
        "[INFO] graphlab.deploy.map_job: A job with name 'Model-Parameter-Search-Feb-23-2017-12-28-4600000' already exists. Renaming the job to 'Model-Parameter-Search-Feb-23-2017-12-28-4600000-fd1e1'.\n",
        "[INFO] graphlab.deploy.map_job: Validation complete. Job: 'Model-Parameter-Search-Feb-23-2017-12-28-4600000-fd1e1' ready for execution\n",
        "[INFO] graphlab.deploy.map_job: Job: 'Model-Parameter-Search-Feb-23-2017-12-28-4600000-fd1e1' scheduled.\n",
        "[INFO] graphlab.deploy.job: Validating job.\n",
        "[INFO] graphlab.deploy.map_job: Validation complete. Job: 'Model-Parameter-Search-Feb-23-2017-12-28-4600001' ready for execution\n",
        "[INFO] graphlab.deploy.map_job: Job: 'Model-Parameter-Search-Feb-23-2017-12-28-4600001' scheduled.\n",
        "[INFO] graphlab.deploy.job: Validating job.\n",
        "[INFO] graphlab.deploy.map_job: Validation complete. Job: 'Model-Parameter-Search-Feb-23-2017-12-28-4600002' ready for execution\n",
        "[INFO] graphlab.deploy.map_job: Job: 'Model-Parameter-Search-Feb-23-2017-12-28-4600002' scheduled.\n"
       ]
      }
     ],
     "prompt_number": 39
    },
    {
     "cell_type": "code",
     "collapsed": false,
     "input": [
      "TEM1_paramSearch1.get_best_params()"
     ],
     "language": "python",
     "metadata": {
      "deletable": true,
      "editable": true,
      "scrolled": true
     },
     "outputs": [
      {
       "metadata": {},
       "output_type": "pyout",
       "prompt_number": 40,
       "text": [
        "{'column_subsample': 0.6,\n",
        " 'features': ['aa1',\n",
        "  'aa2',\n",
        "  'wt_mut',\n",
        "  'aa1_polarity',\n",
        "  'aa2_polarity',\n",
        "  'aa1_PI',\n",
        "  'aa2_PI',\n",
        "  'deltaPI',\n",
        "  'Grantham',\n",
        "  'aa1_weight',\n",
        "  'aa2_weight',\n",
        "  'deltaWeight',\n",
        "  'aa1vol',\n",
        "  'aa2vol',\n",
        "  'deltavolume',\n",
        "  'aa1_psic',\n",
        "  'aa2_psic',\n",
        "  'delta_psic',\n",
        "  'accessibility',\n",
        "  'dssp_sec_str',\n",
        "  'phi_psi_reg',\n",
        "  'delta_solvent_accessibility',\n",
        "  'b_factor',\n",
        "  'mut_msa_congruency',\n",
        "  'mut_mut_msa_congruency',\n",
        "  'seq_ind_closest_mut',\n",
        "  'selection_coefficient',\n",
        "  'evolutionary_coupling_avg'],\n",
        " 'max_depth': 25,\n",
        " 'max_iterations': 50,\n",
        " 'min_child_weight': 10,\n",
        " 'min_loss_reduction': 0,\n",
        " 'row_subsample': 0.6,\n",
        " 'step_size': 0.1,\n",
        " 'target': 'scaled_effect1'}"
       ]
      }
     ],
     "prompt_number": 40
    },
    {
     "cell_type": "code",
     "collapsed": false,
     "input": [
      "## Third round of hyperparameter tuning\n",
      "## Optimize min_loss_reduction\n",
      "params = dict([('target', 'scaled_effect1'), ('max_depth',25), ('max_iterations' , 50), \n",
      "               ('column_subsample' , .6), ('row_subsample' , .6), ('min_child_weight' ,10 ), \n",
      "               ('min_loss_reduction' , [0, 0.1, 0.2, 0.3, 0.4, 0.5]), ('step_size' , 0.1), ('features' , [predictors3])])\n",
      "TEM1_paramSearch2 = gl.model_parameter_search.grid_search.create(folds, gl.boosted_trees_regression.create, params)"
     ],
     "language": "python",
     "metadata": {
      "deletable": true,
      "editable": true
     },
     "outputs": [
      {
       "output_type": "stream",
       "stream": "stderr",
       "text": [
        "[INFO] graphlab.deploy.job: Validating job.\n",
        "[INFO] graphlab.deploy.map_job: Validation complete. Job: 'Model-Parameter-Search-Feb-23-2017-13-19-5100000' ready for execution\n",
        "[INFO] graphlab.deploy.map_job: Job: 'Model-Parameter-Search-Feb-23-2017-13-19-5100000' scheduled.\n",
        "[INFO] graphlab.deploy.job: Validating job.\n",
        "[INFO] graphlab.deploy.map_job: A job with name 'Model-Parameter-Search-Feb-23-2017-13-19-5100000' already exists. Renaming the job to 'Model-Parameter-Search-Feb-23-2017-13-19-5100000-c4053'.\n",
        "[INFO] graphlab.deploy.map_job: Validation complete. Job: 'Model-Parameter-Search-Feb-23-2017-13-19-5100000-c4053' ready for execution\n",
        "[INFO] graphlab.deploy.map_job: Job: 'Model-Parameter-Search-Feb-23-2017-13-19-5100000-c4053' scheduled.\n",
        "[INFO] graphlab.deploy.job: Validating job.\n",
        "[INFO] graphlab.deploy.map_job: Validation complete. Job: 'Model-Parameter-Search-Feb-23-2017-13-19-5100001' ready for execution\n",
        "[INFO] graphlab.deploy.map_job: Job: 'Model-Parameter-Search-Feb-23-2017-13-19-5100001' scheduled.\n",
        "[INFO] graphlab.deploy.job: Validating job.\n",
        "[INFO] graphlab.deploy.map_job: Validation complete. Job: 'Model-Parameter-Search-Feb-23-2017-13-19-5100002' ready for execution\n",
        "[INFO] graphlab.deploy.map_job: Job: 'Model-Parameter-Search-Feb-23-2017-13-19-5100002' scheduled.\n"
       ]
      }
     ],
     "prompt_number": 41
    },
    {
     "cell_type": "code",
     "collapsed": false,
     "input": [
      "TEM1_paramSearch2.get_best_params()"
     ],
     "language": "python",
     "metadata": {
      "deletable": true,
      "editable": true,
      "scrolled": true
     },
     "outputs": [
      {
       "metadata": {},
       "output_type": "pyout",
       "prompt_number": 42,
       "text": [
        "{'column_subsample': 0.6,\n",
        " 'features': ['aa1',\n",
        "  'aa2',\n",
        "  'wt_mut',\n",
        "  'aa1_polarity',\n",
        "  'aa2_polarity',\n",
        "  'aa1_PI',\n",
        "  'aa2_PI',\n",
        "  'deltaPI',\n",
        "  'Grantham',\n",
        "  'aa1_weight',\n",
        "  'aa2_weight',\n",
        "  'deltaWeight',\n",
        "  'aa1vol',\n",
        "  'aa2vol',\n",
        "  'deltavolume',\n",
        "  'aa1_psic',\n",
        "  'aa2_psic',\n",
        "  'delta_psic',\n",
        "  'accessibility',\n",
        "  'dssp_sec_str',\n",
        "  'phi_psi_reg',\n",
        "  'delta_solvent_accessibility',\n",
        "  'b_factor',\n",
        "  'mut_msa_congruency',\n",
        "  'mut_mut_msa_congruency',\n",
        "  'seq_ind_closest_mut',\n",
        "  'selection_coefficient',\n",
        "  'evolutionary_coupling_avg'],\n",
        " 'max_depth': 25,\n",
        " 'max_iterations': 50,\n",
        " 'min_child_weight': 10,\n",
        " 'min_loss_reduction': 0,\n",
        " 'row_subsample': 0.6,\n",
        " 'step_size': 0.1,\n",
        " 'target': 'scaled_effect1'}"
       ]
      }
     ],
     "prompt_number": 42
    },
    {
     "cell_type": "code",
     "collapsed": false,
     "input": [
      "## Fourth round of hyperparater tuning. \n",
      "## Optimize column and row subsamples\n",
      "params = dict([('target', 'scaled_effect1'), ('max_depth',25), ('max_iterations' , 50), \n",
      "               ('column_subsample' , [0.6, 0.7, 0.8, 0.9]), ('row_subsample' , [0.6, 0.7, 0.8, 0.9]), ('min_child_weight' ,10 ), \n",
      "               ('min_loss_reduction' ,  0), ('step_size' , 0.1), ('features' , [predictors3])])\n",
      "TEM1_paramSearch3 = gl.model_parameter_search.grid_search.create(folds, gl.boosted_trees_regression.create, params)"
     ],
     "language": "python",
     "metadata": {
      "deletable": true,
      "editable": true
     },
     "outputs": [
      {
       "output_type": "stream",
       "stream": "stderr",
       "text": [
        "[INFO] graphlab.deploy.job: Validating job.\n",
        "[INFO] graphlab.deploy.map_job: Validation complete. Job: 'Model-Parameter-Search-Feb-23-2017-13-35-2100000' ready for execution\n",
        "[INFO] graphlab.deploy.map_job: Job: 'Model-Parameter-Search-Feb-23-2017-13-35-2100000' scheduled.\n",
        "[INFO] graphlab.deploy.job: Validating job.\n",
        "[INFO] graphlab.deploy.map_job: A job with name 'Model-Parameter-Search-Feb-23-2017-13-35-2100000' already exists. Renaming the job to 'Model-Parameter-Search-Feb-23-2017-13-35-2100000-8edd8'.\n",
        "[INFO] graphlab.deploy.map_job: Validation complete. Job: 'Model-Parameter-Search-Feb-23-2017-13-35-2100000-8edd8' ready for execution\n",
        "[INFO] graphlab.deploy.map_job: Job: 'Model-Parameter-Search-Feb-23-2017-13-35-2100000-8edd8' scheduled.\n",
        "[INFO] graphlab.deploy.job: Validating job.\n",
        "[INFO] graphlab.deploy.map_job: Validation complete. Job: 'Model-Parameter-Search-Feb-23-2017-13-35-2100001' ready for execution\n",
        "[INFO] graphlab.deploy.map_job: Job: 'Model-Parameter-Search-Feb-23-2017-13-35-2100001' scheduled.\n",
        "[INFO] graphlab.deploy.job: Validating job.\n",
        "[INFO] graphlab.deploy.map_job: Validation complete. Job: 'Model-Parameter-Search-Feb-23-2017-13-35-2100002' ready for execution\n",
        "[INFO] graphlab.deploy.map_job: Job: 'Model-Parameter-Search-Feb-23-2017-13-35-2100002' scheduled.\n"
       ]
      }
     ],
     "prompt_number": 43
    },
    {
     "cell_type": "code",
     "collapsed": false,
     "input": [
      "TEM1_paramSearch3.get_best_params()"
     ],
     "language": "python",
     "metadata": {
      "deletable": true,
      "editable": true,
      "scrolled": true
     },
     "outputs": [
      {
       "metadata": {},
       "output_type": "pyout",
       "prompt_number": 44,
       "text": [
        "{'column_subsample': 0.6,\n",
        " 'features': ['aa1',\n",
        "  'aa2',\n",
        "  'wt_mut',\n",
        "  'aa1_polarity',\n",
        "  'aa2_polarity',\n",
        "  'aa1_PI',\n",
        "  'aa2_PI',\n",
        "  'deltaPI',\n",
        "  'Grantham',\n",
        "  'aa1_weight',\n",
        "  'aa2_weight',\n",
        "  'deltaWeight',\n",
        "  'aa1vol',\n",
        "  'aa2vol',\n",
        "  'deltavolume',\n",
        "  'aa1_psic',\n",
        "  'aa2_psic',\n",
        "  'delta_psic',\n",
        "  'accessibility',\n",
        "  'dssp_sec_str',\n",
        "  'phi_psi_reg',\n",
        "  'delta_solvent_accessibility',\n",
        "  'b_factor',\n",
        "  'mut_msa_congruency',\n",
        "  'mut_mut_msa_congruency',\n",
        "  'seq_ind_closest_mut',\n",
        "  'selection_coefficient',\n",
        "  'evolutionary_coupling_avg'],\n",
        " 'max_depth': 25,\n",
        " 'max_iterations': 50,\n",
        " 'min_child_weight': 10,\n",
        " 'min_loss_reduction': 0,\n",
        " 'row_subsample': 0.7,\n",
        " 'step_size': 0.1,\n",
        " 'target': 'scaled_effect1'}"
       ]
      }
     ],
     "prompt_number": 44
    },
    {
     "cell_type": "code",
     "collapsed": false,
     "input": [
      "## Hyperparameters have been optimized \n",
      "## Split data into training and testing\n",
      "train_data, test_data = beta_lact_data3.random_split(0.8)\n",
      "\n",
      "## Train model\n",
      "TEM1_regression_model = gl.boosted_trees_regression.create(train_data, 'scaled_effect1', \n",
      "                features = predictors3, max_iterations = 250, \n",
      "                column_subsample= 0.6, row_subsample =0.7,\n",
      "                min_child_weight = 50, min_loss_reduction = 0, step_size = 0.01,\n",
      "                max_depth = 25)"
     ],
     "language": "python",
     "metadata": {
      "deletable": true,
      "editable": true,
      "scrolled": true
     },
     "outputs": [
      {
       "output_type": "stream",
       "stream": "stdout",
       "text": [
        "PROGRESS: Creating a validation set from 5 percent of training data. This may take a while.\n",
        "          You can set ``validation_set=None`` to disable validation tracking.\n",
        "\n"
       ]
      },
      {
       "html": [
        "<pre>Boosted trees regression:</pre>"
       ],
       "metadata": {},
       "output_type": "display_data",
       "text": [
        "Boosted trees regression:"
       ]
      },
      {
       "html": [
        "<pre>--------------------------------------------------------</pre>"
       ],
       "metadata": {},
       "output_type": "display_data",
       "text": [
        "--------------------------------------------------------"
       ]
      },
      {
       "html": [
        "<pre>Number of examples          : 23127</pre>"
       ],
       "metadata": {},
       "output_type": "display_data",
       "text": [
        "Number of examples          : 23127"
       ]
      },
      {
       "html": [
        "<pre>Number of features          : 28</pre>"
       ],
       "metadata": {},
       "output_type": "display_data",
       "text": [
        "Number of features          : 28"
       ]
      },
      {
       "html": [
        "<pre>Number of unpacked features : 28</pre>"
       ],
       "metadata": {},
       "output_type": "display_data",
       "text": [
        "Number of unpacked features : 28"
       ]
      },
      {
       "html": [
        "<pre>+-----------+--------------+--------------------+----------------------+---------------+-----------------+</pre>"
       ],
       "metadata": {},
       "output_type": "display_data",
       "text": [
        "+-----------+--------------+--------------------+----------------------+---------------+-----------------+"
       ]
      },
      {
       "html": [
        "<pre>| Iteration | Elapsed Time | Training-max_error | Validation-max_error | Training-rmse | Validation-rmse |</pre>"
       ],
       "metadata": {},
       "output_type": "display_data",
       "text": [
        "| Iteration | Elapsed Time | Training-max_error | Validation-max_error | Training-rmse | Validation-rmse |"
       ]
      },
      {
       "html": [
        "<pre>+-----------+--------------+--------------------+----------------------+---------------+-----------------+</pre>"
       ],
       "metadata": {},
       "output_type": "display_data",
       "text": [
        "+-----------+--------------+--------------------+----------------------+---------------+-----------------+"
       ]
      },
      {
       "html": [
        "<pre>| 1         | 0.296376     | 3.397326           | 1.513687             | 0.439130      | 0.442206        |</pre>"
       ],
       "metadata": {},
       "output_type": "display_data",
       "text": [
        "| 1         | 0.296376     | 3.397326           | 1.513687             | 0.439130      | 0.442206        |"
       ]
      },
      {
       "html": [
        "<pre>| 2         | 0.723270     | 3.390073           | 1.506434             | 0.435796      | 0.438807        |</pre>"
       ],
       "metadata": {},
       "output_type": "display_data",
       "text": [
        "| 2         | 0.723270     | 3.390073           | 1.506434             | 0.435796      | 0.438807        |"
       ]
      },
      {
       "html": [
        "<pre>| 3         | 1.047779     | 3.384120           | 1.500481             | 0.432546      | 0.435522        |</pre>"
       ],
       "metadata": {},
       "output_type": "display_data",
       "text": [
        "| 3         | 1.047779     | 3.384120           | 1.500481             | 0.432546      | 0.435522        |"
       ]
      },
      {
       "html": [
        "<pre>| 4         | 1.314223     | 3.378755           | 1.495859             | 0.429590      | 0.432533        |</pre>"
       ],
       "metadata": {},
       "output_type": "display_data",
       "text": [
        "| 4         | 1.314223     | 3.378755           | 1.495859             | 0.429590      | 0.432533        |"
       ]
      },
      {
       "html": [
        "<pre>| 5         | 1.593860     | 3.374161           | 1.491266             | 0.426356      | 0.429310        |</pre>"
       ],
       "metadata": {},
       "output_type": "display_data",
       "text": [
        "| 5         | 1.593860     | 3.374161           | 1.491266             | 0.426356      | 0.429310        |"
       ]
      },
      {
       "html": [
        "<pre>| 6         | 1.844089     | 3.369460           | 1.486565             | 0.423436      | 0.426422        |</pre>"
       ],
       "metadata": {},
       "output_type": "display_data",
       "text": [
        "| 6         | 1.844089     | 3.369460           | 1.486565             | 0.423436      | 0.426422        |"
       ]
      },
      {
       "html": [
        "<pre>| 10        | 2.739317     | 3.353243           | 1.472531             | 0.411843      | 0.414834        |</pre>"
       ],
       "metadata": {},
       "output_type": "display_data",
       "text": [
        "| 10        | 2.739317     | 3.353243           | 1.472531             | 0.411843      | 0.414834        |"
       ]
      },
      {
       "html": [
        "<pre>| 11        | 2.936227     | 3.346495           | 1.465783             | 0.408788      | 0.411726        |</pre>"
       ],
       "metadata": {},
       "output_type": "display_data",
       "text": [
        "| 11        | 2.936227     | 3.346495           | 1.465783             | 0.408788      | 0.411726        |"
       ]
      },
      {
       "html": [
        "<pre>| 15        | 3.671776     | 3.327232           | 1.448300             | 0.397869      | 0.400696        |</pre>"
       ],
       "metadata": {},
       "output_type": "display_data",
       "text": [
        "| 15        | 3.671776     | 3.327232           | 1.448300             | 0.397869      | 0.400696        |"
       ]
      },
      {
       "html": [
        "<pre>| 20        | 4.487856     | 3.302752           | 1.426110             | 0.384226      | 0.387086        |</pre>"
       ],
       "metadata": {},
       "output_type": "display_data",
       "text": [
        "| 20        | 4.487856     | 3.302752           | 1.426110             | 0.384226      | 0.387086        |"
       ]
      },
      {
       "html": [
        "<pre>| 25        | 5.158857     | 3.280334           | 1.405625             | 0.371922      | 0.374783        |</pre>"
       ],
       "metadata": {},
       "output_type": "display_data",
       "text": [
        "| 25        | 5.158857     | 3.280334           | 1.405625             | 0.371922      | 0.374783        |"
       ]
      },
      {
       "html": [
        "<pre>| 30        | 5.873859     | 3.257804           | 1.387472             | 0.359285      | 0.362184        |</pre>"
       ],
       "metadata": {},
       "output_type": "display_data",
       "text": [
        "| 30        | 5.873859     | 3.257804           | 1.387472             | 0.359285      | 0.362184        |"
       ]
      },
      {
       "html": [
        "<pre>| 35        | 6.458033     | 3.233241           | 1.362908             | 0.347946      | 0.350819        |</pre>"
       ],
       "metadata": {},
       "output_type": "display_data",
       "text": [
        "| 35        | 6.458033     | 3.233241           | 1.362908             | 0.347946      | 0.350819        |"
       ]
      },
      {
       "html": [
        "<pre>| 40        | 6.956024     | 3.212977           | 1.345065             | 0.337264      | 0.340209        |</pre>"
       ],
       "metadata": {},
       "output_type": "display_data",
       "text": [
        "| 40        | 6.956024     | 3.212977           | 1.345065             | 0.337264      | 0.340209        |"
       ]
      },
      {
       "html": [
        "<pre>| 45        | 7.480960     | 3.194465           | 1.327515             | 0.327171      | 0.330186        |</pre>"
       ],
       "metadata": {},
       "output_type": "display_data",
       "text": [
        "| 45        | 7.480960     | 3.194465           | 1.327515             | 0.327171      | 0.330186        |"
       ]
      },
      {
       "html": [
        "<pre>| 50        | 8.009159     | 3.175702           | 1.309953             | 0.317159      | 0.320254        |</pre>"
       ],
       "metadata": {},
       "output_type": "display_data",
       "text": [
        "| 50        | 8.009159     | 3.175702           | 1.309953             | 0.317159      | 0.320254        |"
       ]
      },
      {
       "html": [
        "<pre>| 51        | 8.116463     | 3.171373           | 1.305624             | 0.315233      | 0.318393        |</pre>"
       ],
       "metadata": {},
       "output_type": "display_data",
       "text": [
        "| 51        | 8.116463     | 3.171373           | 1.305624             | 0.315233      | 0.318393        |"
       ]
      },
      {
       "html": [
        "<pre>| 55        | 8.578039     | 3.157582           | 1.293503             | 0.307990      | 0.311168        |</pre>"
       ],
       "metadata": {},
       "output_type": "display_data",
       "text": [
        "| 55        | 8.578039     | 3.157582           | 1.293503             | 0.307990      | 0.311168        |"
       ]
      },
      {
       "html": [
        "<pre>| 60        | 9.328843     | 3.142230           | 1.281111             | 0.299602      | 0.302957        |</pre>"
       ],
       "metadata": {},
       "output_type": "display_data",
       "text": [
        "| 60        | 9.328843     | 3.142230           | 1.281111             | 0.299602      | 0.302957        |"
       ]
      },
      {
       "html": [
        "<pre>| 65        | 10.145641    | 3.124591           | 1.265535             | 0.291269      | 0.294819        |</pre>"
       ],
       "metadata": {},
       "output_type": "display_data",
       "text": [
        "| 65        | 10.145641    | 3.124591           | 1.265535             | 0.291269      | 0.294819        |"
       ]
      },
      {
       "html": [
        "<pre>| 70        | 10.796543    | 3.105892           | 1.247641             | 0.283574      | 0.287307        |</pre>"
       ],
       "metadata": {},
       "output_type": "display_data",
       "text": [
        "| 70        | 10.796543    | 3.105892           | 1.247641             | 0.283574      | 0.287307        |"
       ]
      },
      {
       "html": [
        "<pre>| 75        | 11.334246    | 3.088942           | 1.230690             | 0.276377      | 0.280303        |</pre>"
       ],
       "metadata": {},
       "output_type": "display_data",
       "text": [
        "| 75        | 11.334246    | 3.088942           | 1.230690             | 0.276377      | 0.280303        |"
       ]
      },
      {
       "html": [
        "<pre>| 80        | 11.872266    | 3.075529           | 1.218890             | 0.269580      | 0.273801        |</pre>"
       ],
       "metadata": {},
       "output_type": "display_data",
       "text": [
        "| 80        | 11.872266    | 3.075529           | 1.218890             | 0.269580      | 0.273801        |"
       ]
      },
      {
       "html": [
        "<pre>| 85        | 12.407665    | 3.058933           | 1.202294             | 0.262848      | 0.267272        |</pre>"
       ],
       "metadata": {},
       "output_type": "display_data",
       "text": [
        "| 85        | 12.407665    | 3.058933           | 1.202294             | 0.262848      | 0.267272        |"
       ]
      },
      {
       "html": [
        "<pre>| 90        | 12.975517    | 3.044957           | 1.190433             | 0.256741      | 0.261380        |</pre>"
       ],
       "metadata": {},
       "output_type": "display_data",
       "text": [
        "| 90        | 12.975517    | 3.044957           | 1.190433             | 0.256741      | 0.261380        |"
       ]
      },
      {
       "html": [
        "<pre>| 95        | 13.523118    | 3.031032           | 1.178435             | 0.250833      | 0.255731        |</pre>"
       ],
       "metadata": {},
       "output_type": "display_data",
       "text": [
        "| 95        | 13.523118    | 3.031032           | 1.178435             | 0.250833      | 0.255731        |"
       ]
      },
      {
       "html": [
        "<pre>| 100       | 14.107887    | 3.017752           | 1.165156             | 0.245491      | 0.250515        |</pre>"
       ],
       "metadata": {},
       "output_type": "display_data",
       "text": [
        "| 100       | 14.107887    | 3.017752           | 1.165156             | 0.245491      | 0.250515        |"
       ]
      },
      {
       "html": [
        "<pre>| 101       | 14.199973    | 3.016339           | 1.165788             | 0.244600      | 0.249682        |</pre>"
       ],
       "metadata": {},
       "output_type": "display_data",
       "text": [
        "| 101       | 14.199973    | 3.016339           | 1.165788             | 0.244600      | 0.249682        |"
       ]
      },
      {
       "html": [
        "<pre>| 105       | 14.636889    | 3.009054           | 1.160988             | 0.240877      | 0.246150        |</pre>"
       ],
       "metadata": {},
       "output_type": "display_data",
       "text": [
        "| 105       | 14.636889    | 3.009054           | 1.160988             | 0.240877      | 0.246150        |"
       ]
      },
      {
       "html": [
        "<pre>| 110       | 15.191933    | 2.997204           | 1.152860             | 0.236306      | 0.241839        |</pre>"
       ],
       "metadata": {},
       "output_type": "display_data",
       "text": [
        "| 110       | 15.191933    | 2.997204           | 1.152860             | 0.236306      | 0.241839        |"
       ]
      },
      {
       "html": [
        "<pre>| 115       | 15.746156    | 2.983540           | 1.160416             | 0.231684      | 0.237393        |</pre>"
       ],
       "metadata": {},
       "output_type": "display_data",
       "text": [
        "| 115       | 15.746156    | 2.983540           | 1.160416             | 0.231684      | 0.237393        |"
       ]
      },
      {
       "html": [
        "<pre>| 120       | 16.350261    | 2.972925           | 1.165905             | 0.227528      | 0.233445        |</pre>"
       ],
       "metadata": {},
       "output_type": "display_data",
       "text": [
        "| 120       | 16.350261    | 2.972925           | 1.165905             | 0.227528      | 0.233445        |"
       ]
      },
      {
       "html": [
        "<pre>| 125       | 16.954941    | 2.961856           | 1.173174             | 0.223554      | 0.229724        |</pre>"
       ],
       "metadata": {},
       "output_type": "display_data",
       "text": [
        "| 125       | 16.954941    | 2.961856           | 1.173174             | 0.223554      | 0.229724        |"
       ]
      },
      {
       "html": [
        "<pre>| 130       | 17.564432    | 2.950116           | 1.181908             | 0.219753      | 0.226262        |</pre>"
       ],
       "metadata": {},
       "output_type": "display_data",
       "text": [
        "| 130       | 17.564432    | 2.950116           | 1.181908             | 0.219753      | 0.226262        |"
       ]
      },
      {
       "html": [
        "<pre>| 135       | 18.185662    | 2.941018           | 1.188127             | 0.216256      | 0.223047        |</pre>"
       ],
       "metadata": {},
       "output_type": "display_data",
       "text": [
        "| 135       | 18.185662    | 2.941018           | 1.188127             | 0.216256      | 0.223047        |"
       ]
      },
      {
       "html": [
        "<pre>| 140       | 18.766434    | 2.931412           | 1.194557             | 0.212776      | 0.219752        |</pre>"
       ],
       "metadata": {},
       "output_type": "display_data",
       "text": [
        "| 140       | 18.766434    | 2.931412           | 1.194557             | 0.212776      | 0.219752        |"
       ]
      },
      {
       "html": [
        "<pre>| 145       | 19.444682    | 2.918147           | 1.201743             | 0.209288      | 0.216527        |</pre>"
       ],
       "metadata": {},
       "output_type": "display_data",
       "text": [
        "| 145       | 19.444682    | 2.918147           | 1.201743             | 0.209288      | 0.216527        |"
       ]
      },
      {
       "html": [
        "<pre>| 150       | 20.064706    | 2.910932           | 1.207709             | 0.206174      | 0.213781        |</pre>"
       ],
       "metadata": {},
       "output_type": "display_data",
       "text": [
        "| 150       | 20.064706    | 2.910932           | 1.207709             | 0.206174      | 0.213781        |"
       ]
      },
      {
       "html": [
        "<pre>| 155       | 20.677620    | 2.899965           | 1.213580             | 0.203425      | 0.211326        |</pre>"
       ],
       "metadata": {},
       "output_type": "display_data",
       "text": [
        "| 155       | 20.677620    | 2.899965           | 1.213580             | 0.203425      | 0.211326        |"
       ]
      },
      {
       "html": [
        "<pre>| 160       | 21.286900    | 2.890565           | 1.220492             | 0.200243      | 0.208422        |</pre>"
       ],
       "metadata": {},
       "output_type": "display_data",
       "text": [
        "| 160       | 21.286900    | 2.890565           | 1.220492             | 0.200243      | 0.208422        |"
       ]
      },
      {
       "html": [
        "<pre>| 165       | 21.886423    | 2.875980           | 1.227638             | 0.197439      | 0.205951        |</pre>"
       ],
       "metadata": {},
       "output_type": "display_data",
       "text": [
        "| 165       | 21.886423    | 2.875980           | 1.227638             | 0.197439      | 0.205951        |"
       ]
      },
      {
       "html": [
        "<pre>| 170       | 22.540456    | 2.861600           | 1.231243             | 0.194752      | 0.203604        |</pre>"
       ],
       "metadata": {},
       "output_type": "display_data",
       "text": [
        "| 170       | 22.540456    | 2.861600           | 1.231243             | 0.194752      | 0.203604        |"
       ]
      },
      {
       "html": [
        "<pre>| 175       | 23.241470    | 2.854548           | 1.235980             | 0.192302      | 0.201414        |</pre>"
       ],
       "metadata": {},
       "output_type": "display_data",
       "text": [
        "| 175       | 23.241470    | 2.854548           | 1.235980             | 0.192302      | 0.201414        |"
       ]
      },
      {
       "html": [
        "<pre>| 180       | 23.847285    | 2.842342           | 1.243806             | 0.189994      | 0.199390        |</pre>"
       ],
       "metadata": {},
       "output_type": "display_data",
       "text": [
        "| 180       | 23.847285    | 2.842342           | 1.243806             | 0.189994      | 0.199390        |"
       ]
      },
      {
       "html": [
        "<pre>| 185       | 24.498535    | 2.834017           | 1.248204             | 0.187783      | 0.197431        |</pre>"
       ],
       "metadata": {},
       "output_type": "display_data",
       "text": [
        "| 185       | 24.498535    | 2.834017           | 1.248204             | 0.187783      | 0.197431        |"
       ]
      },
      {
       "html": [
        "<pre>| 190       | 25.174502    | 2.826901           | 1.252396             | 0.185873      | 0.195754        |</pre>"
       ],
       "metadata": {},
       "output_type": "display_data",
       "text": [
        "| 190       | 25.174502    | 2.826901           | 1.252396             | 0.185873      | 0.195754        |"
       ]
      },
      {
       "html": [
        "<pre>| 195       | 25.785740    | 2.817857           | 1.256364             | 0.183938      | 0.194157        |</pre>"
       ],
       "metadata": {},
       "output_type": "display_data",
       "text": [
        "| 195       | 25.785740    | 2.817857           | 1.256364             | 0.183938      | 0.194157        |"
       ]
      },
      {
       "html": [
        "<pre>| 200       | 26.401602    | 2.807327           | 1.259433             | 0.182079      | 0.192610        |</pre>"
       ],
       "metadata": {},
       "output_type": "display_data",
       "text": [
        "| 200       | 26.401602    | 2.807327           | 1.259433             | 0.182079      | 0.192610        |"
       ]
      },
      {
       "html": [
        "<pre>| 205       | 26.986765    | 2.798775           | 1.263932             | 0.180266      | 0.191178        |</pre>"
       ],
       "metadata": {},
       "output_type": "display_data",
       "text": [
        "| 205       | 26.986765    | 2.798775           | 1.263932             | 0.180266      | 0.191178        |"
       ]
      },
      {
       "html": [
        "<pre>| 210       | 27.614054    | 2.789348           | 1.265845             | 0.178579      | 0.189775        |</pre>"
       ],
       "metadata": {},
       "output_type": "display_data",
       "text": [
        "| 210       | 27.614054    | 2.789348           | 1.265845             | 0.178579      | 0.189775        |"
       ]
      },
      {
       "html": [
        "<pre>| 215       | 28.290982    | 2.782750           | 1.268680             | 0.176864      | 0.188374        |</pre>"
       ],
       "metadata": {},
       "output_type": "display_data",
       "text": [
        "| 215       | 28.290982    | 2.782750           | 1.268680             | 0.176864      | 0.188374        |"
       ]
      },
      {
       "html": [
        "<pre>| 220       | 28.939470    | 2.773851           | 1.270056             | 0.175314      | 0.187024        |</pre>"
       ],
       "metadata": {},
       "output_type": "display_data",
       "text": [
        "| 220       | 28.939470    | 2.773851           | 1.270056             | 0.175314      | 0.187024        |"
       ]
      },
      {
       "html": [
        "<pre>| 225       | 29.568355    | 2.765927           | 1.272601             | 0.173828      | 0.185782        |</pre>"
       ],
       "metadata": {},
       "output_type": "display_data",
       "text": [
        "| 225       | 29.568355    | 2.765927           | 1.272601             | 0.173828      | 0.185782        |"
       ]
      },
      {
       "html": [
        "<pre>| 230       | 30.201163    | 2.756871           | 1.276440             | 0.172315      | 0.184459        |</pre>"
       ],
       "metadata": {},
       "output_type": "display_data",
       "text": [
        "| 230       | 30.201163    | 2.756871           | 1.276440             | 0.172315      | 0.184459        |"
       ]
      },
      {
       "html": [
        "<pre>| 235       | 30.834572    | 2.747509           | 1.280027             | 0.170922      | 0.183381        |</pre>"
       ],
       "metadata": {},
       "output_type": "display_data",
       "text": [
        "| 235       | 30.834572    | 2.747509           | 1.280027             | 0.170922      | 0.183381        |"
       ]
      },
      {
       "html": [
        "<pre>| 240       | 31.505852    | 2.737532           | 1.283301             | 0.169510      | 0.182265        |</pre>"
       ],
       "metadata": {},
       "output_type": "display_data",
       "text": [
        "| 240       | 31.505852    | 2.737532           | 1.283301             | 0.169510      | 0.182265        |"
       ]
      },
      {
       "html": [
        "<pre>| 245       | 32.104467    | 2.731026           | 1.287429             | 0.168117      | 0.181062        |</pre>"
       ],
       "metadata": {},
       "output_type": "display_data",
       "text": [
        "| 245       | 32.104467    | 2.731026           | 1.287429             | 0.168117      | 0.181062        |"
       ]
      },
      {
       "html": [
        "<pre>| 250       | 32.785865    | 2.721125           | 1.291704             | 0.166814      | 0.180044        |</pre>"
       ],
       "metadata": {},
       "output_type": "display_data",
       "text": [
        "| 250       | 32.785865    | 2.721125           | 1.291704             | 0.166814      | 0.180044        |"
       ]
      },
      {
       "html": [
        "<pre>+-----------+--------------+--------------------+----------------------+---------------+-----------------+</pre>"
       ],
       "metadata": {},
       "output_type": "display_data",
       "text": [
        "+-----------+--------------+--------------------+----------------------+---------------+-----------------+"
       ]
      }
     ],
     "prompt_number": 18
    },
    {
     "cell_type": "code",
     "collapsed": false,
     "input": [
      "## Measure model performance on testing data w/ Pearson and Spearman CC\n",
      "pred = TEM1_regression_model.predict(test_data)\n",
      "stats.pearsonr(pred, test_data['scaled_effect1'])\n",
      "stats.spearmanr(pred, test_data['scaled_effect1'])\n",
      "#sqrt(mean_squared_error(pred,test_data['scaled_effect1']))"
     ],
     "language": "python",
     "metadata": {
      "deletable": true,
      "editable": true
     },
     "outputs": [
      {
       "metadata": {},
       "output_type": "pyout",
       "prompt_number": 19,
       "text": [
        "(0.72028559096342093, 0.0)"
       ]
      }
     ],
     "prompt_number": 19
    },
    {
     "cell_type": "code",
     "collapsed": false,
     "input": [
      "## Measure model performance on testing data w/ Pearson and Spearman CC\n",
      "pred = TEM1_regression_model.predict(train_data)\n",
      "stats.pearsonr(pred, train_data['scaled_effect1'])\n",
      "stats.spearmanr(pred, train_data['scaled_effect1'])\n",
      "#sqrt(mean_squared_error(pred,test_data['scaled_effect1']))"
     ],
     "language": "python",
     "metadata": {
      "deletable": true,
      "editable": true
     },
     "outputs": [
      {
       "metadata": {},
       "output_type": "pyout",
       "prompt_number": 21,
       "text": [
        "(0.76221371481599764, 0.0)"
       ]
      }
     ],
     "prompt_number": 21
    },
    {
     "cell_type": "code",
     "collapsed": true,
     "input": [
      "## Save the model\n",
      "pickler = gl._gl_pickle.GLPickler(filename = '/net/fowler/vol1/home/vegray/metaDMS/dato/singleModels/scaled_TEM1_2017-01-05')\n",
      "pickler.dump(TEM1_regression_model)\n",
      "pickler.close()"
     ],
     "language": "python",
     "metadata": {
      "deletable": true,
      "editable": true
     },
     "outputs": [],
     "prompt_number": null
    },
    {
     "cell_type": "code",
     "collapsed": true,
     "input": [
      "unpickler = gl._gl_pickle.GLUnpickler(filename = '/net/fowler/vol1/home/vegray/metaDMS/dato/singleModels/scaled_TEM1_2017-01-05')\n",
      "TEM1_regression_model = unpickler.load()\n",
      "unpickler.close()"
     ],
     "language": "python",
     "metadata": {},
     "outputs": [],
     "prompt_number": 71
    },
    {
     "cell_type": "code",
     "collapsed": false,
     "input": [
      "## Save beta lactamase prediction data for supplementary table\n",
      "\n",
      "beta_lact_pred_data = pred_data.filter_by([x for x in pred_data['protein'].unique() if x in ['TEM-1']], 'protein')\n",
      "\n",
      "predicted_beta_lact = TEM1_regression_model.predict(beta_lact_pred_data)\n",
      "beta_lact_pred_data2 = beta_lact_pred_data.add_column(predicted_beta_lact , name = 'predictions')\n",
      "\n",
      "beta_lact_pred_data2.export_csv(filename = '/net/fowler/vol1/home/vegray/metaDMS/dato/singleModels/beta_lact_out.csv')"
     ],
     "language": "python",
     "metadata": {},
     "outputs": [],
     "prompt_number": 74
    },
    {
     "cell_type": "heading",
     "level": 1,
     "metadata": {
      "deletable": true,
      "editable": true
     },
     "source": [
      "kka2_1:2"
     ]
    },
    {
     "cell_type": "code",
     "collapsed": false,
     "input": [
      "kka2_data = data.filter_by([x for x in data['dms_id'].unique() if x in ['kka2_1:2']], 'dms_id')\n",
      "kka2_data2 = kka2_data.filter_by([x for x in kka2_data['mut_type'].unique() if x in ['missense']], 'mut_type')\n",
      "kka2_data2 = kka2_data2.add_row_number('id',0)"
     ],
     "language": "python",
     "metadata": {
      "deletable": true,
      "editable": true
     },
     "outputs": [
      {
       "ename": "RuntimeError",
       "evalue": "Column 'id' already exists in the current SFrame",
       "output_type": "pyerr",
       "traceback": [
        "\u001b[0;31m---------------------------------------------------------------------------\u001b[0m",
        "\u001b[0;31mRuntimeError\u001b[0m                              Traceback (most recent call last)",
        "\u001b[0;32m<ipython-input-22-0b518869b322>\u001b[0m in \u001b[0;36m<module>\u001b[0;34m()\u001b[0m\n\u001b[1;32m      1\u001b[0m \u001b[0mkka2_data\u001b[0m \u001b[0;34m=\u001b[0m \u001b[0mdata\u001b[0m\u001b[0;34m.\u001b[0m\u001b[0mfilter_by\u001b[0m\u001b[0;34m(\u001b[0m\u001b[0;34m[\u001b[0m\u001b[0mx\u001b[0m \u001b[0;32mfor\u001b[0m \u001b[0mx\u001b[0m \u001b[0;32min\u001b[0m \u001b[0mdata\u001b[0m\u001b[0;34m[\u001b[0m\u001b[0;34m'dms_id'\u001b[0m\u001b[0;34m]\u001b[0m\u001b[0;34m.\u001b[0m\u001b[0munique\u001b[0m\u001b[0;34m(\u001b[0m\u001b[0;34m)\u001b[0m \u001b[0;32mif\u001b[0m \u001b[0mx\u001b[0m \u001b[0;32min\u001b[0m \u001b[0;34m[\u001b[0m\u001b[0;34m'kka2_1:2'\u001b[0m\u001b[0;34m]\u001b[0m\u001b[0;34m]\u001b[0m\u001b[0;34m,\u001b[0m \u001b[0;34m'dms_id'\u001b[0m\u001b[0;34m)\u001b[0m\u001b[0;34m\u001b[0m\u001b[0m\n\u001b[1;32m      2\u001b[0m \u001b[0mkka2_data2\u001b[0m \u001b[0;34m=\u001b[0m \u001b[0mkka2_data\u001b[0m\u001b[0;34m.\u001b[0m\u001b[0mfilter_by\u001b[0m\u001b[0;34m(\u001b[0m\u001b[0;34m[\u001b[0m\u001b[0mx\u001b[0m \u001b[0;32mfor\u001b[0m \u001b[0mx\u001b[0m \u001b[0;32min\u001b[0m \u001b[0mkka2_data\u001b[0m\u001b[0;34m[\u001b[0m\u001b[0;34m'mut_type'\u001b[0m\u001b[0;34m]\u001b[0m\u001b[0;34m.\u001b[0m\u001b[0munique\u001b[0m\u001b[0;34m(\u001b[0m\u001b[0;34m)\u001b[0m \u001b[0;32mif\u001b[0m \u001b[0mx\u001b[0m \u001b[0;32min\u001b[0m \u001b[0;34m[\u001b[0m\u001b[0;34m'missense'\u001b[0m\u001b[0;34m]\u001b[0m\u001b[0;34m]\u001b[0m\u001b[0;34m,\u001b[0m \u001b[0;34m'mut_type'\u001b[0m\u001b[0;34m)\u001b[0m\u001b[0;34m\u001b[0m\u001b[0m\n\u001b[0;32m----> 3\u001b[0;31m \u001b[0mkka2_data2\u001b[0m \u001b[0;34m=\u001b[0m \u001b[0mkka2_data2\u001b[0m\u001b[0;34m.\u001b[0m\u001b[0madd_row_number\u001b[0m\u001b[0;34m(\u001b[0m\u001b[0;34m'id'\u001b[0m\u001b[0;34m,\u001b[0m\u001b[0;36m0\u001b[0m\u001b[0;34m)\u001b[0m\u001b[0;34m\u001b[0m\u001b[0m\n\u001b[0m",
        "\u001b[0;32m/net/gs/vol3/software/modules-sw-python/2.7.3/graphlab/2.1/Linux/RHEL6/x86_64/lib/python2.7/site-packages/graphlab/data_structures/sframe.pyc\u001b[0m in \u001b[0;36madd_row_number\u001b[0;34m(self, column_name, start)\u001b[0m\n\u001b[1;32m   6150\u001b[0m \u001b[0;34m\u001b[0m\u001b[0m\n\u001b[1;32m   6151\u001b[0m         \u001b[0;32mif\u001b[0m \u001b[0mcolumn_name\u001b[0m \u001b[0;32min\u001b[0m \u001b[0mself\u001b[0m\u001b[0;34m.\u001b[0m\u001b[0mcolumn_names\u001b[0m\u001b[0;34m(\u001b[0m\u001b[0;34m)\u001b[0m\u001b[0;34m:\u001b[0m\u001b[0;34m\u001b[0m\u001b[0m\n\u001b[0;32m-> 6152\u001b[0;31m             \u001b[0;32mraise\u001b[0m \u001b[0mRuntimeError\u001b[0m\u001b[0;34m(\u001b[0m\u001b[0;34m\"Column '\"\u001b[0m \u001b[0;34m+\u001b[0m \u001b[0mcolumn_name\u001b[0m \u001b[0;34m+\u001b[0m \u001b[0;34m\"' already exists in the current SFrame\"\u001b[0m\u001b[0;34m)\u001b[0m\u001b[0;34m\u001b[0m\u001b[0m\n\u001b[0m\u001b[1;32m   6153\u001b[0m \u001b[0;34m\u001b[0m\u001b[0m\n\u001b[1;32m   6154\u001b[0m         \u001b[0mthe_col\u001b[0m \u001b[0;34m=\u001b[0m \u001b[0m_create_sequential_sarray\u001b[0m\u001b[0;34m(\u001b[0m\u001b[0mself\u001b[0m\u001b[0;34m.\u001b[0m\u001b[0mnum_rows\u001b[0m\u001b[0;34m(\u001b[0m\u001b[0;34m)\u001b[0m\u001b[0;34m,\u001b[0m \u001b[0mstart\u001b[0m\u001b[0;34m)\u001b[0m\u001b[0;34m\u001b[0m\u001b[0m\n",
        "\u001b[0;31mRuntimeError\u001b[0m: Column 'id' already exists in the current SFrame"
       ]
      }
     ],
     "prompt_number": 22
    },
    {
     "cell_type": "code",
     "collapsed": false,
     "input": [
      "folds = gl.cross_validation.KFold(kka2_data2,10)\n",
      "params = dict([('target', 'scaled_effect1'), ('max_depth', 5), ('max_iterations' , [5,10,25,50]), \n",
      "               ('column_subsample' , .6), ('row_subsample' , .6), ('min_child_weight' , 1), \n",
      "               ('min_loss_reduction' , 0), ('step_size' , 0.1), ('features' , [predictors3])])\n",
      "kka2_data2_paramSearch = gl.model_parameter_search.grid_search.create(folds, gl.boosted_trees_regression.create, params)"
     ],
     "language": "python",
     "metadata": {
      "deletable": true,
      "editable": true
     },
     "outputs": [
      {
       "output_type": "stream",
       "stream": "stderr",
       "text": [
        "[INFO] graphlab.deploy.job: Validating job.\n",
        "[INFO] graphlab.deploy.map_job: Validation complete. Job: 'Model-Parameter-Search-Feb-23-2017-14-22-5600000' ready for execution\n",
        "[INFO] graphlab.deploy.map_job: Job: 'Model-Parameter-Search-Feb-23-2017-14-22-5600000' scheduled.\n",
        "[INFO] graphlab.deploy.job: Validating job.\n",
        "[INFO] graphlab.deploy.map_job: A job with name 'Model-Parameter-Search-Feb-23-2017-14-22-5600000' already exists. Renaming the job to 'Model-Parameter-Search-Feb-23-2017-14-22-5600000-22408'.\n",
        "[INFO] graphlab.deploy.map_job: Validation complete. Job: 'Model-Parameter-Search-Feb-23-2017-14-22-5600000-22408' ready for execution\n",
        "[INFO] graphlab.deploy.map_job: Job: 'Model-Parameter-Search-Feb-23-2017-14-22-5600000-22408' scheduled.\n",
        "[INFO] graphlab.deploy.job: Validating job.\n",
        "[INFO] graphlab.deploy.map_job: Validation complete. Job: 'Model-Parameter-Search-Feb-23-2017-14-22-5600001' ready for execution\n",
        "[INFO] graphlab.deploy.map_job: Job: 'Model-Parameter-Search-Feb-23-2017-14-22-5600001' scheduled.\n",
        "[INFO] graphlab.deploy.job: Validating job.\n",
        "[INFO] graphlab.deploy.map_job: Validation complete. Job: 'Model-Parameter-Search-Feb-23-2017-14-22-5600002' ready for execution\n",
        "[INFO] graphlab.deploy.map_job: Job: 'Model-Parameter-Search-Feb-23-2017-14-22-5600002' scheduled.\n"
       ]
      }
     ],
     "prompt_number": 49
    },
    {
     "cell_type": "code",
     "collapsed": false,
     "input": [
      "kka2_data2_paramSearch.get_best_params()"
     ],
     "language": "python",
     "metadata": {
      "deletable": true,
      "editable": true,
      "scrolled": true
     },
     "outputs": [
      {
       "metadata": {},
       "output_type": "pyout",
       "prompt_number": 50,
       "text": [
        "{'column_subsample': 0.6,\n",
        " 'features': ['aa1',\n",
        "  'aa2',\n",
        "  'wt_mut',\n",
        "  'aa1_polarity',\n",
        "  'aa2_polarity',\n",
        "  'aa1_PI',\n",
        "  'aa2_PI',\n",
        "  'deltaPI',\n",
        "  'Grantham',\n",
        "  'aa1_weight',\n",
        "  'aa2_weight',\n",
        "  'deltaWeight',\n",
        "  'aa1vol',\n",
        "  'aa2vol',\n",
        "  'deltavolume',\n",
        "  'aa1_psic',\n",
        "  'aa2_psic',\n",
        "  'delta_psic',\n",
        "  'accessibility',\n",
        "  'dssp_sec_str',\n",
        "  'phi_psi_reg',\n",
        "  'delta_solvent_accessibility',\n",
        "  'b_factor',\n",
        "  'mut_msa_congruency',\n",
        "  'mut_mut_msa_congruency',\n",
        "  'seq_ind_closest_mut',\n",
        "  'selection_coefficient',\n",
        "  'evolutionary_coupling_avg'],\n",
        " 'max_depth': 5,\n",
        " 'max_iterations': 50,\n",
        " 'min_child_weight': 1,\n",
        " 'min_loss_reduction': 0,\n",
        " 'row_subsample': 0.6,\n",
        " 'step_size': 0.1,\n",
        " 'target': 'scaled_effect1'}"
       ]
      }
     ],
     "prompt_number": 50
    },
    {
     "cell_type": "code",
     "collapsed": false,
     "input": [
      "params = dict([('target', 'scaled_effect1'), ('max_depth', [2, 6, 10, 25, 50] ), ('max_iterations' , 50), \n",
      "               ('column_subsample' , .6), ('row_subsample' , .6), ('min_child_weight' , [2, 6, 10, 25, 50]), \n",
      "               ('min_loss_reduction' , 0), ('step_size' , 0.1), ('features' , [predictors3])])\n",
      "kka2_data2_paramSearch1 = gl.model_parameter_search.grid_search.create(folds, gl.boosted_trees_regression.create, params)"
     ],
     "language": "python",
     "metadata": {
      "deletable": true,
      "editable": true
     },
     "outputs": [
      {
       "output_type": "stream",
       "stream": "stderr",
       "text": [
        "[INFO] graphlab.deploy.job: Validating job.\n",
        "[INFO] graphlab.deploy.map_job: Validation complete. Job: 'Model-Parameter-Search-Feb-23-2017-14-26-1000000' ready for execution\n",
        "[INFO] graphlab.deploy.map_job: Job: 'Model-Parameter-Search-Feb-23-2017-14-26-1000000' scheduled.\n",
        "[INFO] graphlab.deploy.job: Validating job.\n",
        "[INFO] graphlab.deploy.map_job: A job with name 'Model-Parameter-Search-Feb-23-2017-14-26-1000000' already exists. Renaming the job to 'Model-Parameter-Search-Feb-23-2017-14-26-1000000-582a7'.\n",
        "[INFO] graphlab.deploy.map_job: Validation complete. Job: 'Model-Parameter-Search-Feb-23-2017-14-26-1000000-582a7' ready for execution\n",
        "[INFO] graphlab.deploy.map_job: Job: 'Model-Parameter-Search-Feb-23-2017-14-26-1000000-582a7' scheduled.\n",
        "[INFO] graphlab.deploy.job: Validating job.\n",
        "[INFO] graphlab.deploy.map_job: Validation complete. Job: 'Model-Parameter-Search-Feb-23-2017-14-26-1000001' ready for execution\n",
        "[INFO] graphlab.deploy.map_job: Job: 'Model-Parameter-Search-Feb-23-2017-14-26-1000001' scheduled.\n",
        "[INFO] graphlab.deploy.job: Validating job.\n",
        "[INFO] graphlab.deploy.map_job: Validation complete. Job: 'Model-Parameter-Search-Feb-23-2017-14-26-1000002' ready for execution\n",
        "[INFO] graphlab.deploy.map_job: Job: 'Model-Parameter-Search-Feb-23-2017-14-26-1000002' scheduled.\n"
       ]
      }
     ],
     "prompt_number": 51
    },
    {
     "cell_type": "code",
     "collapsed": false,
     "input": [
      "kka2_data2_paramSearch1.get_best_params()"
     ],
     "language": "python",
     "metadata": {
      "deletable": true,
      "editable": true,
      "scrolled": true
     },
     "outputs": [
      {
       "metadata": {},
       "output_type": "pyout",
       "prompt_number": 52,
       "text": [
        "{'column_subsample': 0.6,\n",
        " 'features': ['aa1',\n",
        "  'aa2',\n",
        "  'wt_mut',\n",
        "  'aa1_polarity',\n",
        "  'aa2_polarity',\n",
        "  'aa1_PI',\n",
        "  'aa2_PI',\n",
        "  'deltaPI',\n",
        "  'Grantham',\n",
        "  'aa1_weight',\n",
        "  'aa2_weight',\n",
        "  'deltaWeight',\n",
        "  'aa1vol',\n",
        "  'aa2vol',\n",
        "  'deltavolume',\n",
        "  'aa1_psic',\n",
        "  'aa2_psic',\n",
        "  'delta_psic',\n",
        "  'accessibility',\n",
        "  'dssp_sec_str',\n",
        "  'phi_psi_reg',\n",
        "  'delta_solvent_accessibility',\n",
        "  'b_factor',\n",
        "  'mut_msa_congruency',\n",
        "  'mut_mut_msa_congruency',\n",
        "  'seq_ind_closest_mut',\n",
        "  'selection_coefficient',\n",
        "  'evolutionary_coupling_avg'],\n",
        " 'max_depth': 50,\n",
        " 'max_iterations': 50,\n",
        " 'min_child_weight': 6,\n",
        " 'min_loss_reduction': 0,\n",
        " 'row_subsample': 0.6,\n",
        " 'step_size': 0.1,\n",
        " 'target': 'scaled_effect1'}"
       ]
      }
     ],
     "prompt_number": 52
    },
    {
     "cell_type": "code",
     "collapsed": false,
     "input": [
      "params = dict([('target', 'scaled_effect1'), ('max_depth',50), ('max_iterations' , 50), \n",
      "               ('column_subsample' , .6), ('row_subsample' , .6), ('min_child_weight' ,6 ), \n",
      "               ('min_loss_reduction' , [0, 0.1, 0.2, 0.3, 0.4, 0.5]), ('step_size' , 0.1), ('features' , [predictors3])])\n",
      "kka2_data2_paramSearch2 = gl.model_parameter_search.grid_search.create(folds, gl.boosted_trees_regression.create, params)"
     ],
     "language": "python",
     "metadata": {
      "deletable": true,
      "editable": true
     },
     "outputs": [
      {
       "output_type": "stream",
       "stream": "stderr",
       "text": [
        "[INFO] graphlab.deploy.job: Validating job.\n",
        "[INFO] graphlab.deploy.map_job: Validation complete. Job: 'Model-Parameter-Search-Feb-23-2017-14-44-3300000' ready for execution\n",
        "[INFO] graphlab.deploy.map_job: Job: 'Model-Parameter-Search-Feb-23-2017-14-44-3300000' scheduled.\n",
        "[INFO] graphlab.deploy.job: Validating job.\n",
        "[INFO] graphlab.deploy.map_job: A job with name 'Model-Parameter-Search-Feb-23-2017-14-44-3300000' already exists. Renaming the job to 'Model-Parameter-Search-Feb-23-2017-14-44-3300000-ada68'.\n",
        "[INFO] graphlab.deploy.map_job: Validation complete. Job: 'Model-Parameter-Search-Feb-23-2017-14-44-3300000-ada68' ready for execution\n",
        "[INFO] graphlab.deploy.map_job: Job: 'Model-Parameter-Search-Feb-23-2017-14-44-3300000-ada68' scheduled.\n",
        "[INFO] graphlab.deploy.job: Validating job.\n",
        "[INFO] graphlab.deploy.map_job: Validation complete. Job: 'Model-Parameter-Search-Feb-23-2017-14-44-3300001' ready for execution\n",
        "[INFO] graphlab.deploy.map_job: Job: 'Model-Parameter-Search-Feb-23-2017-14-44-3300001' scheduled.\n",
        "[INFO] graphlab.deploy.job: Validating job.\n",
        "[INFO] graphlab.deploy.map_job: Validation complete. Job: 'Model-Parameter-Search-Feb-23-2017-14-44-3300002' ready for execution\n",
        "[INFO] graphlab.deploy.map_job: Job: 'Model-Parameter-Search-Feb-23-2017-14-44-3300002' scheduled.\n"
       ]
      }
     ],
     "prompt_number": 53
    },
    {
     "cell_type": "code",
     "collapsed": false,
     "input": [
      "kka2_data2_paramSearch2.get_best_params()"
     ],
     "language": "python",
     "metadata": {
      "deletable": true,
      "editable": true,
      "scrolled": true
     },
     "outputs": [
      {
       "metadata": {},
       "output_type": "pyout",
       "prompt_number": 54,
       "text": [
        "{'column_subsample': 0.6,\n",
        " 'features': ['aa1',\n",
        "  'aa2',\n",
        "  'wt_mut',\n",
        "  'aa1_polarity',\n",
        "  'aa2_polarity',\n",
        "  'aa1_PI',\n",
        "  'aa2_PI',\n",
        "  'deltaPI',\n",
        "  'Grantham',\n",
        "  'aa1_weight',\n",
        "  'aa2_weight',\n",
        "  'deltaWeight',\n",
        "  'aa1vol',\n",
        "  'aa2vol',\n",
        "  'deltavolume',\n",
        "  'aa1_psic',\n",
        "  'aa2_psic',\n",
        "  'delta_psic',\n",
        "  'accessibility',\n",
        "  'dssp_sec_str',\n",
        "  'phi_psi_reg',\n",
        "  'delta_solvent_accessibility',\n",
        "  'b_factor',\n",
        "  'mut_msa_congruency',\n",
        "  'mut_mut_msa_congruency',\n",
        "  'seq_ind_closest_mut',\n",
        "  'selection_coefficient',\n",
        "  'evolutionary_coupling_avg'],\n",
        " 'max_depth': 50,\n",
        " 'max_iterations': 50,\n",
        " 'min_child_weight': 6,\n",
        " 'min_loss_reduction': 0,\n",
        " 'row_subsample': 0.6,\n",
        " 'step_size': 0.1,\n",
        " 'target': 'scaled_effect1'}"
       ]
      }
     ],
     "prompt_number": 54
    },
    {
     "cell_type": "code",
     "collapsed": false,
     "input": [
      "params = dict([('target', 'scaled_effect1'), ('max_depth',50), ('max_iterations' , 50), \n",
      "               ('column_subsample' , [0.6, 0.7, 0.8, 0.9]), ('row_subsample' , [0.6, 0.7, 0.8, 0.9]), ('min_child_weight' ,6 ), \n",
      "               ('min_loss_reduction' ,  0), ('step_size' , 0.1), ('features' , [predictors3])])\n",
      "kka2_data2_paramSearch3 = gl.model_parameter_search.grid_search.create(folds, gl.boosted_trees_regression.create, params)"
     ],
     "language": "python",
     "metadata": {
      "deletable": true,
      "editable": true
     },
     "outputs": [
      {
       "output_type": "stream",
       "stream": "stderr",
       "text": [
        "[INFO] graphlab.deploy.job: Validating job.\n",
        "[INFO] graphlab.deploy.map_job: Validation complete. Job: 'Model-Parameter-Search-Feb-23-2017-14-52-2300000' ready for execution\n",
        "[INFO] graphlab.deploy.map_job: Job: 'Model-Parameter-Search-Feb-23-2017-14-52-2300000' scheduled.\n",
        "[INFO] graphlab.deploy.job: Validating job.\n",
        "[INFO] graphlab.deploy.map_job: A job with name 'Model-Parameter-Search-Feb-23-2017-14-52-2300000' already exists. Renaming the job to 'Model-Parameter-Search-Feb-23-2017-14-52-2300000-b4433'.\n",
        "[INFO] graphlab.deploy.map_job: Validation complete. Job: 'Model-Parameter-Search-Feb-23-2017-14-52-2300000-b4433' ready for execution\n",
        "[INFO] graphlab.deploy.map_job: Job: 'Model-Parameter-Search-Feb-23-2017-14-52-2300000-b4433' scheduled.\n",
        "[INFO] graphlab.deploy.job: Validating job.\n",
        "[INFO] graphlab.deploy.map_job: Validation complete. Job: 'Model-Parameter-Search-Feb-23-2017-14-52-2300001' ready for execution\n",
        "[INFO] graphlab.deploy.map_job: Job: 'Model-Parameter-Search-Feb-23-2017-14-52-2300001' scheduled.\n",
        "[INFO] graphlab.deploy.job: Validating job.\n",
        "[INFO] graphlab.deploy.map_job: Validation complete. Job: 'Model-Parameter-Search-Feb-23-2017-14-52-2300002' ready for execution\n",
        "[INFO] graphlab.deploy.map_job: Job: 'Model-Parameter-Search-Feb-23-2017-14-52-2300002' scheduled.\n"
       ]
      }
     ],
     "prompt_number": 55
    },
    {
     "cell_type": "code",
     "collapsed": false,
     "input": [
      "kka2_data2_paramSearch3.get_best_params()"
     ],
     "language": "python",
     "metadata": {
      "deletable": true,
      "editable": true,
      "scrolled": true
     },
     "outputs": [
      {
       "metadata": {},
       "output_type": "pyout",
       "prompt_number": 56,
       "text": [
        "{'column_subsample': 0.6,\n",
        " 'features': ['aa1',\n",
        "  'aa2',\n",
        "  'wt_mut',\n",
        "  'aa1_polarity',\n",
        "  'aa2_polarity',\n",
        "  'aa1_PI',\n",
        "  'aa2_PI',\n",
        "  'deltaPI',\n",
        "  'Grantham',\n",
        "  'aa1_weight',\n",
        "  'aa2_weight',\n",
        "  'deltaWeight',\n",
        "  'aa1vol',\n",
        "  'aa2vol',\n",
        "  'deltavolume',\n",
        "  'aa1_psic',\n",
        "  'aa2_psic',\n",
        "  'delta_psic',\n",
        "  'accessibility',\n",
        "  'dssp_sec_str',\n",
        "  'phi_psi_reg',\n",
        "  'delta_solvent_accessibility',\n",
        "  'b_factor',\n",
        "  'mut_msa_congruency',\n",
        "  'mut_mut_msa_congruency',\n",
        "  'seq_ind_closest_mut',\n",
        "  'selection_coefficient',\n",
        "  'evolutionary_coupling_avg'],\n",
        " 'max_depth': 50,\n",
        " 'max_iterations': 50,\n",
        " 'min_child_weight': 6,\n",
        " 'min_loss_reduction': 0,\n",
        " 'row_subsample': 0.7,\n",
        " 'step_size': 0.1,\n",
        " 'target': 'scaled_effect1'}"
       ]
      }
     ],
     "prompt_number": 56
    },
    {
     "cell_type": "code",
     "collapsed": false,
     "input": [
      "train_data, test_data = kka2_data2.random_split(0.8)\n",
      "kka2_data2_regression_model = gl.boosted_trees_regression.create(train_data, 'scaled_effect1', \n",
      "                features = predictors3, max_iterations = 250, \n",
      "                column_subsample= 0.6, row_subsample =0.7,\n",
      "                min_child_weight = 6, min_loss_reduction = 0.1, step_size = 0.01,\n",
      "                max_depth = 50)"
     ],
     "language": "python",
     "metadata": {
      "deletable": true,
      "editable": true,
      "scrolled": true
     },
     "outputs": [
      {
       "output_type": "stream",
       "stream": "stdout",
       "text": [
        "PROGRESS: Creating a validation set from 5 percent of training data. This may take a while.\n",
        "          You can set ``validation_set=None`` to disable validation tracking.\n",
        "\n"
       ]
      },
      {
       "html": [
        "<pre>WARNING: Detected extremely low variance for feature(s) 'selection_coefficient' because all entries are nearly the same.\n",
        "Proceeding with model training using all features. If the model does not provide results of adequate quality, exclude the above mentioned feature(s) from the input dataset.</pre>"
       ],
       "metadata": {},
       "output_type": "display_data",
       "text": [
        "WARNING: Detected extremely low variance for feature(s) 'selection_coefficient' because all entries are nearly the same.\n",
        "Proceeding with model training using all features. If the model does not provide results of adequate quality, exclude the above mentioned feature(s) from the input dataset."
       ]
      },
      {
       "html": [
        "<pre>Boosted trees regression:</pre>"
       ],
       "metadata": {},
       "output_type": "display_data",
       "text": [
        "Boosted trees regression:"
       ]
      },
      {
       "html": [
        "<pre>--------------------------------------------------------</pre>"
       ],
       "metadata": {},
       "output_type": "display_data",
       "text": [
        "--------------------------------------------------------"
       ]
      },
      {
       "html": [
        "<pre>Number of examples          : 3977</pre>"
       ],
       "metadata": {},
       "output_type": "display_data",
       "text": [
        "Number of examples          : 3977"
       ]
      },
      {
       "html": [
        "<pre>Number of features          : 28</pre>"
       ],
       "metadata": {},
       "output_type": "display_data",
       "text": [
        "Number of features          : 28"
       ]
      },
      {
       "html": [
        "<pre>Number of unpacked features : 28</pre>"
       ],
       "metadata": {},
       "output_type": "display_data",
       "text": [
        "Number of unpacked features : 28"
       ]
      },
      {
       "html": [
        "<pre>+-----------+--------------+--------------------+----------------------+---------------+-----------------+</pre>"
       ],
       "metadata": {},
       "output_type": "display_data",
       "text": [
        "+-----------+--------------+--------------------+----------------------+---------------+-----------------+"
       ]
      },
      {
       "html": [
        "<pre>| Iteration | Elapsed Time | Training-max_error | Validation-max_error | Training-rmse | Validation-rmse |</pre>"
       ],
       "metadata": {},
       "output_type": "display_data",
       "text": [
        "| Iteration | Elapsed Time | Training-max_error | Validation-max_error | Training-rmse | Validation-rmse |"
       ]
      },
      {
       "html": [
        "<pre>+-----------+--------------+--------------------+----------------------+---------------+-----------------+</pre>"
       ],
       "metadata": {},
       "output_type": "display_data",
       "text": [
        "+-----------+--------------+--------------------+----------------------+---------------+-----------------+"
       ]
      },
      {
       "html": [
        "<pre>| 1         | 0.076796     | 1.064877           | 0.932833             | 0.441090      | 0.416055        |</pre>"
       ],
       "metadata": {},
       "output_type": "display_data",
       "text": [
        "| 1         | 0.076796     | 1.064877           | 0.932833             | 0.441090      | 0.416055        |"
       ]
      },
      {
       "html": [
        "<pre>| 2         | 0.143671     | 1.059171           | 0.926014             | 0.437864      | 0.413573        |</pre>"
       ],
       "metadata": {},
       "output_type": "display_data",
       "text": [
        "| 2         | 0.143671     | 1.059171           | 0.926014             | 0.437864      | 0.413573        |"
       ]
      },
      {
       "html": [
        "<pre>| 3         | 0.207782     | 1.053263           | 0.919617             | 0.434814      | 0.411027        |</pre>"
       ],
       "metadata": {},
       "output_type": "display_data",
       "text": [
        "| 3         | 0.207782     | 1.053263           | 0.919617             | 0.434814      | 0.411027        |"
       ]
      },
      {
       "html": [
        "<pre>| 4         | 0.272552     | 1.046739           | 0.913357             | 0.431700      | 0.408642        |</pre>"
       ],
       "metadata": {},
       "output_type": "display_data",
       "text": [
        "| 4         | 0.272552     | 1.046739           | 0.913357             | 0.431700      | 0.408642        |"
       ]
      },
      {
       "html": [
        "<pre>| 5         | 0.345949     | 1.041148           | 0.911817             | 0.428707      | 0.406538        |</pre>"
       ],
       "metadata": {},
       "output_type": "display_data",
       "text": [
        "| 5         | 0.345949     | 1.041148           | 0.911817             | 0.428707      | 0.406538        |"
       ]
      },
      {
       "html": [
        "<pre>| 6         | 0.415455     | 1.035012           | 0.914049             | 0.425634      | 0.404201        |</pre>"
       ],
       "metadata": {},
       "output_type": "display_data",
       "text": [
        "| 6         | 0.415455     | 1.035012           | 0.914049             | 0.425634      | 0.404201        |"
       ]
      },
      {
       "html": [
        "<pre>| 11        | 0.751476     | 1.005666           | 0.907999             | 0.410711      | 0.393208        |</pre>"
       ],
       "metadata": {},
       "output_type": "display_data",
       "text": [
        "| 11        | 0.751476     | 1.005666           | 0.907999             | 0.410711      | 0.393208        |"
       ]
      },
      {
       "html": [
        "<pre>| 25        | 1.731784     | 0.937553           | 0.911007             | 0.372822      | 0.366104        |</pre>"
       ],
       "metadata": {},
       "output_type": "display_data",
       "text": [
        "| 25        | 1.731784     | 0.937553           | 0.911007             | 0.372822      | 0.366104        |"
       ]
      },
      {
       "html": [
        "<pre>| 50        | 3.562345     | 0.837916           | 0.956917             | 0.317410      | 0.327905        |</pre>"
       ],
       "metadata": {},
       "output_type": "display_data",
       "text": [
        "| 50        | 3.562345     | 0.837916           | 0.956917             | 0.317410      | 0.327905        |"
       ]
      },
      {
       "html": [
        "<pre>| 51        | 3.633574     | 0.833004           | 0.955323             | 0.315511      | 0.326684        |</pre>"
       ],
       "metadata": {},
       "output_type": "display_data",
       "text": [
        "| 51        | 3.633574     | 0.833004           | 0.955323             | 0.315511      | 0.326684        |"
       ]
      },
      {
       "html": [
        "<pre>| 75        | 5.421684     | 0.765883           | 0.979165             | 0.273632      | 0.300790        |</pre>"
       ],
       "metadata": {},
       "output_type": "display_data",
       "text": [
        "| 75        | 5.421684     | 0.765883           | 0.979165             | 0.273632      | 0.300790        |"
       ]
      },
      {
       "html": [
        "<pre>| 100       | 7.286396     | 0.737190           | 1.006654             | 0.239539      | 0.281023        |</pre>"
       ],
       "metadata": {},
       "output_type": "display_data",
       "text": [
        "| 100       | 7.286396     | 0.737190           | 1.006654             | 0.239539      | 0.281023        |"
       ]
      },
      {
       "html": [
        "<pre>| 101       | 7.362257     | 0.739022           | 1.007405             | 0.238355      | 0.280432        |</pre>"
       ],
       "metadata": {},
       "output_type": "display_data",
       "text": [
        "| 101       | 7.362257     | 0.739022           | 1.007405             | 0.238355      | 0.280432        |"
       ]
      },
      {
       "html": [
        "<pre>| 125       | 9.217127     | 0.713146           | 1.025992             | 0.213030      | 0.267306        |</pre>"
       ],
       "metadata": {},
       "output_type": "display_data",
       "text": [
        "| 125       | 9.217127     | 0.713146           | 1.025992             | 0.213030      | 0.267306        |"
       ]
      },
      {
       "html": [
        "<pre>| 150       | 11.141972    | 0.693411           | 1.028042             | 0.192514      | 0.257713        |</pre>"
       ],
       "metadata": {},
       "output_type": "display_data",
       "text": [
        "| 150       | 11.141972    | 0.693411           | 1.028042             | 0.192514      | 0.257713        |"
       ]
      },
      {
       "html": [
        "<pre>| 175       | 13.133728    | 0.665865           | 1.036135             | 0.176319      | 0.251117        |</pre>"
       ],
       "metadata": {},
       "output_type": "display_data",
       "text": [
        "| 175       | 13.133728    | 0.665865           | 1.036135             | 0.176319      | 0.251117        |"
       ]
      },
      {
       "html": [
        "<pre>| 200       | 15.241466    | 0.629270           | 1.044876             | 0.163209      | 0.246262        |</pre>"
       ],
       "metadata": {},
       "output_type": "display_data",
       "text": [
        "| 200       | 15.241466    | 0.629270           | 1.044876             | 0.163209      | 0.246262        |"
       ]
      },
      {
       "html": [
        "<pre>| 225       | 17.290833    | 0.621672           | 1.050033             | 0.153139      | 0.243022        |</pre>"
       ],
       "metadata": {},
       "output_type": "display_data",
       "text": [
        "| 225       | 17.290833    | 0.621672           | 1.050033             | 0.153139      | 0.243022        |"
       ]
      },
      {
       "html": [
        "<pre>| 250       | 19.322857    | 0.619745           | 1.052012             | 0.145152      | 0.240648        |</pre>"
       ],
       "metadata": {},
       "output_type": "display_data",
       "text": [
        "| 250       | 19.322857    | 0.619745           | 1.052012             | 0.145152      | 0.240648        |"
       ]
      },
      {
       "html": [
        "<pre>+-----------+--------------+--------------------+----------------------+---------------+-----------------+</pre>"
       ],
       "metadata": {},
       "output_type": "display_data",
       "text": [
        "+-----------+--------------+--------------------+----------------------+---------------+-----------------+"
       ]
      }
     ],
     "prompt_number": 23
    },
    {
     "cell_type": "code",
     "collapsed": true,
     "input": [
      "pickler = gl._gl_pickle.GLPickler(filename = '/net/fowler/vol1/home/vegray/metaDMS/dato/singleModels/scaled_kka22_2017-01-05')\n",
      "pickler.dump(kka2_data2_regression_model)\n",
      "pickler.close()"
     ],
     "language": "python",
     "metadata": {
      "deletable": true,
      "editable": true
     },
     "outputs": [],
     "prompt_number": 58
    },
    {
     "cell_type": "code",
     "collapsed": false,
     "input": [
      "pred = kka2_data2_regression_model.predict(test_data)\n",
      "stats.pearsonr(pred, test_data['scaled_effect1'])\n",
      "stats.spearmanr(pred, test_data['scaled_effect1'])\n",
      "#sqrt(mean_squared_error(pred,test_data['scaled_effect1']))"
     ],
     "language": "python",
     "metadata": {
      "deletable": true,
      "editable": true
     },
     "outputs": [
      {
       "metadata": {},
       "output_type": "pyout",
       "prompt_number": 24,
       "text": [
        "(0.82762940333326507, 2.117365630998531e-273)"
       ]
      }
     ],
     "prompt_number": 24
    },
    {
     "cell_type": "code",
     "collapsed": false,
     "input": [
      "pred = kka2_data2_regression_model.predict(train_data)\n",
      "stats.pearsonr(pred, train_data['scaled_effect1'])\n",
      "stats.spearmanr(pred, train_data['scaled_effect1'])\n",
      "#sqrt(mean_squared_error(pred,test_data['scaled_effect1']))"
     ],
     "language": "python",
     "metadata": {
      "deletable": true,
      "editable": true
     },
     "outputs": [
      {
       "metadata": {},
       "output_type": "pyout",
       "prompt_number": 26,
       "text": [
        "(0.94101078383340608, 0.0)"
       ]
      }
     ],
     "prompt_number": 26
    },
    {
     "cell_type": "code",
     "collapsed": true,
     "input": [
      "unpickler = gl._gl_pickle.GLUnpickler(filename = '/net/fowler/vol1/home/vegray/metaDMS/dato/singleModels/scaled_kka22_2017-01-05')\n",
      "kka2_data2_regression_model = unpickler.load()\n",
      "unpickler.close()"
     ],
     "language": "python",
     "metadata": {},
     "outputs": [],
     "prompt_number": 75
    },
    {
     "cell_type": "code",
     "collapsed": false,
     "input": [
      "## Kka2 pred data\n",
      "\n",
      "Kka2_pred_data = pred_data.filter_by([x for x in pred_data['protein'].unique() if x in ['Kka2']], 'protein')\n",
      "\n",
      "predicted_Kka2 = kka2_data2_regression_model.predict(Kka2_pred_data)\n",
      "Kka2_pred_data2 = Kka2_pred_data.add_column(predicted_Kka2, name = 'predictions')\n",
      "\n",
      "Kka2_pred_data2.export_csv(filename = '/net/fowler/vol1/home/vegray/metaDMS/dato/singleModels/Kka2_out.csv')"
     ],
     "language": "python",
     "metadata": {},
     "outputs": [],
     "prompt_number": 80
    },
    {
     "cell_type": "heading",
     "level": 1,
     "metadata": {
      "deletable": true,
      "editable": true
     },
     "source": [
      "hsp90"
     ]
    },
    {
     "cell_type": "code",
     "collapsed": false,
     "input": [
      "hsp90_data = data.filter_by([x for x in data['dms_id'].unique() if x in ['hsp90']], 'dms_id')\n",
      "hsp90_data1 = hsp90_data.filter_by([x for x in hsp90_data['mut_type'].unique() if x in ['missense']], 'mut_type')\n",
      "hsp90_data1 = hsp90_data1.add_row_number('id',0)"
     ],
     "language": "python",
     "metadata": {
      "deletable": true,
      "editable": true
     },
     "outputs": [
      {
       "ename": "RuntimeError",
       "evalue": "Column 'id' already exists in the current SFrame",
       "output_type": "pyerr",
       "traceback": [
        "\u001b[0;31m---------------------------------------------------------------------------\u001b[0m",
        "\u001b[0;31mRuntimeError\u001b[0m                              Traceback (most recent call last)",
        "\u001b[0;32m<ipython-input-27-51b887bcbf0f>\u001b[0m in \u001b[0;36m<module>\u001b[0;34m()\u001b[0m\n\u001b[1;32m      1\u001b[0m \u001b[0mhsp90_data\u001b[0m \u001b[0;34m=\u001b[0m \u001b[0mdata\u001b[0m\u001b[0;34m.\u001b[0m\u001b[0mfilter_by\u001b[0m\u001b[0;34m(\u001b[0m\u001b[0;34m[\u001b[0m\u001b[0mx\u001b[0m \u001b[0;32mfor\u001b[0m \u001b[0mx\u001b[0m \u001b[0;32min\u001b[0m \u001b[0mdata\u001b[0m\u001b[0;34m[\u001b[0m\u001b[0;34m'dms_id'\u001b[0m\u001b[0;34m]\u001b[0m\u001b[0;34m.\u001b[0m\u001b[0munique\u001b[0m\u001b[0;34m(\u001b[0m\u001b[0;34m)\u001b[0m \u001b[0;32mif\u001b[0m \u001b[0mx\u001b[0m \u001b[0;32min\u001b[0m \u001b[0;34m[\u001b[0m\u001b[0;34m'hsp90'\u001b[0m\u001b[0;34m]\u001b[0m\u001b[0;34m]\u001b[0m\u001b[0;34m,\u001b[0m \u001b[0;34m'dms_id'\u001b[0m\u001b[0;34m)\u001b[0m\u001b[0;34m\u001b[0m\u001b[0m\n\u001b[1;32m      2\u001b[0m \u001b[0mhsp90_data1\u001b[0m \u001b[0;34m=\u001b[0m \u001b[0mhsp90_data\u001b[0m\u001b[0;34m.\u001b[0m\u001b[0mfilter_by\u001b[0m\u001b[0;34m(\u001b[0m\u001b[0;34m[\u001b[0m\u001b[0mx\u001b[0m \u001b[0;32mfor\u001b[0m \u001b[0mx\u001b[0m \u001b[0;32min\u001b[0m \u001b[0mhsp90_data\u001b[0m\u001b[0;34m[\u001b[0m\u001b[0;34m'mut_type'\u001b[0m\u001b[0;34m]\u001b[0m\u001b[0;34m.\u001b[0m\u001b[0munique\u001b[0m\u001b[0;34m(\u001b[0m\u001b[0;34m)\u001b[0m \u001b[0;32mif\u001b[0m \u001b[0mx\u001b[0m \u001b[0;32min\u001b[0m \u001b[0;34m[\u001b[0m\u001b[0;34m'missense'\u001b[0m\u001b[0;34m]\u001b[0m\u001b[0;34m]\u001b[0m\u001b[0;34m,\u001b[0m \u001b[0;34m'mut_type'\u001b[0m\u001b[0;34m)\u001b[0m\u001b[0;34m\u001b[0m\u001b[0m\n\u001b[0;32m----> 3\u001b[0;31m \u001b[0mhsp90_data1\u001b[0m \u001b[0;34m=\u001b[0m \u001b[0mhsp90_data1\u001b[0m\u001b[0;34m.\u001b[0m\u001b[0madd_row_number\u001b[0m\u001b[0;34m(\u001b[0m\u001b[0;34m'id'\u001b[0m\u001b[0;34m,\u001b[0m\u001b[0;36m0\u001b[0m\u001b[0;34m)\u001b[0m\u001b[0;34m\u001b[0m\u001b[0m\n\u001b[0m",
        "\u001b[0;32m/net/gs/vol3/software/modules-sw-python/2.7.3/graphlab/2.1/Linux/RHEL6/x86_64/lib/python2.7/site-packages/graphlab/data_structures/sframe.pyc\u001b[0m in \u001b[0;36madd_row_number\u001b[0;34m(self, column_name, start)\u001b[0m\n\u001b[1;32m   6150\u001b[0m \u001b[0;34m\u001b[0m\u001b[0m\n\u001b[1;32m   6151\u001b[0m         \u001b[0;32mif\u001b[0m \u001b[0mcolumn_name\u001b[0m \u001b[0;32min\u001b[0m \u001b[0mself\u001b[0m\u001b[0;34m.\u001b[0m\u001b[0mcolumn_names\u001b[0m\u001b[0;34m(\u001b[0m\u001b[0;34m)\u001b[0m\u001b[0;34m:\u001b[0m\u001b[0;34m\u001b[0m\u001b[0m\n\u001b[0;32m-> 6152\u001b[0;31m             \u001b[0;32mraise\u001b[0m \u001b[0mRuntimeError\u001b[0m\u001b[0;34m(\u001b[0m\u001b[0;34m\"Column '\"\u001b[0m \u001b[0;34m+\u001b[0m \u001b[0mcolumn_name\u001b[0m \u001b[0;34m+\u001b[0m \u001b[0;34m\"' already exists in the current SFrame\"\u001b[0m\u001b[0;34m)\u001b[0m\u001b[0;34m\u001b[0m\u001b[0m\n\u001b[0m\u001b[1;32m   6153\u001b[0m \u001b[0;34m\u001b[0m\u001b[0m\n\u001b[1;32m   6154\u001b[0m         \u001b[0mthe_col\u001b[0m \u001b[0;34m=\u001b[0m \u001b[0m_create_sequential_sarray\u001b[0m\u001b[0;34m(\u001b[0m\u001b[0mself\u001b[0m\u001b[0;34m.\u001b[0m\u001b[0mnum_rows\u001b[0m\u001b[0;34m(\u001b[0m\u001b[0;34m)\u001b[0m\u001b[0;34m,\u001b[0m \u001b[0mstart\u001b[0m\u001b[0;34m)\u001b[0m\u001b[0;34m\u001b[0m\u001b[0m\n",
        "\u001b[0;31mRuntimeError\u001b[0m: Column 'id' already exists in the current SFrame"
       ]
      }
     ],
     "prompt_number": 27
    },
    {
     "cell_type": "code",
     "collapsed": false,
     "input": [
      "folds = gl.cross_validation.KFold(hsp90_data1,10)\n",
      "params = dict([('target', 'scaled_effect1'), ('max_depth', 5), ('max_iterations' , [5,10,25,50]), \n",
      "               ('column_subsample' , .6), ('row_subsample' , .6), ('min_child_weight' , 1), \n",
      "               ('min_loss_reduction' , 0), ('step_size' , 0.1), ('features' , [predictors3])])\n",
      "hsp90_data1_paramSearch = gl.model_parameter_search.grid_search.create(folds, gl.boosted_trees_regression.create, params)"
     ],
     "language": "python",
     "metadata": {
      "deletable": true,
      "editable": true
     },
     "outputs": [
      {
       "output_type": "stream",
       "stream": "stderr",
       "text": [
        "[INFO] graphlab.deploy.job: Validating job.\n",
        "[INFO] graphlab.deploy.map_job: Validation complete. Job: 'Model-Parameter-Search-Feb-23-2017-15-24-5200000' ready for execution\n",
        "[INFO] graphlab.deploy.map_job: Job: 'Model-Parameter-Search-Feb-23-2017-15-24-5200000' scheduled.\n",
        "[INFO] graphlab.deploy.job: Validating job.\n",
        "[INFO] graphlab.deploy.map_job: A job with name 'Model-Parameter-Search-Feb-23-2017-15-24-5200000' already exists. Renaming the job to 'Model-Parameter-Search-Feb-23-2017-15-24-5200000-24506'.\n",
        "[INFO] graphlab.deploy.map_job: Validation complete. Job: 'Model-Parameter-Search-Feb-23-2017-15-24-5200000-24506' ready for execution\n",
        "[INFO] graphlab.deploy.map_job: Job: 'Model-Parameter-Search-Feb-23-2017-15-24-5200000-24506' scheduled.\n",
        "[INFO] graphlab.deploy.job: Validating job.\n",
        "[INFO] graphlab.deploy.map_job: Validation complete. Job: 'Model-Parameter-Search-Feb-23-2017-15-24-5200001' ready for execution\n",
        "[INFO] graphlab.deploy.map_job: Job: 'Model-Parameter-Search-Feb-23-2017-15-24-5200001' scheduled.\n",
        "[INFO] graphlab.deploy.job: Validating job.\n",
        "[INFO] graphlab.deploy.map_job: Validation complete. Job: 'Model-Parameter-Search-Feb-23-2017-15-24-5200002' ready for execution\n",
        "[INFO] graphlab.deploy.map_job: Job: 'Model-Parameter-Search-Feb-23-2017-15-24-5200002' scheduled.\n"
       ]
      }
     ],
     "prompt_number": 62
    },
    {
     "cell_type": "code",
     "collapsed": false,
     "input": [
      "hsp90_data1_paramSearch.get_best_params()"
     ],
     "language": "python",
     "metadata": {
      "deletable": true,
      "editable": true,
      "scrolled": true
     },
     "outputs": [
      {
       "metadata": {},
       "output_type": "pyout",
       "prompt_number": 63,
       "text": [
        "{'column_subsample': 0.6,\n",
        " 'features': ['aa1',\n",
        "  'aa2',\n",
        "  'wt_mut',\n",
        "  'aa1_polarity',\n",
        "  'aa2_polarity',\n",
        "  'aa1_PI',\n",
        "  'aa2_PI',\n",
        "  'deltaPI',\n",
        "  'Grantham',\n",
        "  'aa1_weight',\n",
        "  'aa2_weight',\n",
        "  'deltaWeight',\n",
        "  'aa1vol',\n",
        "  'aa2vol',\n",
        "  'deltavolume',\n",
        "  'aa1_psic',\n",
        "  'aa2_psic',\n",
        "  'delta_psic',\n",
        "  'accessibility',\n",
        "  'dssp_sec_str',\n",
        "  'phi_psi_reg',\n",
        "  'delta_solvent_accessibility',\n",
        "  'b_factor',\n",
        "  'mut_msa_congruency',\n",
        "  'mut_mut_msa_congruency',\n",
        "  'seq_ind_closest_mut',\n",
        "  'selection_coefficient',\n",
        "  'evolutionary_coupling_avg'],\n",
        " 'max_depth': 5,\n",
        " 'max_iterations': 50,\n",
        " 'min_child_weight': 1,\n",
        " 'min_loss_reduction': 0,\n",
        " 'row_subsample': 0.6,\n",
        " 'step_size': 0.1,\n",
        " 'target': 'scaled_effect1'}"
       ]
      }
     ],
     "prompt_number": 63
    },
    {
     "cell_type": "code",
     "collapsed": false,
     "input": [
      "params = dict([('target', 'scaled_effect1'), ('max_depth', [2, 6, 10, 25, 50] ), ('max_iterations' , 50), \n",
      "               ('column_subsample' , .6), ('row_subsample' , .6), ('min_child_weight' , [2, 6, 10, 25, 50]), \n",
      "               ('min_loss_reduction' , 0), ('step_size' , 0.1), ('features' , [predictors3])])\n",
      "hsp90_data1_paramSearch1 = gl.model_parameter_search.grid_search.create(folds, gl.boosted_trees_regression.create, params)"
     ],
     "language": "python",
     "metadata": {
      "deletable": true,
      "editable": true
     },
     "outputs": [
      {
       "output_type": "stream",
       "stream": "stderr",
       "text": [
        "[INFO] graphlab.deploy.job: Validating job.\n",
        "[INFO] graphlab.deploy.map_job: Validation complete. Job: 'Model-Parameter-Search-Feb-23-2017-15-29-1500000' ready for execution\n",
        "[INFO] graphlab.deploy.map_job: Job: 'Model-Parameter-Search-Feb-23-2017-15-29-1500000' scheduled.\n",
        "[INFO] graphlab.deploy.job: Validating job.\n",
        "[INFO] graphlab.deploy.map_job: A job with name 'Model-Parameter-Search-Feb-23-2017-15-29-1500000' already exists. Renaming the job to 'Model-Parameter-Search-Feb-23-2017-15-29-1500000-343e5'.\n",
        "[INFO] graphlab.deploy.map_job: Validation complete. Job: 'Model-Parameter-Search-Feb-23-2017-15-29-1500000-343e5' ready for execution\n",
        "[INFO] graphlab.deploy.map_job: Job: 'Model-Parameter-Search-Feb-23-2017-15-29-1500000-343e5' scheduled.\n",
        "[INFO] graphlab.deploy.job: Validating job.\n",
        "[INFO] graphlab.deploy.map_job: Validation complete. Job: 'Model-Parameter-Search-Feb-23-2017-15-29-1500001' ready for execution\n",
        "[INFO] graphlab.deploy.map_job: Job: 'Model-Parameter-Search-Feb-23-2017-15-29-1500001' scheduled.\n",
        "[INFO] graphlab.deploy.job: Validating job.\n",
        "[INFO] graphlab.deploy.map_job: Validation complete. Job: 'Model-Parameter-Search-Feb-23-2017-15-29-1500002' ready for execution\n",
        "[INFO] graphlab.deploy.map_job: Job: 'Model-Parameter-Search-Feb-23-2017-15-29-1500002' scheduled.\n"
       ]
      }
     ],
     "prompt_number": 64
    },
    {
     "cell_type": "code",
     "collapsed": false,
     "input": [
      "hsp90_data1_paramSearch1.get_best_params()"
     ],
     "language": "python",
     "metadata": {
      "deletable": true,
      "editable": true,
      "scrolled": true
     },
     "outputs": [
      {
       "metadata": {},
       "output_type": "pyout",
       "prompt_number": 65,
       "text": [
        "{'column_subsample': 0.6,\n",
        " 'features': ['aa1',\n",
        "  'aa2',\n",
        "  'wt_mut',\n",
        "  'aa1_polarity',\n",
        "  'aa2_polarity',\n",
        "  'aa1_PI',\n",
        "  'aa2_PI',\n",
        "  'deltaPI',\n",
        "  'Grantham',\n",
        "  'aa1_weight',\n",
        "  'aa2_weight',\n",
        "  'deltaWeight',\n",
        "  'aa1vol',\n",
        "  'aa2vol',\n",
        "  'deltavolume',\n",
        "  'aa1_psic',\n",
        "  'aa2_psic',\n",
        "  'delta_psic',\n",
        "  'accessibility',\n",
        "  'dssp_sec_str',\n",
        "  'phi_psi_reg',\n",
        "  'delta_solvent_accessibility',\n",
        "  'b_factor',\n",
        "  'mut_msa_congruency',\n",
        "  'mut_mut_msa_congruency',\n",
        "  'seq_ind_closest_mut',\n",
        "  'selection_coefficient',\n",
        "  'evolutionary_coupling_avg'],\n",
        " 'max_depth': 10,\n",
        " 'max_iterations': 50,\n",
        " 'min_child_weight': 2,\n",
        " 'min_loss_reduction': 0,\n",
        " 'row_subsample': 0.6,\n",
        " 'step_size': 0.1,\n",
        " 'target': 'scaled_effect1'}"
       ]
      }
     ],
     "prompt_number": 65
    },
    {
     "cell_type": "code",
     "collapsed": false,
     "input": [
      "params = dict([('target', 'scaled_effect1'), ('max_depth',10), ('max_iterations' , 50), \n",
      "               ('column_subsample' , .6), ('row_subsample' , .6), ('min_child_weight' ,2 ), \n",
      "               ('min_loss_reduction' , [0, 0.1, 0.2, 0.3, 0.4, 0.5]), ('step_size' , 0.1), ('features' , [predictors3])])\n",
      "hsp90_data1_paramSearch2 = gl.model_parameter_search.grid_search.create(folds, gl.boosted_trees_regression.create, params)"
     ],
     "language": "python",
     "metadata": {
      "deletable": true,
      "editable": true
     },
     "outputs": [
      {
       "output_type": "stream",
       "stream": "stderr",
       "text": [
        "[INFO] graphlab.deploy.job: Validating job.\n",
        "[INFO] graphlab.deploy.map_job: Validation complete. Job: 'Model-Parameter-Search-Feb-23-2017-15-48-4500000' ready for execution\n",
        "[INFO] graphlab.deploy.map_job: Job: 'Model-Parameter-Search-Feb-23-2017-15-48-4500000' scheduled.\n",
        "[INFO] graphlab.deploy.job: Validating job.\n",
        "[INFO] graphlab.deploy.map_job: A job with name 'Model-Parameter-Search-Feb-23-2017-15-48-4500000' already exists. Renaming the job to 'Model-Parameter-Search-Feb-23-2017-15-48-4500000-1d055'.\n",
        "[INFO] graphlab.deploy.map_job: Validation complete. Job: 'Model-Parameter-Search-Feb-23-2017-15-48-4500000-1d055' ready for execution\n",
        "[INFO] graphlab.deploy.map_job: Job: 'Model-Parameter-Search-Feb-23-2017-15-48-4500000-1d055' scheduled.\n",
        "[INFO] graphlab.deploy.job: Validating job.\n",
        "[INFO] graphlab.deploy.map_job: Validation complete. Job: 'Model-Parameter-Search-Feb-23-2017-15-48-4500001' ready for execution\n",
        "[INFO] graphlab.deploy.map_job: Job: 'Model-Parameter-Search-Feb-23-2017-15-48-4500001' scheduled.\n",
        "[INFO] graphlab.deploy.job: Validating job.\n",
        "[INFO] graphlab.deploy.map_job: Validation complete. Job: 'Model-Parameter-Search-Feb-23-2017-15-48-4500002' ready for execution\n",
        "[INFO] graphlab.deploy.map_job: Job: 'Model-Parameter-Search-Feb-23-2017-15-48-4500002' scheduled.\n"
       ]
      }
     ],
     "prompt_number": 66
    },
    {
     "cell_type": "code",
     "collapsed": false,
     "input": [
      "hsp90_data1_paramSearch2.get_best_params()"
     ],
     "language": "python",
     "metadata": {
      "deletable": true,
      "editable": true,
      "scrolled": true
     },
     "outputs": [
      {
       "metadata": {},
       "output_type": "pyout",
       "prompt_number": 67,
       "text": [
        "{'column_subsample': 0.6,\n",
        " 'features': ['aa1',\n",
        "  'aa2',\n",
        "  'wt_mut',\n",
        "  'aa1_polarity',\n",
        "  'aa2_polarity',\n",
        "  'aa1_PI',\n",
        "  'aa2_PI',\n",
        "  'deltaPI',\n",
        "  'Grantham',\n",
        "  'aa1_weight',\n",
        "  'aa2_weight',\n",
        "  'deltaWeight',\n",
        "  'aa1vol',\n",
        "  'aa2vol',\n",
        "  'deltavolume',\n",
        "  'aa1_psic',\n",
        "  'aa2_psic',\n",
        "  'delta_psic',\n",
        "  'accessibility',\n",
        "  'dssp_sec_str',\n",
        "  'phi_psi_reg',\n",
        "  'delta_solvent_accessibility',\n",
        "  'b_factor',\n",
        "  'mut_msa_congruency',\n",
        "  'mut_mut_msa_congruency',\n",
        "  'seq_ind_closest_mut',\n",
        "  'selection_coefficient',\n",
        "  'evolutionary_coupling_avg'],\n",
        " 'max_depth': 10,\n",
        " 'max_iterations': 50,\n",
        " 'min_child_weight': 2,\n",
        " 'min_loss_reduction': 0,\n",
        " 'row_subsample': 0.6,\n",
        " 'step_size': 0.1,\n",
        " 'target': 'scaled_effect1'}"
       ]
      }
     ],
     "prompt_number": 67
    },
    {
     "cell_type": "code",
     "collapsed": false,
     "input": [
      "params = dict([('target', 'scaled_effect1'), ('max_depth',10), ('max_iterations' , 50), \n",
      "               ('column_subsample' , [0.6, 0.7, 0.8, 0.9]), ('row_subsample' , [0.6, 0.7, 0.8, 0.9]), ('min_child_weight' ,2 ), \n",
      "               ('min_loss_reduction' ,  0), ('step_size' , 0.1), ('features' , [predictors3])])\n",
      "hsp90_data1_paramSearch3 = gl.model_parameter_search.grid_search.create(folds, gl.boosted_trees_regression.create, params)"
     ],
     "language": "python",
     "metadata": {
      "deletable": true,
      "editable": true
     },
     "outputs": [
      {
       "output_type": "stream",
       "stream": "stderr",
       "text": [
        "[INFO] graphlab.deploy.job: Validating job.\n",
        "[INFO] graphlab.deploy.map_job: Validation complete. Job: 'Model-Parameter-Search-Feb-23-2017-15-54-5100000' ready for execution\n",
        "[INFO] graphlab.deploy.map_job: Job: 'Model-Parameter-Search-Feb-23-2017-15-54-5100000' scheduled.\n",
        "[INFO] graphlab.deploy.job: Validating job.\n",
        "[INFO] graphlab.deploy.map_job: A job with name 'Model-Parameter-Search-Feb-23-2017-15-54-5100000' already exists. Renaming the job to 'Model-Parameter-Search-Feb-23-2017-15-54-5100000-25717'.\n",
        "[INFO] graphlab.deploy.map_job: Validation complete. Job: 'Model-Parameter-Search-Feb-23-2017-15-54-5100000-25717' ready for execution\n",
        "[INFO] graphlab.deploy.map_job: Job: 'Model-Parameter-Search-Feb-23-2017-15-54-5100000-25717' scheduled.\n",
        "[INFO] graphlab.deploy.job: Validating job.\n",
        "[INFO] graphlab.deploy.map_job: Validation complete. Job: 'Model-Parameter-Search-Feb-23-2017-15-54-5100001' ready for execution\n",
        "[INFO] graphlab.deploy.map_job: Job: 'Model-Parameter-Search-Feb-23-2017-15-54-5100001' scheduled.\n",
        "[INFO] graphlab.deploy.job: Validating job.\n",
        "[INFO] graphlab.deploy.map_job: Validation complete. Job: 'Model-Parameter-Search-Feb-23-2017-15-54-5100002' ready for execution\n",
        "[INFO] graphlab.deploy.map_job: Job: 'Model-Parameter-Search-Feb-23-2017-15-54-5100002' scheduled.\n"
       ]
      }
     ],
     "prompt_number": 68
    },
    {
     "cell_type": "code",
     "collapsed": false,
     "input": [
      "hsp90_data1_paramSearch3.get_best_params()"
     ],
     "language": "python",
     "metadata": {
      "deletable": true,
      "editable": true,
      "scrolled": true
     },
     "outputs": [
      {
       "metadata": {},
       "output_type": "pyout",
       "prompt_number": 69,
       "text": [
        "{'column_subsample': 0.7,\n",
        " 'features': ['aa1',\n",
        "  'aa2',\n",
        "  'wt_mut',\n",
        "  'aa1_polarity',\n",
        "  'aa2_polarity',\n",
        "  'aa1_PI',\n",
        "  'aa2_PI',\n",
        "  'deltaPI',\n",
        "  'Grantham',\n",
        "  'aa1_weight',\n",
        "  'aa2_weight',\n",
        "  'deltaWeight',\n",
        "  'aa1vol',\n",
        "  'aa2vol',\n",
        "  'deltavolume',\n",
        "  'aa1_psic',\n",
        "  'aa2_psic',\n",
        "  'delta_psic',\n",
        "  'accessibility',\n",
        "  'dssp_sec_str',\n",
        "  'phi_psi_reg',\n",
        "  'delta_solvent_accessibility',\n",
        "  'b_factor',\n",
        "  'mut_msa_congruency',\n",
        "  'mut_mut_msa_congruency',\n",
        "  'seq_ind_closest_mut',\n",
        "  'selection_coefficient',\n",
        "  'evolutionary_coupling_avg'],\n",
        " 'max_depth': 10,\n",
        " 'max_iterations': 50,\n",
        " 'min_child_weight': 2,\n",
        " 'min_loss_reduction': 0,\n",
        " 'row_subsample': 0.9,\n",
        " 'step_size': 0.1,\n",
        " 'target': 'scaled_effect1'}"
       ]
      }
     ],
     "prompt_number": 69
    },
    {
     "cell_type": "code",
     "collapsed": false,
     "input": [
      "train_data, test_data = hsp90_data1.random_split(0.8)\n",
      "hsp90_data1_regression_model = gl.boosted_trees_regression.create(train_data, 'scaled_effect1', \n",
      "                features = predictors3, max_iterations = 250, \n",
      "                column_subsample= 0.7, row_subsample =0.9,\n",
      "                min_child_weight = 2, min_loss_reduction = 0, step_size = 0.01,\n",
      "                max_depth = 10)"
     ],
     "language": "python",
     "metadata": {
      "deletable": true,
      "editable": true,
      "scrolled": true
     },
     "outputs": [
      {
       "output_type": "stream",
       "stream": "stdout",
       "text": [
        "PROGRESS: Creating a validation set from 5 percent of training data. This may take a while.\n",
        "          You can set ``validation_set=None`` to disable validation tracking.\n",
        "\n"
       ]
      },
      {
       "html": [
        "<pre>WARNING: Detected extremely low variance for feature(s) 'selection_coefficient' because all entries are nearly the same.\n",
        "Proceeding with model training using all features. If the model does not provide results of adequate quality, exclude the above mentioned feature(s) from the input dataset.</pre>"
       ],
       "metadata": {},
       "output_type": "display_data",
       "text": [
        "WARNING: Detected extremely low variance for feature(s) 'selection_coefficient' because all entries are nearly the same.\n",
        "Proceeding with model training using all features. If the model does not provide results of adequate quality, exclude the above mentioned feature(s) from the input dataset."
       ]
      },
      {
       "html": [
        "<pre>Boosted trees regression:</pre>"
       ],
       "metadata": {},
       "output_type": "display_data",
       "text": [
        "Boosted trees regression:"
       ]
      },
      {
       "html": [
        "<pre>--------------------------------------------------------</pre>"
       ],
       "metadata": {},
       "output_type": "display_data",
       "text": [
        "--------------------------------------------------------"
       ]
      },
      {
       "html": [
        "<pre>Number of examples          : 3045</pre>"
       ],
       "metadata": {},
       "output_type": "display_data",
       "text": [
        "Number of examples          : 3045"
       ]
      },
      {
       "html": [
        "<pre>Number of features          : 28</pre>"
       ],
       "metadata": {},
       "output_type": "display_data",
       "text": [
        "Number of features          : 28"
       ]
      },
      {
       "html": [
        "<pre>Number of unpacked features : 28</pre>"
       ],
       "metadata": {},
       "output_type": "display_data",
       "text": [
        "Number of unpacked features : 28"
       ]
      },
      {
       "html": [
        "<pre>+-----------+--------------+--------------------+----------------------+---------------+-----------------+</pre>"
       ],
       "metadata": {},
       "output_type": "display_data",
       "text": [
        "+-----------+--------------+--------------------+----------------------+---------------+-----------------+"
       ]
      },
      {
       "html": [
        "<pre>| Iteration | Elapsed Time | Training-max_error | Validation-max_error | Training-rmse | Validation-rmse |</pre>"
       ],
       "metadata": {},
       "output_type": "display_data",
       "text": [
        "| Iteration | Elapsed Time | Training-max_error | Validation-max_error | Training-rmse | Validation-rmse |"
       ]
      },
      {
       "html": [
        "<pre>+-----------+--------------+--------------------+----------------------+---------------+-----------------+</pre>"
       ],
       "metadata": {},
       "output_type": "display_data",
       "text": [
        "+-----------+--------------+--------------------+----------------------+---------------+-----------------+"
       ]
      },
      {
       "html": [
        "<pre>| 1         | 0.046981     | 0.696120           | 0.623134             | 0.446203      | 0.447763        |</pre>"
       ],
       "metadata": {},
       "output_type": "display_data",
       "text": [
        "| 1         | 0.046981     | 0.696120           | 0.623134             | 0.446203      | 0.447763        |"
       ]
      },
      {
       "html": [
        "<pre>| 2         | 0.091827     | 0.693889           | 0.626895             | 0.442333      | 0.444148        |</pre>"
       ],
       "metadata": {},
       "output_type": "display_data",
       "text": [
        "| 2         | 0.091827     | 0.693889           | 0.626895             | 0.442333      | 0.444148        |"
       ]
      },
      {
       "html": [
        "<pre>| 3         | 0.128622     | 0.689504           | 0.622797             | 0.438309      | 0.440167        |</pre>"
       ],
       "metadata": {},
       "output_type": "display_data",
       "text": [
        "| 3         | 0.128622     | 0.689504           | 0.622797             | 0.438309      | 0.440167        |"
       ]
      },
      {
       "html": [
        "<pre>| 4         | 0.161778     | 0.685637           | 0.618124             | 0.434368      | 0.436233        |</pre>"
       ],
       "metadata": {},
       "output_type": "display_data",
       "text": [
        "| 4         | 0.161778     | 0.685637           | 0.618124             | 0.434368      | 0.436233        |"
       ]
      },
      {
       "html": [
        "<pre>| 5         | 0.197285     | 0.681048           | 0.617109             | 0.430434      | 0.432450        |</pre>"
       ],
       "metadata": {},
       "output_type": "display_data",
       "text": [
        "| 5         | 0.197285     | 0.681048           | 0.617109             | 0.430434      | 0.432450        |"
       ]
      },
      {
       "html": [
        "<pre>| 6         | 0.232657     | 0.677114           | 0.613345             | 0.426563      | 0.428704        |</pre>"
       ],
       "metadata": {},
       "output_type": "display_data",
       "text": [
        "| 6         | 0.232657     | 0.677114           | 0.613345             | 0.426563      | 0.428704        |"
       ]
      },
      {
       "html": [
        "<pre>| 11        | 0.414576     | 0.657904           | 0.599188             | 0.407578      | 0.410271        |</pre>"
       ],
       "metadata": {},
       "output_type": "display_data",
       "text": [
        "| 11        | 0.414576     | 0.657904           | 0.599188             | 0.407578      | 0.410271        |"
       ]
      },
      {
       "html": [
        "<pre>| 50        | 1.876617     | 0.549457           | 0.559231             | 0.288826      | 0.295425        |</pre>"
       ],
       "metadata": {},
       "output_type": "display_data",
       "text": [
        "| 50        | 1.876617     | 0.549457           | 0.559231             | 0.288826      | 0.295425        |"
       ]
      },
      {
       "html": [
        "<pre>| 51        | 1.915285     | 0.546108           | 0.560689             | 0.286445      | 0.293202        |</pre>"
       ],
       "metadata": {},
       "output_type": "display_data",
       "text": [
        "| 51        | 1.915285     | 0.546108           | 0.560689             | 0.286445      | 0.293202        |"
       ]
      },
      {
       "html": [
        "<pre>| 100       | 3.811537     | 0.496490           | 0.608572             | 0.191731      | 0.206128        |</pre>"
       ],
       "metadata": {},
       "output_type": "display_data",
       "text": [
        "| 100       | 3.811537     | 0.496490           | 0.608572             | 0.191731      | 0.206128        |"
       ]
      },
      {
       "html": [
        "<pre>| 101       | 3.852071     | 0.495258           | 0.610056             | 0.190286      | 0.204862        |</pre>"
       ],
       "metadata": {},
       "output_type": "display_data",
       "text": [
        "| 101       | 3.852071     | 0.495258           | 0.610056             | 0.190286      | 0.204862        |"
       ]
      },
      {
       "html": [
        "<pre>| 150       | 5.835110     | 0.448064           | 0.639464             | 0.134118      | 0.158988        |</pre>"
       ],
       "metadata": {},
       "output_type": "display_data",
       "text": [
        "| 150       | 5.835110     | 0.448064           | 0.639464             | 0.134118      | 0.158988        |"
       ]
      },
      {
       "html": [
        "<pre>| 200       | 7.893104     | 0.427734           | 0.658482             | 0.099457      | 0.134628        |</pre>"
       ],
       "metadata": {},
       "output_type": "display_data",
       "text": [
        "| 200       | 7.893104     | 0.427734           | 0.658482             | 0.099457      | 0.134628        |"
       ]
      },
      {
       "html": [
        "<pre>| 250       | 9.987104     | 0.392431           | 0.666181             | 0.078810      | 0.122884        |</pre>"
       ],
       "metadata": {},
       "output_type": "display_data",
       "text": [
        "| 250       | 9.987104     | 0.392431           | 0.666181             | 0.078810      | 0.122884        |"
       ]
      },
      {
       "html": [
        "<pre>+-----------+--------------+--------------------+----------------------+---------------+-----------------+</pre>"
       ],
       "metadata": {},
       "output_type": "display_data",
       "text": [
        "+-----------+--------------+--------------------+----------------------+---------------+-----------------+"
       ]
      }
     ],
     "prompt_number": 28
    },
    {
     "cell_type": "code",
     "collapsed": true,
     "input": [
      "pickler = gl._gl_pickle.GLPickler(filename = '/net/fowler/vol1/home/vegray/metaDMS/dato/singleModels/scaled_hsp90_2017-01-05')\n",
      "pickler.dump(hsp90_data1_regression_model)\n",
      "pickler.close()"
     ],
     "language": "python",
     "metadata": {
      "deletable": true,
      "editable": true
     },
     "outputs": [],
     "prompt_number": 71
    },
    {
     "cell_type": "code",
     "collapsed": false,
     "input": [
      "pred = hsp90_data1_regression_model.predict(test_data)\n",
      "stats.pearsonr(pred, test_data['scaled_effect1'])\n",
      "stats.spearmanr(pred, test_data['scaled_effect1'])\n",
      "#sqrt(mean_squared_error(pred,test_data['scaled_effect1']))"
     ],
     "language": "python",
     "metadata": {
      "deletable": true,
      "editable": true
     },
     "outputs": [
      {
       "metadata": {},
       "output_type": "pyout",
       "prompt_number": 29,
       "text": [
        "(0.685761934537504, 1.5639633964135591e-115)"
       ]
      }
     ],
     "prompt_number": 29
    },
    {
     "cell_type": "code",
     "collapsed": false,
     "input": [
      "pred = hsp90_data1_regression_model.predict(train_data)\n",
      "stats.pearsonr(pred, train_data['scaled_effect1'])\n",
      "stats.spearmanr(pred, train_data['scaled_effect1'])\n",
      "#sqrt(mean_squared_error(pred,test_data['scaled_effect1']))"
     ],
     "language": "python",
     "metadata": {
      "deletable": true,
      "editable": true
     },
     "outputs": [
      {
       "metadata": {},
       "output_type": "pyout",
       "prompt_number": 30,
       "text": [
        "(0.79853031844662836, 0.0)"
       ]
      }
     ],
     "prompt_number": 30
    },
    {
     "cell_type": "code",
     "collapsed": true,
     "input": [
      "unpickler = gl._gl_pickle.GLUnpickler(filename = '/net/fowler/vol1/home/vegray/metaDMS/dato/singleModels/scaled_hsp90_2017-01-05')\n",
      "hsp90_data1_regression_model = unpickler.load()\n",
      "unpickler.close()"
     ],
     "language": "python",
     "metadata": {},
     "outputs": [],
     "prompt_number": 81
    },
    {
     "cell_type": "code",
     "collapsed": true,
     "input": [
      "## hsp90 pred data\n",
      "\n",
      "hsp90_pred_data = pred_data.filter_by([x for x in pred_data['protein'].unique() if x in ['hsp90']], 'protein')\n",
      "\n",
      "predicted_hsp90 = hsp90_data1_regression_model.predict(hsp90_pred_data)\n",
      "hsp90_pred_data2 = hsp90_pred_data.add_column(predicted_hsp90, name = 'predictions')\n",
      "\n",
      "hsp90_pred_data2.export_csv(filename = '/net/fowler/vol1/home/vegray/metaDMS/dato/singleModels/hsp90_out.csv')"
     ],
     "language": "python",
     "metadata": {},
     "outputs": [],
     "prompt_number": 82
    },
    {
     "cell_type": "heading",
     "level": 1,
     "metadata": {
      "deletable": true,
      "editable": true
     },
     "source": [
      "pab1"
     ]
    },
    {
     "cell_type": "code",
     "collapsed": false,
     "input": [
      "pab1_data = data.filter_by([x for x in data['dms_id'].unique() if x in ['Pab1']], 'dms_id')\n",
      "pab1_data1 = pab1_data.filter_by([x for x in pab1_data['mut_type'].unique() if x in ['missense']], 'mut_type')\n",
      "pab1_data1 = pab1_data1.add_row_number('id',0)"
     ],
     "language": "python",
     "metadata": {
      "deletable": true,
      "editable": true
     },
     "outputs": [
      {
       "ename": "RuntimeError",
       "evalue": "Column 'id' already exists in the current SFrame",
       "output_type": "pyerr",
       "traceback": [
        "\u001b[0;31m---------------------------------------------------------------------------\u001b[0m",
        "\u001b[0;31mRuntimeError\u001b[0m                              Traceback (most recent call last)",
        "\u001b[0;32m<ipython-input-31-2ad401800092>\u001b[0m in \u001b[0;36m<module>\u001b[0;34m()\u001b[0m\n\u001b[1;32m      1\u001b[0m \u001b[0mpab1_data\u001b[0m \u001b[0;34m=\u001b[0m \u001b[0mdata\u001b[0m\u001b[0;34m.\u001b[0m\u001b[0mfilter_by\u001b[0m\u001b[0;34m(\u001b[0m\u001b[0;34m[\u001b[0m\u001b[0mx\u001b[0m \u001b[0;32mfor\u001b[0m \u001b[0mx\u001b[0m \u001b[0;32min\u001b[0m \u001b[0mdata\u001b[0m\u001b[0;34m[\u001b[0m\u001b[0;34m'dms_id'\u001b[0m\u001b[0;34m]\u001b[0m\u001b[0;34m.\u001b[0m\u001b[0munique\u001b[0m\u001b[0;34m(\u001b[0m\u001b[0;34m)\u001b[0m \u001b[0;32mif\u001b[0m \u001b[0mx\u001b[0m \u001b[0;32min\u001b[0m \u001b[0;34m[\u001b[0m\u001b[0;34m'Pab1'\u001b[0m\u001b[0;34m]\u001b[0m\u001b[0;34m]\u001b[0m\u001b[0;34m,\u001b[0m \u001b[0;34m'dms_id'\u001b[0m\u001b[0;34m)\u001b[0m\u001b[0;34m\u001b[0m\u001b[0m\n\u001b[1;32m      2\u001b[0m \u001b[0mpab1_data1\u001b[0m \u001b[0;34m=\u001b[0m \u001b[0mpab1_data\u001b[0m\u001b[0;34m.\u001b[0m\u001b[0mfilter_by\u001b[0m\u001b[0;34m(\u001b[0m\u001b[0;34m[\u001b[0m\u001b[0mx\u001b[0m \u001b[0;32mfor\u001b[0m \u001b[0mx\u001b[0m \u001b[0;32min\u001b[0m \u001b[0mpab1_data\u001b[0m\u001b[0;34m[\u001b[0m\u001b[0;34m'mut_type'\u001b[0m\u001b[0;34m]\u001b[0m\u001b[0;34m.\u001b[0m\u001b[0munique\u001b[0m\u001b[0;34m(\u001b[0m\u001b[0;34m)\u001b[0m \u001b[0;32mif\u001b[0m \u001b[0mx\u001b[0m \u001b[0;32min\u001b[0m \u001b[0;34m[\u001b[0m\u001b[0;34m'missense'\u001b[0m\u001b[0;34m]\u001b[0m\u001b[0;34m]\u001b[0m\u001b[0;34m,\u001b[0m \u001b[0;34m'mut_type'\u001b[0m\u001b[0;34m)\u001b[0m\u001b[0;34m\u001b[0m\u001b[0m\n\u001b[0;32m----> 3\u001b[0;31m \u001b[0mpab1_data1\u001b[0m \u001b[0;34m=\u001b[0m \u001b[0mpab1_data1\u001b[0m\u001b[0;34m.\u001b[0m\u001b[0madd_row_number\u001b[0m\u001b[0;34m(\u001b[0m\u001b[0;34m'id'\u001b[0m\u001b[0;34m,\u001b[0m\u001b[0;36m0\u001b[0m\u001b[0;34m)\u001b[0m\u001b[0;34m\u001b[0m\u001b[0m\n\u001b[0m",
        "\u001b[0;32m/net/gs/vol3/software/modules-sw-python/2.7.3/graphlab/2.1/Linux/RHEL6/x86_64/lib/python2.7/site-packages/graphlab/data_structures/sframe.pyc\u001b[0m in \u001b[0;36madd_row_number\u001b[0;34m(self, column_name, start)\u001b[0m\n\u001b[1;32m   6150\u001b[0m \u001b[0;34m\u001b[0m\u001b[0m\n\u001b[1;32m   6151\u001b[0m         \u001b[0;32mif\u001b[0m \u001b[0mcolumn_name\u001b[0m \u001b[0;32min\u001b[0m \u001b[0mself\u001b[0m\u001b[0;34m.\u001b[0m\u001b[0mcolumn_names\u001b[0m\u001b[0;34m(\u001b[0m\u001b[0;34m)\u001b[0m\u001b[0;34m:\u001b[0m\u001b[0;34m\u001b[0m\u001b[0m\n\u001b[0;32m-> 6152\u001b[0;31m             \u001b[0;32mraise\u001b[0m \u001b[0mRuntimeError\u001b[0m\u001b[0;34m(\u001b[0m\u001b[0;34m\"Column '\"\u001b[0m \u001b[0;34m+\u001b[0m \u001b[0mcolumn_name\u001b[0m \u001b[0;34m+\u001b[0m \u001b[0;34m\"' already exists in the current SFrame\"\u001b[0m\u001b[0;34m)\u001b[0m\u001b[0;34m\u001b[0m\u001b[0m\n\u001b[0m\u001b[1;32m   6153\u001b[0m \u001b[0;34m\u001b[0m\u001b[0m\n\u001b[1;32m   6154\u001b[0m         \u001b[0mthe_col\u001b[0m \u001b[0;34m=\u001b[0m \u001b[0m_create_sequential_sarray\u001b[0m\u001b[0;34m(\u001b[0m\u001b[0mself\u001b[0m\u001b[0;34m.\u001b[0m\u001b[0mnum_rows\u001b[0m\u001b[0;34m(\u001b[0m\u001b[0;34m)\u001b[0m\u001b[0;34m,\u001b[0m \u001b[0mstart\u001b[0m\u001b[0;34m)\u001b[0m\u001b[0;34m\u001b[0m\u001b[0m\n",
        "\u001b[0;31mRuntimeError\u001b[0m: Column 'id' already exists in the current SFrame"
       ]
      }
     ],
     "prompt_number": 31
    },
    {
     "cell_type": "code",
     "collapsed": false,
     "input": [
      "folds = gl.cross_validation.KFold(pab1_data1,10)\n",
      "params = dict([('target', 'scaled_effect1'), ('max_depth', 5), ('max_iterations' , [5,10,25,50]), \n",
      "               ('column_subsample' , .6), ('row_subsample' , .6), ('min_child_weight' , 1), \n",
      "               ('min_loss_reduction' , 0), ('step_size' , 0.1), ('features' , [predictors3])])\n",
      "pab1_data1_paramSearch = gl.model_parameter_search.grid_search.create(folds, gl.boosted_trees_regression.create, params)"
     ],
     "language": "python",
     "metadata": {
      "deletable": true,
      "editable": true
     },
     "outputs": [
      {
       "output_type": "stream",
       "stream": "stderr",
       "text": [
        "[INFO] graphlab.deploy.job: Validating job.\n",
        "[INFO] graphlab.deploy.map_job: Validation complete. Job: 'Model-Parameter-Search-Feb-23-2017-16-12-2800000' ready for execution\n",
        "[INFO] graphlab.deploy.map_job: Job: 'Model-Parameter-Search-Feb-23-2017-16-12-2800000' scheduled.\n",
        "[INFO] graphlab.deploy.job: Validating job.\n",
        "[INFO] graphlab.deploy.map_job: A job with name 'Model-Parameter-Search-Feb-23-2017-16-12-2800000' already exists. Renaming the job to 'Model-Parameter-Search-Feb-23-2017-16-12-2800000-4f60a'.\n",
        "[INFO] graphlab.deploy.map_job: Validation complete. Job: 'Model-Parameter-Search-Feb-23-2017-16-12-2800000-4f60a' ready for execution\n",
        "[INFO] graphlab.deploy.map_job: Job: 'Model-Parameter-Search-Feb-23-2017-16-12-2800000-4f60a' scheduled.\n",
        "[INFO] graphlab.deploy.job: Validating job.\n",
        "[INFO] graphlab.deploy.map_job: Validation complete. Job: 'Model-Parameter-Search-Feb-23-2017-16-12-2800001' ready for execution\n",
        "[INFO] graphlab.deploy.map_job: Job: 'Model-Parameter-Search-Feb-23-2017-16-12-2800001' scheduled.\n",
        "[INFO] graphlab.deploy.job: Validating job.\n",
        "[INFO] graphlab.deploy.map_job: Validation complete. Job: 'Model-Parameter-Search-Feb-23-2017-16-12-2800002' ready for execution\n",
        "[INFO] graphlab.deploy.map_job: Job: 'Model-Parameter-Search-Feb-23-2017-16-12-2800002' scheduled.\n"
       ]
      }
     ],
     "prompt_number": 75
    },
    {
     "cell_type": "code",
     "collapsed": false,
     "input": [
      "pab1_data1_paramSearch.get_best_params()"
     ],
     "language": "python",
     "metadata": {
      "deletable": true,
      "editable": true,
      "scrolled": true
     },
     "outputs": [
      {
       "metadata": {},
       "output_type": "pyout",
       "prompt_number": 76,
       "text": [
        "{'column_subsample': 0.6,\n",
        " 'features': ['aa1',\n",
        "  'aa2',\n",
        "  'wt_mut',\n",
        "  'aa1_polarity',\n",
        "  'aa2_polarity',\n",
        "  'aa1_PI',\n",
        "  'aa2_PI',\n",
        "  'deltaPI',\n",
        "  'Grantham',\n",
        "  'aa1_weight',\n",
        "  'aa2_weight',\n",
        "  'deltaWeight',\n",
        "  'aa1vol',\n",
        "  'aa2vol',\n",
        "  'deltavolume',\n",
        "  'aa1_psic',\n",
        "  'aa2_psic',\n",
        "  'delta_psic',\n",
        "  'accessibility',\n",
        "  'dssp_sec_str',\n",
        "  'phi_psi_reg',\n",
        "  'delta_solvent_accessibility',\n",
        "  'b_factor',\n",
        "  'mut_msa_congruency',\n",
        "  'mut_mut_msa_congruency',\n",
        "  'seq_ind_closest_mut',\n",
        "  'selection_coefficient',\n",
        "  'evolutionary_coupling_avg'],\n",
        " 'max_depth': 5,\n",
        " 'max_iterations': 50,\n",
        " 'min_child_weight': 1,\n",
        " 'min_loss_reduction': 0,\n",
        " 'row_subsample': 0.6,\n",
        " 'step_size': 0.1,\n",
        " 'target': 'scaled_effect1'}"
       ]
      }
     ],
     "prompt_number": 76
    },
    {
     "cell_type": "code",
     "collapsed": false,
     "input": [
      "params = dict([('target', 'scaled_effect1'), ('max_depth', [2, 6, 10, 25, 50] ), ('max_iterations' , 50), \n",
      "               ('column_subsample' , .6), ('row_subsample' , .6), ('min_child_weight' , [2, 6, 10, 25, 50]), \n",
      "               ('min_loss_reduction' , 0), ('step_size' , 0.1), ('features' , [predictors3])])\n",
      "pab1_data1_paramSearch1 = gl.model_parameter_search.grid_search.create(folds, gl.boosted_trees_regression.create, params)"
     ],
     "language": "python",
     "metadata": {
      "deletable": true,
      "editable": true
     },
     "outputs": [
      {
       "output_type": "stream",
       "stream": "stderr",
       "text": [
        "[INFO] graphlab.deploy.job: Validating job.\n",
        "[INFO] graphlab.deploy.map_job: Validation complete. Job: 'Model-Parameter-Search-Feb-23-2017-16-15-3200000' ready for execution\n",
        "[INFO] graphlab.deploy.map_job: Job: 'Model-Parameter-Search-Feb-23-2017-16-15-3200000' scheduled.\n",
        "[INFO] graphlab.deploy.job: Validating job.\n",
        "[INFO] graphlab.deploy.map_job: A job with name 'Model-Parameter-Search-Feb-23-2017-16-15-3200000' already exists. Renaming the job to 'Model-Parameter-Search-Feb-23-2017-16-15-3200000-43939'.\n",
        "[INFO] graphlab.deploy.map_job: Validation complete. Job: 'Model-Parameter-Search-Feb-23-2017-16-15-3200000-43939' ready for execution\n",
        "[INFO] graphlab.deploy.map_job: Job: 'Model-Parameter-Search-Feb-23-2017-16-15-3200000-43939' scheduled.\n",
        "[INFO] graphlab.deploy.job: Validating job.\n",
        "[INFO] graphlab.deploy.map_job: Validation complete. Job: 'Model-Parameter-Search-Feb-23-2017-16-15-3200001' ready for execution\n",
        "[INFO] graphlab.deploy.map_job: Job: 'Model-Parameter-Search-Feb-23-2017-16-15-3200001' scheduled.\n",
        "[INFO] graphlab.deploy.job: Validating job.\n",
        "[INFO] graphlab.deploy.map_job: Validation complete. Job: 'Model-Parameter-Search-Feb-23-2017-16-15-3200002' ready for execution\n",
        "[INFO] graphlab.deploy.map_job: Job: 'Model-Parameter-Search-Feb-23-2017-16-15-3200002' scheduled.\n"
       ]
      }
     ],
     "prompt_number": 77
    },
    {
     "cell_type": "code",
     "collapsed": false,
     "input": [
      "pab1_data1_paramSearch1.get_best_params()"
     ],
     "language": "python",
     "metadata": {
      "deletable": true,
      "editable": true,
      "scrolled": true
     },
     "outputs": [
      {
       "metadata": {},
       "output_type": "pyout",
       "prompt_number": 78,
       "text": [
        "{'column_subsample': 0.6,\n",
        " 'features': ['aa1',\n",
        "  'aa2',\n",
        "  'wt_mut',\n",
        "  'aa1_polarity',\n",
        "  'aa2_polarity',\n",
        "  'aa1_PI',\n",
        "  'aa2_PI',\n",
        "  'deltaPI',\n",
        "  'Grantham',\n",
        "  'aa1_weight',\n",
        "  'aa2_weight',\n",
        "  'deltaWeight',\n",
        "  'aa1vol',\n",
        "  'aa2vol',\n",
        "  'deltavolume',\n",
        "  'aa1_psic',\n",
        "  'aa2_psic',\n",
        "  'delta_psic',\n",
        "  'accessibility',\n",
        "  'dssp_sec_str',\n",
        "  'phi_psi_reg',\n",
        "  'delta_solvent_accessibility',\n",
        "  'b_factor',\n",
        "  'mut_msa_congruency',\n",
        "  'mut_mut_msa_congruency',\n",
        "  'seq_ind_closest_mut',\n",
        "  'selection_coefficient',\n",
        "  'evolutionary_coupling_avg'],\n",
        " 'max_depth': 10,\n",
        " 'max_iterations': 50,\n",
        " 'min_child_weight': 6,\n",
        " 'min_loss_reduction': 0,\n",
        " 'row_subsample': 0.6,\n",
        " 'step_size': 0.1,\n",
        " 'target': 'scaled_effect1'}"
       ]
      }
     ],
     "prompt_number": 78
    },
    {
     "cell_type": "code",
     "collapsed": false,
     "input": [
      "params = dict([('target', 'scaled_effect1'), ('max_depth',10), ('max_iterations' , 50), \n",
      "               ('column_subsample' , .6), ('row_subsample' , .6), ('min_child_weight' ,6), \n",
      "               ('min_loss_reduction' , [0, 0.1, 0.2, 0.3, 0.4, 0.5]), ('step_size' , 0.1), ('features' , [predictors3])])\n",
      "pab1_data1_paramSearch2 = gl.model_parameter_search.grid_search.create(folds, gl.boosted_trees_regression.create, params)"
     ],
     "language": "python",
     "metadata": {
      "deletable": true,
      "editable": true
     },
     "outputs": [
      {
       "output_type": "stream",
       "stream": "stderr",
       "text": [
        "[INFO] graphlab.deploy.job: Validating job.\n",
        "[INFO] graphlab.deploy.map_job: Validation complete. Job: 'Model-Parameter-Search-Feb-23-2017-16-44-0200000' ready for execution\n",
        "[INFO] graphlab.deploy.map_job: Job: 'Model-Parameter-Search-Feb-23-2017-16-44-0200000' scheduled.\n",
        "[INFO] graphlab.deploy.job: Validating job.\n",
        "[INFO] graphlab.deploy.map_job: A job with name 'Model-Parameter-Search-Feb-23-2017-16-44-0200000' already exists. Renaming the job to 'Model-Parameter-Search-Feb-23-2017-16-44-0200000-abd89'.\n",
        "[INFO] graphlab.deploy.map_job: Validation complete. Job: 'Model-Parameter-Search-Feb-23-2017-16-44-0200000-abd89' ready for execution\n",
        "[INFO] graphlab.deploy.map_job: Job: 'Model-Parameter-Search-Feb-23-2017-16-44-0200000-abd89' scheduled.\n",
        "[INFO] graphlab.deploy.job: Validating job.\n",
        "[INFO] graphlab.deploy.map_job: Validation complete. Job: 'Model-Parameter-Search-Feb-23-2017-16-44-0200001' ready for execution\n",
        "[INFO] graphlab.deploy.map_job: Job: 'Model-Parameter-Search-Feb-23-2017-16-44-0200001' scheduled.\n",
        "[INFO] graphlab.deploy.job: Validating job.\n",
        "[INFO] graphlab.deploy.map_job: Validation complete. Job: 'Model-Parameter-Search-Feb-23-2017-16-44-0200002' ready for execution\n",
        "[INFO] graphlab.deploy.map_job: Job: 'Model-Parameter-Search-Feb-23-2017-16-44-0200002' scheduled.\n"
       ]
      }
     ],
     "prompt_number": 79
    },
    {
     "cell_type": "code",
     "collapsed": false,
     "input": [
      "pab1_data1_paramSearch2.get_best_params()"
     ],
     "language": "python",
     "metadata": {
      "deletable": true,
      "editable": true,
      "scrolled": true
     },
     "outputs": [
      {
       "metadata": {},
       "output_type": "pyout",
       "prompt_number": 80,
       "text": [
        "{'column_subsample': 0.6,\n",
        " 'features': ['aa1',\n",
        "  'aa2',\n",
        "  'wt_mut',\n",
        "  'aa1_polarity',\n",
        "  'aa2_polarity',\n",
        "  'aa1_PI',\n",
        "  'aa2_PI',\n",
        "  'deltaPI',\n",
        "  'Grantham',\n",
        "  'aa1_weight',\n",
        "  'aa2_weight',\n",
        "  'deltaWeight',\n",
        "  'aa1vol',\n",
        "  'aa2vol',\n",
        "  'deltavolume',\n",
        "  'aa1_psic',\n",
        "  'aa2_psic',\n",
        "  'delta_psic',\n",
        "  'accessibility',\n",
        "  'dssp_sec_str',\n",
        "  'phi_psi_reg',\n",
        "  'delta_solvent_accessibility',\n",
        "  'b_factor',\n",
        "  'mut_msa_congruency',\n",
        "  'mut_mut_msa_congruency',\n",
        "  'seq_ind_closest_mut',\n",
        "  'selection_coefficient',\n",
        "  'evolutionary_coupling_avg'],\n",
        " 'max_depth': 10,\n",
        " 'max_iterations': 50,\n",
        " 'min_child_weight': 6,\n",
        " 'min_loss_reduction': 0,\n",
        " 'row_subsample': 0.6,\n",
        " 'step_size': 0.1,\n",
        " 'target': 'scaled_effect1'}"
       ]
      }
     ],
     "prompt_number": 80
    },
    {
     "cell_type": "code",
     "collapsed": false,
     "input": [
      "params = dict([('target', 'scaled_effect1'), ('max_depth',10), ('max_iterations' , 50), \n",
      "               ('column_subsample' , [0.6, 0.7, 0.8, 0.9]), ('row_subsample' , [0.6, 0.7, 0.8, 0.9]), ('min_child_weight' ,6), \n",
      "               ('min_loss_reduction' ,  0), ('step_size' , 0.1), ('features' , [predictors3])])\n",
      "pab1_data1_paramSearch3 = gl.model_parameter_search.grid_search.create(folds, gl.boosted_trees_regression.create, params)"
     ],
     "language": "python",
     "metadata": {
      "deletable": true,
      "editable": true
     },
     "outputs": [
      {
       "output_type": "stream",
       "stream": "stderr",
       "text": [
        "[INFO] graphlab.deploy.job: Validating job.\n",
        "[INFO] graphlab.deploy.map_job: Validation complete. Job: 'Model-Parameter-Search-Feb-23-2017-16-47-4600000' ready for execution\n",
        "[INFO] graphlab.deploy.map_job: Job: 'Model-Parameter-Search-Feb-23-2017-16-47-4600000' scheduled.\n",
        "[INFO] graphlab.deploy.job: Validating job.\n",
        "[INFO] graphlab.deploy.map_job: A job with name 'Model-Parameter-Search-Feb-23-2017-16-47-4600000' already exists. Renaming the job to 'Model-Parameter-Search-Feb-23-2017-16-47-4600000-4ab13'.\n",
        "[INFO] graphlab.deploy.map_job: Validation complete. Job: 'Model-Parameter-Search-Feb-23-2017-16-47-4600000-4ab13' ready for execution\n",
        "[INFO] graphlab.deploy.map_job: Job: 'Model-Parameter-Search-Feb-23-2017-16-47-4600000-4ab13' scheduled.\n",
        "[INFO] graphlab.deploy.job: Validating job.\n",
        "[INFO] graphlab.deploy.map_job: Validation complete. Job: 'Model-Parameter-Search-Feb-23-2017-16-47-4600001' ready for execution\n",
        "[INFO] graphlab.deploy.map_job: Job: 'Model-Parameter-Search-Feb-23-2017-16-47-4600001' scheduled.\n",
        "[INFO] graphlab.deploy.job: Validating job.\n",
        "[INFO] graphlab.deploy.map_job: Validation complete. Job: 'Model-Parameter-Search-Feb-23-2017-16-47-4600002' ready for execution\n",
        "[INFO] graphlab.deploy.map_job: Job: 'Model-Parameter-Search-Feb-23-2017-16-47-4600002' scheduled.\n"
       ]
      }
     ],
     "prompt_number": 81
    },
    {
     "cell_type": "code",
     "collapsed": false,
     "input": [
      "pab1_data1_paramSearch3.get_best_params()"
     ],
     "language": "python",
     "metadata": {
      "deletable": true,
      "editable": true,
      "scrolled": true
     },
     "outputs": [
      {
       "metadata": {},
       "output_type": "pyout",
       "prompt_number": 82,
       "text": [
        "{'column_subsample': 0.8,\n",
        " 'features': ['aa1',\n",
        "  'aa2',\n",
        "  'wt_mut',\n",
        "  'aa1_polarity',\n",
        "  'aa2_polarity',\n",
        "  'aa1_PI',\n",
        "  'aa2_PI',\n",
        "  'deltaPI',\n",
        "  'Grantham',\n",
        "  'aa1_weight',\n",
        "  'aa2_weight',\n",
        "  'deltaWeight',\n",
        "  'aa1vol',\n",
        "  'aa2vol',\n",
        "  'deltavolume',\n",
        "  'aa1_psic',\n",
        "  'aa2_psic',\n",
        "  'delta_psic',\n",
        "  'accessibility',\n",
        "  'dssp_sec_str',\n",
        "  'phi_psi_reg',\n",
        "  'delta_solvent_accessibility',\n",
        "  'b_factor',\n",
        "  'mut_msa_congruency',\n",
        "  'mut_mut_msa_congruency',\n",
        "  'seq_ind_closest_mut',\n",
        "  'selection_coefficient',\n",
        "  'evolutionary_coupling_avg'],\n",
        " 'max_depth': 10,\n",
        " 'max_iterations': 50,\n",
        " 'min_child_weight': 6,\n",
        " 'min_loss_reduction': 0,\n",
        " 'row_subsample': 0.8,\n",
        " 'step_size': 0.1,\n",
        " 'target': 'scaled_effect1'}"
       ]
      }
     ],
     "prompt_number": 82
    },
    {
     "cell_type": "code",
     "collapsed": false,
     "input": [
      "train_data, test_data = pab1_data1.random_split(0.8)\n",
      "pab1_data1_regression_model = gl.boosted_trees_regression.create(train_data, 'scaled_effect1', \n",
      "                features = predictors3, max_iterations = 250, \n",
      "                column_subsample= 0.8, row_subsample =0.8,\n",
      "                min_child_weight = 6, min_loss_reduction = 0, step_size = 0.01,\n",
      "                max_depth = 10)"
     ],
     "language": "python",
     "metadata": {
      "deletable": true,
      "editable": true,
      "scrolled": true
     },
     "outputs": [
      {
       "output_type": "stream",
       "stream": "stdout",
       "text": [
        "PROGRESS: Creating a validation set from 5 percent of training data. This may take a while.\n",
        "          You can set ``validation_set=None`` to disable validation tracking.\n",
        "\n"
       ]
      },
      {
       "html": [
        "<pre>Boosted trees regression:</pre>"
       ],
       "metadata": {},
       "output_type": "display_data",
       "text": [
        "Boosted trees regression:"
       ]
      },
      {
       "html": [
        "<pre>--------------------------------------------------------</pre>"
       ],
       "metadata": {},
       "output_type": "display_data",
       "text": [
        "--------------------------------------------------------"
       ]
      },
      {
       "html": [
        "<pre>Number of examples          : 899</pre>"
       ],
       "metadata": {},
       "output_type": "display_data",
       "text": [
        "Number of examples          : 899"
       ]
      },
      {
       "html": [
        "<pre>Number of features          : 28</pre>"
       ],
       "metadata": {},
       "output_type": "display_data",
       "text": [
        "Number of features          : 28"
       ]
      },
      {
       "html": [
        "<pre>Number of unpacked features : 28</pre>"
       ],
       "metadata": {},
       "output_type": "display_data",
       "text": [
        "Number of unpacked features : 28"
       ]
      },
      {
       "html": [
        "<pre>+-----------+--------------+--------------------+----------------------+---------------+-----------------+</pre>"
       ],
       "metadata": {},
       "output_type": "display_data",
       "text": [
        "+-----------+--------------+--------------------+----------------------+---------------+-----------------+"
       ]
      },
      {
       "html": [
        "<pre>| Iteration | Elapsed Time | Training-max_error | Validation-max_error | Training-rmse | Validation-rmse |</pre>"
       ],
       "metadata": {},
       "output_type": "display_data",
       "text": [
        "| Iteration | Elapsed Time | Training-max_error | Validation-max_error | Training-rmse | Validation-rmse |"
       ]
      },
      {
       "html": [
        "<pre>+-----------+--------------+--------------------+----------------------+---------------+-----------------+</pre>"
       ],
       "metadata": {},
       "output_type": "display_data",
       "text": [
        "+-----------+--------------+--------------------+----------------------+---------------+-----------------+"
       ]
      },
      {
       "html": [
        "<pre>| 1         | 0.031230     | 0.741131           | 0.599531             | 0.406460      | 0.394257        |</pre>"
       ],
       "metadata": {},
       "output_type": "display_data",
       "text": [
        "| 1         | 0.031230     | 0.741131           | 0.599531             | 0.406460      | 0.394257        |"
       ]
      },
      {
       "html": [
        "<pre>| 2         | 0.053514     | 0.736486           | 0.597492             | 0.402914      | 0.391020        |</pre>"
       ],
       "metadata": {},
       "output_type": "display_data",
       "text": [
        "| 2         | 0.053514     | 0.736486           | 0.597492             | 0.402914      | 0.391020        |"
       ]
      },
      {
       "html": [
        "<pre>| 3         | 0.078151     | 0.732260           | 0.594397             | 0.399405      | 0.388116        |</pre>"
       ],
       "metadata": {},
       "output_type": "display_data",
       "text": [
        "| 3         | 0.078151     | 0.732260           | 0.594397             | 0.399405      | 0.388116        |"
       ]
      },
      {
       "html": [
        "<pre>| 4         | 0.100142     | 0.728073           | 0.591196             | 0.395975      | 0.384927        |</pre>"
       ],
       "metadata": {},
       "output_type": "display_data",
       "text": [
        "| 4         | 0.100142     | 0.728073           | 0.591196             | 0.395975      | 0.384927        |"
       ]
      },
      {
       "html": [
        "<pre>| 5         | 0.123267     | 0.723980           | 0.589826             | 0.392558      | 0.381733        |</pre>"
       ],
       "metadata": {},
       "output_type": "display_data",
       "text": [
        "| 5         | 0.123267     | 0.723980           | 0.589826             | 0.392558      | 0.381733        |"
       ]
      },
      {
       "html": [
        "<pre>| 6         | 0.147868     | 0.719830           | 0.588451             | 0.389268      | 0.378968        |</pre>"
       ],
       "metadata": {},
       "output_type": "display_data",
       "text": [
        "| 6         | 0.147868     | 0.719830           | 0.588451             | 0.389268      | 0.378968        |"
       ]
      },
      {
       "html": [
        "<pre>| 11        | 0.257415     | 0.698717           | 0.575651             | 0.372713      | 0.364357        |</pre>"
       ],
       "metadata": {},
       "output_type": "display_data",
       "text": [
        "| 11        | 0.257415     | 0.698717           | 0.575651             | 0.372713      | 0.364357        |"
       ]
      },
      {
       "html": [
        "<pre>| 50        | 1.035715     | 0.566886           | 0.503486             | 0.269268      | 0.276214        |</pre>"
       ],
       "metadata": {},
       "output_type": "display_data",
       "text": [
        "| 50        | 1.035715     | 0.566886           | 0.503486             | 0.269268      | 0.276214        |"
       ]
      },
      {
       "html": [
        "<pre>| 51        | 1.056375     | 0.564630           | 0.501963             | 0.267107      | 0.274832        |</pre>"
       ],
       "metadata": {},
       "output_type": "display_data",
       "text": [
        "| 51        | 1.056375     | 0.564630           | 0.501963             | 0.267107      | 0.274832        |"
       ]
      },
      {
       "html": [
        "<pre>| 100       | 2.046111     | 0.487909           | 0.425954             | 0.184516      | 0.207587        |</pre>"
       ],
       "metadata": {},
       "output_type": "display_data",
       "text": [
        "| 100       | 2.046111     | 0.487909           | 0.425954             | 0.184516      | 0.207587        |"
       ]
      },
      {
       "html": [
        "<pre>| 101       | 2.067806     | 0.487415           | 0.424170             | 0.183227      | 0.206425        |</pre>"
       ],
       "metadata": {},
       "output_type": "display_data",
       "text": [
        "| 101       | 2.067806     | 0.487415           | 0.424170             | 0.183227      | 0.206425        |"
       ]
      },
      {
       "html": [
        "<pre>| 150       | 3.112865     | 0.448468           | 0.376522             | 0.133794      | 0.172326        |</pre>"
       ],
       "metadata": {},
       "output_type": "display_data",
       "text": [
        "| 150       | 3.112865     | 0.448468           | 0.376522             | 0.133794      | 0.172326        |"
       ]
      },
      {
       "html": [
        "<pre>| 200       | 4.223240     | 0.411710           | 0.339760             | 0.103433      | 0.153336        |</pre>"
       ],
       "metadata": {},
       "output_type": "display_data",
       "text": [
        "| 200       | 4.223240     | 0.411710           | 0.339760             | 0.103433      | 0.153336        |"
       ]
      },
      {
       "html": [
        "<pre>| 250       | 5.395651     | 0.373795           | 0.348002             | 0.084495      | 0.143346        |</pre>"
       ],
       "metadata": {},
       "output_type": "display_data",
       "text": [
        "| 250       | 5.395651     | 0.373795           | 0.348002             | 0.084495      | 0.143346        |"
       ]
      },
      {
       "html": [
        "<pre>+-----------+--------------+--------------------+----------------------+---------------+-----------------+</pre>"
       ],
       "metadata": {},
       "output_type": "display_data",
       "text": [
        "+-----------+--------------+--------------------+----------------------+---------------+-----------------+"
       ]
      }
     ],
     "prompt_number": 32
    },
    {
     "cell_type": "code",
     "collapsed": false,
     "input": [
      "pickler = gl._gl_pickle.GLPickler(filename = '/net/fowler/vol1/home/vegray/metaDMS/dato/singleModels/scaled_pab1_2017-01-05')\n",
      "pickler.dump(pab1_data1_regression_model)\n",
      "pickler.close()"
     ],
     "language": "python",
     "metadata": {
      "deletable": true,
      "editable": true
     },
     "outputs": [],
     "prompt_number": 87
    },
    {
     "cell_type": "code",
     "collapsed": true,
     "input": [
      "unpickler = gl._gl_pickle.GLUnpickler(filename = '/net/fowler/vol1/home/vegray/metaDMS/dato/singleModels/scaled_pab1_2017-01-05')\n",
      "pab1_data1_regression_model = unpickler.load()\n",
      "unpickler.close()"
     ],
     "language": "python",
     "metadata": {
      "deletable": true,
      "editable": true
     },
     "outputs": [],
     "prompt_number": 2
    },
    {
     "cell_type": "code",
     "collapsed": false,
     "input": [
      "pred = pab1_data1_regression_model.predict(test_data)\n",
      "stats.pearsonr(pred, test_data['scaled_effect1'])\n",
      "stats.spearmanr(pred, test_data['scaled_effect1'])\n",
      "#sqrt(mean_squared_error(pred,test_data['scaled_effect1']))"
     ],
     "language": "python",
     "metadata": {
      "deletable": true,
      "editable": true
     },
     "outputs": [
      {
       "metadata": {},
       "output_type": "pyout",
       "prompt_number": 33,
       "text": [
        "(0.79767275553828221, 3.6042405506605443e-56)"
       ]
      }
     ],
     "prompt_number": 33
    },
    {
     "cell_type": "code",
     "collapsed": false,
     "input": [
      "stats.pearsonr(pred, test_data['scaled_effect1'])\n",
      "stats.spearmanr(pred, test_data['scaled_effect1'])"
     ],
     "language": "python",
     "metadata": {
      "deletable": true,
      "editable": true
     },
     "outputs": [
      {
       "metadata": {},
       "output_type": "pyout",
       "prompt_number": 9,
       "text": [
        "SpearmanrResult(correlation=0.78581997518247992, pvalue=5.3573656151640416e-52)"
       ]
      }
     ],
     "prompt_number": 9
    },
    {
     "cell_type": "code",
     "collapsed": false,
     "input": [
      "pred = pab1_data1_regression_model.predict(train_data)\n",
      "stats.pearsonr(pred, train_data['scaled_effect1'])\n",
      "stats.spearmanr(pred, train_data['scaled_effect1'])\n",
      "#sqrt(mean_squared_error(pred,test_data['scaled_effect1']))"
     ],
     "language": "python",
     "metadata": {
      "deletable": true,
      "editable": true
     },
     "outputs": [
      {
       "metadata": {},
       "output_type": "pyout",
       "prompt_number": 34,
       "text": [
        "(0.88956902837699348, 4.2687271800683701e-321)"
       ]
      }
     ],
     "prompt_number": 34
    },
    {
     "cell_type": "code",
     "collapsed": false,
     "input": [
      "pred = pab1_data1_regression_model.predict(train_data)\n",
      "stats.spearmanr(pred, train_data['scaled_effect1'])"
     ],
     "language": "python",
     "metadata": {
      "deletable": true,
      "editable": true
     },
     "outputs": [
      {
       "metadata": {},
       "output_type": "pyout",
       "prompt_number": 12,
       "text": [
        "SpearmanrResult(correlation=0.89122586151184591, pvalue=0.0)"
       ]
      }
     ],
     "prompt_number": 12
    },
    {
     "cell_type": "code",
     "collapsed": false,
     "input": [
      "pred_data.dtype"
     ],
     "language": "python",
     "metadata": {
      "scrolled": true
     },
     "outputs": [
      {
       "metadata": {},
       "output_type": "pyout",
       "prompt_number": 8,
       "text": [
        "<bound method SFrame.dtype of Columns:\n",
        "\tvariant_id\tstr\n",
        "\tposition_id\tstr\n",
        "\tprotein\tstr\n",
        "\tdms_id\tstr\n",
        "\tuniprot\tstr\n",
        "\tscaled_effect\tfloat\n",
        "\tposition\tint\n",
        "\taa1\tstr\n",
        "\taa2\tstr\n",
        "\twt_mut\tstr\n",
        "\taa1_polarity\tstr\n",
        "\taa2_polarity\tstr\n",
        "\taa1_pi\tfloat\n",
        "\taa2_pi\tfloat\n",
        "\tdelta_pi\tfloat\n",
        "\tgrantham\tint\n",
        "\taa1_weight\tfloat\n",
        "\taa2_weight\tint\n",
        "\tdelta_weight\tint\n",
        "\taa1_volume\tfloat\n",
        "\taa2_volume\tfloat\n",
        "\tdelta_volume\tfloat\n",
        "\taa1_psic\tfloat\n",
        "\taa2_psic\tfloat\n",
        "\tdelta_psic\tfloat\n",
        "\tlocal_density\tfloat\n",
        "\taccessibility\tfloat\n",
        "\tdssp_sec_str\tstr\n",
        "\tphi_psi_reg\tstr\n",
        "\tdelta_solvent_accessibility\tfloat\n",
        "\tb_factor\tfloat\n",
        "\tmut_msa_congruency\tfloat\n",
        "\tmut_mut_msa_congruency\tfloat\n",
        "\tseq_ind_closest_mut\tfloat\n",
        "\tlocal_biochem\tstr\n",
        "\tlocal_conservation\tfloat\n",
        "\tselection_coefficient\tfloat\n",
        "\tevolutionary_coupling_avg\tfloat\n",
        "\n",
        "Rows: 77240\n",
        "\n",
        "Data:\n",
        "+----------------------+--------------------+---------+----------------+---------+\n",
        "|      variant_id      |    position_id     | protein |     dms_id     | uniprot |\n",
        "+----------------------+--------------------+---------+----------------+---------+\n",
        "| beta-lactamase_D250W | beta-lactamase_250 |  TEM-1  | beta-lactamase |  P62593 |\n",
        "| beta-lactamase_D269W | beta-lactamase_269 |  TEM-1  | beta-lactamase |  P62593 |\n",
        "| beta-lactamase_L199W | beta-lactamase_199 |  TEM-1  | beta-lactamase |  P62593 |\n",
        "| beta-lactamase_N272W | beta-lactamase_272 |  TEM-1  | beta-lactamase |  P62593 |\n",
        "| beta-lactamase_D155W | beta-lactamase_155 |  TEM-1  | beta-lactamase |  P62593 |\n",
        "| beta-lactamase_P217W | beta-lactamase_217 |  TEM-1  | beta-lactamase |  P62593 |\n",
        "| beta-lactamase_E195W | beta-lactamase_195 |  TEM-1  | beta-lactamase |  P62593 |\n",
        "| beta-lactamase_T267W | beta-lactamase_267 |  TEM-1  | beta-lactamase |  P62593 |\n",
        "| beta-lactamase_T138W | beta-lactamase_138 |  TEM-1  | beta-lactamase |  P62593 |\n",
        "| beta-lactamase_H156W | beta-lactamase_156 |  TEM-1  | beta-lactamase |  P62593 |\n",
        "+----------------------+--------------------+---------+----------------+---------+\n",
        "+---------------+----------+-----+-----+--------+----------------+--------------+\n",
        "| scaled_effect | position | aa1 | aa2 | wt_mut |  aa1_polarity  | aa2_polarity |\n",
        "+---------------+----------+-----+-----+--------+----------------+--------------+\n",
        "|  0.960744779  |   250    |  D  |  W  |   DW   | negativeCharge | Hydrophobic  |\n",
        "|  0.949749849  |   269    |  D  |  W  |   DW   | negativeCharge | Hydrophobic  |\n",
        "|      None     |   199    |  L  |  W  |   LW   |  Hydrophobic   | Hydrophobic  |\n",
        "|  0.187434731  |   272    |  N  |  W  |   NW   |     Polar      | Hydrophobic  |\n",
        "|      None     |   155    |  D  |  W  |   DW   | negativeCharge | Hydrophobic  |\n",
        "|  0.783604248  |   217    |  P  |  W  |   PW   |    Special     | Hydrophobic  |\n",
        "|  0.809370107  |   195    |  E  |  W  |   EW   | negativeCharge | Hydrophobic  |\n",
        "|  0.778800392  |   267    |  T  |  W  |   TW   |     Polar      | Hydrophobic  |\n",
        "|  0.969296391  |   138    |  T  |  W  |   TW   |     Polar      | Hydrophobic  |\n",
        "|  0.982327385  |   156    |  H  |  W  |   HW   | PositiveCharge | Hydrophobic  |\n",
        "+---------------+----------+-----+-----+--------+----------------+--------------+\n",
        "+-------------+--------+-------------+----------+------------+------------+--------------+\n",
        "|    aa1_pi   | aa2_pi |   delta_pi  | grantham | aa1_weight | aa2_weight | delta_weight |\n",
        "+-------------+--------+-------------+----------+------------+------------+--------------+\n",
        "|    5.0516   |  5.89  |    0.8384   |   181    |   133.0    |    204     |      71      |\n",
        "|    5.0516   |  5.89  |    0.8384   |   181    |   133.0    |    204     |      71      |\n",
        "|  9.70879668 |  5.89  | -3.81879668 |    61    |   131.0    |    204     |      73      |\n",
        "| 5.471574904 |  5.89  | 0.418425096 |   174    |   132.0    |    204     |      72      |\n",
        "|    5.0516   |  5.89  |    0.8384   |   181    |   133.0    |    204     |      71      |\n",
        "|     6.3     |  5.89  |    -0.41    |   147    |   115.0    |    204     |      89      |\n",
        "|     3.22    |  5.89  |     2.67    |   152    |   147.0    |    204     |      57      |\n",
        "|     5.6     |  5.89  |     0.29    |   128    |   119.0    |    204     |      85      |\n",
        "|     5.6     |  5.89  |     0.29    |   128    |   119.0    |    204     |      85      |\n",
        "|     7.59    |  5.89  |     -1.7    |   115    |   155.0    |    204     |      49      |\n",
        "+-------------+--------+-------------+----------+------------+------------+--------------+\n",
        "+------------+-----+\n",
        "| aa1_volume | ... |\n",
        "+------------+-----+\n",
        "|   111.1    | ... |\n",
        "|   111.1    | ... |\n",
        "|   166.7    | ... |\n",
        "|   114.1    | ... |\n",
        "|   111.1    | ... |\n",
        "|   112.7    | ... |\n",
        "|   138.4    | ... |\n",
        "|   116.1    | ... |\n",
        "|   116.1    | ... |\n",
        "|   153.2    | ... |\n",
        "+------------+-----+\n",
        "[77240 rows x 38 columns]\n",
        "Note: Only the head of the SFrame is printed.\n",
        "You can use print_rows(num_rows=m, num_columns=n) to print more rows and columns.>"
       ]
      }
     ],
     "prompt_number": 8
    },
    {
     "cell_type": "code",
     "collapsed": false,
     "input": [
      "pred_data =  gl.SFrame.read_csv('/net/fowler/vol1/home/vegray/metaDMS/ForSingleModelPrediction_2016-08-15.csv', column_type_hints = {'aa1_weight':float, \n",
      "                                                                                                                                     'sift':float, 'cadd':float, \n",
      "                                                                                                                                     'local_density':float, \n",
      "                                                                                                                                     'accessibility':float, \n",
      "                                                                                                                                     'delta_solvent_accessibility':float,\n",
      "                                                                                                                                     'b_factor':float,\n",
      "                                                                                                                                     'num_chain_contacts':int, \n",
      "                                                                                                                                     'closest_chain_contact':float,\n",
      "                                                                                                                                     'num_crit_site_contacts':int, \n",
      "                                                                                                                                     'closest_crit_site_contact':float, \n",
      "                                                                                                                                     'min_junction_distance':int, \n",
      "                                                                                                                                     'snap2':float, \n",
      "                                                                                                                                     'evolutionary_action':float, \n",
      "                                                                                                                                     'evolutionary_coupling_prop':float,\n",
      "                                                                                                                                    'mut_mut_msa_congruency': str})"
     ],
     "language": "python",
     "metadata": {},
     "outputs": [
      {
       "html": [
        "<pre>Finished parsing file /net/fowler/vol1/home/vegray/metaDMS/ForSingleModelPrediction_2016-08-15.csv</pre>"
       ],
       "metadata": {},
       "output_type": "display_data",
       "text": [
        "Finished parsing file /net/fowler/vol1/home/vegray/metaDMS/ForSingleModelPrediction_2016-08-15.csv"
       ]
      },
      {
       "html": [
        "<pre>Parsing completed. Parsed 100 lines in 1.39781 secs.</pre>"
       ],
       "metadata": {},
       "output_type": "display_data",
       "text": [
        "Parsing completed. Parsed 100 lines in 1.39781 secs."
       ]
      },
      {
       "html": [
        "<pre>These column type hints were not used: cadd closest_chain_contact closest_crit_site_contact evolutionary_action evolutionary_coupling_prop min_junction_distance num_chain_contacts num_crit_site_contacts sift snap2</pre>"
       ],
       "metadata": {},
       "output_type": "display_data",
       "text": [
        "These column type hints were not used: cadd closest_chain_contact closest_crit_site_contact evolutionary_action evolutionary_coupling_prop min_junction_distance num_chain_contacts num_crit_site_contacts sift snap2"
       ]
      },
      {
       "html": [
        "<pre>Finished parsing file /net/fowler/vol1/home/vegray/metaDMS/ForSingleModelPrediction_2016-08-15.csv</pre>"
       ],
       "metadata": {},
       "output_type": "display_data",
       "text": [
        "Finished parsing file /net/fowler/vol1/home/vegray/metaDMS/ForSingleModelPrediction_2016-08-15.csv"
       ]
      },
      {
       "html": [
        "<pre>Parsing completed. Parsed 77240 lines in 0.719752 secs.</pre>"
       ],
       "metadata": {},
       "output_type": "display_data",
       "text": [
        "Parsing completed. Parsed 77240 lines in 0.719752 secs."
       ]
      }
     ],
     "prompt_number": 93
    },
    {
     "cell_type": "code",
     "collapsed": false,
     "input": [
      "## pab1 pred data\n",
      "\n",
      "pab1_pred_data = pred_data.filter_by([x for x in pred_data['protein'].unique() if x in ['Pab1']], 'protein')\n",
      "predicted_pab1 = pab1_data1_regression_model.predict(pab1_pred_data)\n",
      "pab1_pred_data2 = pab1_pred_data.add_column(predicted_pab1, name = 'predictions')\n",
      "\n",
      "pab1_pred_data2.export_csv(filename = '/net/fowler/vol1/home/vegray/metaDMS/dato/singleModels/pab1_out.csv')"
     ],
     "language": "python",
     "metadata": {},
     "outputs": [],
     "prompt_number": 10
    },
    {
     "cell_type": "code",
     "collapsed": false,
     "input": [
      "data.column_names"
     ],
     "language": "python",
     "metadata": {},
     "outputs": [
      {
       "metadata": {},
       "output_type": "pyout",
       "prompt_number": 77,
       "text": [
        "<bound method SFrame.column_names of Columns:\n",
        "\tid3\tstr\n",
        "\tvariant_id\tstr\n",
        "\tdms_id\tstr\n",
        "\tfirst_author\tstr\n",
        "\tprotein\tstr\n",
        "\tid\tstr\n",
        "\tsnap2score\tint\n",
        "\tprotein_size\tint\n",
        "\tassay_type\tstr\n",
        "\torganism\tstr\n",
        "\tuniprot_id\tstr\n",
        "\tpdb_id\tstr\n",
        "\tpdb_chain_id\tstr\n",
        "\treported_fitness\tfloat\n",
        "\taa1\tstr\n",
        "\taa2\tstr\n",
        "\twt_mut\tstr\n",
        "\tmut_type\tstr\n",
        "\tposition\tint\n",
        "\tid2\tstr\n",
        "\tWT_Mut\tstr\n",
        "\tVariant\tstr\n",
        "\taa1_polarity\tstr\n",
        "\taa2_polarity\tstr\n",
        "\taa1_PI\tfloat\n",
        "\taa2_PI\tfloat\n",
        "\tdeltaPI\tfloat\n",
        "\taa1_weight\tint\n",
        "\taa2_weight\tint\n",
        "\tdeltaWeight\tint\n",
        "\taa1vol\tfloat\n",
        "\taa2vol\tfloat\n",
        "\tdeltavolume\tfloat\n",
        "\tGrantham\tint\n",
        "\taa1_psic\tfloat\n",
        "\taa2_psic\tfloat\n",
        "\tdelta_psic\tfloat\n",
        "\taccessibility\tfloat\n",
        "\tdssp_sec_str\tstr\n",
        "\tphi_psi_reg\tstr\n",
        "\tdelta_solvent_accessibility\tfloat\n",
        "\tb_factor\tfloat\n",
        "\tmut_msa_congruency\tfloat\n",
        "\tmut_mut_msa_congruency\tstr\n",
        "\tseq_ind_closest_mut\tfloat\n",
        "\tscaled_effect1\tfloat\n",
        "\tselection_coefficient\tfloat\n",
        "\tevolutionary_coupling_avg\tfloat\n",
        "\tevolutionary_coupling_prop\tint\n",
        "\tevolutionary_coupling_avg_norm\tfloat\n",
        "\tdiscrete\tstr\n",
        "\tdiscrete_dam\tstr\n",
        "\tdiscrete_neutral\tstr\n",
        "\tdiscrete_enhancing\tstr\n",
        "\n",
        "Rows: 101460\n",
        "\n",
        "Data:\n",
        "+------------+----------------------+----------------+--------------+---------+\n",
        "|    id3     |      variant_id      |     dms_id     | first_author | protein |\n",
        "+------------+----------------------+----------------+--------------+---------+\n",
        "| P62593_20  | beta-lactamase_P20P  | beta-lactamase |   Firnberg   |  TEM-1  |\n",
        "| P62593_207 | beta-lactamase_D207D | beta-lactamase |   Firnberg   |  TEM-1  |\n",
        "| P62593_215 | beta-lactamase_A215A | beta-lactamase |   Firnberg   |  TEM-1  |\n",
        "| P62593_75  | beta-lactamase_C75C  | beta-lactamase |   Firnberg   |  TEM-1  |\n",
        "| P62593_134 | beta-lactamase_N134N | beta-lactamase |   Firnberg   |  TEM-1  |\n",
        "| P62593_137 | beta-lactamase_L137L | beta-lactamase |   Firnberg   |  TEM-1  |\n",
        "| P62593_28  | beta-lactamase_L28L  | beta-lactamase |   Firnberg   |  TEM-1  |\n",
        "| P62593_199 | beta-lactamase_L199L | beta-lactamase |   Firnberg   |  TEM-1  |\n",
        "| P62593_149 | beta-lactamase_F149F | beta-lactamase |   Firnberg   |  TEM-1  |\n",
        "| P62593_276 | beta-lactamase_Q276Q | beta-lactamase |   Firnberg   |  TEM-1  |\n",
        "+------------+----------------------+----------------+--------------+---------+\n",
        "+-------------+------------+--------------+------------+----------+------------+\n",
        "|      id     | snap2score | protein_size | assay_type | organism | uniprot_id |\n",
        "+-------------+------------+--------------+------------+----------+------------+\n",
        "|  TEM-1_P20P |    -80     |     286      |  in_vivo   | E. coli  |   P62593   |\n",
        "| TEM-1_D207D |    -93     |     286      |  in_vivo   | E. coli  |   P62593   |\n",
        "| TEM-1_A215A |    -79     |     286      |  in_vivo   | E. coli  |   P62593   |\n",
        "|  TEM-1_C75C |    -98     |     286      |  in_vivo   | E. coli  |   P62593   |\n",
        "| TEM-1_N134N |    -68     |     286      |  in_vivo   | E. coli  |   P62593   |\n",
        "| TEM-1_L137L |    -96     |     286      |  in_vivo   | E. coli  |   P62593   |\n",
        "|  TEM-1_L28L |    -98     |     286      |  in_vivo   | E. coli  |   P62593   |\n",
        "| TEM-1_L199L |    -93     |     286      |  in_vivo   | E. coli  |   P62593   |\n",
        "| TEM-1_F149F |    -77     |     286      |  in_vivo   | E. coli  |   P62593   |\n",
        "| TEM-1_Q276Q |    None    |     286      |  in_vivo   | E. coli  |   P62593   |\n",
        "+-------------+------------+--------------+------------+----------+------------+\n",
        "+--------+--------------+------------------+-----+-----+--------+------------+\n",
        "| pdb_id | pdb_chain_id | reported_fitness | aa1 | aa2 | wt_mut |  mut_type  |\n",
        "+--------+--------------+------------------+-----+-----+--------+------------+\n",
        "|        |              |   0.581033423    |  P  |  P  |   PP   | synonymous |\n",
        "|  1xpb  |      A       |    0.42563125    |  D  |  D  |   DD   | synonymous |\n",
        "|  1xpb  |      A       |   0.422813331    |  A  |  A  |   AA   | synonymous |\n",
        "|  1xpb  |      A       |   0.415531512    |  C  |  C  |   CC   | synonymous |\n",
        "|  1xpb  |      A       |    0.39696596    |  N  |  N  |   NN   | synonymous |\n",
        "|  1xpb  |      A       |   0.355533136    |  L  |  L  |   LL   | synonymous |\n",
        "|  1xpb  |      A       |   0.351609004    |  L  |  L  |   LL   | synonymous |\n",
        "|  1xpb  |      A       |   0.351609004    |  L  |  L  |   LL   | synonymous |\n",
        "|  1xpb  |      A       |    0.32191175    |  F  |  F  |   FF   | synonymous |\n",
        "|  1xpb  |      A       |   0.309213938    |  Q  |  Q  |   QQ   | synonymous |\n",
        "+--------+--------------+------------------+-----+-----+--------+------------+\n",
        "+----------+--------------+-----+\n",
        "| position |     id2      | ... |\n",
        "+----------+--------------+-----+\n",
        "|    20    | P62593_P20P  | ... |\n",
        "|   207    | P62593_D207D | ... |\n",
        "|   215    | P62593_A215A | ... |\n",
        "|    75    | P62593_C75C  | ... |\n",
        "|   134    | P62593_N134N | ... |\n",
        "|   137    | P62593_L137L | ... |\n",
        "|    28    | P62593_L28L  | ... |\n",
        "|   199    | P62593_L199L | ... |\n",
        "|   149    | P62593_F149F | ... |\n",
        "|   276    | P62593_Q276Q | ... |\n",
        "+----------+--------------+-----+\n",
        "[101460 rows x 54 columns]\n",
        "Note: Only the head of the SFrame is printed.\n",
        "You can use print_rows(num_rows=m, num_columns=n) to print more rows and columns.>"
       ]
      }
     ],
     "prompt_number": 77
    },
    {
     "cell_type": "heading",
     "level": 1,
     "metadata": {
      "collapsed": true,
      "deletable": true,
      "editable": true
     },
     "source": [
      "E3-ligase"
     ]
    },
    {
     "cell_type": "code",
     "collapsed": false,
     "input": [
      "e3_data = data.filter_by([x for x in data['dms_id'].unique() if x in ['E3_ligase']], 'dms_id')\n",
      "e3_data1 = e3_data.filter_by([x for x in e3_data['mut_type'].unique() if x in ['missense']], 'mut_type')\n",
      "e3_data1 = e3_data1.add_row_number('id',0)"
     ],
     "language": "python",
     "metadata": {
      "deletable": true,
      "editable": true
     },
     "outputs": [
      {
       "ename": "RuntimeError",
       "evalue": "Column 'id' already exists in the current SFrame",
       "output_type": "pyerr",
       "traceback": [
        "\u001b[0;31m---------------------------------------------------------------------------\u001b[0m",
        "\u001b[0;31mRuntimeError\u001b[0m                              Traceback (most recent call last)",
        "\u001b[0;32m<ipython-input-35-ed01827d681e>\u001b[0m in \u001b[0;36m<module>\u001b[0;34m()\u001b[0m\n\u001b[1;32m      1\u001b[0m \u001b[0me3_data\u001b[0m \u001b[0;34m=\u001b[0m \u001b[0mdata\u001b[0m\u001b[0;34m.\u001b[0m\u001b[0mfilter_by\u001b[0m\u001b[0;34m(\u001b[0m\u001b[0;34m[\u001b[0m\u001b[0mx\u001b[0m \u001b[0;32mfor\u001b[0m \u001b[0mx\u001b[0m \u001b[0;32min\u001b[0m \u001b[0mdata\u001b[0m\u001b[0;34m[\u001b[0m\u001b[0;34m'dms_id'\u001b[0m\u001b[0;34m]\u001b[0m\u001b[0;34m.\u001b[0m\u001b[0munique\u001b[0m\u001b[0;34m(\u001b[0m\u001b[0;34m)\u001b[0m \u001b[0;32mif\u001b[0m \u001b[0mx\u001b[0m \u001b[0;32min\u001b[0m \u001b[0;34m[\u001b[0m\u001b[0;34m'E3_ligase'\u001b[0m\u001b[0;34m]\u001b[0m\u001b[0;34m]\u001b[0m\u001b[0;34m,\u001b[0m \u001b[0;34m'dms_id'\u001b[0m\u001b[0;34m)\u001b[0m\u001b[0;34m\u001b[0m\u001b[0m\n\u001b[1;32m      2\u001b[0m \u001b[0me3_data1\u001b[0m \u001b[0;34m=\u001b[0m \u001b[0me3_data\u001b[0m\u001b[0;34m.\u001b[0m\u001b[0mfilter_by\u001b[0m\u001b[0;34m(\u001b[0m\u001b[0;34m[\u001b[0m\u001b[0mx\u001b[0m \u001b[0;32mfor\u001b[0m \u001b[0mx\u001b[0m \u001b[0;32min\u001b[0m \u001b[0me3_data\u001b[0m\u001b[0;34m[\u001b[0m\u001b[0;34m'mut_type'\u001b[0m\u001b[0;34m]\u001b[0m\u001b[0;34m.\u001b[0m\u001b[0munique\u001b[0m\u001b[0;34m(\u001b[0m\u001b[0;34m)\u001b[0m \u001b[0;32mif\u001b[0m \u001b[0mx\u001b[0m \u001b[0;32min\u001b[0m \u001b[0;34m[\u001b[0m\u001b[0;34m'missense'\u001b[0m\u001b[0;34m]\u001b[0m\u001b[0;34m]\u001b[0m\u001b[0;34m,\u001b[0m \u001b[0;34m'mut_type'\u001b[0m\u001b[0;34m)\u001b[0m\u001b[0;34m\u001b[0m\u001b[0m\n\u001b[0;32m----> 3\u001b[0;31m \u001b[0me3_data1\u001b[0m \u001b[0;34m=\u001b[0m \u001b[0me3_data1\u001b[0m\u001b[0;34m.\u001b[0m\u001b[0madd_row_number\u001b[0m\u001b[0;34m(\u001b[0m\u001b[0;34m'id'\u001b[0m\u001b[0;34m,\u001b[0m\u001b[0;36m0\u001b[0m\u001b[0;34m)\u001b[0m\u001b[0;34m\u001b[0m\u001b[0m\n\u001b[0m",
        "\u001b[0;32m/net/gs/vol3/software/modules-sw-python/2.7.3/graphlab/2.1/Linux/RHEL6/x86_64/lib/python2.7/site-packages/graphlab/data_structures/sframe.pyc\u001b[0m in \u001b[0;36madd_row_number\u001b[0;34m(self, column_name, start)\u001b[0m\n\u001b[1;32m   6150\u001b[0m \u001b[0;34m\u001b[0m\u001b[0m\n\u001b[1;32m   6151\u001b[0m         \u001b[0;32mif\u001b[0m \u001b[0mcolumn_name\u001b[0m \u001b[0;32min\u001b[0m \u001b[0mself\u001b[0m\u001b[0;34m.\u001b[0m\u001b[0mcolumn_names\u001b[0m\u001b[0;34m(\u001b[0m\u001b[0;34m)\u001b[0m\u001b[0;34m:\u001b[0m\u001b[0;34m\u001b[0m\u001b[0m\n\u001b[0;32m-> 6152\u001b[0;31m             \u001b[0;32mraise\u001b[0m \u001b[0mRuntimeError\u001b[0m\u001b[0;34m(\u001b[0m\u001b[0;34m\"Column '\"\u001b[0m \u001b[0;34m+\u001b[0m \u001b[0mcolumn_name\u001b[0m \u001b[0;34m+\u001b[0m \u001b[0;34m\"' already exists in the current SFrame\"\u001b[0m\u001b[0;34m)\u001b[0m\u001b[0;34m\u001b[0m\u001b[0m\n\u001b[0m\u001b[1;32m   6153\u001b[0m \u001b[0;34m\u001b[0m\u001b[0m\n\u001b[1;32m   6154\u001b[0m         \u001b[0mthe_col\u001b[0m \u001b[0;34m=\u001b[0m \u001b[0m_create_sequential_sarray\u001b[0m\u001b[0;34m(\u001b[0m\u001b[0mself\u001b[0m\u001b[0;34m.\u001b[0m\u001b[0mnum_rows\u001b[0m\u001b[0;34m(\u001b[0m\u001b[0;34m)\u001b[0m\u001b[0;34m,\u001b[0m \u001b[0mstart\u001b[0m\u001b[0;34m)\u001b[0m\u001b[0;34m\u001b[0m\u001b[0m\n",
        "\u001b[0;31mRuntimeError\u001b[0m: Column 'id' already exists in the current SFrame"
       ]
      }
     ],
     "prompt_number": 35
    },
    {
     "cell_type": "code",
     "collapsed": false,
     "input": [
      "folds = gl.cross_validation.KFold(e3_data1,10)\n",
      "params = dict([('target', 'scaled_effect1'), ('max_depth', 5), ('max_iterations' , [5,10,25,50]), \n",
      "               ('column_subsample' , .6), ('row_subsample' , .6), ('min_child_weight' , 1), \n",
      "               ('min_loss_reduction' , 0), ('step_size' , 0.1), ('features' , [predictors3])])\n",
      "e3_data1_paramSearch = gl.model_parameter_search.grid_search.create(folds, gl.boosted_trees_regression.create, params)"
     ],
     "language": "python",
     "metadata": {
      "deletable": true,
      "editable": true
     },
     "outputs": [
      {
       "output_type": "stream",
       "stream": "stderr",
       "text": [
        "[INFO] graphlab.deploy.job: Validating job.\n",
        "[INFO] graphlab.deploy.map_job: Validation complete. Job: 'Model-Parameter-Search-Feb-23-2017-16-59-3100000' ready for execution\n",
        "[INFO] graphlab.deploy.map_job: Job: 'Model-Parameter-Search-Feb-23-2017-16-59-3100000' scheduled.\n",
        "[INFO] graphlab.deploy.job: Validating job.\n",
        "[INFO] graphlab.deploy.map_job: A job with name 'Model-Parameter-Search-Feb-23-2017-16-59-3100000' already exists. Renaming the job to 'Model-Parameter-Search-Feb-23-2017-16-59-3100000-882ec'.\n",
        "[INFO] graphlab.deploy.map_job: Validation complete. Job: 'Model-Parameter-Search-Feb-23-2017-16-59-3100000-882ec' ready for execution\n",
        "[INFO] graphlab.deploy.map_job: Job: 'Model-Parameter-Search-Feb-23-2017-16-59-3100000-882ec' scheduled.\n",
        "[INFO] graphlab.deploy.job: Validating job.\n",
        "[INFO] graphlab.deploy.map_job: Validation complete. Job: 'Model-Parameter-Search-Feb-23-2017-16-59-3100001' ready for execution\n",
        "[INFO] graphlab.deploy.map_job: Job: 'Model-Parameter-Search-Feb-23-2017-16-59-3100001' scheduled.\n",
        "[INFO] graphlab.deploy.job: Validating job.\n",
        "[INFO] graphlab.deploy.map_job: Validation complete. Job: 'Model-Parameter-Search-Feb-23-2017-16-59-3100002' ready for execution\n",
        "[INFO] graphlab.deploy.map_job: Job: 'Model-Parameter-Search-Feb-23-2017-16-59-3100002' scheduled.\n"
       ]
      }
     ],
     "prompt_number": 91
    },
    {
     "cell_type": "code",
     "collapsed": false,
     "input": [
      "e3_data1_paramSearch.get_best_params()"
     ],
     "language": "python",
     "metadata": {
      "deletable": true,
      "editable": true,
      "scrolled": true
     },
     "outputs": [
      {
       "metadata": {},
       "output_type": "pyout",
       "prompt_number": 92,
       "text": [
        "{'column_subsample': 0.6,\n",
        " 'features': ['aa1',\n",
        "  'aa2',\n",
        "  'wt_mut',\n",
        "  'aa1_polarity',\n",
        "  'aa2_polarity',\n",
        "  'aa1_PI',\n",
        "  'aa2_PI',\n",
        "  'deltaPI',\n",
        "  'Grantham',\n",
        "  'aa1_weight',\n",
        "  'aa2_weight',\n",
        "  'deltaWeight',\n",
        "  'aa1vol',\n",
        "  'aa2vol',\n",
        "  'deltavolume',\n",
        "  'aa1_psic',\n",
        "  'aa2_psic',\n",
        "  'delta_psic',\n",
        "  'accessibility',\n",
        "  'dssp_sec_str',\n",
        "  'phi_psi_reg',\n",
        "  'delta_solvent_accessibility',\n",
        "  'b_factor',\n",
        "  'mut_msa_congruency',\n",
        "  'mut_mut_msa_congruency',\n",
        "  'seq_ind_closest_mut',\n",
        "  'selection_coefficient',\n",
        "  'evolutionary_coupling_avg'],\n",
        " 'max_depth': 5,\n",
        " 'max_iterations': 50,\n",
        " 'min_child_weight': 1,\n",
        " 'min_loss_reduction': 0,\n",
        " 'row_subsample': 0.6,\n",
        " 'step_size': 0.1,\n",
        " 'target': 'scaled_effect1'}"
       ]
      }
     ],
     "prompt_number": 92
    },
    {
     "cell_type": "code",
     "collapsed": false,
     "input": [
      "params = dict([('target', 'scaled_effect1'), ('max_depth', [2, 6, 10, 25, 50] ), ('max_iterations' , 50), \n",
      "               ('column_subsample' , .6), ('row_subsample' , .6), ('min_child_weight' , [2, 6, 10, 25, 50]), \n",
      "               ('min_loss_reduction' , 0), ('step_size' , 0.1), ('features' , [predictors3])])\n",
      "e3_data1_paramSearch1 = gl.model_parameter_search.grid_search.create(folds, gl.boosted_trees_regression.create, params)"
     ],
     "language": "python",
     "metadata": {
      "deletable": true,
      "editable": true
     },
     "outputs": [
      {
       "output_type": "stream",
       "stream": "stderr",
       "text": [
        "[INFO] graphlab.deploy.job: Validating job.\n",
        "[INFO] graphlab.deploy.map_job: Validation complete. Job: 'Model-Parameter-Search-Feb-23-2017-17-04-3100000' ready for execution\n",
        "[INFO] graphlab.deploy.map_job: Job: 'Model-Parameter-Search-Feb-23-2017-17-04-3100000' scheduled.\n",
        "[INFO] graphlab.deploy.job: Validating job.\n",
        "[INFO] graphlab.deploy.map_job: A job with name 'Model-Parameter-Search-Feb-23-2017-17-04-3100000' already exists. Renaming the job to 'Model-Parameter-Search-Feb-23-2017-17-04-3100000-7a808'.\n",
        "[INFO] graphlab.deploy.map_job: Validation complete. Job: 'Model-Parameter-Search-Feb-23-2017-17-04-3100000-7a808' ready for execution\n",
        "[INFO] graphlab.deploy.map_job: Job: 'Model-Parameter-Search-Feb-23-2017-17-04-3100000-7a808' scheduled.\n",
        "[INFO] graphlab.deploy.job: Validating job.\n",
        "[INFO] graphlab.deploy.map_job: Validation complete. Job: 'Model-Parameter-Search-Feb-23-2017-17-04-3100001' ready for execution\n",
        "[INFO] graphlab.deploy.map_job: Job: 'Model-Parameter-Search-Feb-23-2017-17-04-3100001' scheduled.\n",
        "[INFO] graphlab.deploy.job: Validating job.\n",
        "[INFO] graphlab.deploy.map_job: Validation complete. Job: 'Model-Parameter-Search-Feb-23-2017-17-04-3100002' ready for execution\n",
        "[INFO] graphlab.deploy.map_job: Job: 'Model-Parameter-Search-Feb-23-2017-17-04-3100002' scheduled.\n"
       ]
      }
     ],
     "prompt_number": 93
    },
    {
     "cell_type": "code",
     "collapsed": false,
     "input": [
      "e3_data1_paramSearch1.get_best_params()"
     ],
     "language": "python",
     "metadata": {
      "deletable": true,
      "editable": true,
      "scrolled": true
     },
     "outputs": [
      {
       "metadata": {},
       "output_type": "pyout",
       "prompt_number": 94,
       "text": [
        "{'column_subsample': 0.6,\n",
        " 'features': ['aa1',\n",
        "  'aa2',\n",
        "  'wt_mut',\n",
        "  'aa1_polarity',\n",
        "  'aa2_polarity',\n",
        "  'aa1_PI',\n",
        "  'aa2_PI',\n",
        "  'deltaPI',\n",
        "  'Grantham',\n",
        "  'aa1_weight',\n",
        "  'aa2_weight',\n",
        "  'deltaWeight',\n",
        "  'aa1vol',\n",
        "  'aa2vol',\n",
        "  'deltavolume',\n",
        "  'aa1_psic',\n",
        "  'aa2_psic',\n",
        "  'delta_psic',\n",
        "  'accessibility',\n",
        "  'dssp_sec_str',\n",
        "  'phi_psi_reg',\n",
        "  'delta_solvent_accessibility',\n",
        "  'b_factor',\n",
        "  'mut_msa_congruency',\n",
        "  'mut_mut_msa_congruency',\n",
        "  'seq_ind_closest_mut',\n",
        "  'selection_coefficient',\n",
        "  'evolutionary_coupling_avg'],\n",
        " 'max_depth': 2,\n",
        " 'max_iterations': 50,\n",
        " 'min_child_weight': 6,\n",
        " 'min_loss_reduction': 0,\n",
        " 'row_subsample': 0.6,\n",
        " 'step_size': 0.1,\n",
        " 'target': 'scaled_effect1'}"
       ]
      }
     ],
     "prompt_number": 94
    },
    {
     "cell_type": "code",
     "collapsed": false,
     "input": [
      "params = dict([('target', 'scaled_effect1'), ('max_depth',2), ('max_iterations' , 50), \n",
      "               ('column_subsample' , .6), ('row_subsample' , .6), ('min_child_weight' ,6 ), \n",
      "               ('min_loss_reduction' , [0, 0.1, 0.2, 0.3, 0.4, 0.5]), ('step_size' , 0.1), ('features' , [predictors3])])\n",
      "e3_data1_paramSearch2 = gl.model_parameter_search.grid_search.create(folds, gl.boosted_trees_regression.create, params)"
     ],
     "language": "python",
     "metadata": {
      "deletable": true,
      "editable": true
     },
     "outputs": [
      {
       "output_type": "stream",
       "stream": "stderr",
       "text": [
        "[INFO] graphlab.deploy.job: Validating job.\n",
        "[INFO] graphlab.deploy.map_job: Validation complete. Job: 'Model-Parameter-Search-Feb-23-2017-17-14-0800000' ready for execution\n",
        "[INFO] graphlab.deploy.map_job: Job: 'Model-Parameter-Search-Feb-23-2017-17-14-0800000' scheduled.\n",
        "[INFO] graphlab.deploy.job: Validating job.\n",
        "[INFO] graphlab.deploy.map_job: A job with name 'Model-Parameter-Search-Feb-23-2017-17-14-0800000' already exists. Renaming the job to 'Model-Parameter-Search-Feb-23-2017-17-14-0800000-e1f38'.\n",
        "[INFO] graphlab.deploy.map_job: Validation complete. Job: 'Model-Parameter-Search-Feb-23-2017-17-14-0800000-e1f38' ready for execution\n",
        "[INFO] graphlab.deploy.map_job: Job: 'Model-Parameter-Search-Feb-23-2017-17-14-0800000-e1f38' scheduled.\n",
        "[INFO] graphlab.deploy.job: Validating job.\n",
        "[INFO] graphlab.deploy.map_job: Validation complete. Job: 'Model-Parameter-Search-Feb-23-2017-17-14-0800001' ready for execution\n",
        "[INFO] graphlab.deploy.map_job: Job: 'Model-Parameter-Search-Feb-23-2017-17-14-0800001' scheduled.\n",
        "[INFO] graphlab.deploy.job: Validating job.\n",
        "[INFO] graphlab.deploy.map_job: Validation complete. Job: 'Model-Parameter-Search-Feb-23-2017-17-14-0800002' ready for execution\n",
        "[INFO] graphlab.deploy.map_job: Job: 'Model-Parameter-Search-Feb-23-2017-17-14-0800002' scheduled.\n"
       ]
      }
     ],
     "prompt_number": 95
    },
    {
     "cell_type": "code",
     "collapsed": false,
     "input": [
      "e3_data1_paramSearch2.get_best_params()"
     ],
     "language": "python",
     "metadata": {
      "deletable": true,
      "editable": true,
      "scrolled": true
     },
     "outputs": [
      {
       "metadata": {},
       "output_type": "pyout",
       "prompt_number": 96,
       "text": [
        "{'column_subsample': 0.6,\n",
        " 'features': ['aa1',\n",
        "  'aa2',\n",
        "  'wt_mut',\n",
        "  'aa1_polarity',\n",
        "  'aa2_polarity',\n",
        "  'aa1_PI',\n",
        "  'aa2_PI',\n",
        "  'deltaPI',\n",
        "  'Grantham',\n",
        "  'aa1_weight',\n",
        "  'aa2_weight',\n",
        "  'deltaWeight',\n",
        "  'aa1vol',\n",
        "  'aa2vol',\n",
        "  'deltavolume',\n",
        "  'aa1_psic',\n",
        "  'aa2_psic',\n",
        "  'delta_psic',\n",
        "  'accessibility',\n",
        "  'dssp_sec_str',\n",
        "  'phi_psi_reg',\n",
        "  'delta_solvent_accessibility',\n",
        "  'b_factor',\n",
        "  'mut_msa_congruency',\n",
        "  'mut_mut_msa_congruency',\n",
        "  'seq_ind_closest_mut',\n",
        "  'selection_coefficient',\n",
        "  'evolutionary_coupling_avg'],\n",
        " 'max_depth': 2,\n",
        " 'max_iterations': 50,\n",
        " 'min_child_weight': 6,\n",
        " 'min_loss_reduction': 0,\n",
        " 'row_subsample': 0.6,\n",
        " 'step_size': 0.1,\n",
        " 'target': 'scaled_effect1'}"
       ]
      }
     ],
     "prompt_number": 96
    },
    {
     "cell_type": "code",
     "collapsed": false,
     "input": [
      "params = dict([('target', 'scaled_effect1'), ('max_depth',2), ('max_iterations' , 50), \n",
      "               ('column_subsample' , [0.6, 0.7, 0.8, 0.9]), ('row_subsample' , [0.6, 0.7, 0.8, 0.9]), ('min_child_weight' ,6 ), \n",
      "               ('min_loss_reduction' ,  0), ('step_size' , 0.1), ('features' , [predictors3])])\n",
      "e3_data1_paramSearch3 = gl.model_parameter_search.grid_search.create(folds, gl.boosted_trees_regression.create, params)"
     ],
     "language": "python",
     "metadata": {
      "deletable": true,
      "editable": true
     },
     "outputs": [
      {
       "output_type": "stream",
       "stream": "stderr",
       "text": [
        "[INFO] graphlab.deploy.job: Validating job.\n",
        "[INFO] graphlab.deploy.map_job: Validation complete. Job: 'Model-Parameter-Search-Feb-23-2017-17-18-2400000' ready for execution\n",
        "[INFO] graphlab.deploy.map_job: Job: 'Model-Parameter-Search-Feb-23-2017-17-18-2400000' scheduled.\n",
        "[INFO] graphlab.deploy.job: Validating job.\n",
        "[INFO] graphlab.deploy.map_job: A job with name 'Model-Parameter-Search-Feb-23-2017-17-18-2400000' already exists. Renaming the job to 'Model-Parameter-Search-Feb-23-2017-17-18-2400000-93d9c'.\n",
        "[INFO] graphlab.deploy.map_job: Validation complete. Job: 'Model-Parameter-Search-Feb-23-2017-17-18-2400000-93d9c' ready for execution\n",
        "[INFO] graphlab.deploy.map_job: Job: 'Model-Parameter-Search-Feb-23-2017-17-18-2400000-93d9c' scheduled.\n",
        "[INFO] graphlab.deploy.job: Validating job.\n",
        "[INFO] graphlab.deploy.map_job: Validation complete. Job: 'Model-Parameter-Search-Feb-23-2017-17-18-2400001' ready for execution\n",
        "[INFO] graphlab.deploy.map_job: Job: 'Model-Parameter-Search-Feb-23-2017-17-18-2400001' scheduled.\n",
        "[INFO] graphlab.deploy.job: Validating job.\n",
        "[INFO] graphlab.deploy.map_job: Validation complete. Job: 'Model-Parameter-Search-Feb-23-2017-17-18-2400002' ready for execution\n",
        "[INFO] graphlab.deploy.map_job: Job: 'Model-Parameter-Search-Feb-23-2017-17-18-2400002' scheduled.\n"
       ]
      }
     ],
     "prompt_number": 97
    },
    {
     "cell_type": "code",
     "collapsed": false,
     "input": [
      "e3_data1_paramSearch3.get_best_params()"
     ],
     "language": "python",
     "metadata": {
      "deletable": true,
      "editable": true,
      "scrolled": true
     },
     "outputs": [
      {
       "metadata": {},
       "output_type": "pyout",
       "prompt_number": 98,
       "text": [
        "{'column_subsample': 0.7,\n",
        " 'features': ['aa1',\n",
        "  'aa2',\n",
        "  'wt_mut',\n",
        "  'aa1_polarity',\n",
        "  'aa2_polarity',\n",
        "  'aa1_PI',\n",
        "  'aa2_PI',\n",
        "  'deltaPI',\n",
        "  'Grantham',\n",
        "  'aa1_weight',\n",
        "  'aa2_weight',\n",
        "  'deltaWeight',\n",
        "  'aa1vol',\n",
        "  'aa2vol',\n",
        "  'deltavolume',\n",
        "  'aa1_psic',\n",
        "  'aa2_psic',\n",
        "  'delta_psic',\n",
        "  'accessibility',\n",
        "  'dssp_sec_str',\n",
        "  'phi_psi_reg',\n",
        "  'delta_solvent_accessibility',\n",
        "  'b_factor',\n",
        "  'mut_msa_congruency',\n",
        "  'mut_mut_msa_congruency',\n",
        "  'seq_ind_closest_mut',\n",
        "  'selection_coefficient',\n",
        "  'evolutionary_coupling_avg'],\n",
        " 'max_depth': 2,\n",
        " 'max_iterations': 50,\n",
        " 'min_child_weight': 6,\n",
        " 'min_loss_reduction': 0,\n",
        " 'row_subsample': 0.9,\n",
        " 'step_size': 0.1,\n",
        " 'target': 'scaled_effect1'}"
       ]
      }
     ],
     "prompt_number": 98
    },
    {
     "cell_type": "code",
     "collapsed": false,
     "input": [
      "train_data, test_data = e3_data1.random_split(0.8)\n",
      "e3_data1_regression_model = gl.boosted_trees_regression.create(train_data, 'scaled_effect1', \n",
      "                features = predictors3, max_iterations = 250, \n",
      "                column_subsample= 0.7, row_subsample =0.9,\n",
      "                min_child_weight = 6, min_loss_reduction = 0, step_size = 0.01,\n",
      "                max_depth = 2)"
     ],
     "language": "python",
     "metadata": {
      "deletable": true,
      "editable": true,
      "scrolled": true
     },
     "outputs": [
      {
       "output_type": "stream",
       "stream": "stdout",
       "text": [
        "PROGRESS: Creating a validation set from 5 percent of training data. This may take a while.\n",
        "          You can set ``validation_set=None`` to disable validation tracking.\n",
        "\n"
       ]
      },
      {
       "html": [
        "<pre>WARNING: Detected extremely low variance for feature(s) 'phi_psi_reg', 'delta_solvent_accessibility', 'b_factor' because all entries are nearly the same.\n",
        "Proceeding with model training using all features. If the model does not provide results of adequate quality, exclude the above mentioned feature(s) from the input dataset.</pre>"
       ],
       "metadata": {},
       "output_type": "display_data",
       "text": [
        "WARNING: Detected extremely low variance for feature(s) 'phi_psi_reg', 'delta_solvent_accessibility', 'b_factor' because all entries are nearly the same.\n",
        "Proceeding with model training using all features. If the model does not provide results of adequate quality, exclude the above mentioned feature(s) from the input dataset."
       ]
      },
      {
       "html": [
        "<pre>Boosted trees regression:</pre>"
       ],
       "metadata": {},
       "output_type": "display_data",
       "text": [
        "Boosted trees regression:"
       ]
      },
      {
       "html": [
        "<pre>--------------------------------------------------------</pre>"
       ],
       "metadata": {},
       "output_type": "display_data",
       "text": [
        "--------------------------------------------------------"
       ]
      },
      {
       "html": [
        "<pre>Number of examples          : 684</pre>"
       ],
       "metadata": {},
       "output_type": "display_data",
       "text": [
        "Number of examples          : 684"
       ]
      },
      {
       "html": [
        "<pre>Number of features          : 28</pre>"
       ],
       "metadata": {},
       "output_type": "display_data",
       "text": [
        "Number of features          : 28"
       ]
      },
      {
       "html": [
        "<pre>Number of unpacked features : 28</pre>"
       ],
       "metadata": {},
       "output_type": "display_data",
       "text": [
        "Number of unpacked features : 28"
       ]
      },
      {
       "html": [
        "<pre>+-----------+--------------+--------------------+----------------------+---------------+-----------------+</pre>"
       ],
       "metadata": {},
       "output_type": "display_data",
       "text": [
        "+-----------+--------------+--------------------+----------------------+---------------+-----------------+"
       ]
      },
      {
       "html": [
        "<pre>| Iteration | Elapsed Time | Training-max_error | Validation-max_error | Training-rmse | Validation-rmse |</pre>"
       ],
       "metadata": {},
       "output_type": "display_data",
       "text": [
        "| Iteration | Elapsed Time | Training-max_error | Validation-max_error | Training-rmse | Validation-rmse |"
       ]
      },
      {
       "html": [
        "<pre>+-----------+--------------+--------------------+----------------------+---------------+-----------------+</pre>"
       ],
       "metadata": {},
       "output_type": "display_data",
       "text": [
        "+-----------+--------------+--------------------+----------------------+---------------+-----------------+"
       ]
      },
      {
       "html": [
        "<pre>| 1         | 0.014557     | 1.164657           | 0.873928             | 0.436300      | 0.420319        |</pre>"
       ],
       "metadata": {},
       "output_type": "display_data",
       "text": [
        "| 1         | 0.014557     | 1.164657           | 0.873928             | 0.436300      | 0.420319        |"
       ]
      },
      {
       "html": [
        "<pre>| 2         | 0.021399     | 1.161916           | 0.871186             | 0.432759      | 0.417275        |</pre>"
       ],
       "metadata": {},
       "output_type": "display_data",
       "text": [
        "| 2         | 0.021399     | 1.161916           | 0.871186             | 0.432759      | 0.417275        |"
       ]
      },
      {
       "html": [
        "<pre>| 3         | 0.027891     | 1.159143           | 0.868413             | 0.429212      | 0.414231        |</pre>"
       ],
       "metadata": {},
       "output_type": "display_data",
       "text": [
        "| 3         | 0.027891     | 1.159143           | 0.868413             | 0.429212      | 0.414231        |"
       ]
      },
      {
       "html": [
        "<pre>| 4         | 0.034112     | 1.156391           | 0.865661             | 0.425739      | 0.411256        |</pre>"
       ],
       "metadata": {},
       "output_type": "display_data",
       "text": [
        "| 4         | 0.034112     | 1.156391           | 0.865661             | 0.425739      | 0.411256        |"
       ]
      },
      {
       "html": [
        "<pre>| 5         | 0.040719     | 1.152293           | 0.861563             | 0.422442      | 0.408370        |</pre>"
       ],
       "metadata": {},
       "output_type": "display_data",
       "text": [
        "| 5         | 0.040719     | 1.152293           | 0.861563             | 0.422442      | 0.408370        |"
       ]
      },
      {
       "html": [
        "<pre>| 6         | 0.046890     | 1.149742           | 0.859012             | 0.419054      | 0.405481        |</pre>"
       ],
       "metadata": {},
       "output_type": "display_data",
       "text": [
        "| 6         | 0.046890     | 1.149742           | 0.859012             | 0.419054      | 0.405481        |"
       ]
      },
      {
       "html": [
        "<pre>| 11        | 0.075285     | 1.132536           | 0.844330             | 0.402829      | 0.391699        |</pre>"
       ],
       "metadata": {},
       "output_type": "display_data",
       "text": [
        "| 11        | 0.075285     | 1.132536           | 0.844330             | 0.402829      | 0.391699        |"
       ]
      },
      {
       "html": [
        "<pre>| 51        | 0.297879     | 1.030251           | 0.750136             | 0.303458      | 0.311738        |</pre>"
       ],
       "metadata": {},
       "output_type": "display_data",
       "text": [
        "| 51        | 0.297879     | 1.030251           | 0.750136             | 0.303458      | 0.311738        |"
       ]
      },
      {
       "html": [
        "<pre>| 101       | 0.578053     | 0.935024           | 0.695030             | 0.233862      | 0.265566        |</pre>"
       ],
       "metadata": {},
       "output_type": "display_data",
       "text": [
        "| 101       | 0.578053     | 0.935024           | 0.695030             | 0.233862      | 0.265566        |"
       ]
      },
      {
       "html": [
        "<pre>| 250       | 1.407205     | 0.788679           | 0.634969             | 0.175096      | 0.239480        |</pre>"
       ],
       "metadata": {},
       "output_type": "display_data",
       "text": [
        "| 250       | 1.407205     | 0.788679           | 0.634969             | 0.175096      | 0.239480        |"
       ]
      },
      {
       "html": [
        "<pre>+-----------+--------------+--------------------+----------------------+---------------+-----------------+</pre>"
       ],
       "metadata": {},
       "output_type": "display_data",
       "text": [
        "+-----------+--------------+--------------------+----------------------+---------------+-----------------+"
       ]
      }
     ],
     "prompt_number": 36
    },
    {
     "cell_type": "code",
     "collapsed": true,
     "input": [
      "pickler = gl._gl_pickle.GLPickler(filename = '/net/fowler/vol1/home/vegray/metaDMS/dato/singleModels/scaled_e3_2017-01-05')\n",
      "pickler.dump(e3_data1_regression_model)\n",
      "pickler.close()"
     ],
     "language": "python",
     "metadata": {
      "deletable": true,
      "editable": true
     },
     "outputs": [],
     "prompt_number": 100
    },
    {
     "cell_type": "code",
     "collapsed": false,
     "input": [
      "pred = e3_data1_regression_model.predict(test_data)\n",
      "stats.pearsonr(pred, test_data['scaled_effect1'])\n",
      "stats.spearmanr(pred, test_data['scaled_effect1'])\n",
      "#sqrt(mean_squared_error(pred,test_data['scaled_effect1']))"
     ],
     "language": "python",
     "metadata": {
      "deletable": true,
      "editable": true
     },
     "outputs": [
      {
       "metadata": {},
       "output_type": "pyout",
       "prompt_number": 37,
       "text": [
        "(0.34877092083881783, 1.6011204536079558e-06)"
       ]
      }
     ],
     "prompt_number": 37
    },
    {
     "cell_type": "code",
     "collapsed": false,
     "input": [
      "pred = e3_data1_regression_model.predict(train_data)\n",
      "stats.pearsonr(pred, train_data['scaled_effect1'])\n",
      "stats.spearmanr(pred, train_data['scaled_effect1'])\n",
      "#sqrt(mean_squared_error(pred,test_data['scaled_effect1']))"
     ],
     "language": "python",
     "metadata": {
      "deletable": true,
      "editable": true
     },
     "outputs": [
      {
       "metadata": {},
       "output_type": "pyout",
       "prompt_number": 38,
       "text": [
        "(0.53659485362069537, 7.4370844729823921e-55)"
       ]
      }
     ],
     "prompt_number": 38
    },
    {
     "cell_type": "code",
     "collapsed": true,
     "input": [
      "unpickler = gl._gl_pickle.GLUnpickler(filename = '/net/fowler/vol1/home/vegray/metaDMS/dato/singleModels/scaled_e3_2017-01-05')\n",
      "e3_data1_regression_model= unpickler.load()\n",
      "unpickler.close()"
     ],
     "language": "python",
     "metadata": {},
     "outputs": [],
     "prompt_number": null
    },
    {
     "cell_type": "code",
     "collapsed": true,
     "input": [],
     "language": "python",
     "metadata": {},
     "outputs": [],
     "prompt_number": null
    },
    {
     "cell_type": "heading",
     "level": 1,
     "metadata": {
      "deletable": true,
      "editable": true
     },
     "source": [
      "gb1"
     ]
    },
    {
     "cell_type": "code",
     "collapsed": false,
     "input": [
      "gb1_data = data.filter_by([x for x in data['dms_id'].unique() if x in ['gb1']], 'dms_id')\n",
      "gb1_data1 = gb1_data.filter_by([x for x in gb1_data['mut_type'].unique() if x in ['missense']], 'mut_type')\n",
      "gb1_data1 = gb1_data1.add_row_number('id',0)"
     ],
     "language": "python",
     "metadata": {
      "deletable": true,
      "editable": true
     },
     "outputs": [
      {
       "ename": "RuntimeError",
       "evalue": "Column 'id' already exists in the current SFrame",
       "output_type": "pyerr",
       "traceback": [
        "\u001b[0;31m---------------------------------------------------------------------------\u001b[0m",
        "\u001b[0;31mRuntimeError\u001b[0m                              Traceback (most recent call last)",
        "\u001b[0;32m<ipython-input-39-9f2c052df1fc>\u001b[0m in \u001b[0;36m<module>\u001b[0;34m()\u001b[0m\n\u001b[1;32m      1\u001b[0m \u001b[0mgb1_data\u001b[0m \u001b[0;34m=\u001b[0m \u001b[0mdata\u001b[0m\u001b[0;34m.\u001b[0m\u001b[0mfilter_by\u001b[0m\u001b[0;34m(\u001b[0m\u001b[0;34m[\u001b[0m\u001b[0mx\u001b[0m \u001b[0;32mfor\u001b[0m \u001b[0mx\u001b[0m \u001b[0;32min\u001b[0m \u001b[0mdata\u001b[0m\u001b[0;34m[\u001b[0m\u001b[0;34m'dms_id'\u001b[0m\u001b[0;34m]\u001b[0m\u001b[0;34m.\u001b[0m\u001b[0munique\u001b[0m\u001b[0;34m(\u001b[0m\u001b[0;34m)\u001b[0m \u001b[0;32mif\u001b[0m \u001b[0mx\u001b[0m \u001b[0;32min\u001b[0m \u001b[0;34m[\u001b[0m\u001b[0;34m'gb1'\u001b[0m\u001b[0;34m]\u001b[0m\u001b[0;34m]\u001b[0m\u001b[0;34m,\u001b[0m \u001b[0;34m'dms_id'\u001b[0m\u001b[0;34m)\u001b[0m\u001b[0;34m\u001b[0m\u001b[0m\n\u001b[1;32m      2\u001b[0m \u001b[0mgb1_data1\u001b[0m \u001b[0;34m=\u001b[0m \u001b[0mgb1_data\u001b[0m\u001b[0;34m.\u001b[0m\u001b[0mfilter_by\u001b[0m\u001b[0;34m(\u001b[0m\u001b[0;34m[\u001b[0m\u001b[0mx\u001b[0m \u001b[0;32mfor\u001b[0m \u001b[0mx\u001b[0m \u001b[0;32min\u001b[0m \u001b[0mgb1_data\u001b[0m\u001b[0;34m[\u001b[0m\u001b[0;34m'mut_type'\u001b[0m\u001b[0;34m]\u001b[0m\u001b[0;34m.\u001b[0m\u001b[0munique\u001b[0m\u001b[0;34m(\u001b[0m\u001b[0;34m)\u001b[0m \u001b[0;32mif\u001b[0m \u001b[0mx\u001b[0m \u001b[0;32min\u001b[0m \u001b[0;34m[\u001b[0m\u001b[0;34m'missense'\u001b[0m\u001b[0;34m]\u001b[0m\u001b[0;34m]\u001b[0m\u001b[0;34m,\u001b[0m \u001b[0;34m'mut_type'\u001b[0m\u001b[0;34m)\u001b[0m\u001b[0;34m\u001b[0m\u001b[0m\n\u001b[0;32m----> 3\u001b[0;31m \u001b[0mgb1_data1\u001b[0m \u001b[0;34m=\u001b[0m \u001b[0mgb1_data1\u001b[0m\u001b[0;34m.\u001b[0m\u001b[0madd_row_number\u001b[0m\u001b[0;34m(\u001b[0m\u001b[0;34m'id'\u001b[0m\u001b[0;34m,\u001b[0m\u001b[0;36m0\u001b[0m\u001b[0;34m)\u001b[0m\u001b[0;34m\u001b[0m\u001b[0m\n\u001b[0m",
        "\u001b[0;32m/net/gs/vol3/software/modules-sw-python/2.7.3/graphlab/2.1/Linux/RHEL6/x86_64/lib/python2.7/site-packages/graphlab/data_structures/sframe.pyc\u001b[0m in \u001b[0;36madd_row_number\u001b[0;34m(self, column_name, start)\u001b[0m\n\u001b[1;32m   6150\u001b[0m \u001b[0;34m\u001b[0m\u001b[0m\n\u001b[1;32m   6151\u001b[0m         \u001b[0;32mif\u001b[0m \u001b[0mcolumn_name\u001b[0m \u001b[0;32min\u001b[0m \u001b[0mself\u001b[0m\u001b[0;34m.\u001b[0m\u001b[0mcolumn_names\u001b[0m\u001b[0;34m(\u001b[0m\u001b[0;34m)\u001b[0m\u001b[0;34m:\u001b[0m\u001b[0;34m\u001b[0m\u001b[0m\n\u001b[0;32m-> 6152\u001b[0;31m             \u001b[0;32mraise\u001b[0m \u001b[0mRuntimeError\u001b[0m\u001b[0;34m(\u001b[0m\u001b[0;34m\"Column '\"\u001b[0m \u001b[0;34m+\u001b[0m \u001b[0mcolumn_name\u001b[0m \u001b[0;34m+\u001b[0m \u001b[0;34m\"' already exists in the current SFrame\"\u001b[0m\u001b[0;34m)\u001b[0m\u001b[0;34m\u001b[0m\u001b[0m\n\u001b[0m\u001b[1;32m   6153\u001b[0m \u001b[0;34m\u001b[0m\u001b[0m\n\u001b[1;32m   6154\u001b[0m         \u001b[0mthe_col\u001b[0m \u001b[0;34m=\u001b[0m \u001b[0m_create_sequential_sarray\u001b[0m\u001b[0;34m(\u001b[0m\u001b[0mself\u001b[0m\u001b[0;34m.\u001b[0m\u001b[0mnum_rows\u001b[0m\u001b[0;34m(\u001b[0m\u001b[0;34m)\u001b[0m\u001b[0;34m,\u001b[0m \u001b[0mstart\u001b[0m\u001b[0;34m)\u001b[0m\u001b[0;34m\u001b[0m\u001b[0m\n",
        "\u001b[0;31mRuntimeError\u001b[0m: Column 'id' already exists in the current SFrame"
       ]
      }
     ],
     "prompt_number": 39
    },
    {
     "cell_type": "code",
     "collapsed": false,
     "input": [
      "folds = gl.cross_validation.KFold(gb1_data1,10)\n",
      "params = dict([('target', 'scaled_effect1'), ('max_depth', 5), ('max_iterations' , [5,10,25,50]), \n",
      "               ('column_subsample' , .6), ('row_subsample' , .6), ('min_child_weight' , 1), \n",
      "               ('min_loss_reduction' , 0), ('step_size' , 0.1), ('features' , [predictors3])])\n",
      "gb1_data1_paramSearch = gl.model_parameter_search.grid_search.create(folds, gl.boosted_trees_regression.create, params)"
     ],
     "language": "python",
     "metadata": {
      "deletable": true,
      "editable": true
     },
     "outputs": [
      {
       "output_type": "stream",
       "stream": "stderr",
       "text": [
        "[INFO] graphlab.deploy.job: Validating job.\n",
        "[INFO] graphlab.deploy.map_job: Validation complete. Job: 'Model-Parameter-Search-Feb-23-2017-17-25-2500000' ready for execution\n",
        "[INFO] graphlab.deploy.map_job: Job: 'Model-Parameter-Search-Feb-23-2017-17-25-2500000' scheduled.\n",
        "[INFO] graphlab.deploy.job: Validating job.\n",
        "[INFO] graphlab.deploy.map_job: A job with name 'Model-Parameter-Search-Feb-23-2017-17-25-2500000' already exists. Renaming the job to 'Model-Parameter-Search-Feb-23-2017-17-25-2500000-828a5'.\n",
        "[INFO] graphlab.deploy.map_job: Validation complete. Job: 'Model-Parameter-Search-Feb-23-2017-17-25-2500000-828a5' ready for execution\n",
        "[INFO] graphlab.deploy.map_job: Job: 'Model-Parameter-Search-Feb-23-2017-17-25-2500000-828a5' scheduled.\n",
        "[INFO] graphlab.deploy.job: Validating job.\n",
        "[INFO] graphlab.deploy.map_job: Validation complete. Job: 'Model-Parameter-Search-Feb-23-2017-17-25-2500001' ready for execution\n",
        "[INFO] graphlab.deploy.map_job: Job: 'Model-Parameter-Search-Feb-23-2017-17-25-2500001' scheduled.\n",
        "[INFO] graphlab.deploy.job: Validating job.\n",
        "[INFO] graphlab.deploy.map_job: Validation complete. Job: 'Model-Parameter-Search-Feb-23-2017-17-25-2500002' ready for execution\n",
        "[INFO] graphlab.deploy.map_job: Job: 'Model-Parameter-Search-Feb-23-2017-17-25-2500002' scheduled.\n"
       ]
      }
     ],
     "prompt_number": 104
    },
    {
     "cell_type": "code",
     "collapsed": false,
     "input": [
      "gb1_data1_paramSearch.get_best_params()"
     ],
     "language": "python",
     "metadata": {
      "deletable": true,
      "editable": true,
      "scrolled": true
     },
     "outputs": [
      {
       "metadata": {},
       "output_type": "pyout",
       "prompt_number": 105,
       "text": [
        "{'column_subsample': 0.6,\n",
        " 'features': ['aa1',\n",
        "  'aa2',\n",
        "  'wt_mut',\n",
        "  'aa1_polarity',\n",
        "  'aa2_polarity',\n",
        "  'aa1_PI',\n",
        "  'aa2_PI',\n",
        "  'deltaPI',\n",
        "  'Grantham',\n",
        "  'aa1_weight',\n",
        "  'aa2_weight',\n",
        "  'deltaWeight',\n",
        "  'aa1vol',\n",
        "  'aa2vol',\n",
        "  'deltavolume',\n",
        "  'aa1_psic',\n",
        "  'aa2_psic',\n",
        "  'delta_psic',\n",
        "  'accessibility',\n",
        "  'dssp_sec_str',\n",
        "  'phi_psi_reg',\n",
        "  'delta_solvent_accessibility',\n",
        "  'b_factor',\n",
        "  'mut_msa_congruency',\n",
        "  'mut_mut_msa_congruency',\n",
        "  'seq_ind_closest_mut',\n",
        "  'selection_coefficient',\n",
        "  'evolutionary_coupling_avg'],\n",
        " 'max_depth': 5,\n",
        " 'max_iterations': 50,\n",
        " 'min_child_weight': 1,\n",
        " 'min_loss_reduction': 0,\n",
        " 'row_subsample': 0.6,\n",
        " 'step_size': 0.1,\n",
        " 'target': 'scaled_effect1'}"
       ]
      }
     ],
     "prompt_number": 105
    },
    {
     "cell_type": "code",
     "collapsed": false,
     "input": [
      "params = dict([('target', 'scaled_effect1'), ('max_depth', [2, 6, 10, 25, 50] ), ('max_iterations' , 50), \n",
      "               ('column_subsample' , .6), ('row_subsample' , .6), ('min_child_weight' , [2, 6, 10, 25, 50]), \n",
      "               ('min_loss_reduction' , 0), ('step_size' , 0.1), ('features' , [predictors3])])\n",
      "gb1_data1_paramSearch1 = gl.model_parameter_search.grid_search.create(folds, gl.boosted_trees_regression.create, params)"
     ],
     "language": "python",
     "metadata": {
      "deletable": true,
      "editable": true
     },
     "outputs": [
      {
       "output_type": "stream",
       "stream": "stderr",
       "text": [
        "[INFO] graphlab.deploy.job: Validating job.\n",
        "[INFO] graphlab.deploy.map_job: Validation complete. Job: 'Model-Parameter-Search-Feb-23-2017-17-28-1500000' ready for execution\n",
        "[INFO] graphlab.deploy.map_job: Job: 'Model-Parameter-Search-Feb-23-2017-17-28-1500000' scheduled.\n",
        "[INFO] graphlab.deploy.job: Validating job.\n",
        "[INFO] graphlab.deploy.map_job: A job with name 'Model-Parameter-Search-Feb-23-2017-17-28-1500000' already exists. Renaming the job to 'Model-Parameter-Search-Feb-23-2017-17-28-1500000-07af1'.\n",
        "[INFO] graphlab.deploy.map_job: Validation complete. Job: 'Model-Parameter-Search-Feb-23-2017-17-28-1500000-07af1' ready for execution\n",
        "[INFO] graphlab.deploy.map_job: Job: 'Model-Parameter-Search-Feb-23-2017-17-28-1500000-07af1' scheduled.\n",
        "[INFO] graphlab.deploy.job: Validating job.\n",
        "[INFO] graphlab.deploy.map_job: Validation complete. Job: 'Model-Parameter-Search-Feb-23-2017-17-28-1500001' ready for execution\n",
        "[INFO] graphlab.deploy.map_job: Job: 'Model-Parameter-Search-Feb-23-2017-17-28-1500001' scheduled.\n",
        "[INFO] graphlab.deploy.job: Validating job.\n",
        "[INFO] graphlab.deploy.map_job: Validation complete. Job: 'Model-Parameter-Search-Feb-23-2017-17-28-1500002' ready for execution\n",
        "[INFO] graphlab.deploy.map_job: Job: 'Model-Parameter-Search-Feb-23-2017-17-28-1500002' scheduled.\n"
       ]
      }
     ],
     "prompt_number": 106
    },
    {
     "cell_type": "code",
     "collapsed": false,
     "input": [
      "gb1_data1_paramSearch1.get_best_params()"
     ],
     "language": "python",
     "metadata": {
      "deletable": true,
      "editable": true,
      "scrolled": true
     },
     "outputs": [
      {
       "metadata": {},
       "output_type": "pyout",
       "prompt_number": 107,
       "text": [
        "{'column_subsample': 0.6,\n",
        " 'features': ['aa1',\n",
        "  'aa2',\n",
        "  'wt_mut',\n",
        "  'aa1_polarity',\n",
        "  'aa2_polarity',\n",
        "  'aa1_PI',\n",
        "  'aa2_PI',\n",
        "  'deltaPI',\n",
        "  'Grantham',\n",
        "  'aa1_weight',\n",
        "  'aa2_weight',\n",
        "  'deltaWeight',\n",
        "  'aa1vol',\n",
        "  'aa2vol',\n",
        "  'deltavolume',\n",
        "  'aa1_psic',\n",
        "  'aa2_psic',\n",
        "  'delta_psic',\n",
        "  'accessibility',\n",
        "  'dssp_sec_str',\n",
        "  'phi_psi_reg',\n",
        "  'delta_solvent_accessibility',\n",
        "  'b_factor',\n",
        "  'mut_msa_congruency',\n",
        "  'mut_mut_msa_congruency',\n",
        "  'seq_ind_closest_mut',\n",
        "  'selection_coefficient',\n",
        "  'evolutionary_coupling_avg'],\n",
        " 'max_depth': 50,\n",
        " 'max_iterations': 50,\n",
        " 'min_child_weight': 2,\n",
        " 'min_loss_reduction': 0,\n",
        " 'row_subsample': 0.6,\n",
        " 'step_size': 0.1,\n",
        " 'target': 'scaled_effect1'}"
       ]
      }
     ],
     "prompt_number": 107
    },
    {
     "cell_type": "code",
     "collapsed": false,
     "input": [
      "params = dict([('target', 'scaled_effect1'), ('max_depth',50), ('max_iterations' , 50), \n",
      "               ('column_subsample' , .6), ('row_subsample' , .6), ('min_child_weight' ,2 ), \n",
      "               ('min_loss_reduction' , [0, 0.1, 0.2, 0.3, 0.4, 0.5]), ('step_size' , 0.1), ('features' , [predictors3])])\n",
      "gb1_data1_paramSearch2 = gl.model_parameter_search.grid_search.create(folds, gl.boosted_trees_regression.create, params)"
     ],
     "language": "python",
     "metadata": {
      "deletable": true,
      "editable": true
     },
     "outputs": [
      {
       "output_type": "stream",
       "stream": "stderr",
       "text": [
        "[INFO] graphlab.deploy.job: Validating job.\n",
        "[INFO] graphlab.deploy.map_job: Validation complete. Job: 'Model-Parameter-Search-Feb-23-2017-17-47-1600000' ready for execution\n",
        "[INFO] graphlab.deploy.map_job: Job: 'Model-Parameter-Search-Feb-23-2017-17-47-1600000' scheduled.\n",
        "[INFO] graphlab.deploy.job: Validating job.\n",
        "[INFO] graphlab.deploy.map_job: A job with name 'Model-Parameter-Search-Feb-23-2017-17-47-1600000' already exists. Renaming the job to 'Model-Parameter-Search-Feb-23-2017-17-47-1600000-bef22'.\n",
        "[INFO] graphlab.deploy.map_job: Validation complete. Job: 'Model-Parameter-Search-Feb-23-2017-17-47-1600000-bef22' ready for execution\n",
        "[INFO] graphlab.deploy.map_job: Job: 'Model-Parameter-Search-Feb-23-2017-17-47-1600000-bef22' scheduled.\n",
        "[INFO] graphlab.deploy.job: Validating job.\n",
        "[INFO] graphlab.deploy.map_job: Validation complete. Job: 'Model-Parameter-Search-Feb-23-2017-17-47-1600001' ready for execution\n",
        "[INFO] graphlab.deploy.map_job: Job: 'Model-Parameter-Search-Feb-23-2017-17-47-1600001' scheduled.\n",
        "[INFO] graphlab.deploy.job: Validating job.\n",
        "[INFO] graphlab.deploy.map_job: Validation complete. Job: 'Model-Parameter-Search-Feb-23-2017-17-47-1600002' ready for execution\n",
        "[INFO] graphlab.deploy.map_job: Job: 'Model-Parameter-Search-Feb-23-2017-17-47-1600002' scheduled.\n"
       ]
      }
     ],
     "prompt_number": 108
    },
    {
     "cell_type": "code",
     "collapsed": false,
     "input": [
      "gb1_data1_paramSearch2.get_best_params()"
     ],
     "language": "python",
     "metadata": {
      "deletable": true,
      "editable": true,
      "scrolled": true
     },
     "outputs": [
      {
       "metadata": {},
       "output_type": "pyout",
       "prompt_number": 109,
       "text": [
        "{'column_subsample': 0.6,\n",
        " 'features': ['aa1',\n",
        "  'aa2',\n",
        "  'wt_mut',\n",
        "  'aa1_polarity',\n",
        "  'aa2_polarity',\n",
        "  'aa1_PI',\n",
        "  'aa2_PI',\n",
        "  'deltaPI',\n",
        "  'Grantham',\n",
        "  'aa1_weight',\n",
        "  'aa2_weight',\n",
        "  'deltaWeight',\n",
        "  'aa1vol',\n",
        "  'aa2vol',\n",
        "  'deltavolume',\n",
        "  'aa1_psic',\n",
        "  'aa2_psic',\n",
        "  'delta_psic',\n",
        "  'accessibility',\n",
        "  'dssp_sec_str',\n",
        "  'phi_psi_reg',\n",
        "  'delta_solvent_accessibility',\n",
        "  'b_factor',\n",
        "  'mut_msa_congruency',\n",
        "  'mut_mut_msa_congruency',\n",
        "  'seq_ind_closest_mut',\n",
        "  'selection_coefficient',\n",
        "  'evolutionary_coupling_avg'],\n",
        " 'max_depth': 50,\n",
        " 'max_iterations': 50,\n",
        " 'min_child_weight': 2,\n",
        " 'min_loss_reduction': 0,\n",
        " 'row_subsample': 0.6,\n",
        " 'step_size': 0.1,\n",
        " 'target': 'scaled_effect1'}"
       ]
      }
     ],
     "prompt_number": 109
    },
    {
     "cell_type": "code",
     "collapsed": false,
     "input": [
      "folds = gl.cross_validation.KFold(gb1_data1,10)\n",
      "params = dict([('target', 'scaled_effect1'), ('max_depth',50), ('max_iterations' , 50), \n",
      "               ('column_subsample' , [0.6, 0.7, 0.8, 0.9]), ('row_subsample' , [0.6, 0.7, 0.8, 0.9]), ('min_child_weight' ,2 ), \n",
      "               ('min_loss_reduction' ,  0), ('step_size' , 0.1), ('features' , [predictors3])])\n",
      "gb1_data1_paramSearch3 = gl.model_parameter_search.grid_search.create(folds, gl.boosted_trees_regression.create, params)"
     ],
     "language": "python",
     "metadata": {
      "deletable": true,
      "editable": true
     },
     "outputs": [
      {
       "output_type": "stream",
       "stream": "stderr",
       "text": [
        "[INFO] graphlab.deploy.job: Validating job.\n",
        "[INFO] graphlab.deploy.job: Creating a LocalAsync environment called 'async'.\n",
        "[INFO] graphlab.deploy.map_job: Validation complete. Job: 'Model-Parameter-Search-Feb-24-2017-17-44-4600000' ready for execution\n",
        "[INFO] graphlab.deploy.map_job: Job: 'Model-Parameter-Search-Feb-24-2017-17-44-4600000' scheduled.\n",
        "[INFO] graphlab.deploy.job: Validating job.\n",
        "[INFO] graphlab.deploy.map_job: A job with name 'Model-Parameter-Search-Feb-24-2017-17-44-4600000' already exists. Renaming the job to 'Model-Parameter-Search-Feb-24-2017-17-44-4600000-3917a'.\n",
        "[INFO] graphlab.deploy.map_job: Validation complete. Job: 'Model-Parameter-Search-Feb-24-2017-17-44-4600000-3917a' ready for execution\n",
        "[INFO] graphlab.deploy.map_job: Job: 'Model-Parameter-Search-Feb-24-2017-17-44-4600000-3917a' scheduled.\n",
        "[INFO] graphlab.deploy.job: Validating job.\n",
        "[INFO] graphlab.deploy.map_job: Validation complete. Job: 'Model-Parameter-Search-Feb-24-2017-17-44-4600001' ready for execution\n",
        "[INFO] graphlab.deploy.map_job: Job: 'Model-Parameter-Search-Feb-24-2017-17-44-4600001' scheduled.\n",
        "[INFO] graphlab.deploy.job: Validating job.\n",
        "[INFO] graphlab.deploy.map_job: Validation complete. Job: 'Model-Parameter-Search-Feb-24-2017-17-44-4600002' ready for execution\n",
        "[INFO] graphlab.deploy.map_job: Job: 'Model-Parameter-Search-Feb-24-2017-17-44-4600002' scheduled.\n"
       ]
      }
     ],
     "prompt_number": 7
    },
    {
     "cell_type": "code",
     "collapsed": false,
     "input": [
      "gb1_data1_paramSearch3.get_best_params()"
     ],
     "language": "python",
     "metadata": {
      "deletable": true,
      "editable": true,
      "scrolled": true
     },
     "outputs": [
      {
       "metadata": {},
       "output_type": "pyout",
       "prompt_number": 8,
       "text": [
        "{'column_subsample': 0.8,\n",
        " 'features': ['aa1',\n",
        "  'aa2',\n",
        "  'wt_mut',\n",
        "  'aa1_polarity',\n",
        "  'aa2_polarity',\n",
        "  'aa1_PI',\n",
        "  'aa2_PI',\n",
        "  'deltaPI',\n",
        "  'Grantham',\n",
        "  'aa1_weight',\n",
        "  'aa2_weight',\n",
        "  'deltaWeight',\n",
        "  'aa1vol',\n",
        "  'aa2vol',\n",
        "  'deltavolume',\n",
        "  'aa1_psic',\n",
        "  'aa2_psic',\n",
        "  'delta_psic',\n",
        "  'accessibility',\n",
        "  'dssp_sec_str',\n",
        "  'phi_psi_reg',\n",
        "  'delta_solvent_accessibility',\n",
        "  'b_factor',\n",
        "  'mut_msa_congruency',\n",
        "  'mut_mut_msa_congruency',\n",
        "  'seq_ind_closest_mut',\n",
        "  'selection_coefficient',\n",
        "  'evolutionary_coupling_avg'],\n",
        " 'max_depth': 50,\n",
        " 'max_iterations': 50,\n",
        " 'min_child_weight': 2,\n",
        " 'min_loss_reduction': 0,\n",
        " 'row_subsample': 0.6,\n",
        " 'step_size': 0.1,\n",
        " 'target': 'scaled_effect1'}"
       ]
      }
     ],
     "prompt_number": 8
    },
    {
     "cell_type": "code",
     "collapsed": false,
     "input": [
      "train_data, test_data = gb1_data1.random_split(0.8)\n",
      "gb1_data1_regression_model = gl.boosted_trees_regression.create(train_data, 'scaled_effect1', \n",
      "                features = predictors3, max_iterations = 250, \n",
      "                column_subsample= 0.6, row_subsample =0.7,\n",
      "                min_child_weight = 2, min_loss_reduction = 0, step_size = 0.01,\n",
      "                max_depth = 50)"
     ],
     "language": "python",
     "metadata": {
      "deletable": true,
      "editable": true,
      "scrolled": true
     },
     "outputs": [
      {
       "output_type": "stream",
       "stream": "stdout",
       "text": [
        "PROGRESS: Creating a validation set from 5 percent of training data. This may take a while.\n",
        "          You can set ``validation_set=None`` to disable validation tracking.\n",
        "\n"
       ]
      },
      {
       "html": [
        "<pre>WARNING: Detected extremely low variance for feature(s) 'accessibility', 'delta_solvent_accessibility', 'b_factor', 'selection_coefficient' because all entries are nearly the same.\n",
        "Proceeding with model training using all features. If the model does not provide results of adequate quality, exclude the above mentioned feature(s) from the input dataset.</pre>"
       ],
       "metadata": {},
       "output_type": "display_data",
       "text": [
        "WARNING: Detected extremely low variance for feature(s) 'accessibility', 'delta_solvent_accessibility', 'b_factor', 'selection_coefficient' because all entries are nearly the same.\n",
        "Proceeding with model training using all features. If the model does not provide results of adequate quality, exclude the above mentioned feature(s) from the input dataset."
       ]
      },
      {
       "html": [
        "<pre>Boosted trees regression:</pre>"
       ],
       "metadata": {},
       "output_type": "display_data",
       "text": [
        "Boosted trees regression:"
       ]
      },
      {
       "html": [
        "<pre>--------------------------------------------------------</pre>"
       ],
       "metadata": {},
       "output_type": "display_data",
       "text": [
        "--------------------------------------------------------"
       ]
      },
      {
       "html": [
        "<pre>Number of examples          : 798</pre>"
       ],
       "metadata": {},
       "output_type": "display_data",
       "text": [
        "Number of examples          : 798"
       ]
      },
      {
       "html": [
        "<pre>Number of features          : 28</pre>"
       ],
       "metadata": {},
       "output_type": "display_data",
       "text": [
        "Number of features          : 28"
       ]
      },
      {
       "html": [
        "<pre>Number of unpacked features : 28</pre>"
       ],
       "metadata": {},
       "output_type": "display_data",
       "text": [
        "Number of unpacked features : 28"
       ]
      },
      {
       "html": [
        "<pre>+-----------+--------------+--------------------+----------------------+---------------+-----------------+</pre>"
       ],
       "metadata": {},
       "output_type": "display_data",
       "text": [
        "+-----------+--------------+--------------------+----------------------+---------------+-----------------+"
       ]
      },
      {
       "html": [
        "<pre>| Iteration | Elapsed Time | Training-max_error | Validation-max_error | Training-rmse | Validation-rmse |</pre>"
       ],
       "metadata": {},
       "output_type": "display_data",
       "text": [
        "| Iteration | Elapsed Time | Training-max_error | Validation-max_error | Training-rmse | Validation-rmse |"
       ]
      },
      {
       "html": [
        "<pre>+-----------+--------------+--------------------+----------------------+---------------+-----------------+</pre>"
       ],
       "metadata": {},
       "output_type": "display_data",
       "text": [
        "+-----------+--------------+--------------------+----------------------+---------------+-----------------+"
       ]
      },
      {
       "html": [
        "<pre>| 1         | 0.048708     | 0.754511           | 0.729085             | 0.429412      | 0.444770        |</pre>"
       ],
       "metadata": {},
       "output_type": "display_data",
       "text": [
        "| 1         | 0.048708     | 0.754511           | 0.729085             | 0.429412      | 0.444770        |"
       ]
      },
      {
       "html": [
        "<pre>| 2         | 0.095723     | 0.749485           | 0.724059             | 0.425684      | 0.441280        |</pre>"
       ],
       "metadata": {},
       "output_type": "display_data",
       "text": [
        "| 2         | 0.095723     | 0.749485           | 0.724059             | 0.425684      | 0.441280        |"
       ]
      },
      {
       "html": [
        "<pre>| 3         | 0.144667     | 0.744255           | 0.718829             | 0.422258      | 0.438258        |</pre>"
       ],
       "metadata": {},
       "output_type": "display_data",
       "text": [
        "| 3         | 0.144667     | 0.744255           | 0.718829             | 0.422258      | 0.438258        |"
       ]
      },
      {
       "html": [
        "<pre>| 4         | 0.189265     | 0.742353           | 0.718730             | 0.418646      | 0.435629        |</pre>"
       ],
       "metadata": {},
       "output_type": "display_data",
       "text": [
        "| 4         | 0.189265     | 0.742353           | 0.718730             | 0.418646      | 0.435629        |"
       ]
      },
      {
       "html": [
        "<pre>| 5         | 0.229912     | 0.737702           | 0.714079             | 0.414928      | 0.432145        |</pre>"
       ],
       "metadata": {},
       "output_type": "display_data",
       "text": [
        "| 5         | 0.229912     | 0.737702           | 0.714079             | 0.414928      | 0.432145        |"
       ]
      },
      {
       "html": [
        "<pre>| 6         | 0.272398     | 0.733056           | 0.709432             | 0.411428      | 0.428912        |</pre>"
       ],
       "metadata": {},
       "output_type": "display_data",
       "text": [
        "| 6         | 0.272398     | 0.733056           | 0.709432             | 0.411428      | 0.428912        |"
       ]
      },
      {
       "html": [
        "<pre>| 11        | 0.462110     | 0.714503           | 0.703234             | 0.394370      | 0.414383        |</pre>"
       ],
       "metadata": {},
       "output_type": "display_data",
       "text": [
        "| 11        | 0.462110     | 0.714503           | 0.703234             | 0.394370      | 0.414383        |"
       ]
      },
      {
       "html": [
        "<pre>| 25        | 0.932509     | 0.665589           | 0.675923             | 0.349851      | 0.376448        |</pre>"
       ],
       "metadata": {},
       "output_type": "display_data",
       "text": [
        "| 25        | 0.932509     | 0.665589           | 0.675923             | 0.349851      | 0.376448        |"
       ]
      },
      {
       "html": [
        "<pre>| 50        | 1.661857     | 0.592498           | 0.632077             | 0.284206      | 0.322910        |</pre>"
       ],
       "metadata": {},
       "output_type": "display_data",
       "text": [
        "| 50        | 1.661857     | 0.592498           | 0.632077             | 0.284206      | 0.322910        |"
       ]
      },
      {
       "html": [
        "<pre>| 51        | 1.689039     | 0.588772           | 0.628351             | 0.281779      | 0.320837        |</pre>"
       ],
       "metadata": {},
       "output_type": "display_data",
       "text": [
        "| 51        | 1.689039     | 0.588772           | 0.628351             | 0.281779      | 0.320837        |"
       ]
      },
      {
       "html": [
        "<pre>| 75        | 2.423679     | 0.522885           | 0.575091             | 0.231140      | 0.279273        |</pre>"
       ],
       "metadata": {},
       "output_type": "display_data",
       "text": [
        "| 75        | 2.423679     | 0.522885           | 0.575091             | 0.231140      | 0.279273        |"
       ]
      },
      {
       "html": [
        "<pre>| 100       | 3.220902     | 0.474436           | 0.532819             | 0.190209      | 0.249434        |</pre>"
       ],
       "metadata": {},
       "output_type": "display_data",
       "text": [
        "| 100       | 3.220902     | 0.474436           | 0.532819             | 0.190209      | 0.249434        |"
       ]
      },
      {
       "html": [
        "<pre>| 101       | 3.259429     | 0.472206           | 0.530589             | 0.188856      | 0.248454        |</pre>"
       ],
       "metadata": {},
       "output_type": "display_data",
       "text": [
        "| 101       | 3.259429     | 0.472206           | 0.530589             | 0.188856      | 0.248454        |"
       ]
      },
      {
       "html": [
        "<pre>| 125       | 4.061863     | 0.435534           | 0.514090             | 0.157792      | 0.227879        |</pre>"
       ],
       "metadata": {},
       "output_type": "display_data",
       "text": [
        "| 125       | 4.061863     | 0.435534           | 0.514090             | 0.157792      | 0.227879        |"
       ]
      },
      {
       "html": [
        "<pre>| 150       | 4.962022     | 0.388263           | 0.478261             | 0.132412      | 0.211074        |</pre>"
       ],
       "metadata": {},
       "output_type": "display_data",
       "text": [
        "| 150       | 4.962022     | 0.388263           | 0.478261             | 0.132412      | 0.211074        |"
       ]
      },
      {
       "html": [
        "<pre>| 175       | 5.910865     | 0.346433           | 0.451927             | 0.111971      | 0.199120        |</pre>"
       ],
       "metadata": {},
       "output_type": "display_data",
       "text": [
        "| 175       | 5.910865     | 0.346433           | 0.451927             | 0.111971      | 0.199120        |"
       ]
      },
      {
       "html": [
        "<pre>| 200       | 6.917942     | 0.322978           | 0.446894             | 0.095606      | 0.190881        |</pre>"
       ],
       "metadata": {},
       "output_type": "display_data",
       "text": [
        "| 200       | 6.917942     | 0.322978           | 0.446894             | 0.095606      | 0.190881        |"
       ]
      },
      {
       "html": [
        "<pre>| 225       | 7.956331     | 0.298529           | 0.450007             | 0.082573      | 0.185136        |</pre>"
       ],
       "metadata": {},
       "output_type": "display_data",
       "text": [
        "| 225       | 7.956331     | 0.298529           | 0.450007             | 0.082573      | 0.185136        |"
       ]
      },
      {
       "html": [
        "<pre>| 250       | 9.080130     | 0.273366           | 0.450325             | 0.071726      | 0.180159        |</pre>"
       ],
       "metadata": {},
       "output_type": "display_data",
       "text": [
        "| 250       | 9.080130     | 0.273366           | 0.450325             | 0.071726      | 0.180159        |"
       ]
      },
      {
       "html": [
        "<pre>+-----------+--------------+--------------------+----------------------+---------------+-----------------+</pre>"
       ],
       "metadata": {},
       "output_type": "display_data",
       "text": [
        "+-----------+--------------+--------------------+----------------------+---------------+-----------------+"
       ]
      }
     ],
     "prompt_number": 40
    },
    {
     "cell_type": "code",
     "collapsed": true,
     "input": [
      "pickler = gl._gl_pickle.GLPickler(filename = '/net/fowler/vol1/home/vegray/metaDMS/dato/singleModels/scaled_gb1_2017-01-05')\n",
      "pickler.dump(gb1_data1_regression_model)\n",
      "pickler.close()"
     ],
     "language": "python",
     "metadata": {
      "deletable": true,
      "editable": true
     },
     "outputs": [],
     "prompt_number": null
    },
    {
     "cell_type": "code",
     "collapsed": false,
     "input": [
      "pred = gb1_data1_regression_model.predict(test_data)\n",
      "stats.pearsonr(pred, test_data['scaled_effect1'])\n",
      "stats.spearmanr(pred, test_data['scaled_effect1'])\n",
      "#sqrt(mean_squared_error(pred,test_data['scaled_effect1']))"
     ],
     "language": "python",
     "metadata": {
      "deletable": true,
      "editable": true
     },
     "outputs": [
      {
       "metadata": {},
       "output_type": "pyout",
       "prompt_number": 41,
       "text": [
        "(0.89603808505280669, 1.2215064418800479e-75)"
       ]
      }
     ],
     "prompt_number": 41
    },
    {
     "cell_type": "code",
     "collapsed": false,
     "input": [
      "pred = gb1_data1_regression_model.predict(train_data)\n",
      "stats.pearsonr(pred, train_data['scaled_effect1'])\n",
      "stats.spearmanr(pred, train_data['scaled_effect1'])\n",
      "#sqrt(mean_squared_error(pred,test_data['scaled_effect1']))"
     ],
     "language": "python",
     "metadata": {
      "deletable": true,
      "editable": true
     },
     "outputs": [
      {
       "metadata": {},
       "output_type": "pyout",
       "prompt_number": 42,
       "text": [
        "(0.95257776791065707, 0.0)"
       ]
      }
     ],
     "prompt_number": 42
    },
    {
     "cell_type": "code",
     "collapsed": true,
     "input": [
      "unpickler = gl._gl_pickle.GLUnpickler(filename = '/net/fowler/vol1/home/vegray/metaDMS/dato/singleModels/scaled_gb1_2017-01-05')\n",
      "gb1_data1_regression_model= unpickler.load()\n",
      "unpickler.close()"
     ],
     "language": "python",
     "metadata": {},
     "outputs": [],
     "prompt_number": 83
    },
    {
     "cell_type": "code",
     "collapsed": false,
     "input": [
      "## gb1 pred data\n",
      "\n",
      "gb1_pred_data = pred_data.filter_by([x for x in pred_data['protein'].unique() if x in ['gb1']], 'protein')\n",
      "\n",
      "predicted_gb1 = gb1_data1_regression_model.predict(gb1_pred_data)\n",
      "gb1_pred_data2 = gb1_pred_data.add_column(predicted_gb1 , name = 'predictions')\n",
      "\n",
      "gb1_pred_data2.export_csv(filename = '/net/fowler/vol1/home/vegray/metaDMS/dato/singleModels/gb1_out.csv')"
     ],
     "language": "python",
     "metadata": {},
     "outputs": [],
     "prompt_number": 86
    },
    {
     "cell_type": "heading",
     "level": 1,
     "metadata": {
      "deletable": true,
      "editable": true
     },
     "source": [
      "Ubiquitin"
     ]
    },
    {
     "cell_type": "code",
     "collapsed": false,
     "input": [
      "ubiq_data = data.filter_by([x for x in data['dms_id'].unique() if x in ['Ubiquitin']], 'dms_id')\n",
      "ubiq_data1 = ubiq_data.filter_by([x for x in ubiq_data['mut_type'].unique() if x in ['missense']], 'mut_type')\n",
      "ubiq_data1 = ubiq_data1.add_row_number('id',0)"
     ],
     "language": "python",
     "metadata": {
      "deletable": true,
      "editable": true
     },
     "outputs": [
      {
       "ename": "RuntimeError",
       "evalue": "Column 'id' already exists in the current SFrame",
       "output_type": "pyerr",
       "traceback": [
        "\u001b[0;31m---------------------------------------------------------------------------\u001b[0m",
        "\u001b[0;31mRuntimeError\u001b[0m                              Traceback (most recent call last)",
        "\u001b[0;32m<ipython-input-43-cc9b7811e2d3>\u001b[0m in \u001b[0;36m<module>\u001b[0;34m()\u001b[0m\n\u001b[1;32m      1\u001b[0m \u001b[0mubiq_data\u001b[0m \u001b[0;34m=\u001b[0m \u001b[0mdata\u001b[0m\u001b[0;34m.\u001b[0m\u001b[0mfilter_by\u001b[0m\u001b[0;34m(\u001b[0m\u001b[0;34m[\u001b[0m\u001b[0mx\u001b[0m \u001b[0;32mfor\u001b[0m \u001b[0mx\u001b[0m \u001b[0;32min\u001b[0m \u001b[0mdata\u001b[0m\u001b[0;34m[\u001b[0m\u001b[0;34m'dms_id'\u001b[0m\u001b[0;34m]\u001b[0m\u001b[0;34m.\u001b[0m\u001b[0munique\u001b[0m\u001b[0;34m(\u001b[0m\u001b[0;34m)\u001b[0m \u001b[0;32mif\u001b[0m \u001b[0mx\u001b[0m \u001b[0;32min\u001b[0m \u001b[0;34m[\u001b[0m\u001b[0;34m'Ubiquitin'\u001b[0m\u001b[0;34m]\u001b[0m\u001b[0;34m]\u001b[0m\u001b[0;34m,\u001b[0m \u001b[0;34m'dms_id'\u001b[0m\u001b[0;34m)\u001b[0m\u001b[0;34m\u001b[0m\u001b[0m\n\u001b[1;32m      2\u001b[0m \u001b[0mubiq_data1\u001b[0m \u001b[0;34m=\u001b[0m \u001b[0mubiq_data\u001b[0m\u001b[0;34m.\u001b[0m\u001b[0mfilter_by\u001b[0m\u001b[0;34m(\u001b[0m\u001b[0;34m[\u001b[0m\u001b[0mx\u001b[0m \u001b[0;32mfor\u001b[0m \u001b[0mx\u001b[0m \u001b[0;32min\u001b[0m \u001b[0mubiq_data\u001b[0m\u001b[0;34m[\u001b[0m\u001b[0;34m'mut_type'\u001b[0m\u001b[0;34m]\u001b[0m\u001b[0;34m.\u001b[0m\u001b[0munique\u001b[0m\u001b[0;34m(\u001b[0m\u001b[0;34m)\u001b[0m \u001b[0;32mif\u001b[0m \u001b[0mx\u001b[0m \u001b[0;32min\u001b[0m \u001b[0;34m[\u001b[0m\u001b[0;34m'missense'\u001b[0m\u001b[0;34m]\u001b[0m\u001b[0;34m]\u001b[0m\u001b[0;34m,\u001b[0m \u001b[0;34m'mut_type'\u001b[0m\u001b[0;34m)\u001b[0m\u001b[0;34m\u001b[0m\u001b[0m\n\u001b[0;32m----> 3\u001b[0;31m \u001b[0mubiq_data1\u001b[0m \u001b[0;34m=\u001b[0m \u001b[0mubiq_data1\u001b[0m\u001b[0;34m.\u001b[0m\u001b[0madd_row_number\u001b[0m\u001b[0;34m(\u001b[0m\u001b[0;34m'id'\u001b[0m\u001b[0;34m,\u001b[0m\u001b[0;36m0\u001b[0m\u001b[0;34m)\u001b[0m\u001b[0;34m\u001b[0m\u001b[0m\n\u001b[0m",
        "\u001b[0;32m/net/gs/vol3/software/modules-sw-python/2.7.3/graphlab/2.1/Linux/RHEL6/x86_64/lib/python2.7/site-packages/graphlab/data_structures/sframe.pyc\u001b[0m in \u001b[0;36madd_row_number\u001b[0;34m(self, column_name, start)\u001b[0m\n\u001b[1;32m   6150\u001b[0m \u001b[0;34m\u001b[0m\u001b[0m\n\u001b[1;32m   6151\u001b[0m         \u001b[0;32mif\u001b[0m \u001b[0mcolumn_name\u001b[0m \u001b[0;32min\u001b[0m \u001b[0mself\u001b[0m\u001b[0;34m.\u001b[0m\u001b[0mcolumn_names\u001b[0m\u001b[0;34m(\u001b[0m\u001b[0;34m)\u001b[0m\u001b[0;34m:\u001b[0m\u001b[0;34m\u001b[0m\u001b[0m\n\u001b[0;32m-> 6152\u001b[0;31m             \u001b[0;32mraise\u001b[0m \u001b[0mRuntimeError\u001b[0m\u001b[0;34m(\u001b[0m\u001b[0;34m\"Column '\"\u001b[0m \u001b[0;34m+\u001b[0m \u001b[0mcolumn_name\u001b[0m \u001b[0;34m+\u001b[0m \u001b[0;34m\"' already exists in the current SFrame\"\u001b[0m\u001b[0;34m)\u001b[0m\u001b[0;34m\u001b[0m\u001b[0m\n\u001b[0m\u001b[1;32m   6153\u001b[0m \u001b[0;34m\u001b[0m\u001b[0m\n\u001b[1;32m   6154\u001b[0m         \u001b[0mthe_col\u001b[0m \u001b[0;34m=\u001b[0m \u001b[0m_create_sequential_sarray\u001b[0m\u001b[0;34m(\u001b[0m\u001b[0mself\u001b[0m\u001b[0;34m.\u001b[0m\u001b[0mnum_rows\u001b[0m\u001b[0;34m(\u001b[0m\u001b[0;34m)\u001b[0m\u001b[0;34m,\u001b[0m \u001b[0mstart\u001b[0m\u001b[0;34m)\u001b[0m\u001b[0;34m\u001b[0m\u001b[0m\n",
        "\u001b[0;31mRuntimeError\u001b[0m: Column 'id' already exists in the current SFrame"
       ]
      }
     ],
     "prompt_number": 43
    },
    {
     "cell_type": "code",
     "collapsed": false,
     "input": [
      "folds = gl.cross_validation.KFold(ubiq_data1,10)\n",
      "params = dict([('target', 'scaled_effect1'), ('max_depth', 5), ('max_iterations' , [5,10,25,50]), \n",
      "               ('column_subsample' , .6), ('row_subsample' , .6), ('min_child_weight' , 1), \n",
      "               ('min_loss_reduction' , 0), ('step_size' , 0.1), ('features' , [predictors3])])\n",
      "ubiq_data1_paramSearch = gl.model_parameter_search.grid_search.create(folds, gl.boosted_trees_regression.create, params)"
     ],
     "language": "python",
     "metadata": {
      "deletable": true,
      "editable": true
     },
     "outputs": [
      {
       "output_type": "stream",
       "stream": "stderr",
       "text": [
        "[INFO] graphlab.deploy.job: Validating job.\n",
        "[INFO] graphlab.deploy.job: Creating a LocalAsync environment called 'async'.\n",
        "[INFO] graphlab.deploy.map_job: Validation complete. Job: 'Model-Parameter-Search-Feb-24-2017-12-15-3400000' ready for execution\n",
        "[INFO] graphlab.deploy.map_job: Job: 'Model-Parameter-Search-Feb-24-2017-12-15-3400000' scheduled.\n",
        "[INFO] graphlab.deploy.job: Validating job.\n",
        "[INFO] graphlab.deploy.map_job: A job with name 'Model-Parameter-Search-Feb-24-2017-12-15-3400000' already exists. Renaming the job to 'Model-Parameter-Search-Feb-24-2017-12-15-3400000-689c2'.\n",
        "[INFO] graphlab.deploy.map_job: Validation complete. Job: 'Model-Parameter-Search-Feb-24-2017-12-15-3400000-689c2' ready for execution\n",
        "[INFO] graphlab.deploy.map_job: Job: 'Model-Parameter-Search-Feb-24-2017-12-15-3400000-689c2' scheduled.\n",
        "[INFO] graphlab.deploy.job: Validating job.\n",
        "[INFO] graphlab.deploy.map_job: Validation complete. Job: 'Model-Parameter-Search-Feb-24-2017-12-15-3400001' ready for execution\n",
        "[INFO] graphlab.deploy.map_job: Job: 'Model-Parameter-Search-Feb-24-2017-12-15-3400001' scheduled.\n",
        "[INFO] graphlab.deploy.job: Validating job.\n",
        "[INFO] graphlab.deploy.map_job: Validation complete. Job: 'Model-Parameter-Search-Feb-24-2017-12-15-3400002' ready for execution\n",
        "[INFO] graphlab.deploy.map_job: Job: 'Model-Parameter-Search-Feb-24-2017-12-15-3400002' scheduled.\n"
       ]
      }
     ],
     "prompt_number": 7
    },
    {
     "cell_type": "code",
     "collapsed": false,
     "input": [
      "ubiq_data1_paramSearch.get_best_params()"
     ],
     "language": "python",
     "metadata": {
      "deletable": true,
      "editable": true,
      "scrolled": true
     },
     "outputs": [
      {
       "metadata": {},
       "output_type": "pyout",
       "prompt_number": 8,
       "text": [
        "{'column_subsample': 0.6,\n",
        " 'features': ['aa1',\n",
        "  'aa2',\n",
        "  'wt_mut',\n",
        "  'aa1_polarity',\n",
        "  'aa2_polarity',\n",
        "  'aa1_PI',\n",
        "  'aa2_PI',\n",
        "  'deltaPI',\n",
        "  'Grantham',\n",
        "  'aa1_weight',\n",
        "  'aa2_weight',\n",
        "  'deltaWeight',\n",
        "  'aa1vol',\n",
        "  'aa2vol',\n",
        "  'deltavolume',\n",
        "  'aa1_psic',\n",
        "  'aa2_psic',\n",
        "  'delta_psic',\n",
        "  'accessibility',\n",
        "  'dssp_sec_str',\n",
        "  'phi_psi_reg',\n",
        "  'delta_solvent_accessibility',\n",
        "  'b_factor',\n",
        "  'mut_msa_congruency',\n",
        "  'mut_mut_msa_congruency',\n",
        "  'seq_ind_closest_mut',\n",
        "  'selection_coefficient',\n",
        "  'evolutionary_coupling_avg'],\n",
        " 'max_depth': 5,\n",
        " 'max_iterations': 50,\n",
        " 'min_child_weight': 1,\n",
        " 'min_loss_reduction': 0,\n",
        " 'row_subsample': 0.6,\n",
        " 'step_size': 0.1,\n",
        " 'target': 'scaled_effect1'}"
       ]
      }
     ],
     "prompt_number": 8
    },
    {
     "cell_type": "code",
     "collapsed": false,
     "input": [
      "params = dict([('target', 'scaled_effect1'), ('max_depth', [2, 6, 10, 25, 50] ), ('max_iterations' , 50), \n",
      "               ('column_subsample' , .6), ('row_subsample' , .6), ('min_child_weight' , [2, 6, 10, 25, 50]), \n",
      "               ('min_loss_reduction' , 0), ('step_size' , 0.1), ('features' , [predictors3])])\n",
      "ubiq_data1_paramSearch1 = gl.model_parameter_search.grid_search.create(folds, gl.boosted_trees_regression.create, params)"
     ],
     "language": "python",
     "metadata": {
      "deletable": true,
      "editable": true
     },
     "outputs": [
      {
       "output_type": "stream",
       "stream": "stderr",
       "text": [
        "[INFO] graphlab.deploy.job: Validating job.\n",
        "[INFO] graphlab.deploy.map_job: Validation complete. Job: 'Model-Parameter-Search-Feb-24-2017-13-08-1100000' ready for execution\n",
        "[INFO] graphlab.deploy.map_job: Job: 'Model-Parameter-Search-Feb-24-2017-13-08-1100000' scheduled.\n",
        "[INFO] graphlab.deploy.job: Validating job.\n",
        "[INFO] graphlab.deploy.map_job: A job with name 'Model-Parameter-Search-Feb-24-2017-13-08-1100000' already exists. Renaming the job to 'Model-Parameter-Search-Feb-24-2017-13-08-1100000-c9786'.\n",
        "[INFO] graphlab.deploy.map_job: Validation complete. Job: 'Model-Parameter-Search-Feb-24-2017-13-08-1100000-c9786' ready for execution\n",
        "[INFO] graphlab.deploy.map_job: Job: 'Model-Parameter-Search-Feb-24-2017-13-08-1100000-c9786' scheduled.\n",
        "[INFO] graphlab.deploy.job: Validating job.\n",
        "[INFO] graphlab.deploy.map_job: Validation complete. Job: 'Model-Parameter-Search-Feb-24-2017-13-08-1100001' ready for execution\n",
        "[INFO] graphlab.deploy.map_job: Job: 'Model-Parameter-Search-Feb-24-2017-13-08-1100001' scheduled.\n",
        "[INFO] graphlab.deploy.job: Validating job.\n",
        "[INFO] graphlab.deploy.map_job: Validation complete. Job: 'Model-Parameter-Search-Feb-24-2017-13-08-1100002' ready for execution\n",
        "[INFO] graphlab.deploy.map_job: Job: 'Model-Parameter-Search-Feb-24-2017-13-08-1100002' scheduled.\n"
       ]
      }
     ],
     "prompt_number": 9
    },
    {
     "cell_type": "code",
     "collapsed": false,
     "input": [
      "ubiq_data1_paramSearch1.get_best_params()"
     ],
     "language": "python",
     "metadata": {
      "deletable": true,
      "editable": true,
      "scrolled": true
     },
     "outputs": [
      {
       "metadata": {},
       "output_type": "pyout",
       "prompt_number": 10,
       "text": [
        "{'column_subsample': 0.6,\n",
        " 'features': ['aa1',\n",
        "  'aa2',\n",
        "  'wt_mut',\n",
        "  'aa1_polarity',\n",
        "  'aa2_polarity',\n",
        "  'aa1_PI',\n",
        "  'aa2_PI',\n",
        "  'deltaPI',\n",
        "  'Grantham',\n",
        "  'aa1_weight',\n",
        "  'aa2_weight',\n",
        "  'deltaWeight',\n",
        "  'aa1vol',\n",
        "  'aa2vol',\n",
        "  'deltavolume',\n",
        "  'aa1_psic',\n",
        "  'aa2_psic',\n",
        "  'delta_psic',\n",
        "  'accessibility',\n",
        "  'dssp_sec_str',\n",
        "  'phi_psi_reg',\n",
        "  'delta_solvent_accessibility',\n",
        "  'b_factor',\n",
        "  'mut_msa_congruency',\n",
        "  'mut_mut_msa_congruency',\n",
        "  'seq_ind_closest_mut',\n",
        "  'selection_coefficient',\n",
        "  'evolutionary_coupling_avg'],\n",
        " 'max_depth': 50,\n",
        " 'max_iterations': 50,\n",
        " 'min_child_weight': 2,\n",
        " 'min_loss_reduction': 0,\n",
        " 'row_subsample': 0.6,\n",
        " 'step_size': 0.1,\n",
        " 'target': 'scaled_effect1'}"
       ]
      }
     ],
     "prompt_number": 10
    },
    {
     "cell_type": "code",
     "collapsed": false,
     "input": [
      "params = dict([('target', 'scaled_effect1'), ('max_depth',50), ('max_iterations' , 50), \n",
      "               ('column_subsample' , .6), ('row_subsample' , .6), ('min_child_weight' ,2), \n",
      "               ('min_loss_reduction' , [0, 0.1, 0.2, 0.3, 0.4, 0.5]), ('step_size' , 0.1), ('features' , [predictors3])])\n",
      "ubiq_data1_paramSearch2 = gl.model_parameter_search.grid_search.create(folds, gl.boosted_trees_regression.create, params)"
     ],
     "language": "python",
     "metadata": {
      "deletable": true,
      "editable": true
     },
     "outputs": [
      {
       "output_type": "stream",
       "stream": "stderr",
       "text": [
        "[INFO] graphlab.deploy.job: Validating job.\n",
        "[INFO] graphlab.deploy.map_job: Validation complete. Job: 'Model-Parameter-Search-Feb-24-2017-13-26-5600000' ready for execution\n",
        "[INFO] graphlab.deploy.map_job: Job: 'Model-Parameter-Search-Feb-24-2017-13-26-5600000' scheduled.\n",
        "[INFO] graphlab.deploy.job: Validating job.\n",
        "[INFO] graphlab.deploy.map_job: A job with name 'Model-Parameter-Search-Feb-24-2017-13-26-5600000' already exists. Renaming the job to 'Model-Parameter-Search-Feb-24-2017-13-26-5600000-9e908'.\n",
        "[INFO] graphlab.deploy.map_job: Validation complete. Job: 'Model-Parameter-Search-Feb-24-2017-13-26-5600000-9e908' ready for execution\n",
        "[INFO] graphlab.deploy.map_job: Job: 'Model-Parameter-Search-Feb-24-2017-13-26-5600000-9e908' scheduled.\n",
        "[INFO] graphlab.deploy.job: Validating job.\n",
        "[INFO] graphlab.deploy.map_job: Validation complete. Job: 'Model-Parameter-Search-Feb-24-2017-13-26-5600001' ready for execution\n",
        "[INFO] graphlab.deploy.map_job: Job: 'Model-Parameter-Search-Feb-24-2017-13-26-5600001' scheduled.\n",
        "[INFO] graphlab.deploy.job: Validating job.\n",
        "[INFO] graphlab.deploy.map_job: Validation complete. Job: 'Model-Parameter-Search-Feb-24-2017-13-26-5600002' ready for execution\n",
        "[INFO] graphlab.deploy.map_job: Job: 'Model-Parameter-Search-Feb-24-2017-13-26-5600002' scheduled.\n"
       ]
      }
     ],
     "prompt_number": 11
    },
    {
     "cell_type": "code",
     "collapsed": false,
     "input": [
      "ubiq_data1_paramSearch2.get_best_params()"
     ],
     "language": "python",
     "metadata": {
      "deletable": true,
      "editable": true,
      "scrolled": true
     },
     "outputs": [
      {
       "metadata": {},
       "output_type": "pyout",
       "prompt_number": 12,
       "text": [
        "{'column_subsample': 0.6,\n",
        " 'features': ['aa1',\n",
        "  'aa2',\n",
        "  'wt_mut',\n",
        "  'aa1_polarity',\n",
        "  'aa2_polarity',\n",
        "  'aa1_PI',\n",
        "  'aa2_PI',\n",
        "  'deltaPI',\n",
        "  'Grantham',\n",
        "  'aa1_weight',\n",
        "  'aa2_weight',\n",
        "  'deltaWeight',\n",
        "  'aa1vol',\n",
        "  'aa2vol',\n",
        "  'deltavolume',\n",
        "  'aa1_psic',\n",
        "  'aa2_psic',\n",
        "  'delta_psic',\n",
        "  'accessibility',\n",
        "  'dssp_sec_str',\n",
        "  'phi_psi_reg',\n",
        "  'delta_solvent_accessibility',\n",
        "  'b_factor',\n",
        "  'mut_msa_congruency',\n",
        "  'mut_mut_msa_congruency',\n",
        "  'seq_ind_closest_mut',\n",
        "  'selection_coefficient',\n",
        "  'evolutionary_coupling_avg'],\n",
        " 'max_depth': 50,\n",
        " 'max_iterations': 50,\n",
        " 'min_child_weight': 2,\n",
        " 'min_loss_reduction': 0,\n",
        " 'row_subsample': 0.6,\n",
        " 'step_size': 0.1,\n",
        " 'target': 'scaled_effect1'}"
       ]
      }
     ],
     "prompt_number": 12
    },
    {
     "cell_type": "code",
     "collapsed": false,
     "input": [
      "params = dict([('target', 'scaled_effect1'), ('max_depth',50), ('max_iterations' , 50), \n",
      "               ('column_subsample' , [0.6, 0.7, 0.8, 0.9]), ('row_subsample' , [0.6, 0.7, 0.8, 0.9]), ('min_child_weight' ,2), \n",
      "               ('min_loss_reduction' ,  0), ('step_size' , 0.1), ('features' , [predictors3])])\n",
      "ubiq_data1_paramSearch3 = gl.model_parameter_search.grid_search.create(folds, gl.boosted_trees_regression.create, params)"
     ],
     "language": "python",
     "metadata": {
      "deletable": true,
      "editable": true
     },
     "outputs": [
      {
       "output_type": "stream",
       "stream": "stderr",
       "text": [
        "[INFO] graphlab.deploy.job: Validating job.\n",
        "[INFO] graphlab.deploy.map_job: Validation complete. Job: 'Model-Parameter-Search-Feb-24-2017-13-34-0000000' ready for execution\n",
        "[INFO] graphlab.deploy.map_job: Job: 'Model-Parameter-Search-Feb-24-2017-13-34-0000000' scheduled.\n",
        "[INFO] graphlab.deploy.job: Validating job.\n",
        "[INFO] graphlab.deploy.map_job: A job with name 'Model-Parameter-Search-Feb-24-2017-13-34-0000000' already exists. Renaming the job to 'Model-Parameter-Search-Feb-24-2017-13-34-0000000-ed02c'.\n",
        "[INFO] graphlab.deploy.map_job: Validation complete. Job: 'Model-Parameter-Search-Feb-24-2017-13-34-0000000-ed02c' ready for execution\n",
        "[INFO] graphlab.deploy.map_job: Job: 'Model-Parameter-Search-Feb-24-2017-13-34-0000000-ed02c' scheduled.\n",
        "[INFO] graphlab.deploy.job: Validating job.\n",
        "[INFO] graphlab.deploy.map_job: Validation complete. Job: 'Model-Parameter-Search-Feb-24-2017-13-34-0000001' ready for execution\n",
        "[INFO] graphlab.deploy.map_job: Job: 'Model-Parameter-Search-Feb-24-2017-13-34-0000001' scheduled.\n",
        "[INFO] graphlab.deploy.job: Validating job.\n",
        "[INFO] graphlab.deploy.map_job: Validation complete. Job: 'Model-Parameter-Search-Feb-24-2017-13-34-0000002' ready for execution\n",
        "[INFO] graphlab.deploy.map_job: Job: 'Model-Parameter-Search-Feb-24-2017-13-34-0000002' scheduled.\n"
       ]
      }
     ],
     "prompt_number": 13
    },
    {
     "cell_type": "code",
     "collapsed": false,
     "input": [
      "ubiq_data1_paramSearch3.get_best_params()"
     ],
     "language": "python",
     "metadata": {
      "deletable": true,
      "editable": true,
      "scrolled": true
     },
     "outputs": [
      {
       "metadata": {},
       "output_type": "pyout",
       "prompt_number": 14,
       "text": [
        "{'column_subsample': 0.9,\n",
        " 'features': ['aa1',\n",
        "  'aa2',\n",
        "  'wt_mut',\n",
        "  'aa1_polarity',\n",
        "  'aa2_polarity',\n",
        "  'aa1_PI',\n",
        "  'aa2_PI',\n",
        "  'deltaPI',\n",
        "  'Grantham',\n",
        "  'aa1_weight',\n",
        "  'aa2_weight',\n",
        "  'deltaWeight',\n",
        "  'aa1vol',\n",
        "  'aa2vol',\n",
        "  'deltavolume',\n",
        "  'aa1_psic',\n",
        "  'aa2_psic',\n",
        "  'delta_psic',\n",
        "  'accessibility',\n",
        "  'dssp_sec_str',\n",
        "  'phi_psi_reg',\n",
        "  'delta_solvent_accessibility',\n",
        "  'b_factor',\n",
        "  'mut_msa_congruency',\n",
        "  'mut_mut_msa_congruency',\n",
        "  'seq_ind_closest_mut',\n",
        "  'selection_coefficient',\n",
        "  'evolutionary_coupling_avg'],\n",
        " 'max_depth': 50,\n",
        " 'max_iterations': 50,\n",
        " 'min_child_weight': 2,\n",
        " 'min_loss_reduction': 0,\n",
        " 'row_subsample': 0.8,\n",
        " 'step_size': 0.1,\n",
        " 'target': 'scaled_effect1'}"
       ]
      }
     ],
     "prompt_number": 14
    },
    {
     "cell_type": "code",
     "collapsed": false,
     "input": [
      "train_data, test_data = ubiq_data1.random_split(0.8)\n",
      "ubiq_data1_regression_model = gl.boosted_trees_regression.create(train_data, 'scaled_effect1', \n",
      "                features = predictors3, max_iterations = 250, \n",
      "                column_subsample= 0.7, row_subsample =0.9,\n",
      "                min_child_weight = 2, min_loss_reduction = 0, step_size = 0.01,\n",
      "                max_depth = 50)"
     ],
     "language": "python",
     "metadata": {
      "deletable": true,
      "editable": true,
      "scrolled": true
     },
     "outputs": [
      {
       "output_type": "stream",
       "stream": "stdout",
       "text": [
        "PROGRESS: Creating a validation set from 5 percent of training data. This may take a while.\n",
        "          You can set ``validation_set=None`` to disable validation tracking.\n",
        "\n"
       ]
      },
      {
       "html": [
        "<pre>WARNING: Detected extremely low variance for feature(s) 'selection_coefficient' because all entries are nearly the same.\n",
        "Proceeding with model training using all features. If the model does not provide results of adequate quality, exclude the above mentioned feature(s) from the input dataset.</pre>"
       ],
       "metadata": {},
       "output_type": "display_data",
       "text": [
        "WARNING: Detected extremely low variance for feature(s) 'selection_coefficient' because all entries are nearly the same.\n",
        "Proceeding with model training using all features. If the model does not provide results of adequate quality, exclude the above mentioned feature(s) from the input dataset."
       ]
      },
      {
       "html": [
        "<pre>Boosted trees regression:</pre>"
       ],
       "metadata": {},
       "output_type": "display_data",
       "text": [
        "Boosted trees regression:"
       ]
      },
      {
       "html": [
        "<pre>--------------------------------------------------------</pre>"
       ],
       "metadata": {},
       "output_type": "display_data",
       "text": [
        "--------------------------------------------------------"
       ]
      },
      {
       "html": [
        "<pre>Number of examples          : 955</pre>"
       ],
       "metadata": {},
       "output_type": "display_data",
       "text": [
        "Number of examples          : 955"
       ]
      },
      {
       "html": [
        "<pre>Number of features          : 28</pre>"
       ],
       "metadata": {},
       "output_type": "display_data",
       "text": [
        "Number of features          : 28"
       ]
      },
      {
       "html": [
        "<pre>Number of unpacked features : 28</pre>"
       ],
       "metadata": {},
       "output_type": "display_data",
       "text": [
        "Number of unpacked features : 28"
       ]
      },
      {
       "html": [
        "<pre>+-----------+--------------+--------------------+----------------------+---------------+-----------------+</pre>"
       ],
       "metadata": {},
       "output_type": "display_data",
       "text": [
        "+-----------+--------------+--------------------+----------------------+---------------+-----------------+"
       ]
      },
      {
       "html": [
        "<pre>| Iteration | Elapsed Time | Training-max_error | Validation-max_error | Training-rmse | Validation-rmse |</pre>"
       ],
       "metadata": {},
       "output_type": "display_data",
       "text": [
        "| Iteration | Elapsed Time | Training-max_error | Validation-max_error | Training-rmse | Validation-rmse |"
       ]
      },
      {
       "html": [
        "<pre>+-----------+--------------+--------------------+----------------------+---------------+-----------------+</pre>"
       ],
       "metadata": {},
       "output_type": "display_data",
       "text": [
        "+-----------+--------------+--------------------+----------------------+---------------+-----------------+"
       ]
      },
      {
       "html": [
        "<pre>| 1         | 0.047608     | 0.675827           | 0.511796             | 0.392968      | 0.402938        |</pre>"
       ],
       "metadata": {},
       "output_type": "display_data",
       "text": [
        "| 1         | 0.047608     | 0.675827           | 0.511796             | 0.392968      | 0.402938        |"
       ]
      },
      {
       "html": [
        "<pre>| 2         | 0.082057     | 0.674246           | 0.507155             | 0.389491      | 0.399551        |</pre>"
       ],
       "metadata": {},
       "output_type": "display_data",
       "text": [
        "| 2         | 0.082057     | 0.674246           | 0.507155             | 0.389491      | 0.399551        |"
       ]
      },
      {
       "html": [
        "<pre>| 3         | 0.120229     | 0.672677           | 0.502640             | 0.386026      | 0.396161        |</pre>"
       ],
       "metadata": {},
       "output_type": "display_data",
       "text": [
        "| 3         | 0.120229     | 0.672677           | 0.502640             | 0.386026      | 0.396161        |"
       ]
      },
      {
       "html": [
        "<pre>| 4         | 0.156580     | 0.669082           | 0.498052             | 0.382599      | 0.393151        |</pre>"
       ],
       "metadata": {},
       "output_type": "display_data",
       "text": [
        "| 4         | 0.156580     | 0.669082           | 0.498052             | 0.382599      | 0.393151        |"
       ]
      },
      {
       "html": [
        "<pre>| 5         | 0.195642     | 0.667536           | 0.493523             | 0.379207      | 0.389956        |</pre>"
       ],
       "metadata": {},
       "output_type": "display_data",
       "text": [
        "| 5         | 0.195642     | 0.667536           | 0.493523             | 0.379207      | 0.389956        |"
       ]
      },
      {
       "html": [
        "<pre>| 6         | 0.235293     | 0.666002           | 0.489099             | 0.375836      | 0.386739        |</pre>"
       ],
       "metadata": {},
       "output_type": "display_data",
       "text": [
        "| 6         | 0.235293     | 0.666002           | 0.489099             | 0.375836      | 0.386739        |"
       ]
      },
      {
       "html": [
        "<pre>| 11        | 0.434119     | 0.659598           | 0.467610             | 0.359502      | 0.371620        |</pre>"
       ],
       "metadata": {},
       "output_type": "display_data",
       "text": [
        "| 11        | 0.434119     | 0.659598           | 0.467610             | 0.359502      | 0.371620        |"
       ]
      },
      {
       "html": [
        "<pre>| 50        | 1.923837     | 0.590689           | 0.387802             | 0.255578      | 0.279132        |</pre>"
       ],
       "metadata": {},
       "output_type": "display_data",
       "text": [
        "| 50        | 1.923837     | 0.590689           | 0.387802             | 0.255578      | 0.279132        |"
       ]
      },
      {
       "html": [
        "<pre>| 51        | 1.964700     | 0.589357           | 0.390693             | 0.253409      | 0.277196        |</pre>"
       ],
       "metadata": {},
       "output_type": "display_data",
       "text": [
        "| 51        | 1.964700     | 0.589357           | 0.390693             | 0.253409      | 0.277196        |"
       ]
      },
      {
       "html": [
        "<pre>| 100       | 3.921506     | 0.506064           | 0.449233             | 0.167984      | 0.209876        |</pre>"
       ],
       "metadata": {},
       "output_type": "display_data",
       "text": [
        "| 100       | 3.921506     | 0.506064           | 0.449233             | 0.167984      | 0.209876        |"
       ]
      },
      {
       "html": [
        "<pre>| 101       | 3.963051     | 0.504973           | 0.450685             | 0.166631      | 0.208948        |</pre>"
       ],
       "metadata": {},
       "output_type": "display_data",
       "text": [
        "| 101       | 3.963051     | 0.504973           | 0.450685             | 0.166631      | 0.208948        |"
       ]
      },
      {
       "html": [
        "<pre>| 150       | 6.106228     | 0.435317           | 0.485363             | 0.113374      | 0.174853        |</pre>"
       ],
       "metadata": {},
       "output_type": "display_data",
       "text": [
        "| 150       | 6.106228     | 0.435317           | 0.485363             | 0.113374      | 0.174853        |"
       ]
      },
      {
       "html": [
        "<pre>| 200       | 8.517670     | 0.372153           | 0.500601             | 0.078652      | 0.156889        |</pre>"
       ],
       "metadata": {},
       "output_type": "display_data",
       "text": [
        "| 200       | 8.517670     | 0.372153           | 0.500601             | 0.078652      | 0.156889        |"
       ]
      },
      {
       "html": [
        "<pre>| 250       | 11.170801    | 0.317601           | 0.509978             | 0.056079      | 0.148789        |</pre>"
       ],
       "metadata": {},
       "output_type": "display_data",
       "text": [
        "| 250       | 11.170801    | 0.317601           | 0.509978             | 0.056079      | 0.148789        |"
       ]
      },
      {
       "html": [
        "<pre>+-----------+--------------+--------------------+----------------------+---------------+-----------------+</pre>"
       ],
       "metadata": {},
       "output_type": "display_data",
       "text": [
        "+-----------+--------------+--------------------+----------------------+---------------+-----------------+"
       ]
      }
     ],
     "prompt_number": 44
    },
    {
     "cell_type": "code",
     "collapsed": true,
     "input": [
      "pickler = gl._gl_pickle.GLPickler(filename = '/net/fowler/vol1/home/vegray/metaDMS/dato/singleModels/scaled_ubiq_2017-01-05')\n",
      "pickler.dump(ubiq_data1_regression_model)\n",
      "pickler.close()"
     ],
     "language": "python",
     "metadata": {
      "deletable": true,
      "editable": true
     },
     "outputs": [],
     "prompt_number": 16
    },
    {
     "cell_type": "code",
     "collapsed": false,
     "input": [
      "pred = ubiq_data1_regression_model.predict(test_data)\n",
      "stats.pearsonr(pred, test_data['scaled_effect1'])\n",
      "stats.spearmanr(pred, test_data['scaled_effect1'])\n",
      "#sqrt(mean_squared_error(pred,test_data['scaled_effect1']))"
     ],
     "language": "python",
     "metadata": {
      "deletable": true,
      "editable": true
     },
     "outputs": [
      {
       "metadata": {},
       "output_type": "pyout",
       "prompt_number": 45,
       "text": [
        "(0.86066638246023064, 2.3156622544741979e-74)"
       ]
      }
     ],
     "prompt_number": 45
    },
    {
     "cell_type": "code",
     "collapsed": false,
     "input": [
      "pred = ubiq_data1_regression_model.predict(train_data)\n",
      "stats.pearsonr(pred, train_data['scaled_effect1'])\n",
      "stats.spearmanr(pred, train_data['scaled_effect1'])\n",
      "#sqrt(mean_squared_error(pred,test_data['scaled_effect1']))"
     ],
     "language": "python",
     "metadata": {
      "deletable": true,
      "editable": true
     },
     "outputs": [
      {
       "metadata": {},
       "output_type": "pyout",
       "prompt_number": 46,
       "text": [
        "(0.95620612442703123, 0.0)"
       ]
      }
     ],
     "prompt_number": 46
    },
    {
     "cell_type": "code",
     "collapsed": true,
     "input": [
      "unpickler = gl._gl_pickle.GLUnpickler(filename = '/net/fowler/vol1/home/vegray/metaDMS/dato/singleModels/scaled_ubiq_2017-01-05')\n",
      "ubiq_data1_regression_model= unpickler.load()\n",
      "unpickler.close()"
     ],
     "language": "python",
     "metadata": {},
     "outputs": [],
     "prompt_number": 87
    },
    {
     "cell_type": "code",
     "collapsed": false,
     "input": [
      "## UBI4 pred data\n",
      "\n",
      "UBI4_pred_data = pred_data.filter_by([x for x in pred_data['dms_id'].unique() if x in ['Ubiquitin']], 'dms_id')\n",
      "\n",
      "predicted_UBI4 = ubiq_data1_regression_model.predict(UBI4_pred_data)\n",
      "UBI4_pred_data2 = UBI4_pred_data.add_column(predicted_UBI4, name = 'predictions')\n",
      "\n",
      "UBI4_pred_data2.export_csv(filename = '/net/fowler/vol1/home/vegray/metaDMS/dato/singleModels/Ubiquitin_out.csv')"
     ],
     "language": "python",
     "metadata": {},
     "outputs": [],
     "prompt_number": 94
    },
    {
     "cell_type": "heading",
     "level": 1,
     "metadata": {
      "deletable": true,
      "editable": true
     },
     "source": [
      "E1-ubiquitin"
     ]
    },
    {
     "cell_type": "code",
     "collapsed": false,
     "input": [
      "E1_data = data.filter_by([x for x in data['dms_id'].unique() if x in ['E1_Ubiquitin']], 'dms_id')\n",
      "E1_data1 = E1_data.filter_by([x for x in E1_data['mut_type'].unique() if x in ['missense']], 'mut_type')\n",
      "E1_data1 = E1_data1.add_row_number('id',0)"
     ],
     "language": "python",
     "metadata": {
      "deletable": true,
      "editable": true
     },
     "outputs": [
      {
       "ename": "RuntimeError",
       "evalue": "Column 'id' already exists in the current SFrame",
       "output_type": "pyerr",
       "traceback": [
        "\u001b[0;31m---------------------------------------------------------------------------\u001b[0m",
        "\u001b[0;31mRuntimeError\u001b[0m                              Traceback (most recent call last)",
        "\u001b[0;32m<ipython-input-47-34055ad3c37d>\u001b[0m in \u001b[0;36m<module>\u001b[0;34m()\u001b[0m\n\u001b[1;32m      1\u001b[0m \u001b[0mE1_data\u001b[0m \u001b[0;34m=\u001b[0m \u001b[0mdata\u001b[0m\u001b[0;34m.\u001b[0m\u001b[0mfilter_by\u001b[0m\u001b[0;34m(\u001b[0m\u001b[0;34m[\u001b[0m\u001b[0mx\u001b[0m \u001b[0;32mfor\u001b[0m \u001b[0mx\u001b[0m \u001b[0;32min\u001b[0m \u001b[0mdata\u001b[0m\u001b[0;34m[\u001b[0m\u001b[0;34m'dms_id'\u001b[0m\u001b[0;34m]\u001b[0m\u001b[0;34m.\u001b[0m\u001b[0munique\u001b[0m\u001b[0;34m(\u001b[0m\u001b[0;34m)\u001b[0m \u001b[0;32mif\u001b[0m \u001b[0mx\u001b[0m \u001b[0;32min\u001b[0m \u001b[0;34m[\u001b[0m\u001b[0;34m'E1_Ubiquitin'\u001b[0m\u001b[0;34m]\u001b[0m\u001b[0;34m]\u001b[0m\u001b[0;34m,\u001b[0m \u001b[0;34m'dms_id'\u001b[0m\u001b[0;34m)\u001b[0m\u001b[0;34m\u001b[0m\u001b[0m\n\u001b[1;32m      2\u001b[0m \u001b[0mE1_data1\u001b[0m \u001b[0;34m=\u001b[0m \u001b[0mE1_data\u001b[0m\u001b[0;34m.\u001b[0m\u001b[0mfilter_by\u001b[0m\u001b[0;34m(\u001b[0m\u001b[0;34m[\u001b[0m\u001b[0mx\u001b[0m \u001b[0;32mfor\u001b[0m \u001b[0mx\u001b[0m \u001b[0;32min\u001b[0m \u001b[0mE1_data\u001b[0m\u001b[0;34m[\u001b[0m\u001b[0;34m'mut_type'\u001b[0m\u001b[0;34m]\u001b[0m\u001b[0;34m.\u001b[0m\u001b[0munique\u001b[0m\u001b[0;34m(\u001b[0m\u001b[0;34m)\u001b[0m \u001b[0;32mif\u001b[0m \u001b[0mx\u001b[0m \u001b[0;32min\u001b[0m \u001b[0;34m[\u001b[0m\u001b[0;34m'missense'\u001b[0m\u001b[0;34m]\u001b[0m\u001b[0;34m]\u001b[0m\u001b[0;34m,\u001b[0m \u001b[0;34m'mut_type'\u001b[0m\u001b[0;34m)\u001b[0m\u001b[0;34m\u001b[0m\u001b[0m\n\u001b[0;32m----> 3\u001b[0;31m \u001b[0mE1_data1\u001b[0m \u001b[0;34m=\u001b[0m \u001b[0mE1_data1\u001b[0m\u001b[0;34m.\u001b[0m\u001b[0madd_row_number\u001b[0m\u001b[0;34m(\u001b[0m\u001b[0;34m'id'\u001b[0m\u001b[0;34m,\u001b[0m\u001b[0;36m0\u001b[0m\u001b[0;34m)\u001b[0m\u001b[0;34m\u001b[0m\u001b[0m\n\u001b[0m",
        "\u001b[0;32m/net/gs/vol3/software/modules-sw-python/2.7.3/graphlab/2.1/Linux/RHEL6/x86_64/lib/python2.7/site-packages/graphlab/data_structures/sframe.pyc\u001b[0m in \u001b[0;36madd_row_number\u001b[0;34m(self, column_name, start)\u001b[0m\n\u001b[1;32m   6150\u001b[0m \u001b[0;34m\u001b[0m\u001b[0m\n\u001b[1;32m   6151\u001b[0m         \u001b[0;32mif\u001b[0m \u001b[0mcolumn_name\u001b[0m \u001b[0;32min\u001b[0m \u001b[0mself\u001b[0m\u001b[0;34m.\u001b[0m\u001b[0mcolumn_names\u001b[0m\u001b[0;34m(\u001b[0m\u001b[0;34m)\u001b[0m\u001b[0;34m:\u001b[0m\u001b[0;34m\u001b[0m\u001b[0m\n\u001b[0;32m-> 6152\u001b[0;31m             \u001b[0;32mraise\u001b[0m \u001b[0mRuntimeError\u001b[0m\u001b[0;34m(\u001b[0m\u001b[0;34m\"Column '\"\u001b[0m \u001b[0;34m+\u001b[0m \u001b[0mcolumn_name\u001b[0m \u001b[0;34m+\u001b[0m \u001b[0;34m\"' already exists in the current SFrame\"\u001b[0m\u001b[0;34m)\u001b[0m\u001b[0;34m\u001b[0m\u001b[0m\n\u001b[0m\u001b[1;32m   6153\u001b[0m \u001b[0;34m\u001b[0m\u001b[0m\n\u001b[1;32m   6154\u001b[0m         \u001b[0mthe_col\u001b[0m \u001b[0;34m=\u001b[0m \u001b[0m_create_sequential_sarray\u001b[0m\u001b[0;34m(\u001b[0m\u001b[0mself\u001b[0m\u001b[0;34m.\u001b[0m\u001b[0mnum_rows\u001b[0m\u001b[0;34m(\u001b[0m\u001b[0;34m)\u001b[0m\u001b[0;34m,\u001b[0m \u001b[0mstart\u001b[0m\u001b[0;34m)\u001b[0m\u001b[0;34m\u001b[0m\u001b[0m\n",
        "\u001b[0;31mRuntimeError\u001b[0m: Column 'id' already exists in the current SFrame"
       ]
      }
     ],
     "prompt_number": 47
    },
    {
     "cell_type": "code",
     "collapsed": false,
     "input": [
      "folds = gl.cross_validation.KFold(E1_data1,10)\n",
      "params = dict([('target', 'scaled_effect1'), ('max_depth', 5), ('max_iterations' , [5,10,25,50]), \n",
      "               ('column_subsample' , .6), ('row_subsample' , .6), ('min_child_weight' , 1), \n",
      "               ('min_loss_reduction' , 0), ('step_size' , 0.1), ('features' , [predictors3])])\n",
      "E1_data1_paramSearch = gl.model_parameter_search.grid_search.create(folds, gl.boosted_trees_regression.create, params)"
     ],
     "language": "python",
     "metadata": {
      "deletable": true,
      "editable": true
     },
     "outputs": [
      {
       "output_type": "stream",
       "stream": "stderr",
       "text": [
        "[INFO] graphlab.deploy.job: Validating job.\n",
        "[INFO] graphlab.deploy.map_job: Validation complete. Job: 'Model-Parameter-Search-Feb-24-2017-13-52-5500000' ready for execution\n",
        "[INFO] graphlab.deploy.map_job: Job: 'Model-Parameter-Search-Feb-24-2017-13-52-5500000' scheduled.\n",
        "[INFO] graphlab.deploy.job: Validating job.\n",
        "[INFO] graphlab.deploy.map_job: A job with name 'Model-Parameter-Search-Feb-24-2017-13-52-5500000' already exists. Renaming the job to 'Model-Parameter-Search-Feb-24-2017-13-52-5500000-e4c64'.\n",
        "[INFO] graphlab.deploy.map_job: Validation complete. Job: 'Model-Parameter-Search-Feb-24-2017-13-52-5500000-e4c64' ready for execution\n",
        "[INFO] graphlab.deploy.map_job: Job: 'Model-Parameter-Search-Feb-24-2017-13-52-5500000-e4c64' scheduled.\n",
        "[INFO] graphlab.deploy.job: Validating job.\n",
        "[INFO] graphlab.deploy.map_job: Validation complete. Job: 'Model-Parameter-Search-Feb-24-2017-13-52-5500001' ready for execution\n",
        "[INFO] graphlab.deploy.map_job: Job: 'Model-Parameter-Search-Feb-24-2017-13-52-5500001' scheduled.\n",
        "[INFO] graphlab.deploy.job: Validating job.\n",
        "[INFO] graphlab.deploy.map_job: Validation complete. Job: 'Model-Parameter-Search-Feb-24-2017-13-52-5500002' ready for execution\n",
        "[INFO] graphlab.deploy.map_job: Job: 'Model-Parameter-Search-Feb-24-2017-13-52-5500002' scheduled.\n"
       ]
      }
     ],
     "prompt_number": 20
    },
    {
     "cell_type": "code",
     "collapsed": false,
     "input": [
      "E1_data1_paramSearch.get_best_params()"
     ],
     "language": "python",
     "metadata": {
      "deletable": true,
      "editable": true,
      "scrolled": true
     },
     "outputs": [
      {
       "metadata": {},
       "output_type": "pyout",
       "prompt_number": 21,
       "text": [
        "{'column_subsample': 0.6,\n",
        " 'features': ['aa1',\n",
        "  'aa2',\n",
        "  'wt_mut',\n",
        "  'aa1_polarity',\n",
        "  'aa2_polarity',\n",
        "  'aa1_PI',\n",
        "  'aa2_PI',\n",
        "  'deltaPI',\n",
        "  'Grantham',\n",
        "  'aa1_weight',\n",
        "  'aa2_weight',\n",
        "  'deltaWeight',\n",
        "  'aa1vol',\n",
        "  'aa2vol',\n",
        "  'deltavolume',\n",
        "  'aa1_psic',\n",
        "  'aa2_psic',\n",
        "  'delta_psic',\n",
        "  'accessibility',\n",
        "  'dssp_sec_str',\n",
        "  'phi_psi_reg',\n",
        "  'delta_solvent_accessibility',\n",
        "  'b_factor',\n",
        "  'mut_msa_congruency',\n",
        "  'mut_mut_msa_congruency',\n",
        "  'seq_ind_closest_mut',\n",
        "  'selection_coefficient',\n",
        "  'evolutionary_coupling_avg'],\n",
        " 'max_depth': 5,\n",
        " 'max_iterations': 50,\n",
        " 'min_child_weight': 1,\n",
        " 'min_loss_reduction': 0,\n",
        " 'row_subsample': 0.6,\n",
        " 'step_size': 0.1,\n",
        " 'target': 'scaled_effect1'}"
       ]
      }
     ],
     "prompt_number": 21
    },
    {
     "cell_type": "code",
     "collapsed": false,
     "input": [
      "params = dict([('target', 'scaled_effect1'), ('max_depth', [2, 6, 10, 25, 50] ), ('max_iterations' , 50), \n",
      "               ('column_subsample' , .6), ('row_subsample' , .6), ('min_child_weight' , [2, 6, 10, 25, 50]), \n",
      "               ('min_loss_reduction' , 0), ('step_size' , 0.1), ('features' , [predictors3])])\n",
      "E1_data1_paramSearch1 = gl.model_parameter_search.grid_search.create(folds, gl.boosted_trees_regression.create, params)"
     ],
     "language": "python",
     "metadata": {
      "deletable": true,
      "editable": true
     },
     "outputs": [
      {
       "output_type": "stream",
       "stream": "stderr",
       "text": [
        "[INFO] graphlab.deploy.job: Validating job.\n",
        "[INFO] graphlab.deploy.map_job: Validation complete. Job: 'Model-Parameter-Search-Feb-24-2017-13-58-3100000' ready for execution\n",
        "[INFO] graphlab.deploy.map_job: Job: 'Model-Parameter-Search-Feb-24-2017-13-58-3100000' scheduled.\n",
        "[INFO] graphlab.deploy.job: Validating job.\n",
        "[INFO] graphlab.deploy.map_job: A job with name 'Model-Parameter-Search-Feb-24-2017-13-58-3100000' already exists. Renaming the job to 'Model-Parameter-Search-Feb-24-2017-13-58-3100000-7f1c2'.\n",
        "[INFO] graphlab.deploy.map_job: Validation complete. Job: 'Model-Parameter-Search-Feb-24-2017-13-58-3100000-7f1c2' ready for execution\n",
        "[INFO] graphlab.deploy.map_job: Job: 'Model-Parameter-Search-Feb-24-2017-13-58-3100000-7f1c2' scheduled.\n",
        "[INFO] graphlab.deploy.job: Validating job.\n",
        "[INFO] graphlab.deploy.map_job: Validation complete. Job: 'Model-Parameter-Search-Feb-24-2017-13-58-3100001' ready for execution\n",
        "[INFO] graphlab.deploy.map_job: Job: 'Model-Parameter-Search-Feb-24-2017-13-58-3100001' scheduled.\n",
        "[INFO] graphlab.deploy.job: Validating job.\n",
        "[INFO] graphlab.deploy.map_job: Validation complete. Job: 'Model-Parameter-Search-Feb-24-2017-13-58-3100002' ready for execution\n",
        "[INFO] graphlab.deploy.map_job: Job: 'Model-Parameter-Search-Feb-24-2017-13-58-3100002' scheduled.\n"
       ]
      }
     ],
     "prompt_number": 22
    },
    {
     "cell_type": "code",
     "collapsed": false,
     "input": [
      "E1_data1_paramSearch1.get_best_params()"
     ],
     "language": "python",
     "metadata": {
      "deletable": true,
      "editable": true,
      "scrolled": true
     },
     "outputs": [
      {
       "metadata": {},
       "output_type": "pyout",
       "prompt_number": 23,
       "text": [
        "{'column_subsample': 0.6,\n",
        " 'features': ['aa1',\n",
        "  'aa2',\n",
        "  'wt_mut',\n",
        "  'aa1_polarity',\n",
        "  'aa2_polarity',\n",
        "  'aa1_PI',\n",
        "  'aa2_PI',\n",
        "  'deltaPI',\n",
        "  'Grantham',\n",
        "  'aa1_weight',\n",
        "  'aa2_weight',\n",
        "  'deltaWeight',\n",
        "  'aa1vol',\n",
        "  'aa2vol',\n",
        "  'deltavolume',\n",
        "  'aa1_psic',\n",
        "  'aa2_psic',\n",
        "  'delta_psic',\n",
        "  'accessibility',\n",
        "  'dssp_sec_str',\n",
        "  'phi_psi_reg',\n",
        "  'delta_solvent_accessibility',\n",
        "  'b_factor',\n",
        "  'mut_msa_congruency',\n",
        "  'mut_mut_msa_congruency',\n",
        "  'seq_ind_closest_mut',\n",
        "  'selection_coefficient',\n",
        "  'evolutionary_coupling_avg'],\n",
        " 'max_depth': 10,\n",
        " 'max_iterations': 50,\n",
        " 'min_child_weight': 10,\n",
        " 'min_loss_reduction': 0,\n",
        " 'row_subsample': 0.6,\n",
        " 'step_size': 0.1,\n",
        " 'target': 'scaled_effect1'}"
       ]
      }
     ],
     "prompt_number": 23
    },
    {
     "cell_type": "code",
     "collapsed": false,
     "input": [
      "params = dict([('target', 'scaled_effect1'), ('max_depth',10), ('max_iterations' , 50), \n",
      "               ('column_subsample' , .6), ('row_subsample' , .6), ('min_child_weight' ,10), \n",
      "               ('min_loss_reduction' , [0, 0.1, 0.2, 0.3, 0.4, 0.5]), ('step_size' , 0.1), ('features' , [predictors3])])\n",
      "E1_data1_paramSearch2 = gl.model_parameter_search.grid_search.create(folds, gl.boosted_trees_regression.create, params)"
     ],
     "language": "python",
     "metadata": {
      "deletable": true,
      "editable": true
     },
     "outputs": [
      {
       "output_type": "stream",
       "stream": "stderr",
       "text": [
        "[INFO] graphlab.deploy.job: Validating job.\n",
        "[INFO] graphlab.deploy.map_job: Validation complete. Job: 'Model-Parameter-Search-Feb-24-2017-14-08-2100000' ready for execution\n",
        "[INFO] graphlab.deploy.map_job: Job: 'Model-Parameter-Search-Feb-24-2017-14-08-2100000' scheduled.\n",
        "[INFO] graphlab.deploy.job: Validating job.\n",
        "[INFO] graphlab.deploy.map_job: A job with name 'Model-Parameter-Search-Feb-24-2017-14-08-2100000' already exists. Renaming the job to 'Model-Parameter-Search-Feb-24-2017-14-08-2100000-6b804'.\n",
        "[INFO] graphlab.deploy.map_job: Validation complete. Job: 'Model-Parameter-Search-Feb-24-2017-14-08-2100000-6b804' ready for execution\n",
        "[INFO] graphlab.deploy.map_job: Job: 'Model-Parameter-Search-Feb-24-2017-14-08-2100000-6b804' scheduled.\n",
        "[INFO] graphlab.deploy.job: Validating job.\n",
        "[INFO] graphlab.deploy.map_job: Validation complete. Job: 'Model-Parameter-Search-Feb-24-2017-14-08-2100001' ready for execution\n",
        "[INFO] graphlab.deploy.map_job: Job: 'Model-Parameter-Search-Feb-24-2017-14-08-2100001' scheduled.\n",
        "[INFO] graphlab.deploy.job: Validating job.\n",
        "[INFO] graphlab.deploy.map_job: Validation complete. Job: 'Model-Parameter-Search-Feb-24-2017-14-08-2100002' ready for execution\n",
        "[INFO] graphlab.deploy.map_job: Job: 'Model-Parameter-Search-Feb-24-2017-14-08-2100002' scheduled.\n"
       ]
      }
     ],
     "prompt_number": 24
    },
    {
     "cell_type": "code",
     "collapsed": false,
     "input": [
      "E1_data1_paramSearch2.get_best_params()"
     ],
     "language": "python",
     "metadata": {
      "deletable": true,
      "editable": true,
      "scrolled": true
     },
     "outputs": [
      {
       "metadata": {},
       "output_type": "pyout",
       "prompt_number": 25,
       "text": [
        "{'column_subsample': 0.6,\n",
        " 'features': ['aa1',\n",
        "  'aa2',\n",
        "  'wt_mut',\n",
        "  'aa1_polarity',\n",
        "  'aa2_polarity',\n",
        "  'aa1_PI',\n",
        "  'aa2_PI',\n",
        "  'deltaPI',\n",
        "  'Grantham',\n",
        "  'aa1_weight',\n",
        "  'aa2_weight',\n",
        "  'deltaWeight',\n",
        "  'aa1vol',\n",
        "  'aa2vol',\n",
        "  'deltavolume',\n",
        "  'aa1_psic',\n",
        "  'aa2_psic',\n",
        "  'delta_psic',\n",
        "  'accessibility',\n",
        "  'dssp_sec_str',\n",
        "  'phi_psi_reg',\n",
        "  'delta_solvent_accessibility',\n",
        "  'b_factor',\n",
        "  'mut_msa_congruency',\n",
        "  'mut_mut_msa_congruency',\n",
        "  'seq_ind_closest_mut',\n",
        "  'selection_coefficient',\n",
        "  'evolutionary_coupling_avg'],\n",
        " 'max_depth': 10,\n",
        " 'max_iterations': 50,\n",
        " 'min_child_weight': 10,\n",
        " 'min_loss_reduction': 0,\n",
        " 'row_subsample': 0.6,\n",
        " 'step_size': 0.1,\n",
        " 'target': 'scaled_effect1'}"
       ]
      }
     ],
     "prompt_number": 25
    },
    {
     "cell_type": "code",
     "collapsed": false,
     "input": [
      "params = dict([('target', 'scaled_effect1'), ('max_depth',10), ('max_iterations' , 50), \n",
      "               ('column_subsample' , [0.6, 0.7, 0.8, 0.9]), ('row_subsample' , [0.6, 0.7, 0.8, 0.9]), ('min_child_weight' ,10 ), \n",
      "               ('min_loss_reduction' ,  0), ('step_size' , 0.1), ('features' , [predictors3])])\n",
      "E1_data1_paramSearch3 = gl.model_parameter_search.grid_search.create(folds, gl.boosted_trees_regression.create, params)"
     ],
     "language": "python",
     "metadata": {
      "deletable": true,
      "editable": true
     },
     "outputs": [
      {
       "output_type": "stream",
       "stream": "stderr",
       "text": [
        "[INFO] graphlab.deploy.job: Validating job.\n",
        "[INFO] graphlab.deploy.map_job: Validation complete. Job: 'Model-Parameter-Search-Feb-24-2017-14-11-2700000' ready for execution\n",
        "[INFO] graphlab.deploy.map_job: Job: 'Model-Parameter-Search-Feb-24-2017-14-11-2700000' scheduled.\n",
        "[INFO] graphlab.deploy.job: Validating job.\n",
        "[INFO] graphlab.deploy.map_job: A job with name 'Model-Parameter-Search-Feb-24-2017-14-11-2700000' already exists. Renaming the job to 'Model-Parameter-Search-Feb-24-2017-14-11-2700000-213fe'.\n",
        "[INFO] graphlab.deploy.map_job: Validation complete. Job: 'Model-Parameter-Search-Feb-24-2017-14-11-2700000-213fe' ready for execution\n",
        "[INFO] graphlab.deploy.map_job: Job: 'Model-Parameter-Search-Feb-24-2017-14-11-2700000-213fe' scheduled.\n",
        "[INFO] graphlab.deploy.job: Validating job.\n",
        "[INFO] graphlab.deploy.map_job: Validation complete. Job: 'Model-Parameter-Search-Feb-24-2017-14-11-2700001' ready for execution\n",
        "[INFO] graphlab.deploy.map_job: Job: 'Model-Parameter-Search-Feb-24-2017-14-11-2700001' scheduled.\n",
        "[INFO] graphlab.deploy.job: Validating job.\n",
        "[INFO] graphlab.deploy.map_job: Validation complete. Job: 'Model-Parameter-Search-Feb-24-2017-14-11-2700002' ready for execution\n",
        "[INFO] graphlab.deploy.map_job: Job: 'Model-Parameter-Search-Feb-24-2017-14-11-2700002' scheduled.\n"
       ]
      }
     ],
     "prompt_number": 26
    },
    {
     "cell_type": "code",
     "collapsed": false,
     "input": [
      "E1_data1_paramSearch3.get_best_params()"
     ],
     "language": "python",
     "metadata": {
      "deletable": true,
      "editable": true,
      "scrolled": true
     },
     "outputs": [
      {
       "metadata": {},
       "output_type": "pyout",
       "prompt_number": 27,
       "text": [
        "{'column_subsample': 0.8,\n",
        " 'features': ['aa1',\n",
        "  'aa2',\n",
        "  'wt_mut',\n",
        "  'aa1_polarity',\n",
        "  'aa2_polarity',\n",
        "  'aa1_PI',\n",
        "  'aa2_PI',\n",
        "  'deltaPI',\n",
        "  'Grantham',\n",
        "  'aa1_weight',\n",
        "  'aa2_weight',\n",
        "  'deltaWeight',\n",
        "  'aa1vol',\n",
        "  'aa2vol',\n",
        "  'deltavolume',\n",
        "  'aa1_psic',\n",
        "  'aa2_psic',\n",
        "  'delta_psic',\n",
        "  'accessibility',\n",
        "  'dssp_sec_str',\n",
        "  'phi_psi_reg',\n",
        "  'delta_solvent_accessibility',\n",
        "  'b_factor',\n",
        "  'mut_msa_congruency',\n",
        "  'mut_mut_msa_congruency',\n",
        "  'seq_ind_closest_mut',\n",
        "  'selection_coefficient',\n",
        "  'evolutionary_coupling_avg'],\n",
        " 'max_depth': 10,\n",
        " 'max_iterations': 50,\n",
        " 'min_child_weight': 10,\n",
        " 'min_loss_reduction': 0,\n",
        " 'row_subsample': 0.9,\n",
        " 'step_size': 0.1,\n",
        " 'target': 'scaled_effect1'}"
       ]
      }
     ],
     "prompt_number": 27
    },
    {
     "cell_type": "code",
     "collapsed": false,
     "input": [
      "train_data, test_data = E1_data1.random_split(0.8)\n",
      "E1_data1_regression_model = gl.boosted_trees_regression.create(train_data, 'scaled_effect1', \n",
      "                features = predictors3, max_iterations = 250, \n",
      "                column_subsample= 0.8, row_subsample =0.9,\n",
      "                min_child_weight = 10, min_loss_reduction = 0, step_size = 0.01,\n",
      "                max_depth = 10)"
     ],
     "language": "python",
     "metadata": {
      "deletable": true,
      "editable": true,
      "scrolled": true
     },
     "outputs": [
      {
       "output_type": "stream",
       "stream": "stdout",
       "text": [
        "PROGRESS: Creating a validation set from 5 percent of training data. This may take a while.\n",
        "          You can set ``validation_set=None`` to disable validation tracking.\n",
        "\n"
       ]
      },
      {
       "html": [
        "<pre>WARNING: Detected extremely low variance for feature(s) 'selection_coefficient' because all entries are nearly the same.\n",
        "Proceeding with model training using all features. If the model does not provide results of adequate quality, exclude the above mentioned feature(s) from the input dataset.</pre>"
       ],
       "metadata": {},
       "output_type": "display_data",
       "text": [
        "WARNING: Detected extremely low variance for feature(s) 'selection_coefficient' because all entries are nearly the same.\n",
        "Proceeding with model training using all features. If the model does not provide results of adequate quality, exclude the above mentioned feature(s) from the input dataset."
       ]
      },
      {
       "html": [
        "<pre>Boosted trees regression:</pre>"
       ],
       "metadata": {},
       "output_type": "display_data",
       "text": [
        "Boosted trees regression:"
       ]
      },
      {
       "html": [
        "<pre>--------------------------------------------------------</pre>"
       ],
       "metadata": {},
       "output_type": "display_data",
       "text": [
        "--------------------------------------------------------"
       ]
      },
      {
       "html": [
        "<pre>Number of examples          : 840</pre>"
       ],
       "metadata": {},
       "output_type": "display_data",
       "text": [
        "Number of examples          : 840"
       ]
      },
      {
       "html": [
        "<pre>Number of features          : 28</pre>"
       ],
       "metadata": {},
       "output_type": "display_data",
       "text": [
        "Number of features          : 28"
       ]
      },
      {
       "html": [
        "<pre>Number of unpacked features : 28</pre>"
       ],
       "metadata": {},
       "output_type": "display_data",
       "text": [
        "Number of unpacked features : 28"
       ]
      },
      {
       "html": [
        "<pre>+-----------+--------------+--------------------+----------------------+---------------+-----------------+</pre>"
       ],
       "metadata": {},
       "output_type": "display_data",
       "text": [
        "+-----------+--------------+--------------------+----------------------+---------------+-----------------+"
       ]
      },
      {
       "html": [
        "<pre>| Iteration | Elapsed Time | Training-max_error | Validation-max_error | Training-rmse | Validation-rmse |</pre>"
       ],
       "metadata": {},
       "output_type": "display_data",
       "text": [
        "| Iteration | Elapsed Time | Training-max_error | Validation-max_error | Training-rmse | Validation-rmse |"
       ]
      },
      {
       "html": [
        "<pre>+-----------+--------------+--------------------+----------------------+---------------+-----------------+</pre>"
       ],
       "metadata": {},
       "output_type": "display_data",
       "text": [
        "+-----------+--------------+--------------------+----------------------+---------------+-----------------+"
       ]
      },
      {
       "html": [
        "<pre>| 1         | 0.026753     | 0.732159           | 0.589990             | 0.436833      | 0.422388        |</pre>"
       ],
       "metadata": {},
       "output_type": "display_data",
       "text": [
        "| 1         | 0.026753     | 0.732159           | 0.589990             | 0.436833      | 0.422388        |"
       ]
      },
      {
       "html": [
        "<pre>| 2         | 0.046751     | 0.727234           | 0.585065             | 0.432948      | 0.418414        |</pre>"
       ],
       "metadata": {},
       "output_type": "display_data",
       "text": [
        "| 2         | 0.046751     | 0.727234           | 0.585065             | 0.432948      | 0.418414        |"
       ]
      },
      {
       "html": [
        "<pre>| 3         | 0.066737     | 0.722374           | 0.580205             | 0.429138      | 0.414437        |</pre>"
       ],
       "metadata": {},
       "output_type": "display_data",
       "text": [
        "| 3         | 0.066737     | 0.722374           | 0.580205             | 0.429138      | 0.414437        |"
       ]
      },
      {
       "html": [
        "<pre>| 4         | 0.087227     | 0.717797           | 0.575424             | 0.425410      | 0.410602        |</pre>"
       ],
       "metadata": {},
       "output_type": "display_data",
       "text": [
        "| 4         | 0.087227     | 0.717797           | 0.575424             | 0.425410      | 0.410602        |"
       ]
      },
      {
       "html": [
        "<pre>| 5         | 0.106371     | 0.713187           | 0.570814             | 0.421676      | 0.406795        |</pre>"
       ],
       "metadata": {},
       "output_type": "display_data",
       "text": [
        "| 5         | 0.106371     | 0.713187           | 0.570814             | 0.421676      | 0.406795        |"
       ]
      },
      {
       "html": [
        "<pre>| 6         | 0.128518     | 0.708451           | 0.566077             | 0.417992      | 0.403203        |</pre>"
       ],
       "metadata": {},
       "output_type": "display_data",
       "text": [
        "| 6         | 0.128518     | 0.708451           | 0.566077             | 0.417992      | 0.403203        |"
       ]
      },
      {
       "html": [
        "<pre>| 11        | 0.223146     | 0.686043           | 0.543479             | 0.400077      | 0.385160        |</pre>"
       ],
       "metadata": {},
       "output_type": "display_data",
       "text": [
        "| 11        | 0.223146     | 0.686043           | 0.543479             | 0.400077      | 0.385160        |"
       ]
      },
      {
       "html": [
        "<pre>| 51        | 0.903124     | 0.578793           | 0.396603             | 0.286427      | 0.272046        |</pre>"
       ],
       "metadata": {},
       "output_type": "display_data",
       "text": [
        "| 51        | 0.903124     | 0.578793           | 0.396603             | 0.286427      | 0.272046        |"
       ]
      },
      {
       "html": [
        "<pre>| 100       | 1.738123     | 0.607543           | 0.295525             | 0.199979      | 0.188987        |</pre>"
       ],
       "metadata": {},
       "output_type": "display_data",
       "text": [
        "| 100       | 1.738123     | 0.607543           | 0.295525             | 0.199979      | 0.188987        |"
       ]
      },
      {
       "html": [
        "<pre>| 101       | 1.758516     | 0.607127           | 0.294335             | 0.198650      | 0.187667        |</pre>"
       ],
       "metadata": {},
       "output_type": "display_data",
       "text": [
        "| 101       | 1.758516     | 0.607127           | 0.294335             | 0.198650      | 0.187667        |"
       ]
      },
      {
       "html": [
        "<pre>| 200       | 3.653593     | 0.595395           | 0.319418             | 0.118336      | 0.123149        |</pre>"
       ],
       "metadata": {},
       "output_type": "display_data",
       "text": [
        "| 200       | 3.653593     | 0.595395           | 0.319418             | 0.118336      | 0.123149        |"
       ]
      },
      {
       "html": [
        "<pre>+-----------+--------------+--------------------+----------------------+---------------+-----------------+</pre>"
       ],
       "metadata": {},
       "output_type": "display_data",
       "text": [
        "+-----------+--------------+--------------------+----------------------+---------------+-----------------+"
       ]
      }
     ],
     "prompt_number": 48
    },
    {
     "cell_type": "code",
     "collapsed": true,
     "input": [
      "pickler = gl._gl_pickle.GLPickler(filename = '/net/fowler/vol1/home/vegray/metaDMS/dato/singleModels/scaled_E1Ubiq_2017-01-05')\n",
      "pickler.dump(E1_data1_regression_model)\n",
      "pickler.close()"
     ],
     "language": "python",
     "metadata": {
      "deletable": true,
      "editable": true
     },
     "outputs": [],
     "prompt_number": 29
    },
    {
     "cell_type": "code",
     "collapsed": false,
     "input": [
      "pred = E1_data1_regression_model.predict(test_data)\n",
      "stats.pearsonr(pred, test_data['scaled_effect1'])\n",
      "stats.spearmanr(pred, test_data['scaled_effect1'])\n",
      "#sqrt(mean_squared_error(pred,test_data['scaled_effect1']))"
     ],
     "language": "python",
     "metadata": {
      "deletable": true,
      "editable": true
     },
     "outputs": [
      {
       "metadata": {},
       "output_type": "pyout",
       "prompt_number": 53,
       "text": [
        "(0.7092749698035582, 2.3685453626096758e-32)"
       ]
      }
     ],
     "prompt_number": 53
    },
    {
     "cell_type": "code",
     "collapsed": false,
     "input": [
      "pred = E1_data1_regression_model.predict(train_data)\n",
      "stats.pearsonr(pred, train_data['scaled_effect1'])\n",
      "stats.spearmanr(pred, train_data['scaled_effect1'])\n",
      "#sqrt(mean_squared_error(pred,test_data['scaled_effect1']))"
     ],
     "language": "python",
     "metadata": {
      "deletable": true,
      "editable": true
     },
     "outputs": [
      {
       "metadata": {},
       "output_type": "pyout",
       "prompt_number": 52,
       "text": [
        "(0.83415433601708, 1.2294565239927887e-229)"
       ]
      }
     ],
     "prompt_number": 52
    },
    {
     "cell_type": "code",
     "collapsed": true,
     "input": [
      "unpickler = gl._gl_pickle.GLUnpickler(filename = '/net/fowler/vol1/home/vegray/metaDMS/dato/singleModels/scaled_E1Ubiq_2017-01-05')\n",
      "E1_data1_regression_model= unpickler.load()\n",
      "unpickler.close()"
     ],
     "language": "python",
     "metadata": {},
     "outputs": [],
     "prompt_number": 95
    },
    {
     "cell_type": "code",
     "collapsed": true,
     "input": [
      "## UBI4 pred data\n",
      "\n",
      "UBI4_pred_data = pred_data.filter_by([x for x in pred_data['dms_id'].unique() if x in ['E1_Ubiquitin']], 'dms_id')\n",
      "\n",
      "predicted_UBI4 = E1_data1_regression_model.predict(UBI4_pred_data)\n",
      "UBI4_pred_data2 = UBI4_pred_data.add_column(predicted_UBI4, name = 'predictions')\n",
      "\n",
      "UBI4_pred_data2.export_csv(filename = '/net/fowler/vol1/home/vegray/metaDMS/dato/singleModels/e1_uqbiq_out.csv')"
     ],
     "language": "python",
     "metadata": {},
     "outputs": [],
     "prompt_number": 96
    },
    {
     "cell_type": "markdown",
     "metadata": {
      "deletable": true,
      "editable": true
     },
     "source": [
      "# PDZ\n"
     ]
    },
    {
     "cell_type": "code",
     "collapsed": false,
     "input": [
      "pdz_data = data.filter_by([x for x in data['dms_id'].unique() if x in ['PSD95pdz3']], 'dms_id')\n",
      "pdz_data1 = pdz_data.filter_by([x for x in pdz_data['mut_type'].unique() if x in ['missense']], 'mut_type')\n",
      "pdz_data1 = pdz_data1.add_row_number('id',0)"
     ],
     "language": "python",
     "metadata": {
      "deletable": true,
      "editable": true
     },
     "outputs": [
      {
       "ename": "RuntimeError",
       "evalue": "Column 'id' already exists in the current SFrame",
       "output_type": "pyerr",
       "traceback": [
        "\u001b[0;31m---------------------------------------------------------------------------\u001b[0m",
        "\u001b[0;31mRuntimeError\u001b[0m                              Traceback (most recent call last)",
        "\u001b[0;32m<ipython-input-54-d207883962d5>\u001b[0m in \u001b[0;36m<module>\u001b[0;34m()\u001b[0m\n\u001b[1;32m      1\u001b[0m \u001b[0mpdz_data\u001b[0m \u001b[0;34m=\u001b[0m \u001b[0mdata\u001b[0m\u001b[0;34m.\u001b[0m\u001b[0mfilter_by\u001b[0m\u001b[0;34m(\u001b[0m\u001b[0;34m[\u001b[0m\u001b[0mx\u001b[0m \u001b[0;32mfor\u001b[0m \u001b[0mx\u001b[0m \u001b[0;32min\u001b[0m \u001b[0mdata\u001b[0m\u001b[0;34m[\u001b[0m\u001b[0;34m'dms_id'\u001b[0m\u001b[0;34m]\u001b[0m\u001b[0;34m.\u001b[0m\u001b[0munique\u001b[0m\u001b[0;34m(\u001b[0m\u001b[0;34m)\u001b[0m \u001b[0;32mif\u001b[0m \u001b[0mx\u001b[0m \u001b[0;32min\u001b[0m \u001b[0;34m[\u001b[0m\u001b[0;34m'PSD95pdz3'\u001b[0m\u001b[0;34m]\u001b[0m\u001b[0;34m]\u001b[0m\u001b[0;34m,\u001b[0m \u001b[0;34m'dms_id'\u001b[0m\u001b[0;34m)\u001b[0m\u001b[0;34m\u001b[0m\u001b[0m\n\u001b[1;32m      2\u001b[0m \u001b[0mpdz_data1\u001b[0m \u001b[0;34m=\u001b[0m \u001b[0mpdz_data\u001b[0m\u001b[0;34m.\u001b[0m\u001b[0mfilter_by\u001b[0m\u001b[0;34m(\u001b[0m\u001b[0;34m[\u001b[0m\u001b[0mx\u001b[0m \u001b[0;32mfor\u001b[0m \u001b[0mx\u001b[0m \u001b[0;32min\u001b[0m \u001b[0mpdz_data\u001b[0m\u001b[0;34m[\u001b[0m\u001b[0;34m'mut_type'\u001b[0m\u001b[0;34m]\u001b[0m\u001b[0;34m.\u001b[0m\u001b[0munique\u001b[0m\u001b[0;34m(\u001b[0m\u001b[0;34m)\u001b[0m \u001b[0;32mif\u001b[0m \u001b[0mx\u001b[0m \u001b[0;32min\u001b[0m \u001b[0;34m[\u001b[0m\u001b[0;34m'missense'\u001b[0m\u001b[0;34m]\u001b[0m\u001b[0;34m]\u001b[0m\u001b[0;34m,\u001b[0m \u001b[0;34m'mut_type'\u001b[0m\u001b[0;34m)\u001b[0m\u001b[0;34m\u001b[0m\u001b[0m\n\u001b[0;32m----> 3\u001b[0;31m \u001b[0mpdz_data1\u001b[0m \u001b[0;34m=\u001b[0m \u001b[0mpdz_data1\u001b[0m\u001b[0;34m.\u001b[0m\u001b[0madd_row_number\u001b[0m\u001b[0;34m(\u001b[0m\u001b[0;34m'id'\u001b[0m\u001b[0;34m,\u001b[0m\u001b[0;36m0\u001b[0m\u001b[0;34m)\u001b[0m\u001b[0;34m\u001b[0m\u001b[0m\n\u001b[0m",
        "\u001b[0;32m/net/gs/vol3/software/modules-sw-python/2.7.3/graphlab/2.1/Linux/RHEL6/x86_64/lib/python2.7/site-packages/graphlab/data_structures/sframe.pyc\u001b[0m in \u001b[0;36madd_row_number\u001b[0;34m(self, column_name, start)\u001b[0m\n\u001b[1;32m   6150\u001b[0m \u001b[0;34m\u001b[0m\u001b[0m\n\u001b[1;32m   6151\u001b[0m         \u001b[0;32mif\u001b[0m \u001b[0mcolumn_name\u001b[0m \u001b[0;32min\u001b[0m \u001b[0mself\u001b[0m\u001b[0;34m.\u001b[0m\u001b[0mcolumn_names\u001b[0m\u001b[0;34m(\u001b[0m\u001b[0;34m)\u001b[0m\u001b[0;34m:\u001b[0m\u001b[0;34m\u001b[0m\u001b[0m\n\u001b[0;32m-> 6152\u001b[0;31m             \u001b[0;32mraise\u001b[0m \u001b[0mRuntimeError\u001b[0m\u001b[0;34m(\u001b[0m\u001b[0;34m\"Column '\"\u001b[0m \u001b[0;34m+\u001b[0m \u001b[0mcolumn_name\u001b[0m \u001b[0;34m+\u001b[0m \u001b[0;34m\"' already exists in the current SFrame\"\u001b[0m\u001b[0;34m)\u001b[0m\u001b[0;34m\u001b[0m\u001b[0m\n\u001b[0m\u001b[1;32m   6153\u001b[0m \u001b[0;34m\u001b[0m\u001b[0m\n\u001b[1;32m   6154\u001b[0m         \u001b[0mthe_col\u001b[0m \u001b[0;34m=\u001b[0m \u001b[0m_create_sequential_sarray\u001b[0m\u001b[0;34m(\u001b[0m\u001b[0mself\u001b[0m\u001b[0;34m.\u001b[0m\u001b[0mnum_rows\u001b[0m\u001b[0;34m(\u001b[0m\u001b[0;34m)\u001b[0m\u001b[0;34m,\u001b[0m \u001b[0mstart\u001b[0m\u001b[0;34m)\u001b[0m\u001b[0;34m\u001b[0m\u001b[0m\n",
        "\u001b[0;31mRuntimeError\u001b[0m: Column 'id' already exists in the current SFrame"
       ]
      }
     ],
     "prompt_number": 54
    },
    {
     "cell_type": "code",
     "collapsed": false,
     "input": [
      "folds = gl.cross_validation.KFold(pdz_data1,10)\n",
      "params = dict([('target', 'scaled_effect1'), ('max_depth', 5), ('max_iterations' , [5,10,25,50]), \n",
      "               ('column_subsample' , .6), ('row_subsample' , .6), ('min_child_weight' , 1), \n",
      "               ('min_loss_reduction' , 0), ('step_size' , 0.1), ('features' , [predictors3])])\n",
      "pdz_data1_paramSearch = gl.model_parameter_search.grid_search.create(folds, gl.boosted_trees_regression.create, params)"
     ],
     "language": "python",
     "metadata": {
      "deletable": true,
      "editable": true
     },
     "outputs": [
      {
       "output_type": "stream",
       "stream": "stderr",
       "text": [
        "[INFO] graphlab.deploy.job: Validating job.\n",
        "[INFO] graphlab.deploy.map_job: Validation complete. Job: 'Model-Parameter-Search-Feb-24-2017-14-19-2600000' ready for execution\n",
        "[INFO] graphlab.deploy.map_job: Job: 'Model-Parameter-Search-Feb-24-2017-14-19-2600000' scheduled.\n",
        "[INFO] graphlab.deploy.job: Validating job.\n",
        "[INFO] graphlab.deploy.map_job: A job with name 'Model-Parameter-Search-Feb-24-2017-14-19-2600000' already exists. Renaming the job to 'Model-Parameter-Search-Feb-24-2017-14-19-2600000-ebc71'.\n",
        "[INFO] graphlab.deploy.map_job: Validation complete. Job: 'Model-Parameter-Search-Feb-24-2017-14-19-2600000-ebc71' ready for execution\n",
        "[INFO] graphlab.deploy.map_job: Job: 'Model-Parameter-Search-Feb-24-2017-14-19-2600000-ebc71' scheduled.\n",
        "[INFO] graphlab.deploy.job: Validating job.\n",
        "[INFO] graphlab.deploy.map_job: Validation complete. Job: 'Model-Parameter-Search-Feb-24-2017-14-19-2600001' ready for execution\n",
        "[INFO] graphlab.deploy.map_job: Job: 'Model-Parameter-Search-Feb-24-2017-14-19-2600001' scheduled.\n",
        "[INFO] graphlab.deploy.job: Validating job.\n",
        "[INFO] graphlab.deploy.map_job: Validation complete. Job: 'Model-Parameter-Search-Feb-24-2017-14-19-2600002' ready for execution\n",
        "[INFO] graphlab.deploy.map_job: Job: 'Model-Parameter-Search-Feb-24-2017-14-19-2600002' scheduled.\n"
       ]
      }
     ],
     "prompt_number": 33
    },
    {
     "cell_type": "code",
     "collapsed": false,
     "input": [
      "pdz_data1_paramSearch.get_best_params()"
     ],
     "language": "python",
     "metadata": {
      "deletable": true,
      "editable": true,
      "scrolled": true
     },
     "outputs": [
      {
       "metadata": {},
       "output_type": "pyout",
       "prompt_number": 34,
       "text": [
        "{'column_subsample': 0.6,\n",
        " 'features': ['aa1',\n",
        "  'aa2',\n",
        "  'wt_mut',\n",
        "  'aa1_polarity',\n",
        "  'aa2_polarity',\n",
        "  'aa1_PI',\n",
        "  'aa2_PI',\n",
        "  'deltaPI',\n",
        "  'Grantham',\n",
        "  'aa1_weight',\n",
        "  'aa2_weight',\n",
        "  'deltaWeight',\n",
        "  'aa1vol',\n",
        "  'aa2vol',\n",
        "  'deltavolume',\n",
        "  'aa1_psic',\n",
        "  'aa2_psic',\n",
        "  'delta_psic',\n",
        "  'accessibility',\n",
        "  'dssp_sec_str',\n",
        "  'phi_psi_reg',\n",
        "  'delta_solvent_accessibility',\n",
        "  'b_factor',\n",
        "  'mut_msa_congruency',\n",
        "  'mut_mut_msa_congruency',\n",
        "  'seq_ind_closest_mut',\n",
        "  'selection_coefficient',\n",
        "  'evolutionary_coupling_avg'],\n",
        " 'max_depth': 5,\n",
        " 'max_iterations': 50,\n",
        " 'min_child_weight': 1,\n",
        " 'min_loss_reduction': 0,\n",
        " 'row_subsample': 0.6,\n",
        " 'step_size': 0.1,\n",
        " 'target': 'scaled_effect1'}"
       ]
      }
     ],
     "prompt_number": 34
    },
    {
     "cell_type": "code",
     "collapsed": false,
     "input": [
      "params = dict([('target', 'scaled_effect1'), ('max_depth', [2, 6, 10, 25, 50] ), ('max_iterations' , 50), \n",
      "               ('column_subsample' , .6), ('row_subsample' , .6), ('min_child_weight' , [2, 6, 10, 25, 50]), \n",
      "               ('min_loss_reduction' , 0), ('step_size' , 0.1), ('features' , [predictors3])])\n",
      "pdz_data1_paramSearch1 = gl.model_parameter_search.grid_search.create(folds, gl.boosted_trees_regression.create, params)"
     ],
     "language": "python",
     "metadata": {
      "deletable": true,
      "editable": true
     },
     "outputs": [
      {
       "output_type": "stream",
       "stream": "stderr",
       "text": [
        "[INFO] graphlab.deploy.job: Validating job.\n",
        "[INFO] graphlab.deploy.map_job: Validation complete. Job: 'Model-Parameter-Search-Feb-24-2017-14-22-2600000' ready for execution\n",
        "[INFO] graphlab.deploy.map_job: Job: 'Model-Parameter-Search-Feb-24-2017-14-22-2600000' scheduled.\n",
        "[INFO] graphlab.deploy.job: Validating job.\n",
        "[INFO] graphlab.deploy.map_job: A job with name 'Model-Parameter-Search-Feb-24-2017-14-22-2600000' already exists. Renaming the job to 'Model-Parameter-Search-Feb-24-2017-14-22-2600000-c76b2'.\n",
        "[INFO] graphlab.deploy.map_job: Validation complete. Job: 'Model-Parameter-Search-Feb-24-2017-14-22-2600000-c76b2' ready for execution\n",
        "[INFO] graphlab.deploy.map_job: Job: 'Model-Parameter-Search-Feb-24-2017-14-22-2600000-c76b2' scheduled.\n",
        "[INFO] graphlab.deploy.job: Validating job.\n",
        "[INFO] graphlab.deploy.map_job: Validation complete. Job: 'Model-Parameter-Search-Feb-24-2017-14-22-2600001' ready for execution\n",
        "[INFO] graphlab.deploy.map_job: Job: 'Model-Parameter-Search-Feb-24-2017-14-22-2600001' scheduled.\n",
        "[INFO] graphlab.deploy.job: Validating job.\n",
        "[INFO] graphlab.deploy.map_job: Validation complete. Job: 'Model-Parameter-Search-Feb-24-2017-14-22-2600002' ready for execution\n",
        "[INFO] graphlab.deploy.map_job: Job: 'Model-Parameter-Search-Feb-24-2017-14-22-2600002' scheduled.\n"
       ]
      }
     ],
     "prompt_number": 35
    },
    {
     "cell_type": "code",
     "collapsed": false,
     "input": [
      "pdz_data1_paramSearch1.get_best_params()"
     ],
     "language": "python",
     "metadata": {
      "deletable": true,
      "editable": true,
      "scrolled": true
     },
     "outputs": [
      {
       "metadata": {},
       "output_type": "pyout",
       "prompt_number": 36,
       "text": [
        "{'column_subsample': 0.6,\n",
        " 'features': ['aa1',\n",
        "  'aa2',\n",
        "  'wt_mut',\n",
        "  'aa1_polarity',\n",
        "  'aa2_polarity',\n",
        "  'aa1_PI',\n",
        "  'aa2_PI',\n",
        "  'deltaPI',\n",
        "  'Grantham',\n",
        "  'aa1_weight',\n",
        "  'aa2_weight',\n",
        "  'deltaWeight',\n",
        "  'aa1vol',\n",
        "  'aa2vol',\n",
        "  'deltavolume',\n",
        "  'aa1_psic',\n",
        "  'aa2_psic',\n",
        "  'delta_psic',\n",
        "  'accessibility',\n",
        "  'dssp_sec_str',\n",
        "  'phi_psi_reg',\n",
        "  'delta_solvent_accessibility',\n",
        "  'b_factor',\n",
        "  'mut_msa_congruency',\n",
        "  'mut_mut_msa_congruency',\n",
        "  'seq_ind_closest_mut',\n",
        "  'selection_coefficient',\n",
        "  'evolutionary_coupling_avg'],\n",
        " 'max_depth': 50,\n",
        " 'max_iterations': 50,\n",
        " 'min_child_weight': 6,\n",
        " 'min_loss_reduction': 0,\n",
        " 'row_subsample': 0.6,\n",
        " 'step_size': 0.1,\n",
        " 'target': 'scaled_effect1'}"
       ]
      }
     ],
     "prompt_number": 36
    },
    {
     "cell_type": "code",
     "collapsed": false,
     "input": [
      "params = dict([('target', 'scaled_effect1'), ('max_depth',50), ('max_iterations' , 50), \n",
      "               ('column_subsample' , .6), ('row_subsample' , .6), ('min_child_weight' ,6 ), \n",
      "               ('min_loss_reduction' , [0, 0.1, 0.2, 0.3, 0.4, 0.5]), ('step_size' , 0.1), ('features' , [predictors3])])\n",
      "pdz_data1_paramSearch2 = gl.model_parameter_search.grid_search.create(folds, gl.boosted_trees_regression.create, params)"
     ],
     "language": "python",
     "metadata": {
      "deletable": true,
      "editable": true
     },
     "outputs": [
      {
       "output_type": "stream",
       "stream": "stderr",
       "text": [
        "[INFO] graphlab.deploy.job: Validating job.\n",
        "[INFO] graphlab.deploy.map_job: Validation complete. Job: 'Model-Parameter-Search-Feb-24-2017-14-32-4700000' ready for execution\n",
        "[INFO] graphlab.deploy.map_job: Job: 'Model-Parameter-Search-Feb-24-2017-14-32-4700000' scheduled.\n",
        "[INFO] graphlab.deploy.job: Validating job.\n",
        "[INFO] graphlab.deploy.map_job: A job with name 'Model-Parameter-Search-Feb-24-2017-14-32-4700000' already exists. Renaming the job to 'Model-Parameter-Search-Feb-24-2017-14-32-4700000-13262'.\n",
        "[INFO] graphlab.deploy.map_job: Validation complete. Job: 'Model-Parameter-Search-Feb-24-2017-14-32-4700000-13262' ready for execution\n",
        "[INFO] graphlab.deploy.map_job: Job: 'Model-Parameter-Search-Feb-24-2017-14-32-4700000-13262' scheduled.\n",
        "[INFO] graphlab.deploy.job: Validating job.\n",
        "[INFO] graphlab.deploy.map_job: Validation complete. Job: 'Model-Parameter-Search-Feb-24-2017-14-32-4700001' ready for execution\n",
        "[INFO] graphlab.deploy.map_job: Job: 'Model-Parameter-Search-Feb-24-2017-14-32-4700001' scheduled.\n",
        "[INFO] graphlab.deploy.job: Validating job.\n",
        "[INFO] graphlab.deploy.map_job: Validation complete. Job: 'Model-Parameter-Search-Feb-24-2017-14-32-4700002' ready for execution\n",
        "[INFO] graphlab.deploy.map_job: Job: 'Model-Parameter-Search-Feb-24-2017-14-32-4700002' scheduled.\n"
       ]
      }
     ],
     "prompt_number": 37
    },
    {
     "cell_type": "code",
     "collapsed": false,
     "input": [
      "pdz_data1_paramSearch2.get_best_params()"
     ],
     "language": "python",
     "metadata": {
      "deletable": true,
      "editable": true,
      "scrolled": true
     },
     "outputs": [
      {
       "metadata": {},
       "output_type": "pyout",
       "prompt_number": 38,
       "text": [
        "{'column_subsample': 0.6,\n",
        " 'features': ['aa1',\n",
        "  'aa2',\n",
        "  'wt_mut',\n",
        "  'aa1_polarity',\n",
        "  'aa2_polarity',\n",
        "  'aa1_PI',\n",
        "  'aa2_PI',\n",
        "  'deltaPI',\n",
        "  'Grantham',\n",
        "  'aa1_weight',\n",
        "  'aa2_weight',\n",
        "  'deltaWeight',\n",
        "  'aa1vol',\n",
        "  'aa2vol',\n",
        "  'deltavolume',\n",
        "  'aa1_psic',\n",
        "  'aa2_psic',\n",
        "  'delta_psic',\n",
        "  'accessibility',\n",
        "  'dssp_sec_str',\n",
        "  'phi_psi_reg',\n",
        "  'delta_solvent_accessibility',\n",
        "  'b_factor',\n",
        "  'mut_msa_congruency',\n",
        "  'mut_mut_msa_congruency',\n",
        "  'seq_ind_closest_mut',\n",
        "  'selection_coefficient',\n",
        "  'evolutionary_coupling_avg'],\n",
        " 'max_depth': 50,\n",
        " 'max_iterations': 50,\n",
        " 'min_child_weight': 6,\n",
        " 'min_loss_reduction': 0,\n",
        " 'row_subsample': 0.6,\n",
        " 'step_size': 0.1,\n",
        " 'target': 'scaled_effect1'}"
       ]
      }
     ],
     "prompt_number": 38
    },
    {
     "cell_type": "code",
     "collapsed": false,
     "input": [
      "params = dict([('target', 'scaled_effect1'), ('max_depth',6), ('max_iterations' , 50), \n",
      "               ('column_subsample' , [0.6, 0.7, 0.8, 0.9]), ('row_subsample' , [0.6, 0.7, 0.8, 0.9]), ('min_child_weight' ,50 ), \n",
      "               ('min_loss_reduction' ,  0), ('step_size' , 0.1), ('features' , [predictors3])])\n",
      "pdz_data1_paramSearch3 = gl.model_parameter_search.grid_search.create(folds, gl.boosted_trees_regression.create, params)"
     ],
     "language": "python",
     "metadata": {
      "deletable": true,
      "editable": true
     },
     "outputs": [
      {
       "output_type": "stream",
       "stream": "stderr",
       "text": [
        "[INFO] graphlab.deploy.job: Validating job.\n",
        "[INFO] graphlab.deploy.map_job: Validation complete. Job: 'Model-Parameter-Search-Feb-24-2017-14-40-0800000' ready for execution\n",
        "[INFO] graphlab.deploy.map_job: Job: 'Model-Parameter-Search-Feb-24-2017-14-40-0800000' scheduled.\n",
        "[INFO] graphlab.deploy.job: Validating job.\n",
        "[INFO] graphlab.deploy.map_job: A job with name 'Model-Parameter-Search-Feb-24-2017-14-40-0800000' already exists. Renaming the job to 'Model-Parameter-Search-Feb-24-2017-14-40-0800000-c19ef'.\n",
        "[INFO] graphlab.deploy.map_job: Validation complete. Job: 'Model-Parameter-Search-Feb-24-2017-14-40-0800000-c19ef' ready for execution\n",
        "[INFO] graphlab.deploy.map_job: Job: 'Model-Parameter-Search-Feb-24-2017-14-40-0800000-c19ef' scheduled.\n",
        "[INFO] graphlab.deploy.job: Validating job.\n",
        "[INFO] graphlab.deploy.map_job: Validation complete. Job: 'Model-Parameter-Search-Feb-24-2017-14-40-0800001' ready for execution\n",
        "[INFO] graphlab.deploy.map_job: Job: 'Model-Parameter-Search-Feb-24-2017-14-40-0800001' scheduled.\n",
        "[INFO] graphlab.deploy.job: Validating job.\n",
        "[INFO] graphlab.deploy.map_job: Validation complete. Job: 'Model-Parameter-Search-Feb-24-2017-14-40-0800002' ready for execution\n",
        "[INFO] graphlab.deploy.map_job: Job: 'Model-Parameter-Search-Feb-24-2017-14-40-0800002' scheduled.\n"
       ]
      }
     ],
     "prompt_number": 39
    },
    {
     "cell_type": "code",
     "collapsed": false,
     "input": [
      "pdz_data1_paramSearch3.get_best_params()"
     ],
     "language": "python",
     "metadata": {
      "deletable": true,
      "editable": true,
      "scrolled": true
     },
     "outputs": [
      {
       "metadata": {},
       "output_type": "pyout",
       "prompt_number": 40,
       "text": [
        "{'column_subsample': 0.9,\n",
        " 'features': ['aa1',\n",
        "  'aa2',\n",
        "  'wt_mut',\n",
        "  'aa1_polarity',\n",
        "  'aa2_polarity',\n",
        "  'aa1_PI',\n",
        "  'aa2_PI',\n",
        "  'deltaPI',\n",
        "  'Grantham',\n",
        "  'aa1_weight',\n",
        "  'aa2_weight',\n",
        "  'deltaWeight',\n",
        "  'aa1vol',\n",
        "  'aa2vol',\n",
        "  'deltavolume',\n",
        "  'aa1_psic',\n",
        "  'aa2_psic',\n",
        "  'delta_psic',\n",
        "  'accessibility',\n",
        "  'dssp_sec_str',\n",
        "  'phi_psi_reg',\n",
        "  'delta_solvent_accessibility',\n",
        "  'b_factor',\n",
        "  'mut_msa_congruency',\n",
        "  'mut_mut_msa_congruency',\n",
        "  'seq_ind_closest_mut',\n",
        "  'selection_coefficient',\n",
        "  'evolutionary_coupling_avg'],\n",
        " 'max_depth': 6,\n",
        " 'max_iterations': 50,\n",
        " 'min_child_weight': 50,\n",
        " 'min_loss_reduction': 0,\n",
        " 'row_subsample': 0.9,\n",
        " 'step_size': 0.1,\n",
        " 'target': 'scaled_effect1'}"
       ]
      }
     ],
     "prompt_number": 40
    },
    {
     "cell_type": "code",
     "collapsed": false,
     "input": [
      "train_data, test_data = pdz_data1.random_split(0.8)\n",
      "pdz_data1_regression_model = gl.boosted_trees_regression.create(train_data, 'scaled_effect1', \n",
      "                features = predictors3, max_iterations = 250, \n",
      "                column_subsample= 0.9, row_subsample =0.9,\n",
      "                min_child_weight = 50, min_loss_reduction = 0, step_size = 0.01,\n",
      "                max_depth = 6)"
     ],
     "language": "python",
     "metadata": {
      "deletable": true,
      "editable": true,
      "scrolled": true
     },
     "outputs": [
      {
       "output_type": "stream",
       "stream": "stdout",
       "text": [
        "PROGRESS: Creating a validation set from 5 percent of training data. This may take a while.\n",
        "          You can set ``validation_set=None`` to disable validation tracking.\n",
        "\n"
       ]
      },
      {
       "html": [
        "<pre>WARNING: Detected extremely low variance for feature(s) 'phi_psi_reg', 'delta_solvent_accessibility', 'selection_coefficient' because all entries are nearly the same.\n",
        "Proceeding with model training using all features. If the model does not provide results of adequate quality, exclude the above mentioned feature(s) from the input dataset.</pre>"
       ],
       "metadata": {},
       "output_type": "display_data",
       "text": [
        "WARNING: Detected extremely low variance for feature(s) 'phi_psi_reg', 'delta_solvent_accessibility', 'selection_coefficient' because all entries are nearly the same.\n",
        "Proceeding with model training using all features. If the model does not provide results of adequate quality, exclude the above mentioned feature(s) from the input dataset."
       ]
      },
      {
       "html": [
        "<pre>Boosted trees regression:</pre>"
       ],
       "metadata": {},
       "output_type": "display_data",
       "text": [
        "Boosted trees regression:"
       ]
      },
      {
       "html": [
        "<pre>--------------------------------------------------------</pre>"
       ],
       "metadata": {},
       "output_type": "display_data",
       "text": [
        "--------------------------------------------------------"
       ]
      },
      {
       "html": [
        "<pre>Number of examples          : 1219</pre>"
       ],
       "metadata": {},
       "output_type": "display_data",
       "text": [
        "Number of examples          : 1219"
       ]
      },
      {
       "html": [
        "<pre>Number of features          : 28</pre>"
       ],
       "metadata": {},
       "output_type": "display_data",
       "text": [
        "Number of features          : 28"
       ]
      },
      {
       "html": [
        "<pre>Number of unpacked features : 28</pre>"
       ],
       "metadata": {},
       "output_type": "display_data",
       "text": [
        "Number of unpacked features : 28"
       ]
      },
      {
       "html": [
        "<pre>+-----------+--------------+--------------------+----------------------+---------------+-----------------+</pre>"
       ],
       "metadata": {},
       "output_type": "display_data",
       "text": [
        "+-----------+--------------+--------------------+----------------------+---------------+-----------------+"
       ]
      },
      {
       "html": [
        "<pre>| Iteration | Elapsed Time | Training-max_error | Validation-max_error | Training-rmse | Validation-rmse |</pre>"
       ],
       "metadata": {},
       "output_type": "display_data",
       "text": [
        "| Iteration | Elapsed Time | Training-max_error | Validation-max_error | Training-rmse | Validation-rmse |"
       ]
      },
      {
       "html": [
        "<pre>+-----------+--------------+--------------------+----------------------+---------------+-----------------+</pre>"
       ],
       "metadata": {},
       "output_type": "display_data",
       "text": [
        "+-----------+--------------+--------------------+----------------------+---------------+-----------------+"
       ]
      },
      {
       "html": [
        "<pre>| 1         | 0.019678     | 0.702858           | 0.641975             | 0.463468      | 0.455207        |</pre>"
       ],
       "metadata": {},
       "output_type": "display_data",
       "text": [
        "| 1         | 0.019678     | 0.702858           | 0.641975             | 0.463468      | 0.455207        |"
       ]
      },
      {
       "html": [
        "<pre>| 2         | 0.031678     | 0.697397           | 0.636514             | 0.459601      | 0.451435        |</pre>"
       ],
       "metadata": {},
       "output_type": "display_data",
       "text": [
        "| 2         | 0.031678     | 0.697397           | 0.636514             | 0.459601      | 0.451435        |"
       ]
      },
      {
       "html": [
        "<pre>| 3         | 0.043043     | 0.692017           | 0.631133             | 0.455826      | 0.447702        |</pre>"
       ],
       "metadata": {},
       "output_type": "display_data",
       "text": [
        "| 3         | 0.043043     | 0.692017           | 0.631133             | 0.455826      | 0.447702        |"
       ]
      },
      {
       "html": [
        "<pre>| 4         | 0.054576     | 0.686606           | 0.625722             | 0.452068      | 0.444016        |</pre>"
       ],
       "metadata": {},
       "output_type": "display_data",
       "text": [
        "| 4         | 0.054576     | 0.686606           | 0.625722             | 0.452068      | 0.444016        |"
       ]
      },
      {
       "html": [
        "<pre>| 5         | 0.065939     | 0.683468           | 0.620964             | 0.448560      | 0.440686        |</pre>"
       ],
       "metadata": {},
       "output_type": "display_data",
       "text": [
        "| 5         | 0.065939     | 0.683468           | 0.620964             | 0.448560      | 0.440686        |"
       ]
      },
      {
       "html": [
        "<pre>| 6         | 0.077670     | 0.680247           | 0.615989             | 0.445079      | 0.437388        |</pre>"
       ],
       "metadata": {},
       "output_type": "display_data",
       "text": [
        "| 6         | 0.077670     | 0.680247           | 0.615989             | 0.445079      | 0.437388        |"
       ]
      },
      {
       "html": [
        "<pre>| 11        | 0.130760     | 0.677462           | 0.590610             | 0.427215      | 0.419907        |</pre>"
       ],
       "metadata": {},
       "output_type": "display_data",
       "text": [
        "| 11        | 0.130760     | 0.677462           | 0.590610             | 0.427215      | 0.419907        |"
       ]
      },
      {
       "html": [
        "<pre>| 51        | 0.559576     | 0.682942           | 0.522584             | 0.316980      | 0.314073        |</pre>"
       ],
       "metadata": {},
       "output_type": "display_data",
       "text": [
        "| 51        | 0.559576     | 0.682942           | 0.522584             | 0.316980      | 0.314073        |"
       ]
      },
      {
       "html": [
        "<pre>| 100       | 1.099956     | 0.687825           | 0.593973             | 0.238042      | 0.245520        |</pre>"
       ],
       "metadata": {},
       "output_type": "display_data",
       "text": [
        "| 100       | 1.099956     | 0.687825           | 0.593973             | 0.238042      | 0.245520        |"
       ]
      },
      {
       "html": [
        "<pre>| 101       | 1.112413     | 0.687706           | 0.593854             | 0.236842      | 0.244298        |</pre>"
       ],
       "metadata": {},
       "output_type": "display_data",
       "text": [
        "| 101       | 1.112413     | 0.687706           | 0.593854             | 0.236842      | 0.244298        |"
       ]
      },
      {
       "html": [
        "<pre>| 200       | 2.267310     | 0.726966           | 0.625316             | 0.173203      | 0.195996        |</pre>"
       ],
       "metadata": {},
       "output_type": "display_data",
       "text": [
        "| 200       | 2.267310     | 0.726966           | 0.625316             | 0.173203      | 0.195996        |"
       ]
      },
      {
       "html": [
        "<pre>+-----------+--------------+--------------------+----------------------+---------------+-----------------+</pre>"
       ],
       "metadata": {},
       "output_type": "display_data",
       "text": [
        "+-----------+--------------+--------------------+----------------------+---------------+-----------------+"
       ]
      }
     ],
     "prompt_number": 55
    },
    {
     "cell_type": "code",
     "collapsed": true,
     "input": [
      "pickler = gl._gl_pickle.GLPickler(filename = '/net/fowler/vol1/home/vegray/metaDMS/dato/singleModels/scaled_pdz_2017-01-05')\n",
      "pickler.dump(pdz_data1_regression_model)\n",
      "pickler.close()"
     ],
     "language": "python",
     "metadata": {
      "deletable": true,
      "editable": true
     },
     "outputs": [],
     "prompt_number": 42
    },
    {
     "cell_type": "code",
     "collapsed": false,
     "input": [
      "pred = pdz_data1_regression_model.predict(test_data)\n",
      "stats.pearsonr(pred, test_data['scaled_effect1'])\n",
      "stats.spearmanr(pred, test_data['scaled_effect1'])\n",
      "#sqrt(mean_squared_error(pred,test_data['scaled_effect1']))"
     ],
     "language": "python",
     "metadata": {
      "deletable": true,
      "editable": true
     },
     "outputs": [
      {
       "metadata": {},
       "output_type": "pyout",
       "prompt_number": 56,
       "text": [
        "(0.64981223754306572, 8.8634923664652825e-37)"
       ]
      }
     ],
     "prompt_number": 56
    },
    {
     "cell_type": "code",
     "collapsed": false,
     "input": [
      "pred = pdz_data1_regression_model.predict(train_data)\n",
      "stats.pearsonr(pred, train_data['scaled_effect1'])\n",
      "stats.spearmanr(pred, train_data['scaled_effect1'])\n",
      "#sqrt(mean_squared_error(pred,test_data['scaled_effect1']))"
     ],
     "language": "python",
     "metadata": {
      "deletable": true,
      "editable": true
     },
     "outputs": [
      {
       "metadata": {},
       "output_type": "pyout",
       "prompt_number": 57,
       "text": [
        "(0.73775682395569619, 1.1058620816180337e-220)"
       ]
      }
     ],
     "prompt_number": 57
    },
    {
     "cell_type": "code",
     "collapsed": true,
     "input": [
      "unpickler = gl._gl_pickle.GLUnpickler(filename = '/net/fowler/vol1/home/vegray/metaDMS/dato/singleModels/scaled_pdz_2017-01-05')\n",
      "pdz_data1_regression_model= unpickler.load()\n",
      "unpickler.close()"
     ],
     "language": "python",
     "metadata": {},
     "outputs": [],
     "prompt_number": 97
    },
    {
     "cell_type": "code",
     "collapsed": true,
     "input": [
      "## PSD95pdz3 pred data\n",
      "\n",
      "PSD95pdz3_pred_data = pred_data.filter_by([x for x in pred_data['protein'].unique() if x in ['PSD95pdz3']], 'protein')\n",
      "\n",
      "predicted_PSD95pdz3 = pdz_data1_regression_model.predict(PSD95pdz3_pred_data)\n",
      "PSD95pdz3_pred_data2 = PSD95pdz3_pred_data.add_column(predicted_PSD95pdz3 , name = 'predictions')\n",
      "\n",
      "PSD95pdz3_pred_data2.export_csv(filename = '/net/fowler/vol1/home/vegray/metaDMS/dato/singleModels/PSD95pdz3_out.csv')"
     ],
     "language": "python",
     "metadata": {},
     "outputs": [],
     "prompt_number": 98
    },
    {
     "cell_type": "heading",
     "level": 1,
     "metadata": {
      "deletable": true,
      "editable": true
     },
     "source": [
      "WW-domain"
     ]
    },
    {
     "cell_type": "code",
     "collapsed": false,
     "input": [
      "WW_data = data.filter_by([x for x in data['dms_id'].unique() if x in ['WW_domain']], 'dms_id')\n",
      "WW_data1 = WW_data.filter_by([x for x in WW_data['mut_type'].unique() if x in ['missense']], 'mut_type')\n",
      "WW_data1 = WW_data1.add_row_number('id',0)"
     ],
     "language": "python",
     "metadata": {
      "deletable": true,
      "editable": true
     },
     "outputs": [
      {
       "ename": "RuntimeError",
       "evalue": "Column 'id' already exists in the current SFrame",
       "output_type": "pyerr",
       "traceback": [
        "\u001b[0;31m---------------------------------------------------------------------------\u001b[0m",
        "\u001b[0;31mRuntimeError\u001b[0m                              Traceback (most recent call last)",
        "\u001b[0;32m<ipython-input-58-28d9afd68e54>\u001b[0m in \u001b[0;36m<module>\u001b[0;34m()\u001b[0m\n\u001b[1;32m      1\u001b[0m \u001b[0mWW_data\u001b[0m \u001b[0;34m=\u001b[0m \u001b[0mdata\u001b[0m\u001b[0;34m.\u001b[0m\u001b[0mfilter_by\u001b[0m\u001b[0;34m(\u001b[0m\u001b[0;34m[\u001b[0m\u001b[0mx\u001b[0m \u001b[0;32mfor\u001b[0m \u001b[0mx\u001b[0m \u001b[0;32min\u001b[0m \u001b[0mdata\u001b[0m\u001b[0;34m[\u001b[0m\u001b[0;34m'dms_id'\u001b[0m\u001b[0;34m]\u001b[0m\u001b[0;34m.\u001b[0m\u001b[0munique\u001b[0m\u001b[0;34m(\u001b[0m\u001b[0;34m)\u001b[0m \u001b[0;32mif\u001b[0m \u001b[0mx\u001b[0m \u001b[0;32min\u001b[0m \u001b[0;34m[\u001b[0m\u001b[0;34m'WW_domain'\u001b[0m\u001b[0;34m]\u001b[0m\u001b[0;34m]\u001b[0m\u001b[0;34m,\u001b[0m \u001b[0;34m'dms_id'\u001b[0m\u001b[0;34m)\u001b[0m\u001b[0;34m\u001b[0m\u001b[0m\n\u001b[1;32m      2\u001b[0m \u001b[0mWW_data1\u001b[0m \u001b[0;34m=\u001b[0m \u001b[0mWW_data\u001b[0m\u001b[0;34m.\u001b[0m\u001b[0mfilter_by\u001b[0m\u001b[0;34m(\u001b[0m\u001b[0;34m[\u001b[0m\u001b[0mx\u001b[0m \u001b[0;32mfor\u001b[0m \u001b[0mx\u001b[0m \u001b[0;32min\u001b[0m \u001b[0mWW_data\u001b[0m\u001b[0;34m[\u001b[0m\u001b[0;34m'mut_type'\u001b[0m\u001b[0;34m]\u001b[0m\u001b[0;34m.\u001b[0m\u001b[0munique\u001b[0m\u001b[0;34m(\u001b[0m\u001b[0;34m)\u001b[0m \u001b[0;32mif\u001b[0m \u001b[0mx\u001b[0m \u001b[0;32min\u001b[0m \u001b[0;34m[\u001b[0m\u001b[0;34m'missense'\u001b[0m\u001b[0;34m]\u001b[0m\u001b[0;34m]\u001b[0m\u001b[0;34m,\u001b[0m \u001b[0;34m'mut_type'\u001b[0m\u001b[0;34m)\u001b[0m\u001b[0;34m\u001b[0m\u001b[0m\n\u001b[0;32m----> 3\u001b[0;31m \u001b[0mWW_data1\u001b[0m \u001b[0;34m=\u001b[0m \u001b[0mWW_data1\u001b[0m\u001b[0;34m.\u001b[0m\u001b[0madd_row_number\u001b[0m\u001b[0;34m(\u001b[0m\u001b[0;34m'id'\u001b[0m\u001b[0;34m,\u001b[0m\u001b[0;36m0\u001b[0m\u001b[0;34m)\u001b[0m\u001b[0;34m\u001b[0m\u001b[0m\n\u001b[0m",
        "\u001b[0;32m/net/gs/vol3/software/modules-sw-python/2.7.3/graphlab/2.1/Linux/RHEL6/x86_64/lib/python2.7/site-packages/graphlab/data_structures/sframe.pyc\u001b[0m in \u001b[0;36madd_row_number\u001b[0;34m(self, column_name, start)\u001b[0m\n\u001b[1;32m   6150\u001b[0m \u001b[0;34m\u001b[0m\u001b[0m\n\u001b[1;32m   6151\u001b[0m         \u001b[0;32mif\u001b[0m \u001b[0mcolumn_name\u001b[0m \u001b[0;32min\u001b[0m \u001b[0mself\u001b[0m\u001b[0;34m.\u001b[0m\u001b[0mcolumn_names\u001b[0m\u001b[0;34m(\u001b[0m\u001b[0;34m)\u001b[0m\u001b[0;34m:\u001b[0m\u001b[0;34m\u001b[0m\u001b[0m\n\u001b[0;32m-> 6152\u001b[0;31m             \u001b[0;32mraise\u001b[0m \u001b[0mRuntimeError\u001b[0m\u001b[0;34m(\u001b[0m\u001b[0;34m\"Column '\"\u001b[0m \u001b[0;34m+\u001b[0m \u001b[0mcolumn_name\u001b[0m \u001b[0;34m+\u001b[0m \u001b[0;34m\"' already exists in the current SFrame\"\u001b[0m\u001b[0;34m)\u001b[0m\u001b[0;34m\u001b[0m\u001b[0m\n\u001b[0m\u001b[1;32m   6153\u001b[0m \u001b[0;34m\u001b[0m\u001b[0m\n\u001b[1;32m   6154\u001b[0m         \u001b[0mthe_col\u001b[0m \u001b[0;34m=\u001b[0m \u001b[0m_create_sequential_sarray\u001b[0m\u001b[0;34m(\u001b[0m\u001b[0mself\u001b[0m\u001b[0;34m.\u001b[0m\u001b[0mnum_rows\u001b[0m\u001b[0;34m(\u001b[0m\u001b[0;34m)\u001b[0m\u001b[0;34m,\u001b[0m \u001b[0mstart\u001b[0m\u001b[0;34m)\u001b[0m\u001b[0;34m\u001b[0m\u001b[0m\n",
        "\u001b[0;31mRuntimeError\u001b[0m: Column 'id' already exists in the current SFrame"
       ]
      }
     ],
     "prompt_number": 58
    },
    {
     "cell_type": "code",
     "collapsed": false,
     "input": [
      "folds = gl.cross_validation.KFold(WW_data1,10)\n",
      "params = dict([('target', 'scaled_effect1'), ('max_depth', 5), ('max_iterations' , [5,10,25,50]), \n",
      "               ('column_subsample' , .6), ('row_subsample' , .6), ('min_child_weight' , 1), \n",
      "               ('min_loss_reduction' , 0), ('step_size' , 0.1), ('features' , [predictors3])])\n",
      "WW_data1_paramSearch = gl.model_parameter_search.grid_search.create(folds, gl.boosted_trees_regression.create, params)"
     ],
     "language": "python",
     "metadata": {
      "deletable": true,
      "editable": true
     },
     "outputs": [
      {
       "output_type": "stream",
       "stream": "stderr",
       "text": [
        "[INFO] graphlab.deploy.job: Validating job.\n",
        "[INFO] graphlab.deploy.map_job: Validation complete. Job: 'Model-Parameter-Search-Feb-24-2017-14-46-5100000' ready for execution\n",
        "[INFO] graphlab.deploy.map_job: Job: 'Model-Parameter-Search-Feb-24-2017-14-46-5100000' scheduled.\n",
        "[INFO] graphlab.deploy.job: Validating job.\n",
        "[INFO] graphlab.deploy.map_job: A job with name 'Model-Parameter-Search-Feb-24-2017-14-46-5100000' already exists. Renaming the job to 'Model-Parameter-Search-Feb-24-2017-14-46-5100000-eb904'.\n",
        "[INFO] graphlab.deploy.map_job: Validation complete. Job: 'Model-Parameter-Search-Feb-24-2017-14-46-5100000-eb904' ready for execution\n",
        "[INFO] graphlab.deploy.map_job: Job: 'Model-Parameter-Search-Feb-24-2017-14-46-5100000-eb904' scheduled.\n",
        "[INFO] graphlab.deploy.job: Validating job.\n",
        "[INFO] graphlab.deploy.map_job: Validation complete. Job: 'Model-Parameter-Search-Feb-24-2017-14-46-5100001' ready for execution\n",
        "[INFO] graphlab.deploy.map_job: Job: 'Model-Parameter-Search-Feb-24-2017-14-46-5100001' scheduled.\n",
        "[INFO] graphlab.deploy.job: Validating job.\n",
        "[INFO] graphlab.deploy.map_job: Validation complete. Job: 'Model-Parameter-Search-Feb-24-2017-14-46-5100002' ready for execution\n",
        "[INFO] graphlab.deploy.map_job: Job: 'Model-Parameter-Search-Feb-24-2017-14-46-5100002' scheduled.\n"
       ]
      }
     ],
     "prompt_number": 46
    },
    {
     "cell_type": "code",
     "collapsed": false,
     "input": [
      "WW_data1_paramSearch.get_best_params()"
     ],
     "language": "python",
     "metadata": {
      "deletable": true,
      "editable": true,
      "scrolled": true
     },
     "outputs": [
      {
       "metadata": {},
       "output_type": "pyout",
       "prompt_number": 47,
       "text": [
        "{'column_subsample': 0.6,\n",
        " 'features': ['aa1',\n",
        "  'aa2',\n",
        "  'wt_mut',\n",
        "  'aa1_polarity',\n",
        "  'aa2_polarity',\n",
        "  'aa1_PI',\n",
        "  'aa2_PI',\n",
        "  'deltaPI',\n",
        "  'Grantham',\n",
        "  'aa1_weight',\n",
        "  'aa2_weight',\n",
        "  'deltaWeight',\n",
        "  'aa1vol',\n",
        "  'aa2vol',\n",
        "  'deltavolume',\n",
        "  'aa1_psic',\n",
        "  'aa2_psic',\n",
        "  'delta_psic',\n",
        "  'accessibility',\n",
        "  'dssp_sec_str',\n",
        "  'phi_psi_reg',\n",
        "  'delta_solvent_accessibility',\n",
        "  'b_factor',\n",
        "  'mut_msa_congruency',\n",
        "  'mut_mut_msa_congruency',\n",
        "  'seq_ind_closest_mut',\n",
        "  'selection_coefficient',\n",
        "  'evolutionary_coupling_avg'],\n",
        " 'max_depth': 5,\n",
        " 'max_iterations': 50,\n",
        " 'min_child_weight': 1,\n",
        " 'min_loss_reduction': 0,\n",
        " 'row_subsample': 0.6,\n",
        " 'step_size': 0.1,\n",
        " 'target': 'scaled_effect1'}"
       ]
      }
     ],
     "prompt_number": 47
    },
    {
     "cell_type": "code",
     "collapsed": false,
     "input": [
      "params = dict([('target', 'scaled_effect1'), ('max_depth', [2, 6, 10, 25, 50] ), ('max_iterations' , 50), \n",
      "               ('column_subsample' , .6), ('row_subsample' , .6), ('min_child_weight' , [2, 6, 10, 25, 50]), \n",
      "               ('min_loss_reduction' , 0), ('step_size' , 0.1), ('features' , [predictors3])])\n",
      "WW_data1_paramSearch1 = gl.model_parameter_search.grid_search.create(folds, gl.boosted_trees_regression.create, params)"
     ],
     "language": "python",
     "metadata": {
      "deletable": true,
      "editable": true
     },
     "outputs": [
      {
       "output_type": "stream",
       "stream": "stderr",
       "text": [
        "[INFO] graphlab.deploy.job: Validating job.\n",
        "[INFO] graphlab.deploy.map_job: Validation complete. Job: 'Model-Parameter-Search-Feb-24-2017-14-50-0200000' ready for execution\n",
        "[INFO] graphlab.deploy.map_job: Job: 'Model-Parameter-Search-Feb-24-2017-14-50-0200000' scheduled.\n",
        "[INFO] graphlab.deploy.job: Validating job.\n",
        "[INFO] graphlab.deploy.map_job: A job with name 'Model-Parameter-Search-Feb-24-2017-14-50-0200000' already exists. Renaming the job to 'Model-Parameter-Search-Feb-24-2017-14-50-0200000-d0a0c'.\n",
        "[INFO] graphlab.deploy.map_job: Validation complete. Job: 'Model-Parameter-Search-Feb-24-2017-14-50-0200000-d0a0c' ready for execution\n",
        "[INFO] graphlab.deploy.map_job: Job: 'Model-Parameter-Search-Feb-24-2017-14-50-0200000-d0a0c' scheduled.\n",
        "[INFO] graphlab.deploy.job: Validating job.\n",
        "[INFO] graphlab.deploy.map_job: Validation complete. Job: 'Model-Parameter-Search-Feb-24-2017-14-50-0200001' ready for execution\n",
        "[INFO] graphlab.deploy.map_job: Job: 'Model-Parameter-Search-Feb-24-2017-14-50-0200001' scheduled.\n",
        "[INFO] graphlab.deploy.job: Validating job.\n",
        "[INFO] graphlab.deploy.map_job: Validation complete. Job: 'Model-Parameter-Search-Feb-24-2017-14-50-0200002' ready for execution\n",
        "[INFO] graphlab.deploy.map_job: Job: 'Model-Parameter-Search-Feb-24-2017-14-50-0200002' scheduled.\n"
       ]
      }
     ],
     "prompt_number": 48
    },
    {
     "cell_type": "code",
     "collapsed": false,
     "input": [
      "WW_data1_paramSearch1.get_best_params()"
     ],
     "language": "python",
     "metadata": {
      "deletable": true,
      "editable": true,
      "scrolled": true
     },
     "outputs": [
      {
       "metadata": {},
       "output_type": "pyout",
       "prompt_number": 49,
       "text": [
        "{'column_subsample': 0.6,\n",
        " 'features': ['aa1',\n",
        "  'aa2',\n",
        "  'wt_mut',\n",
        "  'aa1_polarity',\n",
        "  'aa2_polarity',\n",
        "  'aa1_PI',\n",
        "  'aa2_PI',\n",
        "  'deltaPI',\n",
        "  'Grantham',\n",
        "  'aa1_weight',\n",
        "  'aa2_weight',\n",
        "  'deltaWeight',\n",
        "  'aa1vol',\n",
        "  'aa2vol',\n",
        "  'deltavolume',\n",
        "  'aa1_psic',\n",
        "  'aa2_psic',\n",
        "  'delta_psic',\n",
        "  'accessibility',\n",
        "  'dssp_sec_str',\n",
        "  'phi_psi_reg',\n",
        "  'delta_solvent_accessibility',\n",
        "  'b_factor',\n",
        "  'mut_msa_congruency',\n",
        "  'mut_mut_msa_congruency',\n",
        "  'seq_ind_closest_mut',\n",
        "  'selection_coefficient',\n",
        "  'evolutionary_coupling_avg'],\n",
        " 'max_depth': 10,\n",
        " 'max_iterations': 50,\n",
        " 'min_child_weight': 6,\n",
        " 'min_loss_reduction': 0,\n",
        " 'row_subsample': 0.6,\n",
        " 'step_size': 0.1,\n",
        " 'target': 'scaled_effect1'}"
       ]
      }
     ],
     "prompt_number": 49
    },
    {
     "cell_type": "code",
     "collapsed": false,
     "input": [
      "params = dict([('target', 'scaled_effect1'), ('max_depth',10), ('max_iterations' , 50), \n",
      "               ('column_subsample' , .6), ('row_subsample' , .6), ('min_child_weight' ,6 ), \n",
      "               ('min_loss_reduction' , [0, 0.1, 0.2, 0.3, 0.4, 0.5]), ('step_size' , 0.1), ('features' , [predictors3])])\n",
      "WW_data1_paramSearch2 = gl.model_parameter_search.grid_search.create(folds, gl.boosted_trees_regression.create, params)"
     ],
     "language": "python",
     "metadata": {
      "deletable": true,
      "editable": true
     },
     "outputs": [
      {
       "output_type": "stream",
       "stream": "stderr",
       "text": [
        "[INFO] graphlab.deploy.job: Validating job.\n",
        "[INFO] graphlab.deploy.map_job: Validation complete. Job: 'Model-Parameter-Search-Feb-24-2017-15-02-3200000' ready for execution\n",
        "[INFO] graphlab.deploy.map_job: Job: 'Model-Parameter-Search-Feb-24-2017-15-02-3200000' scheduled.\n",
        "[INFO] graphlab.deploy.job: Validating job.\n",
        "[INFO] graphlab.deploy.map_job: A job with name 'Model-Parameter-Search-Feb-24-2017-15-02-3200000' already exists. Renaming the job to 'Model-Parameter-Search-Feb-24-2017-15-02-3200000-55654'.\n",
        "[INFO] graphlab.deploy.map_job: Validation complete. Job: 'Model-Parameter-Search-Feb-24-2017-15-02-3200000-55654' ready for execution\n",
        "[INFO] graphlab.deploy.map_job: Job: 'Model-Parameter-Search-Feb-24-2017-15-02-3200000-55654' scheduled.\n",
        "[INFO] graphlab.deploy.job: Validating job.\n",
        "[INFO] graphlab.deploy.map_job: Validation complete. Job: 'Model-Parameter-Search-Feb-24-2017-15-02-3200001' ready for execution\n",
        "[INFO] graphlab.deploy.map_job: Job: 'Model-Parameter-Search-Feb-24-2017-15-02-3200001' scheduled.\n",
        "[INFO] graphlab.deploy.job: Validating job.\n",
        "[INFO] graphlab.deploy.map_job: Validation complete. Job: 'Model-Parameter-Search-Feb-24-2017-15-02-3200002' ready for execution\n",
        "[INFO] graphlab.deploy.map_job: Job: 'Model-Parameter-Search-Feb-24-2017-15-02-3200002' scheduled.\n"
       ]
      }
     ],
     "prompt_number": 50
    },
    {
     "cell_type": "code",
     "collapsed": false,
     "input": [
      "WW_data1_paramSearch2.get_best_params()"
     ],
     "language": "python",
     "metadata": {
      "deletable": true,
      "editable": true,
      "scrolled": true
     },
     "outputs": [
      {
       "metadata": {},
       "output_type": "pyout",
       "prompt_number": 51,
       "text": [
        "{'column_subsample': 0.6,\n",
        " 'features': ['aa1',\n",
        "  'aa2',\n",
        "  'wt_mut',\n",
        "  'aa1_polarity',\n",
        "  'aa2_polarity',\n",
        "  'aa1_PI',\n",
        "  'aa2_PI',\n",
        "  'deltaPI',\n",
        "  'Grantham',\n",
        "  'aa1_weight',\n",
        "  'aa2_weight',\n",
        "  'deltaWeight',\n",
        "  'aa1vol',\n",
        "  'aa2vol',\n",
        "  'deltavolume',\n",
        "  'aa1_psic',\n",
        "  'aa2_psic',\n",
        "  'delta_psic',\n",
        "  'accessibility',\n",
        "  'dssp_sec_str',\n",
        "  'phi_psi_reg',\n",
        "  'delta_solvent_accessibility',\n",
        "  'b_factor',\n",
        "  'mut_msa_congruency',\n",
        "  'mut_mut_msa_congruency',\n",
        "  'seq_ind_closest_mut',\n",
        "  'selection_coefficient',\n",
        "  'evolutionary_coupling_avg'],\n",
        " 'max_depth': 10,\n",
        " 'max_iterations': 50,\n",
        " 'min_child_weight': 6,\n",
        " 'min_loss_reduction': 0,\n",
        " 'row_subsample': 0.6,\n",
        " 'step_size': 0.1,\n",
        " 'target': 'scaled_effect1'}"
       ]
      }
     ],
     "prompt_number": 51
    },
    {
     "cell_type": "code",
     "collapsed": false,
     "input": [
      "params = dict([('target', 'scaled_effect1'), ('max_depth',10), ('max_iterations' , 50), \n",
      "               ('column_subsample' , [0.6, 0.7, 0.8, 0.9]), ('row_subsample' , [0.6, 0.7, 0.8, 0.9]), ('min_child_weight' ,6 ), \n",
      "               ('min_loss_reduction' ,  0), ('step_size' , 0.1), ('features' , [predictors3])])\n",
      "WW_data1_paramSearch3 = gl.model_parameter_search.grid_search.create(folds, gl.boosted_trees_regression.create, params)"
     ],
     "language": "python",
     "metadata": {
      "deletable": true,
      "editable": true
     },
     "outputs": [
      {
       "output_type": "stream",
       "stream": "stderr",
       "text": [
        "[INFO] graphlab.deploy.job: Validating job.\n",
        "[INFO] graphlab.deploy.map_job: Validation complete. Job: 'Model-Parameter-Search-Feb-24-2017-15-07-3900000' ready for execution\n",
        "[INFO] graphlab.deploy.map_job: Job: 'Model-Parameter-Search-Feb-24-2017-15-07-3900000' scheduled.\n",
        "[INFO] graphlab.deploy.job: Validating job.\n",
        "[INFO] graphlab.deploy.map_job: A job with name 'Model-Parameter-Search-Feb-24-2017-15-07-3900000' already exists. Renaming the job to 'Model-Parameter-Search-Feb-24-2017-15-07-3900000-3ffa3'.\n",
        "[INFO] graphlab.deploy.map_job: Validation complete. Job: 'Model-Parameter-Search-Feb-24-2017-15-07-3900000-3ffa3' ready for execution\n",
        "[INFO] graphlab.deploy.map_job: Job: 'Model-Parameter-Search-Feb-24-2017-15-07-3900000-3ffa3' scheduled.\n",
        "[INFO] graphlab.deploy.job: Validating job.\n",
        "[INFO] graphlab.deploy.map_job: Validation complete. Job: 'Model-Parameter-Search-Feb-24-2017-15-07-3900001' ready for execution\n",
        "[INFO] graphlab.deploy.map_job: Job: 'Model-Parameter-Search-Feb-24-2017-15-07-3900001' scheduled.\n",
        "[INFO] graphlab.deploy.job: Validating job.\n",
        "[INFO] graphlab.deploy.map_job: Validation complete. Job: 'Model-Parameter-Search-Feb-24-2017-15-07-3900002' ready for execution\n",
        "[INFO] graphlab.deploy.map_job: Job: 'Model-Parameter-Search-Feb-24-2017-15-07-3900002' scheduled.\n"
       ]
      }
     ],
     "prompt_number": 52
    },
    {
     "cell_type": "code",
     "collapsed": false,
     "input": [
      "WW_data1_paramSearch3.get_best_params()"
     ],
     "language": "python",
     "metadata": {
      "deletable": true,
      "editable": true,
      "scrolled": true
     },
     "outputs": [
      {
       "metadata": {},
       "output_type": "pyout",
       "prompt_number": 53,
       "text": [
        "{'column_subsample': 0.7,\n",
        " 'features': ['aa1',\n",
        "  'aa2',\n",
        "  'wt_mut',\n",
        "  'aa1_polarity',\n",
        "  'aa2_polarity',\n",
        "  'aa1_PI',\n",
        "  'aa2_PI',\n",
        "  'deltaPI',\n",
        "  'Grantham',\n",
        "  'aa1_weight',\n",
        "  'aa2_weight',\n",
        "  'deltaWeight',\n",
        "  'aa1vol',\n",
        "  'aa2vol',\n",
        "  'deltavolume',\n",
        "  'aa1_psic',\n",
        "  'aa2_psic',\n",
        "  'delta_psic',\n",
        "  'accessibility',\n",
        "  'dssp_sec_str',\n",
        "  'phi_psi_reg',\n",
        "  'delta_solvent_accessibility',\n",
        "  'b_factor',\n",
        "  'mut_msa_congruency',\n",
        "  'mut_mut_msa_congruency',\n",
        "  'seq_ind_closest_mut',\n",
        "  'selection_coefficient',\n",
        "  'evolutionary_coupling_avg'],\n",
        " 'max_depth': 10,\n",
        " 'max_iterations': 50,\n",
        " 'min_child_weight': 6,\n",
        " 'min_loss_reduction': 0,\n",
        " 'row_subsample': 0.8,\n",
        " 'step_size': 0.1,\n",
        " 'target': 'scaled_effect1'}"
       ]
      }
     ],
     "prompt_number": 53
    },
    {
     "cell_type": "code",
     "collapsed": false,
     "input": [
      "train_data, test_data = WW_data1.random_split(0.8)\n",
      "WW_data1_regression_model = gl.boosted_trees_regression.create(train_data, 'scaled_effect1', \n",
      "                features = predictors3, max_iterations = 250, \n",
      "                column_subsample= 0.7, row_subsample =0.8,\n",
      "                min_child_weight = 6, min_loss_reduction = 0.1, step_size = 0.01,\n",
      "                max_depth = 10)"
     ],
     "language": "python",
     "metadata": {
      "deletable": true,
      "editable": true,
      "scrolled": true
     },
     "outputs": [
      {
       "output_type": "stream",
       "stream": "stdout",
       "text": [
        "PROGRESS: Creating a validation set from 5 percent of training data. This may take a while.\n",
        "          You can set ``validation_set=None`` to disable validation tracking.\n",
        "\n"
       ]
      },
      {
       "html": [
        "<pre>WARNING: The number of feature dimensions in this problem is very large in comparison with the number of examples. Unless an appropriate regularization value is set, this model may not provide accurate predictions for a validation/test set.</pre>"
       ],
       "metadata": {},
       "output_type": "display_data",
       "text": [
        "WARNING: The number of feature dimensions in this problem is very large in comparison with the number of examples. Unless an appropriate regularization value is set, this model may not provide accurate predictions for a validation/test set."
       ]
      },
      {
       "html": [
        "<pre>WARNING: Detected extremely low variance for feature(s) 'phi_psi_reg', 'delta_solvent_accessibility', 'b_factor', 'selection_coefficient' because all entries are nearly the same.\n",
        "Proceeding with model training using all features. If the model does not provide results of adequate quality, exclude the above mentioned feature(s) from the input dataset.</pre>"
       ],
       "metadata": {},
       "output_type": "display_data",
       "text": [
        "WARNING: Detected extremely low variance for feature(s) 'phi_psi_reg', 'delta_solvent_accessibility', 'b_factor', 'selection_coefficient' because all entries are nearly the same.\n",
        "Proceeding with model training using all features. If the model does not provide results of adequate quality, exclude the above mentioned feature(s) from the input dataset."
       ]
      },
      {
       "html": [
        "<pre>Boosted trees regression:</pre>"
       ],
       "metadata": {},
       "output_type": "display_data",
       "text": [
        "Boosted trees regression:"
       ]
      },
      {
       "html": [
        "<pre>--------------------------------------------------------</pre>"
       ],
       "metadata": {},
       "output_type": "display_data",
       "text": [
        "--------------------------------------------------------"
       ]
      },
      {
       "html": [
        "<pre>Number of examples          : 270</pre>"
       ],
       "metadata": {},
       "output_type": "display_data",
       "text": [
        "Number of examples          : 270"
       ]
      },
      {
       "html": [
        "<pre>Number of features          : 28</pre>"
       ],
       "metadata": {},
       "output_type": "display_data",
       "text": [
        "Number of features          : 28"
       ]
      },
      {
       "html": [
        "<pre>Number of unpacked features : 28</pre>"
       ],
       "metadata": {},
       "output_type": "display_data",
       "text": [
        "Number of unpacked features : 28"
       ]
      },
      {
       "html": [
        "<pre>+-----------+--------------+--------------------+----------------------+---------------+-----------------+</pre>"
       ],
       "metadata": {},
       "output_type": "display_data",
       "text": [
        "+-----------+--------------+--------------------+----------------------+---------------+-----------------+"
       ]
      },
      {
       "html": [
        "<pre>| Iteration | Elapsed Time | Training-max_error | Validation-max_error | Training-rmse | Validation-rmse |</pre>"
       ],
       "metadata": {},
       "output_type": "display_data",
       "text": [
        "| Iteration | Elapsed Time | Training-max_error | Validation-max_error | Training-rmse | Validation-rmse |"
       ]
      },
      {
       "html": [
        "<pre>+-----------+--------------+--------------------+----------------------+---------------+-----------------+</pre>"
       ],
       "metadata": {},
       "output_type": "display_data",
       "text": [
        "+-----------+--------------+--------------------+----------------------+---------------+-----------------+"
       ]
      },
      {
       "html": [
        "<pre>| 1         | 0.063312     | 0.850615           | 0.824093             | 0.431459      | 0.478985        |</pre>"
       ],
       "metadata": {},
       "output_type": "display_data",
       "text": [
        "| 1         | 0.063312     | 0.850615           | 0.824093             | 0.431459      | 0.478985        |"
       ]
      },
      {
       "html": [
        "<pre>| 2         | 0.107012     | 0.844998           | 0.819175             | 0.427937      | 0.475336        |</pre>"
       ],
       "metadata": {},
       "output_type": "display_data",
       "text": [
        "| 2         | 0.107012     | 0.844998           | 0.819175             | 0.427937      | 0.475336        |"
       ]
      },
      {
       "html": [
        "<pre>| 3         | 0.138354     | 0.839583           | 0.813761             | 0.424627      | 0.472083        |</pre>"
       ],
       "metadata": {},
       "output_type": "display_data",
       "text": [
        "| 3         | 0.138354     | 0.839583           | 0.813761             | 0.424627      | 0.472083        |"
       ]
      },
      {
       "html": [
        "<pre>| 4         | 0.170413     | 0.833912           | 0.808090             | 0.421120      | 0.468317        |</pre>"
       ],
       "metadata": {},
       "output_type": "display_data",
       "text": [
        "| 4         | 0.170413     | 0.833912           | 0.808090             | 0.421120      | 0.468317        |"
       ]
      },
      {
       "html": [
        "<pre>| 5         | 0.203790     | 0.828782           | 0.802960             | 0.417831      | 0.464835        |</pre>"
       ],
       "metadata": {},
       "output_type": "display_data",
       "text": [
        "| 5         | 0.203790     | 0.828782           | 0.802960             | 0.417831      | 0.464835        |"
       ]
      },
      {
       "html": [
        "<pre>| 6         | 0.235692     | 0.823637           | 0.797814             | 0.414469      | 0.461138        |</pre>"
       ],
       "metadata": {},
       "output_type": "display_data",
       "text": [
        "| 6         | 0.235692     | 0.823637           | 0.797814             | 0.414469      | 0.461138        |"
       ]
      },
      {
       "html": [
        "<pre>| 11        | 0.400731     | 0.797557           | 0.774270             | 0.398508      | 0.444438        |</pre>"
       ],
       "metadata": {},
       "output_type": "display_data",
       "text": [
        "| 11        | 0.400731     | 0.797557           | 0.774270             | 0.398508      | 0.444438        |"
       ]
      },
      {
       "html": [
        "<pre>| 50        | 1.457183     | 0.639679           | 0.622017             | 0.299177      | 0.339197        |</pre>"
       ],
       "metadata": {},
       "output_type": "display_data",
       "text": [
        "| 50        | 1.457183     | 0.639679           | 0.622017             | 0.299177      | 0.339197        |"
       ]
      },
      {
       "html": [
        "<pre>| 51        | 1.480660     | 0.637829           | 0.619016             | 0.297048      | 0.336838        |</pre>"
       ],
       "metadata": {},
       "output_type": "display_data",
       "text": [
        "| 51        | 1.480660     | 0.637829           | 0.619016             | 0.297048      | 0.336838        |"
       ]
      },
      {
       "html": [
        "<pre>| 100       | 2.470270     | 0.543137           | 0.490472             | 0.219130      | 0.256910        |</pre>"
       ],
       "metadata": {},
       "output_type": "display_data",
       "text": [
        "| 100       | 2.470270     | 0.543137           | 0.490472             | 0.219130      | 0.256910        |"
       ]
      },
      {
       "html": [
        "<pre>| 101       | 2.488645     | 0.542123           | 0.488544             | 0.217973      | 0.255761        |</pre>"
       ],
       "metadata": {},
       "output_type": "display_data",
       "text": [
        "| 101       | 2.488645     | 0.542123           | 0.488544             | 0.217973      | 0.255761        |"
       ]
      },
      {
       "html": [
        "<pre>| 150       | 3.255537     | 0.464375           | 0.406581             | 0.173500      | 0.214094        |</pre>"
       ],
       "metadata": {},
       "output_type": "display_data",
       "text": [
        "| 150       | 3.255537     | 0.464375           | 0.406581             | 0.173500      | 0.214094        |"
       ]
      },
      {
       "html": [
        "<pre>| 200       | 4.030195     | 0.412375           | 0.429762             | 0.146481      | 0.193754        |</pre>"
       ],
       "metadata": {},
       "output_type": "display_data",
       "text": [
        "| 200       | 4.030195     | 0.412375           | 0.429762             | 0.146481      | 0.193754        |"
       ]
      },
      {
       "html": [
        "<pre>| 250       | 4.826111     | 0.390346           | 0.445051             | 0.130542      | 0.185833        |</pre>"
       ],
       "metadata": {},
       "output_type": "display_data",
       "text": [
        "| 250       | 4.826111     | 0.390346           | 0.445051             | 0.130542      | 0.185833        |"
       ]
      },
      {
       "html": [
        "<pre>+-----------+--------------+--------------------+----------------------+---------------+-----------------+</pre>"
       ],
       "metadata": {},
       "output_type": "display_data",
       "text": [
        "+-----------+--------------+--------------------+----------------------+---------------+-----------------+"
       ]
      }
     ],
     "prompt_number": 59
    },
    {
     "cell_type": "code",
     "collapsed": true,
     "input": [
      "pickler = gl._gl_pickle.GLPickler(filename = '/net/fowler/vol1/home/vegray/metaDMS/dato/singleModels/scaled_WW_2017-01-05')\n",
      "pickler.dump(WW_data1_regression_model)\n",
      "pickler.close()"
     ],
     "language": "python",
     "metadata": {
      "deletable": true,
      "editable": true
     },
     "outputs": [],
     "prompt_number": 55
    },
    {
     "cell_type": "code",
     "collapsed": false,
     "input": [
      "pred = WW_data1_regression_model.predict(test_data)\n",
      "stats.pearsonr(pred, test_data['scaled_effect1'])\n",
      "stats.spearmanr(pred, test_data['scaled_effect1'])\n",
      "#sqrt(mean_squared_error(pred,test_data['scaled_effect1']))"
     ],
     "language": "python",
     "metadata": {
      "deletable": true,
      "editable": true
     },
     "outputs": [
      {
       "metadata": {},
       "output_type": "pyout",
       "prompt_number": 60,
       "text": [
        "(0.80573856523223619, 5.7879765639752372e-19)"
       ]
      }
     ],
     "prompt_number": 60
    },
    {
     "cell_type": "code",
     "collapsed": false,
     "input": [
      "pred = WW_data1_regression_model.predict(train_data)\n",
      "stats.pearsonr(pred, train_data['scaled_effect1'])\n",
      "stats.spearmanr(pred, train_data['scaled_effect1'])\n",
      "#sqrt(mean_squared_error(pred,test_data['scaled_effect1']))"
     ],
     "language": "python",
     "metadata": {
      "deletable": true,
      "editable": true
     },
     "outputs": [
      {
       "metadata": {},
       "output_type": "pyout",
       "prompt_number": 61,
       "text": [
        "(0.89077120063035553, 6.2319636651488968e-99)"
       ]
      }
     ],
     "prompt_number": 61
    },
    {
     "cell_type": "code",
     "collapsed": true,
     "input": [
      "unpickler = gl._gl_pickle.GLUnpickler(filename = '/net/fowler/vol1/home/vegray/metaDMS/dato/singleModels/scaled_WW_2017-01-05')\n",
      "WW_data1_regression_model= unpickler.load()\n",
      "unpickler.close()"
     ],
     "language": "python",
     "metadata": {},
     "outputs": [],
     "prompt_number": 99
    },
    {
     "cell_type": "code",
     "collapsed": true,
     "input": [
      "## Yap65 pred data\n",
      "\n",
      "Yap65_pred_data = pred_data.filter_by([x for x in pred_data['protein'].unique() if x in ['Yap65']], 'protein')\n",
      "\n",
      "predicted_Yap65 = WW_data1_regression_model.predict(Yap65_pred_data)\n",
      "Yap65_pred_data2 = Yap65_pred_data.add_column(predicted_Yap65, name = 'predictions')\n",
      "\n",
      "Yap65_pred_data2.export_csv(filename = '/net/fowler/vol1/home/vegray/metaDMS/dato/singleModels/Yap65_out.csv')"
     ],
     "language": "python",
     "metadata": {},
     "outputs": [],
     "prompt_number": 100
    },
    {
     "cell_type": "heading",
     "level": 1,
     "metadata": {
      "deletable": true,
      "editable": true
     },
     "source": [
      "Brca_Y2H"
     ]
    },
    {
     "cell_type": "code",
     "collapsed": false,
     "input": [
      "Brca1_Y2H_data = data.filter_by([x for x in data['dms_id'].unique() if x in ['Brca1_Y2H']], 'dms_id')\n",
      "Brca1_Y2H_data1 = Brca1_Y2H_data.filter_by([x for x in Brca1_Y2H_data['mut_type'].unique() if x in ['missense']], 'mut_type')\n",
      "Brca1_Y2H_data1 = Brca1_Y2H_data1.add_row_number('id',0)"
     ],
     "language": "python",
     "metadata": {
      "deletable": true,
      "editable": true
     },
     "outputs": [
      {
       "ename": "RuntimeError",
       "evalue": "Column 'id' already exists in the current SFrame",
       "output_type": "pyerr",
       "traceback": [
        "\u001b[0;31m---------------------------------------------------------------------------\u001b[0m",
        "\u001b[0;31mRuntimeError\u001b[0m                              Traceback (most recent call last)",
        "\u001b[0;32m<ipython-input-62-c4f480d1694e>\u001b[0m in \u001b[0;36m<module>\u001b[0;34m()\u001b[0m\n\u001b[1;32m      1\u001b[0m \u001b[0mBrca1_Y2H_data\u001b[0m \u001b[0;34m=\u001b[0m \u001b[0mdata\u001b[0m\u001b[0;34m.\u001b[0m\u001b[0mfilter_by\u001b[0m\u001b[0;34m(\u001b[0m\u001b[0;34m[\u001b[0m\u001b[0mx\u001b[0m \u001b[0;32mfor\u001b[0m \u001b[0mx\u001b[0m \u001b[0;32min\u001b[0m \u001b[0mdata\u001b[0m\u001b[0;34m[\u001b[0m\u001b[0;34m'dms_id'\u001b[0m\u001b[0;34m]\u001b[0m\u001b[0;34m.\u001b[0m\u001b[0munique\u001b[0m\u001b[0;34m(\u001b[0m\u001b[0;34m)\u001b[0m \u001b[0;32mif\u001b[0m \u001b[0mx\u001b[0m \u001b[0;32min\u001b[0m \u001b[0;34m[\u001b[0m\u001b[0;34m'Brca1_Y2H'\u001b[0m\u001b[0;34m]\u001b[0m\u001b[0;34m]\u001b[0m\u001b[0;34m,\u001b[0m \u001b[0;34m'dms_id'\u001b[0m\u001b[0;34m)\u001b[0m\u001b[0;34m\u001b[0m\u001b[0m\n\u001b[1;32m      2\u001b[0m \u001b[0mBrca1_Y2H_data1\u001b[0m \u001b[0;34m=\u001b[0m \u001b[0mBrca1_Y2H_data\u001b[0m\u001b[0;34m.\u001b[0m\u001b[0mfilter_by\u001b[0m\u001b[0;34m(\u001b[0m\u001b[0;34m[\u001b[0m\u001b[0mx\u001b[0m \u001b[0;32mfor\u001b[0m \u001b[0mx\u001b[0m \u001b[0;32min\u001b[0m \u001b[0mBrca1_Y2H_data\u001b[0m\u001b[0;34m[\u001b[0m\u001b[0;34m'mut_type'\u001b[0m\u001b[0;34m]\u001b[0m\u001b[0;34m.\u001b[0m\u001b[0munique\u001b[0m\u001b[0;34m(\u001b[0m\u001b[0;34m)\u001b[0m \u001b[0;32mif\u001b[0m \u001b[0mx\u001b[0m \u001b[0;32min\u001b[0m \u001b[0;34m[\u001b[0m\u001b[0;34m'missense'\u001b[0m\u001b[0;34m]\u001b[0m\u001b[0;34m]\u001b[0m\u001b[0;34m,\u001b[0m \u001b[0;34m'mut_type'\u001b[0m\u001b[0;34m)\u001b[0m\u001b[0;34m\u001b[0m\u001b[0m\n\u001b[0;32m----> 3\u001b[0;31m \u001b[0mBrca1_Y2H_data1\u001b[0m \u001b[0;34m=\u001b[0m \u001b[0mBrca1_Y2H_data1\u001b[0m\u001b[0;34m.\u001b[0m\u001b[0madd_row_number\u001b[0m\u001b[0;34m(\u001b[0m\u001b[0;34m'id'\u001b[0m\u001b[0;34m,\u001b[0m\u001b[0;36m0\u001b[0m\u001b[0;34m)\u001b[0m\u001b[0;34m\u001b[0m\u001b[0m\n\u001b[0m",
        "\u001b[0;32m/net/gs/vol3/software/modules-sw-python/2.7.3/graphlab/2.1/Linux/RHEL6/x86_64/lib/python2.7/site-packages/graphlab/data_structures/sframe.pyc\u001b[0m in \u001b[0;36madd_row_number\u001b[0;34m(self, column_name, start)\u001b[0m\n\u001b[1;32m   6150\u001b[0m \u001b[0;34m\u001b[0m\u001b[0m\n\u001b[1;32m   6151\u001b[0m         \u001b[0;32mif\u001b[0m \u001b[0mcolumn_name\u001b[0m \u001b[0;32min\u001b[0m \u001b[0mself\u001b[0m\u001b[0;34m.\u001b[0m\u001b[0mcolumn_names\u001b[0m\u001b[0;34m(\u001b[0m\u001b[0;34m)\u001b[0m\u001b[0;34m:\u001b[0m\u001b[0;34m\u001b[0m\u001b[0m\n\u001b[0;32m-> 6152\u001b[0;31m             \u001b[0;32mraise\u001b[0m \u001b[0mRuntimeError\u001b[0m\u001b[0;34m(\u001b[0m\u001b[0;34m\"Column '\"\u001b[0m \u001b[0;34m+\u001b[0m \u001b[0mcolumn_name\u001b[0m \u001b[0;34m+\u001b[0m \u001b[0;34m\"' already exists in the current SFrame\"\u001b[0m\u001b[0;34m)\u001b[0m\u001b[0;34m\u001b[0m\u001b[0m\n\u001b[0m\u001b[1;32m   6153\u001b[0m \u001b[0;34m\u001b[0m\u001b[0m\n\u001b[1;32m   6154\u001b[0m         \u001b[0mthe_col\u001b[0m \u001b[0;34m=\u001b[0m \u001b[0m_create_sequential_sarray\u001b[0m\u001b[0;34m(\u001b[0m\u001b[0mself\u001b[0m\u001b[0;34m.\u001b[0m\u001b[0mnum_rows\u001b[0m\u001b[0;34m(\u001b[0m\u001b[0;34m)\u001b[0m\u001b[0;34m,\u001b[0m \u001b[0mstart\u001b[0m\u001b[0;34m)\u001b[0m\u001b[0;34m\u001b[0m\u001b[0m\n",
        "\u001b[0;31mRuntimeError\u001b[0m: Column 'id' already exists in the current SFrame"
       ]
      }
     ],
     "prompt_number": 62
    },
    {
     "cell_type": "code",
     "collapsed": false,
     "input": [
      "folds = gl.cross_validation.KFold(Brca1_Y2H_data1,10)\n",
      "params = dict([('target', 'scaled_effect1'), ('max_depth', 5), ('max_iterations' , [5,10,25,50]), \n",
      "               ('column_subsample' , .6), ('row_subsample' , .6), ('min_child_weight' , 1), \n",
      "               ('min_loss_reduction' , 0), ('step_size' , 0.1), ('features' , [predictors3])])\n",
      "Brca1_Y2H_data1_paramSearch = gl.model_parameter_search.grid_search.create(folds, gl.boosted_trees_regression.create, params)"
     ],
     "language": "python",
     "metadata": {
      "deletable": true,
      "editable": true
     },
     "outputs": [
      {
       "output_type": "stream",
       "stream": "stderr",
       "text": [
        "[INFO] graphlab.deploy.job: Validating job.\n",
        "[INFO] graphlab.deploy.map_job: Validation complete. Job: 'Model-Parameter-Search-Feb-24-2017-15-16-4000000' ready for execution\n",
        "[INFO] graphlab.deploy.map_job: Job: 'Model-Parameter-Search-Feb-24-2017-15-16-4000000' scheduled.\n",
        "[INFO] graphlab.deploy.job: Validating job.\n",
        "[INFO] graphlab.deploy.map_job: A job with name 'Model-Parameter-Search-Feb-24-2017-15-16-4000000' already exists. Renaming the job to 'Model-Parameter-Search-Feb-24-2017-15-16-4000000-c9353'.\n",
        "[INFO] graphlab.deploy.map_job: Validation complete. Job: 'Model-Parameter-Search-Feb-24-2017-15-16-4000000-c9353' ready for execution\n",
        "[INFO] graphlab.deploy.map_job: Job: 'Model-Parameter-Search-Feb-24-2017-15-16-4000000-c9353' scheduled.\n",
        "[INFO] graphlab.deploy.job: Validating job.\n",
        "[INFO] graphlab.deploy.map_job: Validation complete. Job: 'Model-Parameter-Search-Feb-24-2017-15-16-4000001' ready for execution\n",
        "[INFO] graphlab.deploy.map_job: Job: 'Model-Parameter-Search-Feb-24-2017-15-16-4000001' scheduled.\n",
        "[INFO] graphlab.deploy.job: Validating job.\n",
        "[INFO] graphlab.deploy.map_job: Validation complete. Job: 'Model-Parameter-Search-Feb-24-2017-15-16-4000002' ready for execution\n",
        "[INFO] graphlab.deploy.map_job: Job: 'Model-Parameter-Search-Feb-24-2017-15-16-4000002' scheduled.\n"
       ]
      }
     ],
     "prompt_number": 59
    },
    {
     "cell_type": "code",
     "collapsed": false,
     "input": [
      "Brca1_Y2H_data1_paramSearch.get_best_params()"
     ],
     "language": "python",
     "metadata": {
      "deletable": true,
      "editable": true,
      "scrolled": true
     },
     "outputs": [
      {
       "metadata": {},
       "output_type": "pyout",
       "prompt_number": 60,
       "text": [
        "{'column_subsample': 0.6,\n",
        " 'features': ['aa1',\n",
        "  'aa2',\n",
        "  'wt_mut',\n",
        "  'aa1_polarity',\n",
        "  'aa2_polarity',\n",
        "  'aa1_PI',\n",
        "  'aa2_PI',\n",
        "  'deltaPI',\n",
        "  'Grantham',\n",
        "  'aa1_weight',\n",
        "  'aa2_weight',\n",
        "  'deltaWeight',\n",
        "  'aa1vol',\n",
        "  'aa2vol',\n",
        "  'deltavolume',\n",
        "  'aa1_psic',\n",
        "  'aa2_psic',\n",
        "  'delta_psic',\n",
        "  'accessibility',\n",
        "  'dssp_sec_str',\n",
        "  'phi_psi_reg',\n",
        "  'delta_solvent_accessibility',\n",
        "  'b_factor',\n",
        "  'mut_msa_congruency',\n",
        "  'mut_mut_msa_congruency',\n",
        "  'seq_ind_closest_mut',\n",
        "  'selection_coefficient',\n",
        "  'evolutionary_coupling_avg'],\n",
        " 'max_depth': 5,\n",
        " 'max_iterations': 50,\n",
        " 'min_child_weight': 1,\n",
        " 'min_loss_reduction': 0,\n",
        " 'row_subsample': 0.6,\n",
        " 'step_size': 0.1,\n",
        " 'target': 'scaled_effect1'}"
       ]
      }
     ],
     "prompt_number": 60
    },
    {
     "cell_type": "code",
     "collapsed": false,
     "input": [
      "folds = gl.cross_validation.KFold(Brca1_Y2H_data1,10)\n",
      "params = dict([('target', 'scaled_effect1'), ('max_depth', [2, 6, 10, 25, 50] ), ('max_iterations' , 50), \n",
      "               ('column_subsample' , .6), ('row_subsample' , .6), ('min_child_weight' , [2, 6, 10, 25, 50]), \n",
      "               ('min_loss_reduction' , 0), ('step_size' , 0.1), ('features' , [predictors3])])\n",
      "Brca1_Y2H_data1_paramSearch1 = gl.model_parameter_search.grid_search.create(folds, gl.boosted_trees_regression.create, params)"
     ],
     "language": "python",
     "metadata": {
      "deletable": true,
      "editable": true
     },
     "outputs": [
      {
       "output_type": "stream",
       "stream": "stderr",
       "text": [
        "[INFO] graphlab.deploy.job: Validating job.\n",
        "[INFO] graphlab.deploy.map_job: Validation complete. Job: 'Model-Parameter-Search-Feb-24-2017-15-25-1700000' ready for execution\n",
        "[INFO] graphlab.deploy.map_job: Job: 'Model-Parameter-Search-Feb-24-2017-15-25-1700000' scheduled.\n",
        "[INFO] graphlab.deploy.job: Validating job.\n",
        "[INFO] graphlab.deploy.map_job: A job with name 'Model-Parameter-Search-Feb-24-2017-15-25-1700000' already exists. Renaming the job to 'Model-Parameter-Search-Feb-24-2017-15-25-1700000-df948'.\n",
        "[INFO] graphlab.deploy.map_job: Validation complete. Job: 'Model-Parameter-Search-Feb-24-2017-15-25-1700000-df948' ready for execution\n",
        "[INFO] graphlab.deploy.map_job: Job: 'Model-Parameter-Search-Feb-24-2017-15-25-1700000-df948' scheduled.\n",
        "[INFO] graphlab.deploy.job: Validating job.\n",
        "[INFO] graphlab.deploy.map_job: Validation complete. Job: 'Model-Parameter-Search-Feb-24-2017-15-25-1700001' ready for execution\n",
        "[INFO] graphlab.deploy.map_job: Job: 'Model-Parameter-Search-Feb-24-2017-15-25-1700001' scheduled.\n",
        "[INFO] graphlab.deploy.job: Validating job.\n",
        "[INFO] graphlab.deploy.map_job: Validation complete. Job: 'Model-Parameter-Search-Feb-24-2017-15-25-1700002' ready for execution\n",
        "[INFO] graphlab.deploy.map_job: Job: 'Model-Parameter-Search-Feb-24-2017-15-25-1700002' scheduled.\n"
       ]
      }
     ],
     "prompt_number": 61
    },
    {
     "cell_type": "code",
     "collapsed": false,
     "input": [
      "Brca1_Y2H_data1_paramSearch1.get_best_params()"
     ],
     "language": "python",
     "metadata": {
      "deletable": true,
      "editable": true,
      "scrolled": true
     },
     "outputs": [
      {
       "metadata": {},
       "output_type": "pyout",
       "prompt_number": 62,
       "text": [
        "{'column_subsample': 0.6,\n",
        " 'features': ['aa1',\n",
        "  'aa2',\n",
        "  'wt_mut',\n",
        "  'aa1_polarity',\n",
        "  'aa2_polarity',\n",
        "  'aa1_PI',\n",
        "  'aa2_PI',\n",
        "  'deltaPI',\n",
        "  'Grantham',\n",
        "  'aa1_weight',\n",
        "  'aa2_weight',\n",
        "  'deltaWeight',\n",
        "  'aa1vol',\n",
        "  'aa2vol',\n",
        "  'deltavolume',\n",
        "  'aa1_psic',\n",
        "  'aa2_psic',\n",
        "  'delta_psic',\n",
        "  'accessibility',\n",
        "  'dssp_sec_str',\n",
        "  'phi_psi_reg',\n",
        "  'delta_solvent_accessibility',\n",
        "  'b_factor',\n",
        "  'mut_msa_congruency',\n",
        "  'mut_mut_msa_congruency',\n",
        "  'seq_ind_closest_mut',\n",
        "  'selection_coefficient',\n",
        "  'evolutionary_coupling_avg'],\n",
        " 'max_depth': 2,\n",
        " 'max_iterations': 50,\n",
        " 'min_child_weight': 10,\n",
        " 'min_loss_reduction': 0,\n",
        " 'row_subsample': 0.6,\n",
        " 'step_size': 0.1,\n",
        " 'target': 'scaled_effect1'}"
       ]
      }
     ],
     "prompt_number": 62
    },
    {
     "cell_type": "code",
     "collapsed": false,
     "input": [
      "params = dict([('target', 'scaled_effect1'), ('max_depth',2), ('max_iterations' , 50), \n",
      "               ('column_subsample' , .6), ('row_subsample' , .6), ('min_child_weight' ,10 ), \n",
      "               ('min_loss_reduction' , [0, 0.1, 0.2, 0.3, 0.4, 0.5]), ('step_size' , 0.1), ('features' , [predictors3])])\n",
      "Brca1_Y2H_data1_paramSearch2 = gl.model_parameter_search.grid_search.create(folds, gl.boosted_trees_regression.create, params)"
     ],
     "language": "python",
     "metadata": {
      "deletable": true,
      "editable": true
     },
     "outputs": [
      {
       "output_type": "stream",
       "stream": "stderr",
       "text": [
        "[INFO] graphlab.deploy.job: Validating job.\n",
        "[INFO] graphlab.deploy.map_job: Validation complete. Job: 'Model-Parameter-Search-Feb-24-2017-15-38-0700000' ready for execution\n",
        "[INFO] graphlab.deploy.map_job: Job: 'Model-Parameter-Search-Feb-24-2017-15-38-0700000' scheduled.\n",
        "[INFO] graphlab.deploy.job: Validating job.\n",
        "[INFO] graphlab.deploy.map_job: A job with name 'Model-Parameter-Search-Feb-24-2017-15-38-0700000' already exists. Renaming the job to 'Model-Parameter-Search-Feb-24-2017-15-38-0700000-00a9a'.\n",
        "[INFO] graphlab.deploy.map_job: Validation complete. Job: 'Model-Parameter-Search-Feb-24-2017-15-38-0700000-00a9a' ready for execution\n",
        "[INFO] graphlab.deploy.map_job: Job: 'Model-Parameter-Search-Feb-24-2017-15-38-0700000-00a9a' scheduled.\n",
        "[INFO] graphlab.deploy.job: Validating job.\n",
        "[INFO] graphlab.deploy.map_job: Validation complete. Job: 'Model-Parameter-Search-Feb-24-2017-15-38-0700001' ready for execution\n",
        "[INFO] graphlab.deploy.map_job: Job: 'Model-Parameter-Search-Feb-24-2017-15-38-0700001' scheduled.\n",
        "[INFO] graphlab.deploy.job: Validating job.\n",
        "[INFO] graphlab.deploy.map_job: Validation complete. Job: 'Model-Parameter-Search-Feb-24-2017-15-38-0700002' ready for execution\n",
        "[INFO] graphlab.deploy.map_job: Job: 'Model-Parameter-Search-Feb-24-2017-15-38-0700002' scheduled.\n"
       ]
      }
     ],
     "prompt_number": 63
    },
    {
     "cell_type": "code",
     "collapsed": false,
     "input": [
      "Brca1_Y2H_data1_paramSearch2.get_best_params()"
     ],
     "language": "python",
     "metadata": {
      "deletable": true,
      "editable": true,
      "scrolled": true
     },
     "outputs": [
      {
       "metadata": {},
       "output_type": "pyout",
       "prompt_number": 64,
       "text": [
        "{'column_subsample': 0.6,\n",
        " 'features': ['aa1',\n",
        "  'aa2',\n",
        "  'wt_mut',\n",
        "  'aa1_polarity',\n",
        "  'aa2_polarity',\n",
        "  'aa1_PI',\n",
        "  'aa2_PI',\n",
        "  'deltaPI',\n",
        "  'Grantham',\n",
        "  'aa1_weight',\n",
        "  'aa2_weight',\n",
        "  'deltaWeight',\n",
        "  'aa1vol',\n",
        "  'aa2vol',\n",
        "  'deltavolume',\n",
        "  'aa1_psic',\n",
        "  'aa2_psic',\n",
        "  'delta_psic',\n",
        "  'accessibility',\n",
        "  'dssp_sec_str',\n",
        "  'phi_psi_reg',\n",
        "  'delta_solvent_accessibility',\n",
        "  'b_factor',\n",
        "  'mut_msa_congruency',\n",
        "  'mut_mut_msa_congruency',\n",
        "  'seq_ind_closest_mut',\n",
        "  'selection_coefficient',\n",
        "  'evolutionary_coupling_avg'],\n",
        " 'max_depth': 2,\n",
        " 'max_iterations': 50,\n",
        " 'min_child_weight': 10,\n",
        " 'min_loss_reduction': 0,\n",
        " 'row_subsample': 0.6,\n",
        " 'step_size': 0.1,\n",
        " 'target': 'scaled_effect1'}"
       ]
      }
     ],
     "prompt_number": 64
    },
    {
     "cell_type": "code",
     "collapsed": false,
     "input": [
      "params = dict([('target', 'scaled_effect1'), ('max_depth',2), ('max_iterations' , 50), \n",
      "               ('column_subsample' , [0.6, 0.7, 0.8, 0.9]), ('row_subsample' , [0.6, 0.7, 0.8, 0.9]), ('min_child_weight' ,10 ), \n",
      "               ('min_loss_reduction' ,  0), ('step_size' , 0.1), ('features' , [predictors3])])\n",
      "Brca1_Y2H_data1_paramSearch3 = gl.model_parameter_search.grid_search.create(folds, gl.boosted_trees_regression.create, params)"
     ],
     "language": "python",
     "metadata": {
      "deletable": true,
      "editable": true
     },
     "outputs": [
      {
       "output_type": "stream",
       "stream": "stderr",
       "text": [
        "[INFO] graphlab.deploy.job: Validating job.\n",
        "[INFO] graphlab.deploy.map_job: Validation complete. Job: 'Model-Parameter-Search-Feb-24-2017-15-44-4200000' ready for execution\n",
        "[INFO] graphlab.deploy.map_job: Job: 'Model-Parameter-Search-Feb-24-2017-15-44-4200000' scheduled.\n",
        "[INFO] graphlab.deploy.job: Validating job.\n",
        "[INFO] graphlab.deploy.map_job: A job with name 'Model-Parameter-Search-Feb-24-2017-15-44-4200000' already exists. Renaming the job to 'Model-Parameter-Search-Feb-24-2017-15-44-4200000-692bc'.\n",
        "[INFO] graphlab.deploy.map_job: Validation complete. Job: 'Model-Parameter-Search-Feb-24-2017-15-44-4200000-692bc' ready for execution\n",
        "[INFO] graphlab.deploy.map_job: Job: 'Model-Parameter-Search-Feb-24-2017-15-44-4200000-692bc' scheduled.\n",
        "[INFO] graphlab.deploy.job: Validating job.\n",
        "[INFO] graphlab.deploy.map_job: Validation complete. Job: 'Model-Parameter-Search-Feb-24-2017-15-44-4200001' ready for execution\n",
        "[INFO] graphlab.deploy.map_job: Job: 'Model-Parameter-Search-Feb-24-2017-15-44-4200001' scheduled.\n",
        "[INFO] graphlab.deploy.job: Validating job.\n",
        "[INFO] graphlab.deploy.map_job: Validation complete. Job: 'Model-Parameter-Search-Feb-24-2017-15-44-4200002' ready for execution\n",
        "[INFO] graphlab.deploy.map_job: Job: 'Model-Parameter-Search-Feb-24-2017-15-44-4200002' scheduled.\n"
       ]
      }
     ],
     "prompt_number": 65
    },
    {
     "cell_type": "code",
     "collapsed": false,
     "input": [
      "Brca1_Y2H_data1_paramSearch3.get_best_params()"
     ],
     "language": "python",
     "metadata": {
      "deletable": true,
      "editable": true,
      "scrolled": true
     },
     "outputs": [
      {
       "metadata": {},
       "output_type": "pyout",
       "prompt_number": 66,
       "text": [
        "{'column_subsample': 0.9,\n",
        " 'features': ['aa1',\n",
        "  'aa2',\n",
        "  'wt_mut',\n",
        "  'aa1_polarity',\n",
        "  'aa2_polarity',\n",
        "  'aa1_PI',\n",
        "  'aa2_PI',\n",
        "  'deltaPI',\n",
        "  'Grantham',\n",
        "  'aa1_weight',\n",
        "  'aa2_weight',\n",
        "  'deltaWeight',\n",
        "  'aa1vol',\n",
        "  'aa2vol',\n",
        "  'deltavolume',\n",
        "  'aa1_psic',\n",
        "  'aa2_psic',\n",
        "  'delta_psic',\n",
        "  'accessibility',\n",
        "  'dssp_sec_str',\n",
        "  'phi_psi_reg',\n",
        "  'delta_solvent_accessibility',\n",
        "  'b_factor',\n",
        "  'mut_msa_congruency',\n",
        "  'mut_mut_msa_congruency',\n",
        "  'seq_ind_closest_mut',\n",
        "  'selection_coefficient',\n",
        "  'evolutionary_coupling_avg'],\n",
        " 'max_depth': 2,\n",
        " 'max_iterations': 50,\n",
        " 'min_child_weight': 10,\n",
        " 'min_loss_reduction': 0,\n",
        " 'row_subsample': 0.8,\n",
        " 'step_size': 0.1,\n",
        " 'target': 'scaled_effect1'}"
       ]
      }
     ],
     "prompt_number": 66
    },
    {
     "cell_type": "code",
     "collapsed": false,
     "input": [
      "train_data, test_data = Brca1_Y2H_data1.random_split(0.8)\n",
      "Brca1_Y2H_data1_regression_model = gl.boosted_trees_regression.create(train_data, 'scaled_effect1', \n",
      "                features = predictors3, max_iterations = 250, \n",
      "                column_subsample= 0.9, row_subsample =0.8,\n",
      "                min_child_weight = 10, min_loss_reduction = 0, step_size = 0.01,\n",
      "                max_depth = 2)"
     ],
     "language": "python",
     "metadata": {
      "deletable": true,
      "editable": true,
      "scrolled": true
     },
     "outputs": [
      {
       "output_type": "stream",
       "stream": "stdout",
       "text": [
        "PROGRESS: Creating a validation set from 5 percent of training data. This may take a while.\n",
        "          You can set ``validation_set=None`` to disable validation tracking.\n",
        "\n"
       ]
      },
      {
       "html": [
        "<pre>WARNING: Detected extremely low variance for feature(s) 'phi_psi_reg', 'delta_solvent_accessibility', 'b_factor', 'selection_coefficient' because all entries are nearly the same.\n",
        "Proceeding with model training using all features. If the model does not provide results of adequate quality, exclude the above mentioned feature(s) from the input dataset.</pre>"
       ],
       "metadata": {},
       "output_type": "display_data",
       "text": [
        "WARNING: Detected extremely low variance for feature(s) 'phi_psi_reg', 'delta_solvent_accessibility', 'b_factor', 'selection_coefficient' because all entries are nearly the same.\n",
        "Proceeding with model training using all features. If the model does not provide results of adequate quality, exclude the above mentioned feature(s) from the input dataset."
       ]
      },
      {
       "html": [
        "<pre>Boosted trees regression:</pre>"
       ],
       "metadata": {},
       "output_type": "display_data",
       "text": [
        "Boosted trees regression:"
       ]
      },
      {
       "html": [
        "<pre>--------------------------------------------------------</pre>"
       ],
       "metadata": {},
       "output_type": "display_data",
       "text": [
        "--------------------------------------------------------"
       ]
      },
      {
       "html": [
        "<pre>Number of examples          : 1331</pre>"
       ],
       "metadata": {},
       "output_type": "display_data",
       "text": [
        "Number of examples          : 1331"
       ]
      },
      {
       "html": [
        "<pre>Number of features          : 28</pre>"
       ],
       "metadata": {},
       "output_type": "display_data",
       "text": [
        "Number of features          : 28"
       ]
      },
      {
       "html": [
        "<pre>Number of unpacked features : 28</pre>"
       ],
       "metadata": {},
       "output_type": "display_data",
       "text": [
        "Number of unpacked features : 28"
       ]
      },
      {
       "html": [
        "<pre>+-----------+--------------+--------------------+----------------------+---------------+-----------------+</pre>"
       ],
       "metadata": {},
       "output_type": "display_data",
       "text": [
        "+-----------+--------------+--------------------+----------------------+---------------+-----------------+"
       ]
      },
      {
       "html": [
        "<pre>| Iteration | Elapsed Time | Training-max_error | Validation-max_error | Training-rmse | Validation-rmse |</pre>"
       ],
       "metadata": {},
       "output_type": "display_data",
       "text": [
        "| Iteration | Elapsed Time | Training-max_error | Validation-max_error | Training-rmse | Validation-rmse |"
       ]
      },
      {
       "html": [
        "<pre>+-----------+--------------+--------------------+----------------------+---------------+-----------------+</pre>"
       ],
       "metadata": {},
       "output_type": "display_data",
       "text": [
        "+-----------+--------------+--------------------+----------------------+---------------+-----------------+"
       ]
      },
      {
       "html": [
        "<pre>| 1         | 0.016188     | 0.763939           | 0.605224             | 0.447676      | 0.427386        |</pre>"
       ],
       "metadata": {},
       "output_type": "display_data",
       "text": [
        "| 1         | 0.016188     | 0.763939           | 0.605224             | 0.447676      | 0.427386        |"
       ]
      },
      {
       "html": [
        "<pre>| 2         | 0.024190     | 0.759657           | 0.600942             | 0.443907      | 0.423937        |</pre>"
       ],
       "metadata": {},
       "output_type": "display_data",
       "text": [
        "| 2         | 0.024190     | 0.759657           | 0.600942             | 0.443907      | 0.423937        |"
       ]
      },
      {
       "html": [
        "<pre>| 3         | 0.031287     | 0.754643           | 0.596810             | 0.440154      | 0.420463        |</pre>"
       ],
       "metadata": {},
       "output_type": "display_data",
       "text": [
        "| 3         | 0.031287     | 0.754643           | 0.596810             | 0.440154      | 0.420463        |"
       ]
      },
      {
       "html": [
        "<pre>| 4         | 0.038432     | 0.750134           | 0.592302             | 0.436550      | 0.417117        |</pre>"
       ],
       "metadata": {},
       "output_type": "display_data",
       "text": [
        "| 4         | 0.038432     | 0.750134           | 0.592302             | 0.436550      | 0.417117        |"
       ]
      },
      {
       "html": [
        "<pre>| 5         | 0.045395     | 0.745915           | 0.588959             | 0.432917      | 0.413776        |</pre>"
       ],
       "metadata": {},
       "output_type": "display_data",
       "text": [
        "| 5         | 0.045395     | 0.745915           | 0.588959             | 0.432917      | 0.413776        |"
       ]
      },
      {
       "html": [
        "<pre>| 6         | 0.052522     | 0.741057           | 0.585021             | 0.429340      | 0.410470        |</pre>"
       ],
       "metadata": {},
       "output_type": "display_data",
       "text": [
        "| 6         | 0.052522     | 0.741057           | 0.585021             | 0.429340      | 0.410470        |"
       ]
      },
      {
       "html": [
        "<pre>| 11        | 0.083102     | 0.719965           | 0.564803             | 0.412061      | 0.394816        |</pre>"
       ],
       "metadata": {},
       "output_type": "display_data",
       "text": [
        "| 11        | 0.083102     | 0.719965           | 0.564803             | 0.412061      | 0.394816        |"
       ]
      },
      {
       "html": [
        "<pre>| 51        | 0.323487     | 0.680478           | 0.648431             | 0.306075      | 0.301689        |</pre>"
       ],
       "metadata": {},
       "output_type": "display_data",
       "text": [
        "| 51        | 0.323487     | 0.680478           | 0.648431             | 0.306075      | 0.301689        |"
       ]
      },
      {
       "html": [
        "<pre>| 101       | 0.622974     | 0.777435           | 0.744656             | 0.232303      | 0.243711        |</pre>"
       ],
       "metadata": {},
       "output_type": "display_data",
       "text": [
        "| 101       | 0.622974     | 0.777435           | 0.744656             | 0.232303      | 0.243711        |"
       ]
      },
      {
       "html": [
        "<pre>| 250       | 1.518231     | 0.884498           | 0.855014             | 0.172339      | 0.210291        |</pre>"
       ],
       "metadata": {},
       "output_type": "display_data",
       "text": [
        "| 250       | 1.518231     | 0.884498           | 0.855014             | 0.172339      | 0.210291        |"
       ]
      },
      {
       "html": [
        "<pre>+-----------+--------------+--------------------+----------------------+---------------+-----------------+</pre>"
       ],
       "metadata": {},
       "output_type": "display_data",
       "text": [
        "+-----------+--------------+--------------------+----------------------+---------------+-----------------+"
       ]
      }
     ],
     "prompt_number": 63
    },
    {
     "cell_type": "code",
     "collapsed": true,
     "input": [
      "pickler = gl._gl_pickle.GLPickler(filename = '/net/fowler/vol1/home/vegray/metaDMS/dato/singleModels/scaled_Brca1_Y2H_2017-01-05')\n",
      "pickler.dump(Brca1_Y2H_data1_regression_model)\n",
      "pickler.close()"
     ],
     "language": "python",
     "metadata": {
      "deletable": true,
      "editable": true
     },
     "outputs": [],
     "prompt_number": 68
    },
    {
     "cell_type": "code",
     "collapsed": false,
     "input": [
      "pred = Brca1_Y2H_data1_regression_model.predict(test_data)\n",
      "stats.pearsonr(pred, test_data['scaled_effect1'])\n",
      "stats.spearmanr(pred, test_data['scaled_effect1'])\n",
      "#sqrt(mean_squared_error(pred,test_data['scaled_effect1']))"
     ],
     "language": "python",
     "metadata": {
      "deletable": true,
      "editable": true
     },
     "outputs": [
      {
       "metadata": {},
       "output_type": "pyout",
       "prompt_number": 64,
       "text": [
        "(0.33026908652198089, 5.1102568580408578e-10)"
       ]
      }
     ],
     "prompt_number": 64
    },
    {
     "cell_type": "code",
     "collapsed": false,
     "input": [
      "pred = Brca1_Y2H_data1_regression_model.predict(train_data)\n",
      "stats.pearsonr(pred, train_data['scaled_effect1'])\n",
      "stats.spearmanr(pred, train_data['scaled_effect1'])\n",
      "#sqrt(mean_squared_error(pred,test_data['scaled_effect1']))"
     ],
     "language": "python",
     "metadata": {
      "deletable": true,
      "editable": true
     },
     "outputs": [
      {
       "metadata": {},
       "output_type": "pyout",
       "prompt_number": 65,
       "text": [
        "(0.42222305311505787, 4.2294157208874861e-62)"
       ]
      }
     ],
     "prompt_number": 65
    },
    {
     "cell_type": "heading",
     "level": 1,
     "metadata": {
      "deletable": true,
      "editable": true
     },
     "source": [
      "Brca_E3"
     ]
    },
    {
     "cell_type": "code",
     "collapsed": false,
     "input": [
      "Brca1_E3_data = data.filter_by([x for x in data['dms_id'].unique() if x in ['Brca1_E3']], 'dms_id')\n",
      "Brca1_E3_data1 = Brca1_E3_data.filter_by([x for x in Brca1_E3_data['mut_type'].unique() if x in ['missense']], 'mut_type')\n",
      "Brca1_E3_data1 = Brca1_E3_data1.add_row_number('id',0)"
     ],
     "language": "python",
     "metadata": {
      "deletable": true,
      "editable": true
     },
     "outputs": [
      {
       "ename": "RuntimeError",
       "evalue": "Column 'id' already exists in the current SFrame",
       "output_type": "pyerr",
       "traceback": [
        "\u001b[0;31m---------------------------------------------------------------------------\u001b[0m",
        "\u001b[0;31mRuntimeError\u001b[0m                              Traceback (most recent call last)",
        "\u001b[0;32m<ipython-input-66-6de082f9ba06>\u001b[0m in \u001b[0;36m<module>\u001b[0;34m()\u001b[0m\n\u001b[1;32m      1\u001b[0m \u001b[0mBrca1_E3_data\u001b[0m \u001b[0;34m=\u001b[0m \u001b[0mdata\u001b[0m\u001b[0;34m.\u001b[0m\u001b[0mfilter_by\u001b[0m\u001b[0;34m(\u001b[0m\u001b[0;34m[\u001b[0m\u001b[0mx\u001b[0m \u001b[0;32mfor\u001b[0m \u001b[0mx\u001b[0m \u001b[0;32min\u001b[0m \u001b[0mdata\u001b[0m\u001b[0;34m[\u001b[0m\u001b[0;34m'dms_id'\u001b[0m\u001b[0;34m]\u001b[0m\u001b[0;34m.\u001b[0m\u001b[0munique\u001b[0m\u001b[0;34m(\u001b[0m\u001b[0;34m)\u001b[0m \u001b[0;32mif\u001b[0m \u001b[0mx\u001b[0m \u001b[0;32min\u001b[0m \u001b[0;34m[\u001b[0m\u001b[0;34m'Brca1_E3'\u001b[0m\u001b[0;34m]\u001b[0m\u001b[0;34m]\u001b[0m\u001b[0;34m,\u001b[0m \u001b[0;34m'dms_id'\u001b[0m\u001b[0;34m)\u001b[0m\u001b[0;34m\u001b[0m\u001b[0m\n\u001b[1;32m      2\u001b[0m \u001b[0mBrca1_E3_data1\u001b[0m \u001b[0;34m=\u001b[0m \u001b[0mBrca1_E3_data\u001b[0m\u001b[0;34m.\u001b[0m\u001b[0mfilter_by\u001b[0m\u001b[0;34m(\u001b[0m\u001b[0;34m[\u001b[0m\u001b[0mx\u001b[0m \u001b[0;32mfor\u001b[0m \u001b[0mx\u001b[0m \u001b[0;32min\u001b[0m \u001b[0mBrca1_E3_data\u001b[0m\u001b[0;34m[\u001b[0m\u001b[0;34m'mut_type'\u001b[0m\u001b[0;34m]\u001b[0m\u001b[0;34m.\u001b[0m\u001b[0munique\u001b[0m\u001b[0;34m(\u001b[0m\u001b[0;34m)\u001b[0m \u001b[0;32mif\u001b[0m \u001b[0mx\u001b[0m \u001b[0;32min\u001b[0m \u001b[0;34m[\u001b[0m\u001b[0;34m'missense'\u001b[0m\u001b[0;34m]\u001b[0m\u001b[0;34m]\u001b[0m\u001b[0;34m,\u001b[0m \u001b[0;34m'mut_type'\u001b[0m\u001b[0;34m)\u001b[0m\u001b[0;34m\u001b[0m\u001b[0m\n\u001b[0;32m----> 3\u001b[0;31m \u001b[0mBrca1_E3_data1\u001b[0m \u001b[0;34m=\u001b[0m \u001b[0mBrca1_E3_data1\u001b[0m\u001b[0;34m.\u001b[0m\u001b[0madd_row_number\u001b[0m\u001b[0;34m(\u001b[0m\u001b[0;34m'id'\u001b[0m\u001b[0;34m,\u001b[0m\u001b[0;36m0\u001b[0m\u001b[0;34m)\u001b[0m\u001b[0;34m\u001b[0m\u001b[0m\n\u001b[0m",
        "\u001b[0;32m/net/gs/vol3/software/modules-sw-python/2.7.3/graphlab/2.1/Linux/RHEL6/x86_64/lib/python2.7/site-packages/graphlab/data_structures/sframe.pyc\u001b[0m in \u001b[0;36madd_row_number\u001b[0;34m(self, column_name, start)\u001b[0m\n\u001b[1;32m   6150\u001b[0m \u001b[0;34m\u001b[0m\u001b[0m\n\u001b[1;32m   6151\u001b[0m         \u001b[0;32mif\u001b[0m \u001b[0mcolumn_name\u001b[0m \u001b[0;32min\u001b[0m \u001b[0mself\u001b[0m\u001b[0;34m.\u001b[0m\u001b[0mcolumn_names\u001b[0m\u001b[0;34m(\u001b[0m\u001b[0;34m)\u001b[0m\u001b[0;34m:\u001b[0m\u001b[0;34m\u001b[0m\u001b[0m\n\u001b[0;32m-> 6152\u001b[0;31m             \u001b[0;32mraise\u001b[0m \u001b[0mRuntimeError\u001b[0m\u001b[0;34m(\u001b[0m\u001b[0;34m\"Column '\"\u001b[0m \u001b[0;34m+\u001b[0m \u001b[0mcolumn_name\u001b[0m \u001b[0;34m+\u001b[0m \u001b[0;34m\"' already exists in the current SFrame\"\u001b[0m\u001b[0;34m)\u001b[0m\u001b[0;34m\u001b[0m\u001b[0m\n\u001b[0m\u001b[1;32m   6153\u001b[0m \u001b[0;34m\u001b[0m\u001b[0m\n\u001b[1;32m   6154\u001b[0m         \u001b[0mthe_col\u001b[0m \u001b[0;34m=\u001b[0m \u001b[0m_create_sequential_sarray\u001b[0m\u001b[0;34m(\u001b[0m\u001b[0mself\u001b[0m\u001b[0;34m.\u001b[0m\u001b[0mnum_rows\u001b[0m\u001b[0;34m(\u001b[0m\u001b[0;34m)\u001b[0m\u001b[0;34m,\u001b[0m \u001b[0mstart\u001b[0m\u001b[0;34m)\u001b[0m\u001b[0;34m\u001b[0m\u001b[0m\n",
        "\u001b[0;31mRuntimeError\u001b[0m: Column 'id' already exists in the current SFrame"
       ]
      }
     ],
     "prompt_number": 66
    },
    {
     "cell_type": "code",
     "collapsed": false,
     "input": [
      "folds = gl.cross_validation.KFold(Brca1_E3_data1,10)\n",
      "params = dict([('target', 'scaled_effect1'), ('max_depth', 5), ('max_iterations' , [5,10,25,50]), \n",
      "               ('column_subsample' , .6), ('row_subsample' , .6), ('min_child_weight' , 1), \n",
      "               ('min_loss_reduction' , 0), ('step_size' , 0.1), ('features' , [predictors3])])\n",
      "Brca1_E3_data1_paramSearch = gl.model_parameter_search.grid_search.create(folds, gl.boosted_trees_regression.create, params)"
     ],
     "language": "python",
     "metadata": {
      "deletable": true,
      "editable": true
     },
     "outputs": [
      {
       "output_type": "stream",
       "stream": "stderr",
       "text": [
        "[INFO] graphlab.deploy.job: Validating job.\n",
        "[INFO] graphlab.deploy.map_job: Validation complete. Job: 'Model-Parameter-Search-Feb-24-2017-15-54-2600000' ready for execution\n",
        "[INFO] graphlab.deploy.map_job: Job: 'Model-Parameter-Search-Feb-24-2017-15-54-2600000' scheduled.\n",
        "[INFO] graphlab.deploy.job: Validating job.\n",
        "[INFO] graphlab.deploy.map_job: A job with name 'Model-Parameter-Search-Feb-24-2017-15-54-2600000' already exists. Renaming the job to 'Model-Parameter-Search-Feb-24-2017-15-54-2600000-c98fa'.\n",
        "[INFO] graphlab.deploy.map_job: Validation complete. Job: 'Model-Parameter-Search-Feb-24-2017-15-54-2600000-c98fa' ready for execution\n",
        "[INFO] graphlab.deploy.map_job: Job: 'Model-Parameter-Search-Feb-24-2017-15-54-2600000-c98fa' scheduled.\n",
        "[INFO] graphlab.deploy.job: Validating job.\n",
        "[INFO] graphlab.deploy.map_job: Validation complete. Job: 'Model-Parameter-Search-Feb-24-2017-15-54-2600001' ready for execution\n",
        "[INFO] graphlab.deploy.map_job: Job: 'Model-Parameter-Search-Feb-24-2017-15-54-2600001' scheduled.\n",
        "[INFO] graphlab.deploy.job: Validating job.\n",
        "[INFO] graphlab.deploy.map_job: Validation complete. Job: 'Model-Parameter-Search-Feb-24-2017-15-54-2600002' ready for execution\n",
        "[INFO] graphlab.deploy.map_job: Job: 'Model-Parameter-Search-Feb-24-2017-15-54-2600002' scheduled.\n"
       ]
      }
     ],
     "prompt_number": 72
    },
    {
     "cell_type": "code",
     "collapsed": false,
     "input": [
      "Brca1_E3_data1_paramSearch.get_best_params()"
     ],
     "language": "python",
     "metadata": {
      "deletable": true,
      "editable": true,
      "scrolled": true
     },
     "outputs": [
      {
       "metadata": {},
       "output_type": "pyout",
       "prompt_number": 73,
       "text": [
        "{'column_subsample': 0.6,\n",
        " 'features': ['aa1',\n",
        "  'aa2',\n",
        "  'wt_mut',\n",
        "  'aa1_polarity',\n",
        "  'aa2_polarity',\n",
        "  'aa1_PI',\n",
        "  'aa2_PI',\n",
        "  'deltaPI',\n",
        "  'Grantham',\n",
        "  'aa1_weight',\n",
        "  'aa2_weight',\n",
        "  'deltaWeight',\n",
        "  'aa1vol',\n",
        "  'aa2vol',\n",
        "  'deltavolume',\n",
        "  'aa1_psic',\n",
        "  'aa2_psic',\n",
        "  'delta_psic',\n",
        "  'accessibility',\n",
        "  'dssp_sec_str',\n",
        "  'phi_psi_reg',\n",
        "  'delta_solvent_accessibility',\n",
        "  'b_factor',\n",
        "  'mut_msa_congruency',\n",
        "  'mut_mut_msa_congruency',\n",
        "  'seq_ind_closest_mut',\n",
        "  'selection_coefficient',\n",
        "  'evolutionary_coupling_avg'],\n",
        " 'max_depth': 5,\n",
        " 'max_iterations': 50,\n",
        " 'min_child_weight': 1,\n",
        " 'min_loss_reduction': 0,\n",
        " 'row_subsample': 0.6,\n",
        " 'step_size': 0.1,\n",
        " 'target': 'scaled_effect1'}"
       ]
      }
     ],
     "prompt_number": 73
    },
    {
     "cell_type": "code",
     "collapsed": false,
     "input": [
      "params = dict([('target', 'scaled_effect1'), ('max_depth', [2, 6, 10, 25, 50] ), ('max_iterations' , 50), \n",
      "               ('column_subsample' , .6), ('row_subsample' , .6), ('min_child_weight' , [2, 6, 10, 25, 50]), \n",
      "               ('min_loss_reduction' , 0), ('step_size' , 0.1), ('features' , [predictors3])])\n",
      "Brca1_E3_data1_paramSearch1 = gl.model_parameter_search.grid_search.create(folds, gl.boosted_trees_regression.create, params)"
     ],
     "language": "python",
     "metadata": {
      "deletable": true,
      "editable": true,
      "scrolled": true
     },
     "outputs": [
      {
       "output_type": "stream",
       "stream": "stderr",
       "text": [
        "[INFO] graphlab.deploy.job: Validating job.\n",
        "[INFO] graphlab.deploy.map_job: Validation complete. Job: 'Model-Parameter-Search-Feb-24-2017-15-57-3300000' ready for execution\n",
        "[INFO] graphlab.deploy.map_job: Job: 'Model-Parameter-Search-Feb-24-2017-15-57-3300000' scheduled.\n",
        "[INFO] graphlab.deploy.job: Validating job.\n",
        "[INFO] graphlab.deploy.map_job: A job with name 'Model-Parameter-Search-Feb-24-2017-15-57-3300000' already exists. Renaming the job to 'Model-Parameter-Search-Feb-24-2017-15-57-3300000-24490'.\n",
        "[INFO] graphlab.deploy.map_job: Validation complete. Job: 'Model-Parameter-Search-Feb-24-2017-15-57-3300000-24490' ready for execution\n",
        "[INFO] graphlab.deploy.map_job: Job: 'Model-Parameter-Search-Feb-24-2017-15-57-3300000-24490' scheduled.\n",
        "[INFO] graphlab.deploy.job: Validating job.\n",
        "[INFO] graphlab.deploy.map_job: Validation complete. Job: 'Model-Parameter-Search-Feb-24-2017-15-57-3300001' ready for execution\n",
        "[INFO] graphlab.deploy.map_job: Job: 'Model-Parameter-Search-Feb-24-2017-15-57-3300001' scheduled.\n",
        "[INFO] graphlab.deploy.job: Validating job.\n",
        "[INFO] graphlab.deploy.map_job: Validation complete. Job: 'Model-Parameter-Search-Feb-24-2017-15-57-3300002' ready for execution\n",
        "[INFO] graphlab.deploy.map_job: Job: 'Model-Parameter-Search-Feb-24-2017-15-57-3300002' scheduled.\n"
       ]
      }
     ],
     "prompt_number": 74
    },
    {
     "cell_type": "code",
     "collapsed": false,
     "input": [
      "Brca1_E3_data1_paramSearch1.get_best_params()"
     ],
     "language": "python",
     "metadata": {
      "deletable": true,
      "editable": true,
      "scrolled": true
     },
     "outputs": [
      {
       "metadata": {},
       "output_type": "pyout",
       "prompt_number": 75,
       "text": [
        "{'column_subsample': 0.6,\n",
        " 'features': ['aa1',\n",
        "  'aa2',\n",
        "  'wt_mut',\n",
        "  'aa1_polarity',\n",
        "  'aa2_polarity',\n",
        "  'aa1_PI',\n",
        "  'aa2_PI',\n",
        "  'deltaPI',\n",
        "  'Grantham',\n",
        "  'aa1_weight',\n",
        "  'aa2_weight',\n",
        "  'deltaWeight',\n",
        "  'aa1vol',\n",
        "  'aa2vol',\n",
        "  'deltavolume',\n",
        "  'aa1_psic',\n",
        "  'aa2_psic',\n",
        "  'delta_psic',\n",
        "  'accessibility',\n",
        "  'dssp_sec_str',\n",
        "  'phi_psi_reg',\n",
        "  'delta_solvent_accessibility',\n",
        "  'b_factor',\n",
        "  'mut_msa_congruency',\n",
        "  'mut_mut_msa_congruency',\n",
        "  'seq_ind_closest_mut',\n",
        "  'selection_coefficient',\n",
        "  'evolutionary_coupling_avg'],\n",
        " 'max_depth': 2,\n",
        " 'max_iterations': 50,\n",
        " 'min_child_weight': 50,\n",
        " 'min_loss_reduction': 0,\n",
        " 'row_subsample': 0.6,\n",
        " 'step_size': 0.1,\n",
        " 'target': 'scaled_effect1'}"
       ]
      }
     ],
     "prompt_number": 75
    },
    {
     "cell_type": "code",
     "collapsed": false,
     "input": [
      "params = dict([('target', 'scaled_effect1'), ('max_depth',2), ('max_iterations' , 50), \n",
      "               ('column_subsample' , .6), ('row_subsample' , .6), ('min_child_weight' ,50 ), \n",
      "               ('min_loss_reduction' , [0, 0.1, 0.2, 0.3, 0.4, 0.5]), ('step_size' , 0.1), ('features' , [predictors3])])\n",
      "Brca1_E3_data1_paramSearch2 = gl.model_parameter_search.grid_search.create(folds, gl.boosted_trees_regression.create, params)"
     ],
     "language": "python",
     "metadata": {
      "deletable": true,
      "editable": true
     },
     "outputs": [
      {
       "output_type": "stream",
       "stream": "stderr",
       "text": [
        "[INFO] graphlab.deploy.job: Validating job.\n",
        "[INFO] graphlab.deploy.map_job: Validation complete. Job: 'Model-Parameter-Search-Feb-24-2017-16-18-4900000' ready for execution\n",
        "[INFO] graphlab.deploy.map_job: Job: 'Model-Parameter-Search-Feb-24-2017-16-18-4900000' scheduled.\n",
        "[INFO] graphlab.deploy.job: Validating job.\n",
        "[INFO] graphlab.deploy.map_job: A job with name 'Model-Parameter-Search-Feb-24-2017-16-18-4900000' already exists. Renaming the job to 'Model-Parameter-Search-Feb-24-2017-16-18-4900000-fc35a'.\n",
        "[INFO] graphlab.deploy.map_job: Validation complete. Job: 'Model-Parameter-Search-Feb-24-2017-16-18-4900000-fc35a' ready for execution\n",
        "[INFO] graphlab.deploy.map_job: Job: 'Model-Parameter-Search-Feb-24-2017-16-18-4900000-fc35a' scheduled.\n",
        "[INFO] graphlab.deploy.job: Validating job.\n",
        "[INFO] graphlab.deploy.map_job: Validation complete. Job: 'Model-Parameter-Search-Feb-24-2017-16-18-4900001' ready for execution\n",
        "[INFO] graphlab.deploy.map_job: Job: 'Model-Parameter-Search-Feb-24-2017-16-18-4900001' scheduled.\n",
        "[INFO] graphlab.deploy.job: Validating job.\n",
        "[INFO] graphlab.deploy.map_job: Validation complete. Job: 'Model-Parameter-Search-Feb-24-2017-16-18-4900002' ready for execution\n",
        "[INFO] graphlab.deploy.map_job: Job: 'Model-Parameter-Search-Feb-24-2017-16-18-4900002' scheduled.\n"
       ]
      }
     ],
     "prompt_number": 76
    },
    {
     "cell_type": "code",
     "collapsed": false,
     "input": [
      "Brca1_E3_data1_paramSearch2.get_best_params()"
     ],
     "language": "python",
     "metadata": {
      "deletable": true,
      "editable": true,
      "scrolled": true
     },
     "outputs": [
      {
       "metadata": {},
       "output_type": "pyout",
       "prompt_number": 77,
       "text": [
        "{'column_subsample': 0.6,\n",
        " 'features': ['aa1',\n",
        "  'aa2',\n",
        "  'wt_mut',\n",
        "  'aa1_polarity',\n",
        "  'aa2_polarity',\n",
        "  'aa1_PI',\n",
        "  'aa2_PI',\n",
        "  'deltaPI',\n",
        "  'Grantham',\n",
        "  'aa1_weight',\n",
        "  'aa2_weight',\n",
        "  'deltaWeight',\n",
        "  'aa1vol',\n",
        "  'aa2vol',\n",
        "  'deltavolume',\n",
        "  'aa1_psic',\n",
        "  'aa2_psic',\n",
        "  'delta_psic',\n",
        "  'accessibility',\n",
        "  'dssp_sec_str',\n",
        "  'phi_psi_reg',\n",
        "  'delta_solvent_accessibility',\n",
        "  'b_factor',\n",
        "  'mut_msa_congruency',\n",
        "  'mut_mut_msa_congruency',\n",
        "  'seq_ind_closest_mut',\n",
        "  'selection_coefficient',\n",
        "  'evolutionary_coupling_avg'],\n",
        " 'max_depth': 2,\n",
        " 'max_iterations': 50,\n",
        " 'min_child_weight': 50,\n",
        " 'min_loss_reduction': 0,\n",
        " 'row_subsample': 0.6,\n",
        " 'step_size': 0.1,\n",
        " 'target': 'scaled_effect1'}"
       ]
      }
     ],
     "prompt_number": 77
    },
    {
     "cell_type": "code",
     "collapsed": false,
     "input": [
      "params = dict([('target', 'scaled_effect1'), ('max_depth',2), ('max_iterations' , 50), \n",
      "               ('column_subsample' , [0.6, 0.7, 0.8, 0.9]), ('row_subsample' , [0.6, 0.7, 0.8, 0.9]), ('min_child_weight' ,50 ), \n",
      "               ('min_loss_reduction' ,  0), ('step_size' , 0.1), ('features' , [predictors3])])\n",
      "Brca1_E3_data1_paramSearch3 = gl.model_parameter_search.grid_search.create(folds, gl.boosted_trees_regression.create, params)"
     ],
     "language": "python",
     "metadata": {
      "deletable": true,
      "editable": true,
      "scrolled": true
     },
     "outputs": [
      {
       "output_type": "stream",
       "stream": "stderr",
       "text": [
        "[INFO] graphlab.deploy.job: Validating job.\n",
        "[INFO] graphlab.deploy.map_job: Validation complete. Job: 'Model-Parameter-Search-Feb-24-2017-16-23-3300000' ready for execution\n",
        "[INFO] graphlab.deploy.map_job: Job: 'Model-Parameter-Search-Feb-24-2017-16-23-3300000' scheduled.\n",
        "[INFO] graphlab.deploy.job: Validating job.\n",
        "[INFO] graphlab.deploy.map_job: A job with name 'Model-Parameter-Search-Feb-24-2017-16-23-3300000' already exists. Renaming the job to 'Model-Parameter-Search-Feb-24-2017-16-23-3300000-dea99'.\n",
        "[INFO] graphlab.deploy.map_job: Validation complete. Job: 'Model-Parameter-Search-Feb-24-2017-16-23-3300000-dea99' ready for execution\n",
        "[INFO] graphlab.deploy.map_job: Job: 'Model-Parameter-Search-Feb-24-2017-16-23-3300000-dea99' scheduled.\n",
        "[INFO] graphlab.deploy.job: Validating job.\n",
        "[INFO] graphlab.deploy.map_job: Validation complete. Job: 'Model-Parameter-Search-Feb-24-2017-16-23-3300001' ready for execution\n",
        "[INFO] graphlab.deploy.map_job: Job: 'Model-Parameter-Search-Feb-24-2017-16-23-3300001' scheduled.\n",
        "[INFO] graphlab.deploy.job: Validating job.\n",
        "[INFO] graphlab.deploy.map_job: Validation complete. Job: 'Model-Parameter-Search-Feb-24-2017-16-23-3300002' ready for execution\n",
        "[INFO] graphlab.deploy.map_job: Job: 'Model-Parameter-Search-Feb-24-2017-16-23-3300002' scheduled.\n"
       ]
      }
     ],
     "prompt_number": 78
    },
    {
     "cell_type": "code",
     "collapsed": false,
     "input": [
      "Brca1_E3_data1_paramSearch3.get_best_params()"
     ],
     "language": "python",
     "metadata": {
      "deletable": true,
      "editable": true,
      "scrolled": true
     },
     "outputs": [
      {
       "metadata": {},
       "output_type": "pyout",
       "prompt_number": 79,
       "text": [
        "{'column_subsample': 0.6,\n",
        " 'features': ['aa1',\n",
        "  'aa2',\n",
        "  'wt_mut',\n",
        "  'aa1_polarity',\n",
        "  'aa2_polarity',\n",
        "  'aa1_PI',\n",
        "  'aa2_PI',\n",
        "  'deltaPI',\n",
        "  'Grantham',\n",
        "  'aa1_weight',\n",
        "  'aa2_weight',\n",
        "  'deltaWeight',\n",
        "  'aa1vol',\n",
        "  'aa2vol',\n",
        "  'deltavolume',\n",
        "  'aa1_psic',\n",
        "  'aa2_psic',\n",
        "  'delta_psic',\n",
        "  'accessibility',\n",
        "  'dssp_sec_str',\n",
        "  'phi_psi_reg',\n",
        "  'delta_solvent_accessibility',\n",
        "  'b_factor',\n",
        "  'mut_msa_congruency',\n",
        "  'mut_mut_msa_congruency',\n",
        "  'seq_ind_closest_mut',\n",
        "  'selection_coefficient',\n",
        "  'evolutionary_coupling_avg'],\n",
        " 'max_depth': 2,\n",
        " 'max_iterations': 50,\n",
        " 'min_child_weight': 50,\n",
        " 'min_loss_reduction': 0.2,\n",
        " 'row_subsample': 0.9,\n",
        " 'step_size': 0.1,\n",
        " 'target': 'scaled_effect1'}"
       ]
      }
     ],
     "prompt_number": 79
    },
    {
     "cell_type": "code",
     "collapsed": false,
     "input": [
      "train_data, test_data = Brca1_E3_data1.random_split(0.8)\n",
      "Brca1_E3_data1_regression_model = gl.boosted_trees_regression.create(train_data, 'scaled_effect1', \n",
      "                features = predictors3, max_iterations = 250, \n",
      "                column_subsample= 0.7, row_subsample =0.9,\n",
      "                min_child_weight = 50, min_loss_reduction = 0, step_size = 0.01,\n",
      "                max_depth = 2)"
     ],
     "language": "python",
     "metadata": {
      "deletable": true,
      "editable": true,
      "scrolled": true
     },
     "outputs": [
      {
       "output_type": "stream",
       "stream": "stdout",
       "text": [
        "PROGRESS: Creating a validation set from 5 percent of training data. This may take a while.\n",
        "          You can set ``validation_set=None`` to disable validation tracking.\n",
        "\n"
       ]
      },
      {
       "html": [
        "<pre>WARNING: Detected extremely low variance for feature(s) 'delta_solvent_accessibility', 'b_factor', 'selection_coefficient' because all entries are nearly the same.\n",
        "Proceeding with model training using all features. If the model does not provide results of adequate quality, exclude the above mentioned feature(s) from the input dataset.</pre>"
       ],
       "metadata": {},
       "output_type": "display_data",
       "text": [
        "WARNING: Detected extremely low variance for feature(s) 'delta_solvent_accessibility', 'b_factor', 'selection_coefficient' because all entries are nearly the same.\n",
        "Proceeding with model training using all features. If the model does not provide results of adequate quality, exclude the above mentioned feature(s) from the input dataset."
       ]
      },
      {
       "html": [
        "<pre>Boosted trees regression:</pre>"
       ],
       "metadata": {},
       "output_type": "display_data",
       "text": [
        "Boosted trees regression:"
       ]
      },
      {
       "html": [
        "<pre>--------------------------------------------------------</pre>"
       ],
       "metadata": {},
       "output_type": "display_data",
       "text": [
        "--------------------------------------------------------"
       ]
      },
      {
       "html": [
        "<pre>Number of examples          : 3713</pre>"
       ],
       "metadata": {},
       "output_type": "display_data",
       "text": [
        "Number of examples          : 3713"
       ]
      },
      {
       "html": [
        "<pre>Number of features          : 28</pre>"
       ],
       "metadata": {},
       "output_type": "display_data",
       "text": [
        "Number of features          : 28"
       ]
      },
      {
       "html": [
        "<pre>Number of unpacked features : 28</pre>"
       ],
       "metadata": {},
       "output_type": "display_data",
       "text": [
        "Number of unpacked features : 28"
       ]
      },
      {
       "html": [
        "<pre>+-----------+--------------+--------------------+----------------------+---------------+-----------------+</pre>"
       ],
       "metadata": {},
       "output_type": "display_data",
       "text": [
        "+-----------+--------------+--------------------+----------------------+---------------+-----------------+"
       ]
      },
      {
       "html": [
        "<pre>| Iteration | Elapsed Time | Training-max_error | Validation-max_error | Training-rmse | Validation-rmse |</pre>"
       ],
       "metadata": {},
       "output_type": "display_data",
       "text": [
        "| Iteration | Elapsed Time | Training-max_error | Validation-max_error | Training-rmse | Validation-rmse |"
       ]
      },
      {
       "html": [
        "<pre>+-----------+--------------+--------------------+----------------------+---------------+-----------------+</pre>"
       ],
       "metadata": {},
       "output_type": "display_data",
       "text": [
        "+-----------+--------------+--------------------+----------------------+---------------+-----------------+"
       ]
      },
      {
       "html": [
        "<pre>| 1         | 0.017184     | 1.075142           | 0.896271             | 0.394616      | 0.400155        |</pre>"
       ],
       "metadata": {},
       "output_type": "display_data",
       "text": [
        "| 1         | 0.017184     | 1.075142           | 0.896271             | 0.394616      | 0.400155        |"
       ]
      },
      {
       "html": [
        "<pre>| 2         | 0.025820     | 1.072637           | 0.893421             | 0.392489      | 0.398082        |</pre>"
       ],
       "metadata": {},
       "output_type": "display_data",
       "text": [
        "| 2         | 0.025820     | 1.072637           | 0.893421             | 0.392489      | 0.398082        |"
       ]
      },
      {
       "html": [
        "<pre>| 3         | 0.034193     | 1.070682           | 0.891758             | 0.390396      | 0.396066        |</pre>"
       ],
       "metadata": {},
       "output_type": "display_data",
       "text": [
        "| 3         | 0.034193     | 1.070682           | 0.891758             | 0.390396      | 0.396066        |"
       ]
      },
      {
       "html": [
        "<pre>| 4         | 0.042595     | 1.068116           | 0.889192             | 0.388311      | 0.394092        |</pre>"
       ],
       "metadata": {},
       "output_type": "display_data",
       "text": [
        "| 4         | 0.042595     | 1.068116           | 0.889192             | 0.388311      | 0.394092        |"
       ]
      },
      {
       "html": [
        "<pre>| 5         | 0.050405     | 1.065690           | 0.886766             | 0.386267      | 0.392136        |</pre>"
       ],
       "metadata": {},
       "output_type": "display_data",
       "text": [
        "| 5         | 0.050405     | 1.065690           | 0.886766             | 0.386267      | 0.392136        |"
       ]
      },
      {
       "html": [
        "<pre>| 6         | 0.058053     | 1.063111           | 0.884188             | 0.384262      | 0.390222        |</pre>"
       ],
       "metadata": {},
       "output_type": "display_data",
       "text": [
        "| 6         | 0.058053     | 1.063111           | 0.884188             | 0.384262      | 0.390222        |"
       ]
      },
      {
       "html": [
        "<pre>| 11        | 0.093116     | 1.051228           | 0.871611             | 0.374681      | 0.380948        |</pre>"
       ],
       "metadata": {},
       "output_type": "display_data",
       "text": [
        "| 11        | 0.093116     | 1.051228           | 0.871611             | 0.374681      | 0.380948        |"
       ]
      },
      {
       "html": [
        "<pre>| 51        | 0.374891     | 0.975590           | 0.789848             | 0.319232      | 0.327765        |</pre>"
       ],
       "metadata": {},
       "output_type": "display_data",
       "text": [
        "| 51        | 0.374891     | 0.975590           | 0.789848             | 0.319232      | 0.327765        |"
       ]
      },
      {
       "html": [
        "<pre>| 101       | 0.730776     | 0.915571           | 0.719376             | 0.285529      | 0.296190        |</pre>"
       ],
       "metadata": {},
       "output_type": "display_data",
       "text": [
        "| 101       | 0.730776     | 0.915571           | 0.719376             | 0.285529      | 0.296190        |"
       ]
      },
      {
       "html": [
        "<pre>| 250       | 1.787584     | 0.834631           | 0.792285             | 0.262006      | 0.275922        |</pre>"
       ],
       "metadata": {},
       "output_type": "display_data",
       "text": [
        "| 250       | 1.787584     | 0.834631           | 0.792285             | 0.262006      | 0.275922        |"
       ]
      },
      {
       "html": [
        "<pre>+-----------+--------------+--------------------+----------------------+---------------+-----------------+</pre>"
       ],
       "metadata": {},
       "output_type": "display_data",
       "text": [
        "+-----------+--------------+--------------------+----------------------+---------------+-----------------+"
       ]
      }
     ],
     "prompt_number": 67
    },
    {
     "cell_type": "code",
     "collapsed": true,
     "input": [
      "pickler = gl._gl_pickle.GLPickler(filename = '/net/fowler/vol1/home/vegray/metaDMS/dato/singleModels/scaled_Brca1_E3_2017-01-05')\n",
      "pickler.dump(Brca1_E3_data1_regression_model)\n",
      "pickler.close()"
     ],
     "language": "python",
     "metadata": {
      "deletable": true,
      "editable": true
     },
     "outputs": [],
     "prompt_number": 81
    },
    {
     "cell_type": "code",
     "collapsed": false,
     "input": [
      "pred = Brca1_E3_data1_regression_model.predict(test_data)\n",
      "stats.pearsonr(pred, test_data['scaled_effect1'])\n",
      "stats.spearmanr(pred, test_data['scaled_effect1'])\n",
      "#sqrt(mean_squared_error(pred,test_data['scaled_effect1']))"
     ],
     "language": "python",
     "metadata": {
      "deletable": true,
      "editable": true
     },
     "outputs": [
      {
       "metadata": {},
       "output_type": "pyout",
       "prompt_number": 68,
       "text": [
        "(0.2457392354629116, 1.3765097324618224e-14)"
       ]
      }
     ],
     "prompt_number": 68
    },
    {
     "cell_type": "code",
     "collapsed": false,
     "input": [
      "pred = Brca1_E3_data1_regression_model.predict(train_data)\n",
      "stats.pearsonr(pred, train_data['scaled_effect1'])\n",
      "stats.spearmanr(pred, train_data['scaled_effect1'])\n",
      "#sqrt(mean_squared_error(pred,test_data['scaled_effect1']))"
     ],
     "language": "python",
     "metadata": {
      "deletable": true,
      "editable": true
     },
     "outputs": [
      {
       "metadata": {},
       "output_type": "pyout",
       "prompt_number": 70,
       "text": [
        "(0.34164991790371907, 1.0647399036630818e-107)"
       ]
      }
     ],
     "prompt_number": 70
    },
    {
     "cell_type": "code",
     "collapsed": true,
     "input": [],
     "language": "python",
     "metadata": {
      "deletable": true,
      "editable": true
     },
     "outputs": [],
     "prompt_number": null
    }
   ],
   "metadata": {}
  }
 ]
}